{
 "cells": [
  {
   "cell_type": "code",
   "execution_count": 124,
   "metadata": {},
   "outputs": [],
   "source": [
    "import os\n",
    "import numpy as np\n",
    "from scipy.signal import butter, iirnotch, lfilter\n",
    "import numpy as np\n",
    "from scipy import signal\n",
    "import matplotlib.pyplot as plt\n",
    "import neurokit2 as nk\n",
    "import pandas as pd\n",
    "from ecgdetectors import Detectors\n",
    "import pyhrv.frequency_domain as fd\n",
    "import pyhrv.time_domain as td\n",
    "import pyhrv"
   ]
  },
  {
   "cell_type": "code",
   "execution_count": 125,
   "metadata": {},
   "outputs": [],
   "source": [
    "# filtering\n",
    "def filter_ecgsignal(ecg, fs):\n",
    "    ecg_td = td.ecg(ecg, interactive= False, show = False, sampling_rate=fs)\n",
    "    filtered_ecg = ecg_td['filtered']\n",
    "\n",
    "    # t=np.arange(0,ecg.size*(1/fs),(1/fs))\n",
    "    # t=t[:ecg.size]\n",
    "\n",
    "    # plt.figure(figsize=(12,4))\n",
    "    # plt.plot(t,ecg,label=\"raw ECG\")\n",
    "    # plt.plot(t,filtered_ecg, label=\"filtered ECG\")\n",
    "    # plt.xlabel('$Time (s)$') \n",
    "    # plt.ylabel('$ECG$') \n",
    "    # plt.legend(loc='upper left')\n",
    "\n",
    "    return filtered_ecg"
   ]
  },
  {
   "cell_type": "code",
   "execution_count": 126,
   "metadata": {},
   "outputs": [],
   "source": [
    "# detect R-peaks\n",
    "def detect_rpeaks(fs, ecg):\n",
    "    ecg_td = td.ecg(ecg, interactive= False, show = False, sampling_rate=fs)\n",
    "    rpeaks = ecg_td['rpeaks']\n",
    "\n",
    "    # plt.figure(figsize=(12,4))\n",
    "    # plt.plot(filtered_ecg,label=\"ECG\")\n",
    "    # plt.plot(rpeaks,filtered_ecg[rpeaks], 'ro', label=\"R-peaks\")\n",
    "    # plt.xlabel('$Samples$') \n",
    "    # plt.ylabel('$ECG$') \n",
    "    # plt.legend(loc='upper left')\n",
    "    return rpeaks"
   ]
  },
  {
   "attachments": {},
   "cell_type": "markdown",
   "metadata": {},
   "source": [
    "# **Feature extraction**"
   ]
  },
  {
   "cell_type": "code",
   "execution_count": 1,
   "metadata": {},
   "outputs": [],
   "source": [
    "from hrv import HRV   # to import the module\n",
    "\n",
    "# Feature extraction\n",
    "def get_features(r_peaks_pan, fs, df, index):\n",
    "    features = []\n",
    "\n",
    "    # Time Domain Features\n",
    "    hrv_class = HRV(fs)\n",
    "    \n",
    "    #Heart-rate feature extraction in BPM(HR)\n",
    "\n",
    "    HR = hrv_class.HR(r_peaks_pan)\n",
    "    features.append(np.mean(HR))\n",
    "    features.append(np.min(HR))\n",
    "    features.append(np.max(HR))\n",
    "    features.append(np.std(HR))\n",
    "\n",
    "    #Standard deviation of NN intervals(SDNN)\n",
    "    features.append(hrv_class.SDNN(r_peaks_pan, normalise=True))\n",
    "\n",
    "    #Standard deviation of the average of NN intervals(SDNN)\n",
    "    features.append(hrv_class.SDANN(r_peaks_pan, normalise=True))\n",
    "\n",
    "    #Root mean square of succesive differences(RMSSD)\n",
    "    features.append(hrv_class.RMSSD(r_peaks_pan, normalise= True))\n",
    "\n",
    "    # Standard deviation of succesive differences(SDSD)\n",
    "    features.append(hrv_class.SDSD(r_peaks_pan))\n",
    "\n",
    "    #The proportion of NN50 divided by total number of NNs(pNN50)\n",
    "    features.append(hrv_class.pNN50(r_peaks_pan))\n",
    "\n",
    "    #The proportion of NN20 divided by total number of NNs(pNN20)\n",
    "    features.append(hrv_class.pNN20(r_peaks_pan))\n",
    "\n",
    "    # Frequency domain features\n",
    "    # get the frequency domain features of the ECG\n",
    "    ecg_fft = fd.frequency_domain(rpeaks = r_peaks_pan, show = False)\n",
    "\n",
    "    plt.close(ecg_fft[\"ar_plot\"])\n",
    "    plt.close(ecg_fft[\"lomb_plot\"])\n",
    "    plt.close(ecg_fft[\"fft_plot\"])\n",
    "    \n",
    "    features.extend(ecg_fft['fft_abs'])\n",
    "    features.append(ecg_fft['fft_total'])\n",
    "\n",
    "    features.append(ecg_fft['fft_ratio'])\n",
    "    features.extend(ecg_fft['fft_peak'])\n",
    "    features.extend(ecg_fft['fft_norm'])\n",
    "\n",
    "    # features.extend([ecg_fft['fft_peak'][0], ecg_fft['fft_peak'][1], ecg_fft['fft_peak'][2], ecg_fft['fft_norm'][0],\n",
    "                    #  ecg_fft['fft_norm'][1], ecg_fft['fft_ratio'], ecg_fft['fft_total']])\n",
    "    \n",
    "    df.loc[index] = features\n",
    "    return df"
   ]
  },
  {
   "cell_type": "code",
   "execution_count": 128,
   "metadata": {},
   "outputs": [],
   "source": [
    "# get features from a signal and adds it to the dataframe\n",
    "def get_ecgfeatures(ecg, fs, df, index):\n",
    "    ecg = td.ecg(ecg, interactive= False, show = False, sampling_rate=700)\n",
    "    rpeaks = ecg['rpeaks']\n",
    "    filtered_ecg = ecg['filtered']\n",
    "    # plt.figure(figsize=(12,4))\n",
    "    # plt.plot(filtered_ecg)\n",
    "    # plt.plot(rpeaks,filtered_ecg[rpeaks], 'ro')\n",
    "    df_features = get_features(rpeaks, fs, df, index)\n",
    "    return df_features"
   ]
  }
 ],
 "metadata": {
  "kernelspec": {
   "display_name": "Python 3",
   "language": "python",
   "name": "python3"
  },
  "language_info": {
   "codemirror_mode": {
    "name": "ipython",
    "version": 3
   },
   "file_extension": ".py",
   "mimetype": "text/x-python",
   "name": "python",
   "nbconvert_exporter": "python",
   "pygments_lexer": "ipython3",
   "version": "3.9.0"
  },
  "orig_nbformat": 4
 },
 "nbformat": 4,
 "nbformat_minor": 2
}
