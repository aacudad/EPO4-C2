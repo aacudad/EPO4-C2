{
 "cells": [
  {
   "cell_type": "code",
   "execution_count": 24,
   "metadata": {},
   "outputs": [],
   "source": [
    "import os\n",
    "import numpy as np\n",
    "from scipy.signal import butter, iirnotch, lfilter\n",
    "import numpy as np\n",
    "from scipy import signal\n",
    "import matplotlib.pyplot as plt\n",
    "import neurokit2 as nk\n",
    "import pandas as pd\n",
    "from ecgdetectors import Detectors\n",
    "import pyhrv.frequency_domain as fd\n",
    "import pyhrv.time_domain as td\n",
    "import pyhrv"
   ]
  },
  {
   "cell_type": "code",
   "execution_count": 28,
   "metadata": {},
   "outputs": [],
   "source": [
    "# filtering\n",
    "def filter_ecgsignal(ecg, fs):\n",
    "    ecg_td = td.ecg(ecg, interactive= False, show = False, sampling_rate=fs)\n",
    "    filtered_ecg = ecg_td['filtered']\n",
    "    \n",
    "    # nyq = 0.5*fs\n",
    "    # order=5\n",
    "\n",
    "    # # highpass filter\n",
    "    # high=0.5\n",
    "    # high= high/nyq\n",
    "    # b, a = butter(order, high, 'highpass')\n",
    "    # ecg_h = lfilter(b,a,ecg)\n",
    "\n",
    "    # # lowpass filter\n",
    "    # low = 70\n",
    "    # low= low/nyq\n",
    "    # b, a = butter(order, low, 'lowpass')\n",
    "    # ecg_hl = lfilter(b,a,ecg_h)\n",
    "\n",
    "    # # notch filter\n",
    "    # notch=50\n",
    "    # notch = notch/nyq\n",
    "    # b, a = iirnotch(notch, 30, fs)\n",
    "    # ecg_hln = lfilter(b,a,ecg_hl)\n",
    "\n",
    "    # t=np.arange(0,ecg.size*(1/fs),(1/fs))\n",
    "    # t=t[:ecg.size]\n",
    "\n",
    "    # plt.figure(figsize=(12,4))\n",
    "    # plt.plot(t,ecg,label=\"raw ECG\")\n",
    "    # plt.plot(t,ecg_hln, label=\"filtered ECG\")\n",
    "    # plt.xlabel('$Time (s)$') \n",
    "    # plt.ylabel('$ECG$') \n",
    "    # plt.legend()\n",
    "\n",
    "    return filtered_ecg"
   ]
  },
  {
   "cell_type": "code",
   "execution_count": 29,
   "metadata": {},
   "outputs": [],
   "source": [
    "# detect R-peaks\n",
    "def detect_rpeaks(fs, ecg):\n",
    "    ecg_td = td.ecg(ecg, interactive= False, show = False, sampling_rate=fs)\n",
    "    rpeaks = ecg_td['rpeaks']\n",
    "    # detectors = Detectors(fs)\n",
    "\n",
    "    # r_peaks_pan = detectors.pan_tompkins_detector(ecg_hln)\n",
    "    # r_peaks_pan = np.asarray(r_peaks_pan)\n",
    "\n",
    "    # plt.figure(figsize=(12,4))\n",
    "    # plt.plot(ecg_hln)\n",
    "    # plt.plot(r_peaks_pan,ecg_hln[r_peaks_pan], 'ro')\n",
    "    return rpeaks"
   ]
  },
  {
   "attachments": {},
   "cell_type": "markdown",
   "metadata": {},
   "source": [
    "# **Feature extraction**"
   ]
  },
  {
   "cell_type": "code",
   "execution_count": 1,
   "metadata": {},
   "outputs": [],
   "source": [
    "from hrv import HRV   # to import the module\n",
    "\n",
    "# Feature extraction\n",
    "def get_features(r_peaks_pan, fs, df, index):\n",
    "    features = []\n",
    "\n",
    "    hrv_class = HRV(fs)\n",
    "\n",
    "    #Root mean square of succesive differences(RMSSD)\n",
    "    features.append(hrv_class.RMSSD(r_peaks_pan, normalise= True))\n",
    " \n",
    "    #Heart-rate feature extraction in BPM(HR)\n",
    "    features.append(np.mean(hrv_class.HR(r_peaks_pan)))\n",
    "\n",
    "    #Standard deviation of succesive differences(SDSD)\n",
    "    features.append(hrv_class.SDSD(r_peaks_pan))\n",
    "\n",
    "    #The proportion of NN50 divided by total number of NNs(pNN50)\n",
    "    features.append(hrv_class.pNN50(r_peaks_pan))\n",
    "\n",
    "    #The proportion of NN20 divided by total number of NNs(pNN20)\n",
    "    features.append(hrv_class.pNN20(r_peaks_pan))\n",
    "\n",
    "    # get the frequency domain features of the ECG\n",
    "    ecg_fft = fd.frequency_domain(rpeaks = r_peaks_pan, show = False)\n",
    "    plt.close(ecg_fft[\"ar_plot\"])\n",
    "    plt.close(ecg_fft[\"lomb_plot\"])\n",
    "    plt.close(ecg_fft[\"fft_plot\"])\n",
    "    \n",
    "    features.extend([ecg_fft['fft_peak'][0], ecg_fft['fft_peak'][1], ecg_fft['fft_peak'][2], ecg_fft['fft_norm'][0],\n",
    "                     ecg_fft['fft_norm'][1], ecg_fft['fft_ratio'], ecg_fft['fft_total']])\n",
    "    \n",
    "    df.loc[index] = features\n",
    "    return df"
   ]
  },
  {
   "cell_type": "code",
   "execution_count": 1,
   "metadata": {},
   "outputs": [],
   "source": [
    "# get features from a signal and adds it to the dataframe\n",
    "def get_ecgfeatures(ecg, fs, df, index):\n",
    "    ecg = td.ecg(ecg, interactive= False, show = False, sampling_rate=700)\n",
    "    rpeaks = ecg['rpeaks']\n",
    "    filtered_ecg = ecg['filtered']\n",
    "    # plt.figure(figsize=(12,4))\n",
    "    # plt.plot(filtered_ecg)\n",
    "    # plt.plot(rpeaks,filtered_ecg[rpeaks], 'ro')\n",
    "    df_features = get_features(rpeaks, fs, df, index)\n",
    "    return df_features"
   ]
  }
 ],
 "metadata": {
  "kernelspec": {
   "display_name": "Python 3",
   "language": "python",
   "name": "python3"
  },
  "language_info": {
   "codemirror_mode": {
    "name": "ipython",
    "version": 3
   },
   "file_extension": ".py",
   "mimetype": "text/x-python",
   "name": "python",
   "nbconvert_exporter": "python",
   "pygments_lexer": "ipython3",
   "version": "3.9.0"
  },
  "orig_nbformat": 4
 },
 "nbformat": 4,
 "nbformat_minor": 2
}
