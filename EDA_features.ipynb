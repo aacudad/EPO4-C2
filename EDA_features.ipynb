{
  "cells": [
    {
      "cell_type": "code",
      "execution_count": null,
      "metadata": {
        "colab": {
          "base_uri": "https://localhost:8080/"
        },
        "id": "8suV7WuuGoCf",
        "outputId": "82e64b1b-ecdb-466c-f619-e04eac7d4ed8"
      },
      "outputs": [],
      "source": [
        "# !pip install biobss --upgrade"
      ]
    },
    {
      "cell_type": "code",
      "execution_count": 2,
      "metadata": {
        "colab": {
          "base_uri": "https://localhost:8080/"
        },
        "id": "jJEVuI2jepOE",
        "outputId": "42401ee7-7333-4e7d-dc13-618aa6cb57a6"
      },
      "outputs": [
        {
          "name": "stderr",
          "output_type": "stream",
          "text": [
            "c:\\Users\\riche\\AppData\\Local\\Programs\\Python\\Python39\\lib\\site-packages\\antropy\\fractal.py:197: NumbaDeprecationWarning: \u001b[1mThe 'nopython' keyword argument was not supplied to the 'numba.jit' decorator. The implicit default value for this argument is currently False, but it will be changed to True in Numba 0.59.0. See https://numba.readthedocs.io/en/stable/reference/deprecation.html#deprecation-of-object-mode-fall-back-behaviour-when-using-jit for details.\u001b[0m\n",
            "  @jit('float64(float64[:], int32)')\n"
          ]
        }
      ],
      "source": [
        "from scipy.signal import butter, iirnotch, lfilter\n",
        "from os import listdir\n",
        "from os.path import isfile, join, isdir\n",
        "import numpy as np\n",
        "import matplotlib.pyplot as plt\n",
        "import scipy.signal\n",
        "import scipy.ndimage\n",
        "import scipy.stats as stats\n",
        "\n",
        "import csv\n",
        "import pickle\n",
        "import pandas as pd\n",
        "\n",
        "import biobss\n",
        "\n",
        "from tqdm import tqdm\n",
        "\n"
      ]
    },
    {
      "cell_type": "code",
      "execution_count": null,
      "metadata": {
        "colab": {
          "base_uri": "https://localhost:8080/",
          "height": 407
        },
        "id": "T7ILLNFTI0KK",
        "outputId": "3a643fea-c829-46dc-c6d4-da46e75590b1"
      },
      "outputs": [],
      "source": [
        "#Filtered signal\n",
        "def filter_signal(eda, sampling_rate):\n",
        "    eda_f = biobss.edatools.filter_eda(eda, sampling_rate)\n",
        "\n",
        "    plt.figure(figsize=(12,4))\n",
        "    plt.plot(t,eda_f)\n",
        "    plt.xlabel('$Time (s)$') \n",
        "    plt.ylabel('$EDA$')\n",
        "    return eda_f"
      ]
    },
    {
      "cell_type": "code",
      "execution_count": null,
      "metadata": {
        "colab": {
          "base_uri": "https://localhost:8080/"
        },
        "id": "WYamevEEMx2k",
        "outputId": "b4d62cc1-7199-47bf-c804-0bb65526527c"
      },
      "outputs": [],
      "source": [
        "eda = biobss.edatools.eda_decompose(eda_f, sampling_rate=sampling_rate)\n",
        "tonic = eda.iloc[:,0]\n",
        "phasic = eda.iloc[:,1]\n",
        "print(eda)"
      ]
    },
    {
      "cell_type": "code",
      "execution_count": null,
      "metadata": {
        "colab": {
          "base_uri": "https://localhost:8080/"
        },
        "id": "JaJQ-cKlCOlH",
        "outputId": "cc58997e-bbc2-48c4-9d82-736fb9a83989"
      },
      "outputs": [],
      "source": [
        "zero_pad = 55*sampling_rate-1\n",
        "phasic = np.pad(phasic, (zero_pad, 0))\n",
        "phasic = np.insert(phasic,0,1)\n",
        "phasic = np.pad(phasic, (5, 0))\n",
        "t2 = np.arange(0,phasic.size*(1/sampling_rate),(1/sampling_rate))\n",
        "print(phasic)\n",
        "print(phasic.size)\n",
        "print(t2.size)"
      ]
    },
    {
      "cell_type": "code",
      "execution_count": null,
      "metadata": {
        "colab": {
          "base_uri": "https://localhost:8080/",
          "height": 407
        },
        "id": "aA8aZ1fhAUoo",
        "outputId": "9a50edc3-395b-4de3-bcf9-67ae0e03ff2f"
      },
      "outputs": [],
      "source": [
        "plt.figure(figsize=(12,4))\n",
        "plt.plot(t2,phasic,label='phasic')\n",
        "#plt.plot(t2,tonic,label='tonic')\n",
        "plt.xlabel('$Time (s)$') \n",
        "plt.ylabel('$EDA$')"
      ]
    },
    {
      "cell_type": "code",
      "execution_count": null,
      "metadata": {
        "colab": {
          "base_uri": "https://localhost:8080/",
          "height": 407
        },
        "id": "27bMhO6oBfRL",
        "outputId": "5ba7ed52-c093-44f7-818f-3c7d3d4c50d3"
      },
      "outputs": [],
      "source": [
        "peaks, properties = scipy.signal.find_peaks(phasic)\n",
        "heights, left_bases, right_bases = scipy.signal.peak_prominences(phasic, peaks)\n",
        "widths, width_heights, left_ips, __ = scipy.signal.peak_widths(phasic, peaks, rel_height=0.9)\n",
        "__, __, __, right_ips = scipy.signal.peak_widths(phasic, peaks, rel_height=0.5)\n",
        "\n",
        "heights1 = np.delete(heights, np.where(heights == np.max(heights)))\n",
        "heights2 = np.delete(heights, np.where(heights1 == np.max(heights1)))\n",
        "\n",
        "# find the indices with an amplitude larger that 0.1\n",
        "keep = np.full(len(peaks), True)\n",
        "amplitude_min=0.25*np.max(heights2)\n",
        "time_min=50\n",
        "keep[heights<amplitude_min] = False\n",
        "\n",
        "# only keep those \n",
        "peaks=peaks[keep]\n",
        "heights=heights[keep]\n",
        "widths=widths[keep]\n",
        "left_bases = left_bases[keep]\n",
        "right_bases = right_bases[keep]\n",
        "width_heights = width_heights[keep]\n",
        "left_ips = left_ips[keep]\n",
        "right_ips = right_ips[keep]\n",
        "\n",
        "#keep peaks inside a certain time interval\n",
        "keep1 = np.full(len(peaks), True)\n",
        "peak_diff = [0]\n",
        "for i in range(peaks.size-1):\n",
        "  peak_diff_enum = t[peaks[i+1]]-t[peaks[i]]\n",
        "  peak_diff.append(peak_diff_enum)\n",
        "\n",
        "keep1[np.array(peak_diff)>time_min] = False\n",
        "\n",
        "peaks=peaks[keep1]\n",
        "heights=heights[keep1]\n",
        "widths=widths[keep1]\n",
        "left_bases = left_bases[keep1]\n",
        "right_bases = right_bases[keep1]\n",
        "width_heights = width_heights[keep1]\n",
        "left_ips = left_ips[keep1]\n",
        "right_ips = right_ips[keep1]\n",
        "\n",
        "# plot\n",
        "plt.figure(figsize=(12,4))\n",
        "plt.plot(t2,phasic,label='phasic')\n",
        "plt.plot(t2[peaks],phasic[peaks],'o',label='peaks')\n",
        "# labels and titles\n",
        "plt.xlabel('$Time (s)$') \n",
        "plt.ylabel('$EDA$')\n",
        "plt.legend()"
      ]
    },
    {
      "cell_type": "code",
      "execution_count": null,
      "metadata": {
        "colab": {
          "base_uri": "https://localhost:8080/",
          "height": 442
        },
        "id": "pZ7hFKkkCGJz",
        "outputId": "e7241d06-aa24-4fce-cd08-743e4c77a9c2"
      },
      "outputs": [],
      "source": [
        "#Taking the time interval between of the cluster of peaks\n",
        "t2 = t[peaks[1]:peaks[-1]]\n",
        "phasic = phasic[peaks[1]:peaks[-1]]\n",
        "print(t2.size)\n",
        "print(phasic.size)\n",
        "# plot\n",
        "plt.figure(figsize=(12,4))\n",
        "plt.plot(t2,phasic,label='phasic')\n",
        "# labels and titles\n",
        "plt.xlabel('$Time (s)$') \n",
        "plt.ylabel('$EDA$')\n",
        "plt.legend()"
      ]
    },
    {
      "cell_type": "code",
      "execution_count": null,
      "metadata": {
        "colab": {
          "base_uri": "https://localhost:8080/"
        },
        "id": "XbTRNWYANM0M",
        "outputId": "89a97c19-8885-4f4b-b0e8-011f9b427604"
      },
      "outputs": [],
      "source": [
        "#Features from EDA signal\n",
        "tonic_phase_feat = biobss.edatools.from_decomposed(phasic, tonic, sampling_rate)\n",
        "eda_feat = biobss.edatools.from_signal(eda_f, sampling_rate)\n",
        "eda_freq_feat = biobss.edatools.eda_freq_features(eda)\n",
        "tonic_feat = biobss.edatools.from_scl(tonic)\n",
        "\n",
        "#Features from phasic\n",
        "phasic_feat = biobss.edatools.from_scr(phasic)"
      ]
    },
    {
      "cell_type": "code",
      "execution_count": null,
      "metadata": {
        "id": "oIxY3MAjOBU3"
      },
      "outputs": [],
      "source": [
        "print(tonic_phase_feat)"
      ]
    },
    {
      "cell_type": "code",
      "execution_count": null,
      "metadata": {
        "id": "YvKWzIUjO90D"
      },
      "outputs": [],
      "source": [
        "#field_names= ['scr_mean', 'scr_std', 'scr_max', 'scr_min', 'scr_range', 'scr_kurtosis', 'scr_skew', 'scr_momentum', 'scr_activity', 'scr_complexity', 'scr_mobility', 'scr_rms', 'scr_acr_length', 'scr_integral', 'scr_average_power',\n",
        " #             'scr_f1sc', 'scr_f2sc', 'scr_f3sc', 'scr_Energy', 'scr_Entropy', 'scr_max_freq', 'scl_mean', 'scl_std', 'scl_max', 'scl_min', 'scl_range', 'scl_kurtosis', 'scl_skew', 'scl_momentum']"
      ]
    },
    {
      "cell_type": "code",
      "execution_count": null,
      "metadata": {
        "id": "z9lGFhNl-0Bb"
      },
      "outputs": [],
      "source": [
        "############ lowpass filtering\n",
        "# Parameters\n",
        "order = 4\n",
        "frequency = 5\n",
        "sampling_rate = 100\n",
        "frequency = frequency / (sampling_rate / 2)  # Normalize frequency to Nyquist Frequency (Fs/2)."
      ]
    },
    {
      "cell_type": "code",
      "execution_count": null,
      "metadata": {
        "id": "oMvtz7bCey5n"
      },
      "outputs": [],
      "source": [
        "#eda_data = np.empty((0,196639)) \n",
        "#eda_time_data = np.empty((0,196639)) \n",
        "#\n",
        "#for i in range(56):\n",
        "#  sub_ind = i\n",
        "#  # read eda file\n",
        "#  csvpath = dataset_path+'/'+onlydirs[sub_ind]+'/BitalinoGSR.txt'\n",
        "#  # load the txt file\n",
        "#  data = np.loadtxt(csvpath,dtype='str')\n",
        "#  # eda recordings\n",
        "#  eda = data[:,0].astype(float)[:196639][np.newaxis] # slice all the data to the length of the shortest one\n",
        "#  eda_data = np.append(eda_data,eda, axis = 0)\n",
        "#  # timestamps\n",
        "#  eda_time = data[:,1].astype(float)[:196639][np.newaxis] # slice all the data to the length of the shortest one\n",
        "#  eda_time_data = np.append(eda_time, eda_time_data, axis = 0)\n",
        "\n"
      ]
    },
    {
      "cell_type": "code",
      "execution_count": null,
      "metadata": {
        "id": "fLzblaXU-Xxq"
      },
      "outputs": [],
      "source": [
        "# Filtering\n",
        "b, a = scipy.signal.butter(order, frequency)\n",
        "eda_lp = scipy.signal.filtfilt(b, a, eda)\n",
        "\n",
        "################################### Smoothing\n",
        "# hybrid method\n",
        "# step 1\n",
        "size= int(0.75 * sampling_rate)\n",
        "eda_sm0 = scipy.ndimage.uniform_filter1d(eda_lp, size, mode='nearest')\n",
        "\n",
        "# step 2\n",
        "# window\n",
        "kernel=\"parzen\"\n",
        "window = scipy.signal.get_window(kernel, size)\n",
        "w = window / window.sum()\n",
        "\n",
        "eda_sm_l= np.empty((0,196639)) \n",
        "\n",
        "# Extend signal edges to avoid boundary effects.\n",
        "signal_edge_l = eda_sm0[:0]\n",
        "signal_edge_r = eda_sm0[:-1]\n",
        "\n",
        "for i in range(15):\n",
        "  pad_l = np.full(shape=38, fill_value= signal_edge_l[i], dtype= float) # pad with 38 times the first signal value\n",
        "  pad_r = np.full(shape=38, fill_value= signal_edge_r[i], dtype= float) # pad with 38 times the last signal value\n",
        "\n",
        "  eda_sm0_pad = np.concatenate((pad_l, eda_sm0[i], pad_r)) # pad the signal at begin and end\n",
        " \n",
        "  # Compute moving average.\n",
        "  eda_sm = np.convolve(w, eda_sm0_pad)\n",
        "  eda_sm = eda_sm[size:-size]\n",
        "  eda_sm_l = np.append(eda_sm_l, eda_sm[np.newaxis], axis = 0)\n"
      ]
    },
    {
      "cell_type": "code",
      "execution_count": null,
      "metadata": {
        "id": "t5lC5GyOG6-L"
      },
      "outputs": [],
      "source": [
        "################## decompose \n",
        "# Electrodermal Activity (EDA) into Phasic and Tonic components.\n",
        "# Phasic\n",
        "order=5\n",
        "freqs=[0.05 / (sampling_rate)]\n",
        "sos = scipy.signal.butter(order, freqs, btype='highpass', output=\"sos\")\n",
        "phasic= scipy.signal.sosfiltfilt(sos, eda_sm_l)\n",
        "\n",
        "#Tonic\n",
        "sos = scipy.signal.butter(order, freqs, btype='lowpass', output=\"sos\")\n",
        "tonic= scipy.signal.sosfiltfilt(sos, eda_sm_l)"
      ]
    },
    {
      "cell_type": "code",
      "execution_count": null,
      "metadata": {
        "id": "z4RBzr5NmL8G"
      },
      "outputs": [],
      "source": [
        "#fig, ax = plt.subplots(56, 1, figsize=(20, 100))\n",
        "#\n",
        "#for i in range(56):\n",
        "#  eda_data_plot = eda_data[i]\n",
        "#  eda_sm_plot = eda_sm_l[i]\n",
        "#  phasic_plot = phasic[i]\n",
        "#  tonic_plot = tonic[i]\n",
        "#  t=np.arange(0,eda_time_data[i].size*0.01,0.01)\n",
        "#  t=t[:eda.size]\n",
        "#\n",
        "#  ax[i].plot(t,eda_sm_plot)\n",
        "#  ax[i].plot(t,phasic_plot)\n",
        "#  ax[i].plot(t,tonic_plot)\n",
        "#  # labels and titles\n",
        "#  ax[i].set_xlabel('$Time (s)$') \n",
        "#  ax[i].set_ylabel('$EDA$') \n",
        "#\n",
        "#  # saving the figure as png\n",
        "#  #plt.savefig('eda.png', dpi=300)"
      ]
    },
    {
      "cell_type": "code",
      "execution_count": null,
      "metadata": {
        "id": "MtGLrAmbH06C"
      },
      "outputs": [],
      "source": [
        "onset_l = np.empty((0,56)) \n",
        "hrt_time_l = np.empty((0,56)) \n",
        "\n",
        "for i in range(56): \n",
        "  peaks, properties = scipy.signal.find_peaks(phasic[i])\n",
        "  heights, left_bases, right_bases = scipy.signal.peak_prominences(phasic[i], peaks)\n",
        "  widths, width_heights, left_ips, __ = scipy.signal.peak_widths(phasic[i], peaks, rel_height=0.9)\n",
        "  __, __, __, right_ips = scipy.signal.peak_widths(phasic[i], peaks, rel_height=0.5)\n",
        "\n",
        "  # find the indices with an amplitude larger that 0.1\n",
        "  keep = np.full(len(peaks), True)\n",
        "  amplitude_min=0.1\n",
        "  keep[heights<amplitude_min] = False\n",
        "\n",
        "  # only keep those \n",
        "  peaks=peaks[keep]\n",
        "  heights=heights[keep]\n",
        "  widths=widths[keep]\n",
        "  left_bases = left_bases[keep]\n",
        "  right_bases = right_bases[keep]\n",
        "  width_heights = width_heights[keep]\n",
        "  left_ips = left_ips[keep]\n",
        "  right_ips = right_ips[keep]\n",
        "\n",
        "  onset = left_ips.astype(int) / sampling_rate\n",
        "  onset_index = left_ips.astype(int)\n",
        "  onset_l = np.append(onset_l,onset[:56][np.newaxis], axis = 0)\n",
        "  #print(\"Onset time is\\n\",onset)\n",
        "\n",
        "  hrt = right_ips.astype(int) / sampling_rate\n",
        "  hrt_index = right_ips.astype(int)\n",
        "  hrt_time = (hrt_index - peaks) / sampling_rate\n",
        "  hrt_time_l = np.append(hrt_time_l,hrt_time[:56][np.newaxis], axis = 0)\n",
        "  #print(\"Half recovery time is\\n\",hrt_time)\n",
        "\n",
        "  ### plot\n",
        "  #t=np.arange(0,eda_time_data[i].size*0.01,0.01)\n",
        "  #t=t[:eda.size]\n",
        "#\n",
        "  #plt.figure(figsize=(25,2))\n",
        "  #plt.plot(t,phasic[i],label='phasic')\n",
        "  #plt.plot(t[peaks],phasic[i,peaks],'o',label='peaks')\n",
        "  #plt.plot(onset, phasic[i,onset_index],'x',label='onset')\n",
        "  #plt.plot(hrt, phasic[i,hrt_index],'x',label='half recovery')\n",
        "  ## labels and titles\n",
        "  #plt.xlabel('$Time (s)$') \n",
        "  #plt.ylabel('$EDA$') \n",
        "  #plt.legend()"
      ]
    },
    {
      "cell_type": "code",
      "execution_count": null,
      "metadata": {
        "id": "FRjxyHSP7Ayk"
      },
      "outputs": [],
      "source": [
        "mean = np.mean(hrt_time_l, axis= 1)\n",
        "min = np.amin(hrt_time_l, axis= 1)\n",
        "max = np.amax(hrt_time_l, axis= 1)\n",
        "print(mean)\n",
        "print(min)\n",
        "print(max)"
      ]
    }
  ],
  "metadata": {
    "colab": {
      "provenance": []
    },
    "kernelspec": {
      "display_name": "Python 3",
      "name": "python3"
    },
    "language_info": {
      "codemirror_mode": {
        "name": "ipython",
        "version": 3
      },
      "file_extension": ".py",
      "mimetype": "text/x-python",
      "name": "python",
      "nbconvert_exporter": "python",
      "pygments_lexer": "ipython3",
      "version": "3.9.0"
    }
  },
  "nbformat": 4,
  "nbformat_minor": 0
}
