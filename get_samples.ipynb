{
 "cells": [
  {
   "cell_type": "code",
   "execution_count": null,
   "metadata": {},
   "outputs": [],
   "source": [
    "import os\n",
    "import pickle\n",
    "import numpy as np\n",
    "from scipy import signal\n",
    "import numpy as np\n",
    "import matplotlib.pyplot as plt\n",
    "# import neurokit2 as nk\n",
    "import pandas as pd\n",
    "import random\n",
    "# %matplotlib inline \n",
    "import pyhrv"
   ]
  },
  {
   "cell_type": "code",
   "execution_count": null,
   "metadata": {},
   "outputs": [],
   "source": [
    "# Class to read the data from the dataset\n",
    "class read_data_of_one_subject:\n",
    "    \"\"\"Read data from WESAD dataset\"\"\"\n",
    "    def __init__(self, path, subject):\n",
    "        self.keys = ['label', 'subject', 'signal']\n",
    "        self.signal_keys = ['wrist', 'chest']\n",
    "        self.chest_sensor_keys = ['ACC', 'ECG', 'EDA', 'EMG', 'Resp', 'Temp']\n",
    "        self.wrist_sensor_keys = ['ACC', 'BVP', 'EDA', 'TEMP']\n",
    "        #os.chdir(path)\n",
    "        #os.chdir(subject)\n",
    "        with open(path + subject +'/'+subject + '.pkl', 'rb') as file:\n",
    "            data = pickle.load(file, encoding='latin1')\n",
    "        self.data = data\n",
    "\n",
    "    def get_labels(self):\n",
    "        return self.data[self.keys[0]]\n",
    "\n",
    "    def get_wrist_data(self):\n",
    "        \"\"\"\"\"\"\n",
    "        #label = self.data[self.keys[0]]\n",
    "        assert subject == self.data[self.keys[1]]\n",
    "        signal = self.data[self.keys[2]]\n",
    "        wrist_data = signal[self.signal_keys[0]]\n",
    "        #wrist_ACC = wrist_data[self.wrist_sensor_keys[0]]\n",
    "        #wrist_ECG = wrist_data[self.wrist_sensor_keys[1]]\n",
    "        return wrist_data\n",
    "\n",
    "    def get_chest_data(self):\n",
    "        \"\"\"\"\"\"\n",
    "        signal = self.data[self.keys[2]]\n",
    "        chest_data = signal[self.signal_keys[1]]\n",
    "        return chest_data\n"
   ]
  },
  {
   "cell_type": "code",
   "execution_count": 19,
   "metadata": {},
   "outputs": [],
   "source": [
    "# function that get the data from a certain subject\n",
    "def get_data(subject):\n",
    "    # Object instantiation\n",
    "    obj_data = {}\n",
    "    data_set_path = \"C:/Users/riche/Downloads/WESAD/WESAD/\"\n",
    "    # Accessing class attributes and method through objects\n",
    "    obj_data[subject] = read_data_of_one_subject(data_set_path, subject)\n",
    "\n",
    "    return obj_data[subject]"
   ]
  },
  {
   "cell_type": "code",
   "execution_count": 20,
   "metadata": {},
   "outputs": [],
   "source": [
    "# function that get and print the length of the chest data \n",
    "def print_length_signal(signal):\n",
    "    chest_data_dict = signal.get_chest_data()\n",
    "    chest_dict_length = {key: len(value) for key, value in chest_data_dict.items()}\n",
    "    print(chest_dict_length)"
   ]
  },
  {
   "cell_type": "code",
   "execution_count": 21,
   "metadata": {},
   "outputs": [],
   "source": [
    "# Function that gets and plots the labels\n",
    "# 0 = not defined / transient, 1 = baseline, 2 = stress, 3 = amusement, 4 = meditation, 5/6/7 = should be ignored in this dataset.\n",
    "def plot_labels(signal):\n",
    "    fs = 700\n",
    "    labels = signal.get_labels()\n",
    "    t=np.arange(0,labels.size*(1/fs),(1/fs))\n",
    "    t=t[:labels.size]\n",
    "    plt.plot(t, labels)\n",
    "    plt.title('Labels vs time')\n",
    "    plt.ylabel('label')\n",
    "    plt.xlabel('time(ms)')\n",
    "    plt.plot(labels)\n",
    "    return labels"
   ]
  },
  {
   "cell_type": "code",
   "execution_count": 47,
   "metadata": {},
   "outputs": [],
   "source": [
    "# Function that get a samples of 10 times the fs of an ecg signal\n",
    "def get_samples_signal(signal, labels, label, fs):\n",
    "    chest_data_dict = signal.get_chest_data()\n",
    "\n",
    "    baseline = np.asarray([idx for idx,val in enumerate(labels) if val == label])\n",
    "\n",
    "    ecg_base=chest_data_dict['ECG'][baseline,0]\n",
    "    resp_base = chest_data_dict['Resp'][baseline,0]\n",
    "\n",
    "    indexes = np.arange(0,len(baseline)-7000,1)\n",
    "\n",
    "    index = random.choice(indexes)\n",
    "\n",
    "    # cut a smaller window\n",
    "    ecg=ecg_base[index:index+ 10*fs]\n",
    "    resp=resp_base[index:index+ 10*fs]\n",
    "    # t=np.arange(0,ecg.size*(1/fs),(1/fs))\n",
    "    # t=t[:ecg.size]\n",
    "\n",
    "    # plt.figure(figsize=(12,4))\n",
    "    # plt.plot(t,ecg)\n",
    "    # plt.xlabel('$Time (s)$') \n",
    "    # plt.ylabel('$ECG$')  \n",
    "    return ecg, resp"
   ]
  },
  {
   "cell_type": "code",
   "execution_count": 34,
   "metadata": {},
   "outputs": [],
   "source": [
    "# Function that writes a dataframe to an csv file\n",
    "def write_to_csv(df, file):\n",
    "    df.to_csv(index=False)\n",
    "    location = \"C:/Users/riche/OneDrive/Documenten/Github/EPO4-C2/\"\n",
    "    path = location + file\n",
    "    os.makedirs(location, exist_ok=True)  \n",
    "    df.to_csv(path)"
   ]
  },
  {
   "cell_type": "code",
   "execution_count": 48,
   "metadata": {},
   "outputs": [],
   "source": [
    "# Function that get samples from all subject and writes it to a csv file\n",
    "def get_samples(label):\n",
    "    fs = 700\n",
    "    df_ecg = pd.DataFrame() # create empty data frame\n",
    "    df_resp = pd.DataFrame()\n",
    "\n",
    "    # for i in range(2,18): # loop over amount of subject\n",
    "    i = 2\n",
    "    for a in range(0,3): # three samples per subject\n",
    "        subject = 'S' + str(i)\n",
    "        title = subject + str(a)\n",
    "        print(subject)\n",
    "        if subject != \"S12\": #S12 doenst exist\n",
    "            signal = get_data(subject) \n",
    "            labels = signal.get_labels()\n",
    "            ecg, resp = get_samples_signal(signal, labels, label, fs)\n",
    "            \n",
    "            df_ecg[title] = ecg\n",
    "            df_resp[title] = resp\n",
    "                \n",
    "    write_to_csv(df_ecg, \"ecg_\" + str(label) + \".csv\")\n",
    "    write_to_csv(df_resp, \"resp_\" + str(label) + \".csv\")\n",
    "    "
   ]
  },
  {
   "cell_type": "code",
   "execution_count": 49,
   "metadata": {},
   "outputs": [
    {
     "name": "stdout",
     "output_type": "stream",
     "text": [
      "S2\n",
      "S2\n",
      "S2\n"
     ]
    }
   ],
   "source": [
    "get_samples(1)"
   ]
  },
  {
   "cell_type": "code",
   "execution_count": 40,
   "metadata": {},
   "outputs": [
    {
     "ename": "KeyboardInterrupt",
     "evalue": "",
     "output_type": "error",
     "traceback": [
      "\u001b[1;31m---------------------------------------------------------------------------\u001b[0m",
      "\u001b[1;31mKeyboardInterrupt\u001b[0m                         Traceback (most recent call last)",
      "Cell \u001b[1;32mIn[40], line 6\u001b[0m\n\u001b[0;32m      3\u001b[0m label \u001b[39m=\u001b[39m\u001b[39m1\u001b[39m\n\u001b[0;32m      4\u001b[0m subject \u001b[39m=\u001b[39m \u001b[39m'\u001b[39m\u001b[39mS\u001b[39m\u001b[39m'\u001b[39m \u001b[39m+\u001b[39m \u001b[39mstr\u001b[39m(i)\n\u001b[1;32m----> 6\u001b[0m signal \u001b[39m=\u001b[39m get_data(subject) \n\u001b[0;32m      7\u001b[0m labels \u001b[39m=\u001b[39m signal\u001b[39m.\u001b[39mget_labels()\n\u001b[0;32m      8\u001b[0m ecg, resp \u001b[39m=\u001b[39m get_samples_signal(signal, labels, label, fs)\n",
      "Cell \u001b[1;32mIn[19], line 7\u001b[0m, in \u001b[0;36mget_data\u001b[1;34m(subject)\u001b[0m\n\u001b[0;32m      5\u001b[0m data_set_path \u001b[39m=\u001b[39m \u001b[39m\"\u001b[39m\u001b[39mC:/Users/riche/Downloads/WESAD/WESAD/\u001b[39m\u001b[39m\"\u001b[39m\n\u001b[0;32m      6\u001b[0m \u001b[39m# Accessing class attributes and method through objects\u001b[39;00m\n\u001b[1;32m----> 7\u001b[0m obj_data[subject] \u001b[39m=\u001b[39m read_data_of_one_subject(data_set_path, subject)\n\u001b[0;32m      9\u001b[0m \u001b[39mreturn\u001b[39;00m obj_data[subject]\n",
      "Cell \u001b[1;32mIn[18], line 12\u001b[0m, in \u001b[0;36mread_data_of_one_subject.__init__\u001b[1;34m(self, path, subject)\u001b[0m\n\u001b[0;32m      9\u001b[0m \u001b[39m#os.chdir(path)\u001b[39;00m\n\u001b[0;32m     10\u001b[0m \u001b[39m#os.chdir(subject)\u001b[39;00m\n\u001b[0;32m     11\u001b[0m \u001b[39mwith\u001b[39;00m \u001b[39mopen\u001b[39m(path \u001b[39m+\u001b[39m subject \u001b[39m+\u001b[39m\u001b[39m'\u001b[39m\u001b[39m/\u001b[39m\u001b[39m'\u001b[39m\u001b[39m+\u001b[39msubject \u001b[39m+\u001b[39m \u001b[39m'\u001b[39m\u001b[39m.pkl\u001b[39m\u001b[39m'\u001b[39m, \u001b[39m'\u001b[39m\u001b[39mrb\u001b[39m\u001b[39m'\u001b[39m) \u001b[39mas\u001b[39;00m file:\n\u001b[1;32m---> 12\u001b[0m     data \u001b[39m=\u001b[39m pickle\u001b[39m.\u001b[39;49mload(file, encoding\u001b[39m=\u001b[39;49m\u001b[39m'\u001b[39;49m\u001b[39mlatin1\u001b[39;49m\u001b[39m'\u001b[39;49m)\n\u001b[0;32m     13\u001b[0m \u001b[39mself\u001b[39m\u001b[39m.\u001b[39mdata \u001b[39m=\u001b[39m data\n",
      "\u001b[1;31mKeyboardInterrupt\u001b[0m: "
     ]
    }
   ],
   "source": [
    "fs = 700\n",
    "i = 3\n",
    "label =1\n",
    "subject = 'S' + str(i)\n",
    "\n",
    "signal = get_data(subject) \n",
    "labels = signal.get_labels()\n",
    "ecg, resp = get_samples_signal(signal, labels, label, fs)\n",
    "\n",
    "t=np.arange(0,resp.size*(1/fs),(1/fs))\n",
    "t=t[:resp.size]\n",
    "\n",
    "plt.figure(figsize=(12,4))\n",
    "plt.plot(t, resp)\n",
    "plt.xlabel('$Time (s)$') \n",
    "plt.ylabel('$ECG$') "
   ]
  },
  {
   "attachments": {},
   "cell_type": "markdown",
   "metadata": {},
   "source": [
    "# **Respiration**"
   ]
  },
  {
   "cell_type": "code",
   "execution_count": null,
   "metadata": {},
   "outputs": [],
   "source": [
    "# rpeaks, info = nk.ecg_peaks(ecg, sampling_rate=fs)\n",
    "# ecg_rate = nk.ecg_rate(r_peaks_pan, sampling_rate=fs, desired_length=len(ecg))"
   ]
  },
  {
   "cell_type": "code",
   "execution_count": null,
   "metadata": {},
   "outputs": [],
   "source": [
    "# edr = nk.ecg_rsp(ecg_rate, sampling_rate=fs)\n",
    "# # Visual comparison\n",
    "# nk.signal_plot(edr)"
   ]
  },
  {
   "cell_type": "code",
   "execution_count": null,
   "metadata": {},
   "outputs": [],
   "source": [
    "# rpeaks, info = nk.ecg_peaks(ecg, sampling_rate=fs)\n",
    "# ecg_rate = nk.ecg_rate(rpeaks, sampling_rate=fs, desired_length=len(ecg))\n",
    "# edr = nk.ecg_rsp(ecg_rate, sampling_rate=fs)\n",
    "# # Visual comparison\n",
    "# nk.signal_plot(edr)"
   ]
  },
  {
   "cell_type": "code",
   "execution_count": null,
   "metadata": {},
   "outputs": [],
   "source": [
    "# resp=chest_data_dict['Resp'][baseline,0]\n",
    "# resp=resp[10000:10000+ 10*fs]\n",
    "# t=np.arange(0,resp.size*(1/fs),(1/fs))\n",
    "# t=t[:ecg.size]\n",
    "\n",
    "# plt.figure(figsize=(12,4))\n",
    "# plt.plot(t,resp)\n",
    "# plt.xlabel('$Time (s)$') \n",
    "# plt.ylabel('$ECG$') "
   ]
  }
 ],
 "metadata": {
  "kernelspec": {
   "display_name": "Python 3",
   "language": "python",
   "name": "python3"
  },
  "language_info": {
   "codemirror_mode": {
    "name": "ipython",
    "version": 3
   },
   "file_extension": ".py",
   "mimetype": "text/x-python",
   "name": "python",
   "nbconvert_exporter": "python",
   "pygments_lexer": "ipython3",
   "version": "3.9.0"
  },
  "orig_nbformat": 4
 },
 "nbformat": 4,
 "nbformat_minor": 2
}
