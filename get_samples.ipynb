{
 "cells": [
  {
   "cell_type": "code",
   "execution_count": 4,
   "metadata": {},
   "outputs": [],
   "source": [
    "import os\n",
    "import pickle\n",
    "import numpy as np\n",
    "from scipy import signal\n",
    "import numpy as np\n",
    "import matplotlib.pyplot as plt\n",
    "# import neurokit2 as nk\n",
    "import pandas as pd\n",
    "import random\n",
    "# %matplotlib inline "
   ]
  },
  {
   "cell_type": "code",
   "execution_count": 5,
   "metadata": {},
   "outputs": [],
   "source": [
    "# Class to read the data from the dataset\n",
    "class read_data_of_one_subject:\n",
    "    \"\"\"Read data from WESAD dataset\"\"\"\n",
    "    def __init__(self, path, subject):\n",
    "        self.keys = ['label', 'subject', 'signal']\n",
    "        self.signal_keys = ['wrist', 'chest']\n",
    "        self.chest_sensor_keys = ['ACC', 'ECG', 'EDA', 'EMG', 'Resp', 'Temp']\n",
    "        self.wrist_sensor_keys = ['ACC', 'BVP', 'EDA', 'TEMP']\n",
    "        #os.chdir(path)\n",
    "        #os.chdir(subject)\n",
    "        with open(path + subject +'/'+subject + '.pkl', 'rb') as file:\n",
    "            data = pickle.load(file, encoding='latin1')\n",
    "        self.data = data\n",
    "\n",
    "    def get_labels(self):\n",
    "        return self.data[self.keys[0]]\n",
    "\n",
    "    def get_wrist_data(self):\n",
    "        \"\"\"\"\"\"\n",
    "        #label = self.data[self.keys[0]]\n",
    "        assert subject == self.data[self.keys[1]]\n",
    "        signal = self.data[self.keys[2]]\n",
    "        wrist_data = signal[self.signal_keys[0]]\n",
    "        #wrist_ACC = wrist_data[self.wrist_sensor_keys[0]]\n",
    "        #wrist_ECG = wrist_data[self.wrist_sensor_keys[1]]\n",
    "        return wrist_data\n",
    "\n",
    "    def get_chest_data(self):\n",
    "        \"\"\"\"\"\"\n",
    "        signal = self.data[self.keys[2]]\n",
    "        chest_data = signal[self.signal_keys[1]]\n",
    "        return chest_data\n"
   ]
  },
  {
   "cell_type": "code",
   "execution_count": 6,
   "metadata": {},
   "outputs": [],
   "source": [
    "# function that get the data from a certain subject\n",
    "def get_data(subject):\n",
    "    # Object instantiation\n",
    "    obj_data = {}\n",
    "    data_set_path = \"C:/Users/riche/Downloads/WESAD/WESAD/\"\n",
    "    # Accessing class attributes and method through objects\n",
    "    obj_data[subject] = read_data_of_one_subject(data_set_path, subject)\n",
    "\n",
    "    return obj_data[subject]"
   ]
  },
  {
   "cell_type": "code",
   "execution_count": 7,
   "metadata": {},
   "outputs": [],
   "source": [
    "# function that get and print the length of the chest data \n",
    "def print_length_signal(signal):\n",
    "    chest_data_dict = signal.get_chest_data()\n",
    "    chest_dict_length = {key: len(value) for key, value in chest_data_dict.items()}\n",
    "    print(chest_dict_length)"
   ]
  },
  {
   "cell_type": "code",
   "execution_count": 8,
   "metadata": {},
   "outputs": [],
   "source": [
    "# Function that gets and plots the labels\n",
    "# 0 = not defined / transient, 1 = baseline, 2 = stress, 3 = amusement, 4 = meditation, 5/6/7 = should be ignored in this dataset.\n",
    "def plot_labels(signal):\n",
    "    fs = 700\n",
    "    labels = signal.get_labels()\n",
    "    t=np.arange(0,labels.size*(1/fs),(1/fs))\n",
    "    t=t[:labels.size]\n",
    "    plt.plot(t, labels)\n",
    "    plt.title('Labels vs time')\n",
    "    plt.ylabel('label')\n",
    "    plt.xlabel('time(ms)')\n",
    "    plt.plot(labels)\n",
    "    return labels"
   ]
  },
  {
   "cell_type": "code",
   "execution_count": 9,
   "metadata": {},
   "outputs": [],
   "source": [
    "# Function that get a samples of 10 times the fs of an ecg signal\n",
    "def get_samples_signal(signal, labels, label, fs):\n",
    "    chest_data_dict = signal.get_chest_data()\n",
    "    baseline = np.asarray([idx for idx,val in enumerate(labels) if val == label])\n",
    "\n",
    "    ecg_base=chest_data_dict['ECG'][baseline,0]\n",
    "    indexes = np.arange(0,len(baseline)-7000,1)\n",
    "\n",
    "    index = random.choice(indexes)\n",
    "\n",
    "    # cut a smaller window\n",
    "    ecg=ecg_base[index:index+ 10*fs]\n",
    "    t=np.arange(0,ecg.size*(1/fs),(1/fs))\n",
    "    t=t[:ecg.size]\n",
    "\n",
    "    # plt.figure(figsize=(12,4))\n",
    "    # plt.plot(t,ecg)\n",
    "    # plt.xlabel('$Time (s)$') \n",
    "    # plt.ylabel('$ECG$') \n",
    "    return ecg"
   ]
  },
  {
   "cell_type": "code",
   "execution_count": 3,
   "metadata": {},
   "outputs": [],
   "source": [
    "# Function that writes a dataframe to an csv file\n",
    "def write_to_csv(df, file):\n",
    "    df.to_csv(index=False)\n",
    "    location = \"C:/Users/riche/Desktop/ECG/\"\n",
    "    path = location + file\n",
    "    os.makedirs(location, exist_ok=True)  \n",
    "    df.to_csv(path)"
   ]
  },
  {
   "cell_type": "code",
   "execution_count": 11,
   "metadata": {},
   "outputs": [],
   "source": [
    "# Function that get samples from all subject and writes it to a csv file\n",
    "def get_samples(label):\n",
    "    fs = 700\n",
    "    df = pd.DataFrame() # create empty data frame\n",
    "\n",
    "    for i in range(2,18): # loop over amount of subject\n",
    "        for a in range(0,3): # three samples per subject\n",
    "            subject = 'S' + str(i)\n",
    "            title = subject + str(a)\n",
    "            print(subject)\n",
    "            if subject != \"S12\": #S12 doenst exist\n",
    "                signal = get_data(subject) \n",
    "                labels = signal.get_labels()\n",
    "                ecg = get_samples_signal(signal, labels, label, fs)\n",
    "                print(len(ecg))\n",
    "                df[title] = ecg\n",
    "                \n",
    "    file = \"out_\" + str(label) + \".csv\"\n",
    "    write_to_csv(df, file)\n",
    "    "
   ]
  },
  {
   "cell_type": "code",
   "execution_count": 44,
   "metadata": {},
   "outputs": [
    {
     "name": "stdout",
     "output_type": "stream",
     "text": [
      "S2\n",
      "7000\n",
      "S2\n",
      "7000\n",
      "S2\n",
      "7000\n",
      "S3\n",
      "7000\n",
      "S3\n",
      "7000\n",
      "S3\n",
      "7000\n",
      "S4\n",
      "7000\n",
      "S4\n",
      "7000\n",
      "S4\n",
      "7000\n",
      "S5\n",
      "7000\n",
      "S5\n",
      "7000\n",
      "S5\n",
      "7000\n",
      "S6\n",
      "7000\n",
      "S6\n",
      "7000\n",
      "S6\n",
      "7000\n",
      "S7\n",
      "7000\n",
      "S7\n",
      "7000\n",
      "S7\n",
      "7000\n",
      "S8\n",
      "7000\n",
      "S8\n",
      "7000\n",
      "S8\n",
      "7000\n",
      "S9\n",
      "7000\n",
      "S9\n",
      "7000\n",
      "S9\n",
      "7000\n",
      "S10\n",
      "7000\n",
      "S10\n",
      "7000\n",
      "S10\n",
      "7000\n",
      "S11\n",
      "7000\n",
      "S11\n",
      "7000\n",
      "S11\n",
      "7000\n",
      "S12\n",
      "S12\n",
      "S12\n",
      "S13\n",
      "7000\n",
      "S13\n",
      "7000\n",
      "S13\n",
      "7000\n",
      "S14\n",
      "7000\n",
      "S14\n",
      "7000\n",
      "S14\n",
      "7000\n",
      "S15\n",
      "7000\n",
      "S15\n",
      "7000\n",
      "S15\n",
      "7000\n",
      "S16\n",
      "7000\n",
      "S16\n",
      "7000\n",
      "S16\n",
      "7000\n",
      "S17\n",
      "7000\n",
      "S17\n",
      "7000\n",
      "S17\n",
      "7000\n"
     ]
    }
   ],
   "source": [
    "label = 4 #1 = baseline, 2 = stress, 3 = amusement, 4 = meditation\n",
    "get_samples(label) # run to get csv file of all the sample signals"
   ]
  },
  {
   "attachments": {},
   "cell_type": "markdown",
   "metadata": {},
   "source": [
    "# **Respiration**"
   ]
  },
  {
   "cell_type": "code",
   "execution_count": 97,
   "metadata": {},
   "outputs": [],
   "source": [
    "# rpeaks, info = nk.ecg_peaks(ecg, sampling_rate=fs)\n",
    "# ecg_rate = nk.ecg_rate(r_peaks_pan, sampling_rate=fs, desired_length=len(ecg))"
   ]
  },
  {
   "cell_type": "code",
   "execution_count": 96,
   "metadata": {},
   "outputs": [],
   "source": [
    "# edr = nk.ecg_rsp(ecg_rate, sampling_rate=fs)\n",
    "# # Visual comparison\n",
    "# nk.signal_plot(edr)"
   ]
  },
  {
   "cell_type": "code",
   "execution_count": 95,
   "metadata": {},
   "outputs": [],
   "source": [
    "# rpeaks, info = nk.ecg_peaks(ecg, sampling_rate=fs)\n",
    "# ecg_rate = nk.ecg_rate(rpeaks, sampling_rate=fs, desired_length=len(ecg))\n",
    "# edr = nk.ecg_rsp(ecg_rate, sampling_rate=fs)\n",
    "# # Visual comparison\n",
    "# nk.signal_plot(edr)"
   ]
  },
  {
   "cell_type": "code",
   "execution_count": 94,
   "metadata": {},
   "outputs": [],
   "source": [
    "# resp=chest_data_dict['Resp'][baseline,0]\n",
    "# resp=resp[10000:10000+ 10*fs]\n",
    "# t=np.arange(0,resp.size*(1/fs),(1/fs))\n",
    "# t=t[:ecg.size]\n",
    "\n",
    "# plt.figure(figsize=(12,4))\n",
    "# plt.plot(t,resp)\n",
    "# plt.xlabel('$Time (s)$') \n",
    "# plt.ylabel('$ECG$') "
   ]
  }
 ],
 "metadata": {
  "kernelspec": {
   "display_name": "Python 3",
   "language": "python",
   "name": "python3"
  },
  "language_info": {
   "codemirror_mode": {
    "name": "ipython",
    "version": 3
   },
   "file_extension": ".py",
   "mimetype": "text/x-python",
   "name": "python",
   "nbconvert_exporter": "python",
   "pygments_lexer": "ipython3",
   "version": "3.10.8"
  },
  "orig_nbformat": 4
 },
 "nbformat": 4,
 "nbformat_minor": 2
}
