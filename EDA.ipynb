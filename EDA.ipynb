{
  "cells": [
    {
      "cell_type": "code",
      "execution_count": null,
      "metadata": {
        "colab": {
          "base_uri": "https://localhost:8080/"
        },
        "id": "8suV7WuuGoCf",
        "outputId": "cf22e7ff-d2d6-4a66-ab07-d88c3b86eb4f"
      },
      "outputs": [
        {
          "name": "stdout",
          "output_type": "stream",
          "text": [
            "Looking in indexes: https://pypi.org/simple, https://us-python.pkg.dev/colab-wheels/public/simple/\n",
            "Requirement already satisfied: biobss in /usr/local/lib/python3.10/dist-packages (0.1.1)\n",
            "Requirement already satisfied: antropy==0.1.4 in /usr/local/lib/python3.10/dist-packages (from biobss) (0.1.4)\n",
            "Requirement already satisfied: cvxopt==1.3.0 in /usr/local/lib/python3.10/dist-packages (from biobss) (1.3.0)\n",
            "Requirement already satisfied: heartpy==1.2.7 in /usr/local/lib/python3.10/dist-packages (from biobss) (1.2.7)\n",
            "Requirement already satisfied: matplotlib==3.5.1 in /usr/local/lib/python3.10/dist-packages (from biobss) (3.5.1)\n",
            "Requirement already satisfied: neurokit2==0.1.7 in /usr/local/lib/python3.10/dist-packages (from biobss) (0.1.7)\n",
            "Requirement already satisfied: numpy==1.22.3 in /usr/local/lib/python3.10/dist-packages (from biobss) (1.22.3)\n",
            "Requirement already satisfied: pandas==1.4.4 in /usr/local/lib/python3.10/dist-packages (from biobss) (1.4.4)\n",
            "Requirement already satisfied: plotly==5.11.0 in /usr/local/lib/python3.10/dist-packages (from biobss) (5.11.0)\n",
            "Requirement already satisfied: plotly-resampler==0.8.2 in /usr/local/lib/python3.10/dist-packages (from biobss) (0.8.2)\n",
            "Requirement already satisfied: py-ecg-detectors==1.3.2 in /usr/local/lib/python3.10/dist-packages (from biobss) (1.3.2)\n",
            "Requirement already satisfied: pyparsing==3.0.7 in /usr/local/lib/python3.10/dist-packages (from biobss) (3.0.7)\n",
            "Requirement already satisfied: PyYAML==6.0 in /usr/local/lib/python3.10/dist-packages (from biobss) (6.0)\n",
            "Requirement already satisfied: scipy==1.9.3 in /usr/local/lib/python3.10/dist-packages (from biobss) (1.9.3)\n",
            "Requirement already satisfied: sphinx-material==0.0.35 in /usr/local/lib/python3.10/dist-packages (from biobss) (0.0.35)\n",
            "Requirement already satisfied: nbformat==4.2.0 in /usr/local/lib/python3.10/dist-packages (from biobss) (4.2.0)\n",
            "Requirement already satisfied: stochastic in /usr/local/lib/python3.10/dist-packages (from antropy==0.1.4->biobss) (0.7.0)\n",
            "Requirement already satisfied: cycler>=0.10 in /usr/local/lib/python3.10/dist-packages (from matplotlib==3.5.1->biobss) (0.11.0)\n",
            "Requirement already satisfied: fonttools>=4.22.0 in /usr/local/lib/python3.10/dist-packages (from matplotlib==3.5.1->biobss) (4.39.3)\n",
            "Requirement already satisfied: kiwisolver>=1.0.1 in /usr/local/lib/python3.10/dist-packages (from matplotlib==3.5.1->biobss) (1.4.4)\n",
            "Requirement already satisfied: packaging>=20.0 in /usr/local/lib/python3.10/dist-packages (from matplotlib==3.5.1->biobss) (23.1)\n",
            "Requirement already satisfied: pillow>=6.2.0 in /usr/local/lib/python3.10/dist-packages (from matplotlib==3.5.1->biobss) (8.4.0)\n",
            "Requirement already satisfied: python-dateutil>=2.7 in /usr/local/lib/python3.10/dist-packages (from matplotlib==3.5.1->biobss) (2.8.2)\n",
            "Requirement already satisfied: ipython-genutils in /usr/local/lib/python3.10/dist-packages (from nbformat==4.2.0->biobss) (0.2.0)\n",
            "Requirement already satisfied: jsonschema!=2.5.0,>=2.4 in /usr/local/lib/python3.10/dist-packages (from nbformat==4.2.0->biobss) (4.3.3)\n",
            "Requirement already satisfied: jupyter-core in /usr/local/lib/python3.10/dist-packages (from nbformat==4.2.0->biobss) (5.3.0)\n",
            "Requirement already satisfied: traitlets>=4.1 in /usr/local/lib/python3.10/dist-packages (from nbformat==4.2.0->biobss) (5.7.1)\n",
            "Requirement already satisfied: scikit-learn in /usr/local/lib/python3.10/dist-packages (from neurokit2==0.1.7->biobss) (1.2.2)\n",
            "Requirement already satisfied: pytz>=2020.1 in /usr/local/lib/python3.10/dist-packages (from pandas==1.4.4->biobss) (2022.7.1)\n",
            "Requirement already satisfied: tenacity>=6.2.0 in /usr/local/lib/python3.10/dist-packages (from plotly==5.11.0->biobss) (8.2.2)\n",
            "Requirement already satisfied: Flask-Cors<4.0.0,>=3.0.10 in /usr/local/lib/python3.10/dist-packages (from plotly-resampler==0.8.2->biobss) (3.0.10)\n",
            "Requirement already satisfied: Werkzeug==2.1.2 in /usr/local/lib/python3.10/dist-packages (from plotly-resampler==0.8.2->biobss) (2.1.2)\n",
            "Requirement already satisfied: dash<3.0.0,>=2.2.0 in /usr/local/lib/python3.10/dist-packages (from plotly-resampler==0.8.2->biobss) (2.9.3)\n",
            "Requirement already satisfied: jupyter-dash>=0.4.2 in /usr/local/lib/python3.10/dist-packages (from plotly-resampler==0.8.2->biobss) (0.4.2)\n",
            "Requirement already satisfied: orjson<4.0.0,>=3.8.0 in /usr/local/lib/python3.10/dist-packages (from plotly-resampler==0.8.2->biobss) (3.8.12)\n",
            "Requirement already satisfied: trace-updater>=0.0.8 in /usr/local/lib/python3.10/dist-packages (from plotly-resampler==0.8.2->biobss) (0.0.9.1)\n",
            "Requirement already satisfied: gatspy in /usr/local/lib/python3.10/dist-packages (from py-ecg-detectors==1.3.2->biobss) (0.3)\n",
            "Requirement already satisfied: pywavelets in /usr/local/lib/python3.10/dist-packages (from py-ecg-detectors==1.3.2->biobss) (1.4.1)\n",
            "Requirement already satisfied: sphinx>=2.0 in /usr/local/lib/python3.10/dist-packages (from sphinx-material==0.0.35->biobss) (3.5.4)\n",
            "Requirement already satisfied: beautifulsoup4 in /usr/local/lib/python3.10/dist-packages (from sphinx-material==0.0.35->biobss) (4.11.2)\n",
            "Requirement already satisfied: python-slugify[unidecode] in /usr/local/lib/python3.10/dist-packages (from sphinx-material==0.0.35->biobss) (8.0.1)\n",
            "Requirement already satisfied: css-html-js-minify in /usr/local/lib/python3.10/dist-packages (from sphinx-material==0.0.35->biobss) (2.5.5)\n",
            "Requirement already satisfied: lxml in /usr/local/lib/python3.10/dist-packages (from sphinx-material==0.0.35->biobss) (4.9.2)\n",
            "Requirement already satisfied: Flask>=1.0.4 in /usr/local/lib/python3.10/dist-packages (from dash<3.0.0,>=2.2.0->plotly-resampler==0.8.2->biobss) (2.1.3)\n",
            "Requirement already satisfied: dash-html-components==2.0.0 in /usr/local/lib/python3.10/dist-packages (from dash<3.0.0,>=2.2.0->plotly-resampler==0.8.2->biobss) (2.0.0)\n",
            "Requirement already satisfied: dash-core-components==2.0.0 in /usr/local/lib/python3.10/dist-packages (from dash<3.0.0,>=2.2.0->plotly-resampler==0.8.2->biobss) (2.0.0)\n",
            "Requirement already satisfied: dash-table==5.0.0 in /usr/local/lib/python3.10/dist-packages (from dash<3.0.0,>=2.2.0->plotly-resampler==0.8.2->biobss) (5.0.0)\n",
            "Requirement already satisfied: Six in /usr/local/lib/python3.10/dist-packages (from Flask-Cors<4.0.0,>=3.0.10->plotly-resampler==0.8.2->biobss) (1.16.0)\n",
            "Requirement already satisfied: attrs>=17.4.0 in /usr/local/lib/python3.10/dist-packages (from jsonschema!=2.5.0,>=2.4->nbformat==4.2.0->biobss) (23.1.0)\n",
            "Requirement already satisfied: pyrsistent!=0.17.0,!=0.17.1,!=0.17.2,>=0.14.0 in /usr/local/lib/python3.10/dist-packages (from jsonschema!=2.5.0,>=2.4->nbformat==4.2.0->biobss) (0.19.3)\n",
            "Requirement already satisfied: requests in /usr/local/lib/python3.10/dist-packages (from jupyter-dash>=0.4.2->plotly-resampler==0.8.2->biobss) (2.27.1)\n",
            "Requirement already satisfied: retrying in /usr/local/lib/python3.10/dist-packages (from jupyter-dash>=0.4.2->plotly-resampler==0.8.2->biobss) (1.3.4)\n",
            "Requirement already satisfied: ipython in /usr/local/lib/python3.10/dist-packages (from jupyter-dash>=0.4.2->plotly-resampler==0.8.2->biobss) (7.34.0)\n",
            "Requirement already satisfied: ipykernel in /usr/local/lib/python3.10/dist-packages (from jupyter-dash>=0.4.2->plotly-resampler==0.8.2->biobss) (5.5.6)\n",
            "Requirement already satisfied: ansi2html in /usr/local/lib/python3.10/dist-packages (from jupyter-dash>=0.4.2->plotly-resampler==0.8.2->biobss) (1.8.0)\n",
            "Requirement already satisfied: nest-asyncio in /usr/local/lib/python3.10/dist-packages (from jupyter-dash>=0.4.2->plotly-resampler==0.8.2->biobss) (1.5.6)\n",
            "Requirement already satisfied: sphinxcontrib-applehelp in /usr/local/lib/python3.10/dist-packages (from sphinx>=2.0->sphinx-material==0.0.35->biobss) (1.0.4)\n",
            "Requirement already satisfied: sphinxcontrib-devhelp in /usr/local/lib/python3.10/dist-packages (from sphinx>=2.0->sphinx-material==0.0.35->biobss) (1.0.2)\n",
            "Requirement already satisfied: sphinxcontrib-jsmath in /usr/local/lib/python3.10/dist-packages (from sphinx>=2.0->sphinx-material==0.0.35->biobss) (1.0.1)\n",
            "Requirement already satisfied: sphinxcontrib-htmlhelp in /usr/local/lib/python3.10/dist-packages (from sphinx>=2.0->sphinx-material==0.0.35->biobss) (2.0.1)\n",
            "Requirement already satisfied: sphinxcontrib-serializinghtml in /usr/local/lib/python3.10/dist-packages (from sphinx>=2.0->sphinx-material==0.0.35->biobss) (1.1.5)\n",
            "Requirement already satisfied: sphinxcontrib-qthelp in /usr/local/lib/python3.10/dist-packages (from sphinx>=2.0->sphinx-material==0.0.35->biobss) (1.0.3)\n",
            "Requirement already satisfied: Jinja2>=2.3 in /usr/local/lib/python3.10/dist-packages (from sphinx>=2.0->sphinx-material==0.0.35->biobss) (3.1.2)\n",
            "Requirement already satisfied: Pygments>=2.0 in /usr/local/lib/python3.10/dist-packages (from sphinx>=2.0->sphinx-material==0.0.35->biobss) (2.14.0)\n",
            "Requirement already satisfied: docutils<0.17,>=0.12 in /usr/local/lib/python3.10/dist-packages (from sphinx>=2.0->sphinx-material==0.0.35->biobss) (0.16)\n",
            "Requirement already satisfied: snowballstemmer>=1.1 in /usr/local/lib/python3.10/dist-packages (from sphinx>=2.0->sphinx-material==0.0.35->biobss) (2.2.0)\n",
            "Requirement already satisfied: babel>=1.3 in /usr/local/lib/python3.10/dist-packages (from sphinx>=2.0->sphinx-material==0.0.35->biobss) (2.12.1)\n",
            "Requirement already satisfied: alabaster<0.8,>=0.7 in /usr/local/lib/python3.10/dist-packages (from sphinx>=2.0->sphinx-material==0.0.35->biobss) (0.7.13)\n",
            "Requirement already satisfied: imagesize in /usr/local/lib/python3.10/dist-packages (from sphinx>=2.0->sphinx-material==0.0.35->biobss) (1.4.1)\n",
            "Requirement already satisfied: setuptools in /usr/local/lib/python3.10/dist-packages (from sphinx>=2.0->sphinx-material==0.0.35->biobss) (67.7.2)\n",
            "Requirement already satisfied: soupsieve>1.2 in /usr/local/lib/python3.10/dist-packages (from beautifulsoup4->sphinx-material==0.0.35->biobss) (2.4.1)\n",
            "Requirement already satisfied: platformdirs>=2.5 in /usr/local/lib/python3.10/dist-packages (from jupyter-core->nbformat==4.2.0->biobss) (3.3.0)\n",
            "Requirement already satisfied: text-unidecode>=1.3 in /usr/local/lib/python3.10/dist-packages (from python-slugify[unidecode]->sphinx-material==0.0.35->biobss) (1.3)\n",
            "Requirement already satisfied: Unidecode>=1.1.1 in /usr/local/lib/python3.10/dist-packages (from python-slugify[unidecode]->sphinx-material==0.0.35->biobss) (1.3.6)\n",
            "Requirement already satisfied: joblib>=1.1.1 in /usr/local/lib/python3.10/dist-packages (from scikit-learn->neurokit2==0.1.7->biobss) (1.2.0)\n",
            "Requirement already satisfied: threadpoolctl>=2.0.0 in /usr/local/lib/python3.10/dist-packages (from scikit-learn->neurokit2==0.1.7->biobss) (3.1.0)\n",
            "Requirement already satisfied: itsdangerous>=2.0 in /usr/local/lib/python3.10/dist-packages (from Flask>=1.0.4->dash<3.0.0,>=2.2.0->plotly-resampler==0.8.2->biobss) (2.1.2)\n",
            "Requirement already satisfied: click>=8.0 in /usr/local/lib/python3.10/dist-packages (from Flask>=1.0.4->dash<3.0.0,>=2.2.0->plotly-resampler==0.8.2->biobss) (8.1.3)\n",
            "Requirement already satisfied: MarkupSafe>=2.0 in /usr/local/lib/python3.10/dist-packages (from Jinja2>=2.3->sphinx>=2.0->sphinx-material==0.0.35->biobss) (2.1.2)\n",
            "Requirement already satisfied: urllib3<1.27,>=1.21.1 in /usr/local/lib/python3.10/dist-packages (from requests->jupyter-dash>=0.4.2->plotly-resampler==0.8.2->biobss) (1.26.15)\n",
            "Requirement already satisfied: certifi>=2017.4.17 in /usr/local/lib/python3.10/dist-packages (from requests->jupyter-dash>=0.4.2->plotly-resampler==0.8.2->biobss) (2022.12.7)\n",
            "Requirement already satisfied: charset-normalizer~=2.0.0 in /usr/local/lib/python3.10/dist-packages (from requests->jupyter-dash>=0.4.2->plotly-resampler==0.8.2->biobss) (2.0.12)\n",
            "Requirement already satisfied: idna<4,>=2.5 in /usr/local/lib/python3.10/dist-packages (from requests->jupyter-dash>=0.4.2->plotly-resampler==0.8.2->biobss) (3.4)\n",
            "Requirement already satisfied: jupyter-client in /usr/local/lib/python3.10/dist-packages (from ipykernel->jupyter-dash>=0.4.2->plotly-resampler==0.8.2->biobss) (6.1.12)\n",
            "Requirement already satisfied: tornado>=4.2 in /usr/local/lib/python3.10/dist-packages (from ipykernel->jupyter-dash>=0.4.2->plotly-resampler==0.8.2->biobss) (6.2)\n",
            "Requirement already satisfied: jedi>=0.16 in /usr/local/lib/python3.10/dist-packages (from ipython->jupyter-dash>=0.4.2->plotly-resampler==0.8.2->biobss) (0.18.2)\n",
            "Requirement already satisfied: decorator in /usr/local/lib/python3.10/dist-packages (from ipython->jupyter-dash>=0.4.2->plotly-resampler==0.8.2->biobss) (4.4.2)\n",
            "Requirement already satisfied: pickleshare in /usr/local/lib/python3.10/dist-packages (from ipython->jupyter-dash>=0.4.2->plotly-resampler==0.8.2->biobss) (0.7.5)\n",
            "Requirement already satisfied: prompt-toolkit!=3.0.0,!=3.0.1,<3.1.0,>=2.0.0 in /usr/local/lib/python3.10/dist-packages (from ipython->jupyter-dash>=0.4.2->plotly-resampler==0.8.2->biobss) (3.0.38)\n",
            "Requirement already satisfied: backcall in /usr/local/lib/python3.10/dist-packages (from ipython->jupyter-dash>=0.4.2->plotly-resampler==0.8.2->biobss) (0.2.0)\n",
            "Requirement already satisfied: matplotlib-inline in /usr/local/lib/python3.10/dist-packages (from ipython->jupyter-dash>=0.4.2->plotly-resampler==0.8.2->biobss) (0.1.6)\n",
            "Requirement already satisfied: pexpect>4.3 in /usr/local/lib/python3.10/dist-packages (from ipython->jupyter-dash>=0.4.2->plotly-resampler==0.8.2->biobss) (4.8.0)\n",
            "Requirement already satisfied: parso<0.9.0,>=0.8.0 in /usr/local/lib/python3.10/dist-packages (from jedi>=0.16->ipython->jupyter-dash>=0.4.2->plotly-resampler==0.8.2->biobss) (0.8.3)\n",
            "Requirement already satisfied: ptyprocess>=0.5 in /usr/local/lib/python3.10/dist-packages (from pexpect>4.3->ipython->jupyter-dash>=0.4.2->plotly-resampler==0.8.2->biobss) (0.7.0)\n",
            "Requirement already satisfied: wcwidth in /usr/local/lib/python3.10/dist-packages (from prompt-toolkit!=3.0.0,!=3.0.1,<3.1.0,>=2.0.0->ipython->jupyter-dash>=0.4.2->plotly-resampler==0.8.2->biobss) (0.2.6)\n",
            "Requirement already satisfied: pyzmq>=13 in /usr/local/lib/python3.10/dist-packages (from jupyter-client->ipykernel->jupyter-dash>=0.4.2->plotly-resampler==0.8.2->biobss) (23.2.1)\n"
          ]
        }
      ],
      "source": [
        "!pip install biobss --upgrade"
      ]
    },
    {
      "cell_type": "code",
      "execution_count": null,
      "metadata": {
        "colab": {
          "base_uri": "https://localhost:8080/",
          "height": 34
        },
        "id": "jJEVuI2jepOE",
        "outputId": "d10eadab-0f18-4082-a526-d440d9e57728"
      },
      "outputs": [],
      "source": [
        "from scipy.signal import butter, iirnotch, lfilter\n",
        "from os import listdir\n",
        "from os.path import isfile, join, isdir\n",
        "import numpy as np\n",
        "import matplotlib.pyplot as plt\n",
        "import scipy.signal\n",
        "import scipy.ndimage\n",
        "import scipy.stats as stats\n",
        "\n",
        "import csv\n",
        "import pickle\n",
        "import pandas as pd\n",
        "\n",
        "import biobss\n",
        "\n",
        "from tqdm import tqdm\n",
        "\n",
        "from google.colab import drive\n",
        "\n",
        "drive.mount('/content/drive')\n",
        "folder_name=\"WESAD\"\n",
        "dataset_path= \"/content/drive/Shareddrives/EPO4_C2/\"+folder_name\n",
        "subject = 'S2'\n",
        "\n",
        "# to get the list of directories in the specified directory.\n",
        "onlydirs = [f for f in listdir(dataset_path) if isdir(join(dataset_path, f))]"
      ]
    },
    {
      "cell_type": "code",
      "execution_count": null,
      "metadata": {
        "id": "NBfSz9jeByY_"
      },
      "outputs": [],
      "source": [
        "class read_data_of_one_subject:\n",
        "    \"\"\"Read data from WESAD dataset\"\"\"\n",
        "    def __init__(self, path, subject):\n",
        "        self.keys = ['label', 'subject', 'signal']\n",
        "        self.signal_keys = ['wrist', 'chest']\n",
        "        self.chest_sensor_keys = ['ACC', 'ECG', 'EDA', 'EMG', 'Resp', 'Temp']\n",
        "        self.wrist_sensor_keys = ['ACC', 'BVP', 'EDA', 'TEMP']\n",
        "        #os.chdir(path)\n",
        "        #os.chdir(subject)\n",
        "        with open(path+'/' + subject +'/'+subject + '.pkl', 'rb') as file:\n",
        "            data = pickle.load(file, encoding='latin1')\n",
        "        self.data = data\n",
        "\n",
        "    def get_labels(self):\n",
        "        return self.data[self.keys[0]]\n",
        "\n",
        "    def get_wrist_data(self):\n",
        "        \"\"\"\"\"\"\n",
        "        #label = self.data[self.keys[0]]\n",
        "        assert subject == self.data[self.keys[1]]\n",
        "        signal = self.data[self.keys[2]]\n",
        "        wrist_data = signal[self.signal_keys[0]]\n",
        "        #wrist_ACC = wrist_data[self.wrist_sensor_keys[0]]\n",
        "        #wrist_ECG = wrist_data[self.wrist_sensor_keys[1]]\n",
        "        return wrist_data\n",
        "\n",
        "    def get_chest_data(self):\n",
        "        \"\"\"\"\"\"\n",
        "        signal = self.data[self.keys[2]]\n",
        "        chest_data = signal[self.signal_keys[1]]\n",
        "        return chest_data"
      ]
    },
    {
      "cell_type": "code",
      "execution_count": null,
      "metadata": {
        "id": "GW5DdC6dB342"
      },
      "outputs": [],
      "source": [
        "# Object instantiation\n",
        "obj_data = {}\n",
        " \n",
        "# Accessing class attributes and method through objects\n",
        "obj_data[subject] = read_data_of_one_subject(dataset_path, subject)"
      ]
    },
    {
      "cell_type": "code",
      "execution_count": null,
      "metadata": {
        "colab": {
          "base_uri": "https://localhost:8080/"
        },
        "id": "8hJa6JKvCz_J",
        "outputId": "f017be76-2b77-4b8e-d33e-a0de13747704"
      },
      "outputs": [],
      "source": [
        "chest_data_dict = obj_data[subject].get_chest_data()\n",
        "chest_dict_length = {key: len(value) for key, value in chest_data_dict.items()}\n",
        "print(chest_dict_length)"
      ]
    },
    {
      "cell_type": "code",
      "execution_count": null,
      "metadata": {
        "colab": {
          "base_uri": "https://localhost:8080/",
          "height": 465
        },
        "id": "6SiaLWeuC3EY",
        "outputId": "e904bdc0-9852-4fa9-c342-59a1d60cf0a3"
      },
      "outputs": [],
      "source": [
        "# Get labels\n",
        "labels = obj_data[subject].get_labels()\n",
        "baseline = np.asarray([idx for idx,val in enumerate(labels) if val == 1])\n",
        "plt.plot(labels)"
      ]
    },
    {
      "cell_type": "code",
      "execution_count": null,
      "metadata": {
        "colab": {
          "base_uri": "https://localhost:8080/",
          "height": 407
        },
        "id": "27sAClYTDIhS",
        "outputId": "f0a2d0c1-e902-4233-dc94-d1989621fc10"
      },
      "outputs": [],
      "source": [
        "eda_base=chest_data_dict['EDA'][baseline,0]\n",
        "sampling_rate=700\n",
        "# cut a smaller window\n",
        "eda=eda_base[:200*sampling_rate]\n",
        "\n",
        "t=np.arange(0,eda.size*(1/sampling_rate),(1/sampling_rate))\n",
        "t=t[:eda.size]\n",
        "\n",
        "plt.figure(figsize=(12,4))\n",
        "plt.plot(t,eda)\n",
        "plt.xlabel('$Time (s)$') \n",
        "plt.ylabel('$EDA$') \n",
        "print(np.max(t))"
      ]
    },
    {
      "cell_type": "code",
      "execution_count": null,
      "metadata": {
        "colab": {
          "base_uri": "https://localhost:8080/",
          "height": 407
        },
        "id": "T7ILLNFTI0KK",
        "outputId": "e1cead65-da5b-45ae-82da-1538e5b340e9"
      },
      "outputs": [],
      "source": [
        "eda_f = biobss.edatools.filter_eda(eda, sampling_rate)\n",
        "\n",
        "plt.figure(figsize=(12,4))\n",
        "plt.plot(t,eda_f)\n",
        "plt.xlabel('$Time (s)$') \n",
        "plt.ylabel('$EDA$') \n",
        "print(np.max(t))"
      ]
    },
    {
      "cell_type": "code",
      "execution_count": null,
      "metadata": {
        "colab": {
          "base_uri": "https://localhost:8080/"
        },
        "id": "WYamevEEMx2k",
        "outputId": "828f5698-a4f3-4b22-aa52-8044bd51ba4c"
      },
      "outputs": [],
      "source": [
        "eda = biobss.edatools.eda_decompose(eda_f, sampling_rate=sampling_rate)\n",
        "tonic = eda.iloc[:,0]\n",
        "phasic = eda.iloc[:,1]\n",
        "print(eda)"
      ]
    },
    {
      "cell_type": "code",
      "execution_count": null,
      "metadata": {
        "colab": {
          "base_uri": "https://localhost:8080/"
        },
        "id": "XbTRNWYANM0M",
        "outputId": "bc88b238-6809-4e57-cc75-bfb62cfeca64"
      },
      "outputs": [],
      "source": [
        "#Features from EDA signal\n",
        "tonic_phase_feat = biobss.edatools.from_decomposed(phasic, tonic, sampling_rate)\n",
        "eda_feat = biobss.edatools.from_signal(eda_f, sampling_rate)\n",
        "eda_freq_feat = biobss.edatools.eda_freq_features(eda)\n",
        "eda_hjorth_feat = biobss.edatools.eda_hjorth_features(eda)\n",
        "eda_sig_feat = biobss.edatools.eda_signal_features(eda)\n",
        "eda_stat_feat = biobss.edatools.eda_stat_features(eda)\n",
        "\n",
        "#Features from tonic\n",
        "tonic_feat = biobss.edatools.from_scl(tonic)\n",
        "\n",
        "#Features from phasic\n",
        "phasic_feat = biobss.edatools.from_scr(phasic)"
      ]
    },
    {
      "cell_type": "code",
      "execution_count": null,
      "metadata": {
        "colab": {
          "base_uri": "https://localhost:8080/"
        },
        "id": "oIxY3MAjOBU3",
        "outputId": "da1237f0-b924-495a-d752-9f149c7090db"
      },
      "outputs": [],
      "source": [
        "print(tonic_phase_feat)"
      ]
    },
    {
      "cell_type": "code",
      "execution_count": null,
      "metadata": {
        "id": "YvKWzIUjO90D"
      },
      "outputs": [],
      "source": [
        "#field_names= ['scr_mean', 'scr_std', 'scr_max', 'scr_min', 'scr_range', 'scr_kurtosis', 'scr_skew', 'scr_momentum', 'scr_activity', 'scr_complexity', 'scr_mobility', 'scr_rms', 'scr_acr_length', 'scr_integral', 'scr_average_power',\n",
        " #             'scr_f1sc', 'scr_f2sc', 'scr_f3sc', 'scr_Energy', 'scr_Entropy', 'scr_max_freq', 'scl_mean', 'scl_std', 'scl_max', 'scl_min', 'scl_range', 'scl_kurtosis', 'scl_skew', 'scl_momentum']"
      ]
    },
    {
      "cell_type": "code",
      "execution_count": null,
      "metadata": {
        "id": "z9lGFhNl-0Bb"
      },
      "outputs": [],
      "source": [
        "############ lowpass filtering\n",
        "# Parameters\n",
        "order = 4\n",
        "frequency = 5\n",
        "sampling_rate = 100\n",
        "frequency = frequency / (sampling_rate / 2)  # Normalize frequency to Nyquist Frequency (Fs/2)."
      ]
    },
    {
      "cell_type": "code",
      "execution_count": null,
      "metadata": {
        "id": "oMvtz7bCey5n"
      },
      "outputs": [],
      "source": [
        "#eda_data = np.empty((0,196639)) \n",
        "#eda_time_data = np.empty((0,196639)) \n",
        "#\n",
        "#for i in range(56):\n",
        "#  sub_ind = i\n",
        "#  # read eda file\n",
        "#  csvpath = dataset_path+'/'+onlydirs[sub_ind]+'/BitalinoGSR.txt'\n",
        "#  # load the txt file\n",
        "#  data = np.loadtxt(csvpath,dtype='str')\n",
        "#  # eda recordings\n",
        "#  eda = data[:,0].astype(float)[:196639][np.newaxis] # slice all the data to the length of the shortest one\n",
        "#  eda_data = np.append(eda_data,eda, axis = 0)\n",
        "#  # timestamps\n",
        "#  eda_time = data[:,1].astype(float)[:196639][np.newaxis] # slice all the data to the length of the shortest one\n",
        "#  eda_time_data = np.append(eda_time, eda_time_data, axis = 0)\n",
        "\n"
      ]
    },
    {
      "cell_type": "code",
      "execution_count": null,
      "metadata": {
        "id": "fLzblaXU-Xxq"
      },
      "outputs": [],
      "source": [
        "# Filtering\n",
        "b, a = scipy.signal.butter(order, frequency)\n",
        "eda_lp = scipy.signal.filtfilt(b, a, eda)\n",
        "\n",
        "################################### Smoothing\n",
        "# hybrid method\n",
        "# step 1\n",
        "size= int(0.75 * sampling_rate)\n",
        "eda_sm0 = scipy.ndimage.uniform_filter1d(eda_lp, size, mode='nearest')\n",
        "\n",
        "# step 2\n",
        "# window\n",
        "kernel=\"parzen\"\n",
        "window = scipy.signal.get_window(kernel, size)\n",
        "w = window / window.sum()\n",
        "\n",
        "eda_sm_l= np.empty((0,196639)) \n",
        "\n",
        "# Extend signal edges to avoid boundary effects.\n",
        "signal_edge_l = eda_sm0[:0]\n",
        "signal_edge_r = eda_sm0[:-1]\n",
        "\n",
        "for i in range(15):\n",
        "  pad_l = np.full(shape=38, fill_value= signal_edge_l[i], dtype= float) # pad with 38 times the first signal value\n",
        "  pad_r = np.full(shape=38, fill_value= signal_edge_r[i], dtype= float) # pad with 38 times the last signal value\n",
        "\n",
        "  eda_sm0_pad = np.concatenate((pad_l, eda_sm0[i], pad_r)) # pad the signal at begin and end\n",
        " \n",
        "  # Compute moving average.\n",
        "  eda_sm = np.convolve(w, eda_sm0_pad)\n",
        "  eda_sm = eda_sm[size:-size]\n",
        "  eda_sm_l = np.append(eda_sm_l, eda_sm[np.newaxis], axis = 0)\n"
      ]
    },
    {
      "cell_type": "code",
      "execution_count": null,
      "metadata": {
        "id": "t5lC5GyOG6-L"
      },
      "outputs": [],
      "source": [
        "################## decompose \n",
        "# Electrodermal Activity (EDA) into Phasic and Tonic components.\n",
        "# Phasic\n",
        "order=5\n",
        "freqs=[0.05 / (sampling_rate)]\n",
        "sos = scipy.signal.butter(order, freqs, btype='highpass', output=\"sos\")\n",
        "phasic= scipy.signal.sosfiltfilt(sos, eda_sm_l)\n",
        "\n",
        "#Tonic\n",
        "sos = scipy.signal.butter(order, freqs, btype='lowpass', output=\"sos\")\n",
        "tonic= scipy.signal.sosfiltfilt(sos, eda_sm_l)"
      ]
    },
    {
      "cell_type": "code",
      "execution_count": null,
      "metadata": {
        "id": "z4RBzr5NmL8G"
      },
      "outputs": [],
      "source": [
        "#fig, ax = plt.subplots(56, 1, figsize=(20, 100))\n",
        "#\n",
        "#for i in range(56):\n",
        "#  eda_data_plot = eda_data[i]\n",
        "#  eda_sm_plot = eda_sm_l[i]\n",
        "#  phasic_plot = phasic[i]\n",
        "#  tonic_plot = tonic[i]\n",
        "#  t=np.arange(0,eda_time_data[i].size*0.01,0.01)\n",
        "#  t=t[:eda.size]\n",
        "#\n",
        "#  ax[i].plot(t,eda_sm_plot)\n",
        "#  ax[i].plot(t,phasic_plot)\n",
        "#  ax[i].plot(t,tonic_plot)\n",
        "#  # labels and titles\n",
        "#  ax[i].set_xlabel('$Time (s)$') \n",
        "#  ax[i].set_ylabel('$EDA$') \n",
        "#\n",
        "#  # saving the figure as png\n",
        "#  #plt.savefig('eda.png', dpi=300)"
      ]
    },
    {
      "cell_type": "code",
      "execution_count": null,
      "metadata": {
        "id": "MtGLrAmbH06C"
      },
      "outputs": [],
      "source": [
        "onset_l = np.empty((0,56)) \n",
        "hrt_time_l = np.empty((0,56)) \n",
        "\n",
        "for i in range(56): \n",
        "  peaks, properties = scipy.signal.find_peaks(phasic[i])\n",
        "  heights, left_bases, right_bases = scipy.signal.peak_prominences(phasic[i], peaks)\n",
        "  widths, width_heights, left_ips, __ = scipy.signal.peak_widths(phasic[i], peaks, rel_height=0.9)\n",
        "  __, __, __, right_ips = scipy.signal.peak_widths(phasic[i], peaks, rel_height=0.5)\n",
        "\n",
        "  # find the indices with an amplitude larger that 0.1\n",
        "  keep = np.full(len(peaks), True)\n",
        "  amplitude_min=0.1\n",
        "  keep[heights<amplitude_min] = False\n",
        "\n",
        "  # only keep those \n",
        "  peaks=peaks[keep]\n",
        "  heights=heights[keep]\n",
        "  widths=widths[keep]\n",
        "  left_bases = left_bases[keep]\n",
        "  right_bases = right_bases[keep]\n",
        "  width_heights = width_heights[keep]\n",
        "  left_ips = left_ips[keep]\n",
        "  right_ips = right_ips[keep]\n",
        "\n",
        "  onset = left_ips.astype(int) / sampling_rate\n",
        "  onset_index = left_ips.astype(int)\n",
        "  onset_l = np.append(onset_l,onset[:56][np.newaxis], axis = 0)\n",
        "  #print(\"Onset time is\\n\",onset)\n",
        "\n",
        "  hrt = right_ips.astype(int) / sampling_rate\n",
        "  hrt_index = right_ips.astype(int)\n",
        "  hrt_time = (hrt_index - peaks) / sampling_rate\n",
        "  hrt_time_l = np.append(hrt_time_l,hrt_time[:56][np.newaxis], axis = 0)\n",
        "  #print(\"Half recovery time is\\n\",hrt_time)\n",
        "\n",
        "  ### plot\n",
        "  #t=np.arange(0,eda_time_data[i].size*0.01,0.01)\n",
        "  #t=t[:eda.size]\n",
        "#\n",
        "  #plt.figure(figsize=(25,2))\n",
        "  #plt.plot(t,phasic[i],label='phasic')\n",
        "  #plt.plot(t[peaks],phasic[i,peaks],'o',label='peaks')\n",
        "  #plt.plot(onset, phasic[i,onset_index],'x',label='onset')\n",
        "  #plt.plot(hrt, phasic[i,hrt_index],'x',label='half recovery')\n",
        "  ## labels and titles\n",
        "  #plt.xlabel('$Time (s)$') \n",
        "  #plt.ylabel('$EDA$') \n",
        "  #plt.legend()"
      ]
    },
    {
      "cell_type": "code",
      "execution_count": null,
      "metadata": {
        "id": "FRjxyHSP7Ayk"
      },
      "outputs": [],
      "source": [
        "mean = np.mean(hrt_time_l, axis= 1)\n",
        "min = np.amin(hrt_time_l, axis= 1)\n",
        "max = np.amax(hrt_time_l, axis= 1)\n",
        "print(mean)\n",
        "print(min)\n",
        "print(max)"
      ]
    }
  ],
  "metadata": {
    "colab": {
      "provenance": []
    },
    "kernelspec": {
      "display_name": "Python 3",
      "name": "python3"
    },
    "language_info": {
      "name": "python"
    }
  },
  "nbformat": 4,
  "nbformat_minor": 0
}
