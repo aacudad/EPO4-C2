{
 "cells": [
  {
   "cell_type": "code",
   "execution_count": 1,
   "metadata": {},
   "outputs": [],
   "source": [
    "import os\n",
    "import pandas as pd"
   ]
  },
  {
   "cell_type": "code",
   "execution_count": 2,
   "metadata": {},
   "outputs": [],
   "source": [
    "# Function that writes a dataframe to an csv file\n",
    "def write_to_csv(df, file):\n",
    "    df.to_csv(index=False)\n",
    "    location = \"C:/Users/riche/OneDrive/Documenten/Github/EPO4-C2/\"\n",
    "    path = location + file\n",
    "    os.makedirs(location, exist_ok=True)  \n",
    "    df.to_csv(path)"
   ]
  },
  {
   "cell_type": "code",
   "execution_count": 3,
   "metadata": {},
   "outputs": [],
   "source": [
    "# Function that reads a csv file and outputs a data frame\n",
    "def read_from_csv(file):\n",
    "    data_frame = pd.read_csv(file, sep=\",\")\n",
    "    return data_frame"
   ]
  }
 ],
 "metadata": {
  "kernelspec": {
   "display_name": "Python 3",
   "language": "python",
   "name": "python3"
  },
  "language_info": {
   "codemirror_mode": {
    "name": "ipython",
    "version": 3
   },
   "file_extension": ".py",
   "mimetype": "text/x-python",
   "name": "python",
   "nbconvert_exporter": "python",
   "pygments_lexer": "ipython3",
   "version": "3.9.0"
  },
  "orig_nbformat": 4
 },
 "nbformat": 4,
 "nbformat_minor": 2
}
