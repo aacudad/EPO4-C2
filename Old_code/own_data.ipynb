{
 "cells": [
  {
   "cell_type": "code",
   "execution_count": 7,
   "metadata": {},
   "outputs": [],
   "source": [
    "import numpy as np\n",
    "import pandas as pd\n",
    "import matplotlib.pyplot as plt\n",
    "import pickle\n",
    "import neurokit2 as nk\n",
    "from sklearn.preprocessing import StandardScaler\n",
    "from sklearn.linear_model import LogisticRegression\n",
    "from sklearn import svm\n",
    "from sklearn.model_selection import train_test_split\n",
    "from sklearn.preprocessing import StandardScaler\n",
    "from tensorflow.keras.utils import to_categorical\n",
    "from tensorflow.keras.models import Sequential\n",
    "from tensorflow.keras.layers import Dense, Dropout\n",
    "from tensorflow.keras.optimizers import Adam\n",
    "from sklearn.ensemble import AdaBoostClassifier\n",
    "import pyhrv.time_domain as td\n",
    "import pywt\n",
    "import ipynb\n",
    "import matplotlib.pyplot as plt\n",
    "import pickle\n",
    "import pyhrv\n",
    "import ipynb\n",
    "from sklearn.feature_selection import VarianceThreshold\n",
    "from sklearn.preprocessing import MinMaxScaler\n",
    "from sklearn.feature_selection import SelectKBest\n",
    "from sklearn.feature_selection import chi2\n",
    "from mlxtend.feature_selection import SequentialFeatureSelector as SFS\n",
    "from sklearn.feature_selection import SelectFromModel\n",
    "from sklearn.linear_model import LogisticRegression\n",
    "from sklearn.ensemble import RandomForestClassifier\n",
    "from lightgbm import LGBMClassifier\n",
    "from sklearn.tree import DecisionTreeClassifier\n",
    "import xgboost as xgb\n",
    "from sklearn.metrics import mean_squared_error\n",
    "\n",
    "# functions for features extraction\n",
    "from ipynb.fs.full.ECG_features import get_ecgfeatures\n",
    "from ipynb.fs.full.EDA import get_edaindex, get_edafeatures\n",
    "from ipynb.fs.full.BVP import get_bvpfeatures, bvp_prep"
   ]
  },
  {
   "attachments": {},
   "cell_type": "markdown",
   "metadata": {},
   "source": [
    "Get train data from dataset"
   ]
  },
  {
   "cell_type": "code",
   "execution_count": 2,
   "metadata": {},
   "outputs": [
    {
     "name": "stderr",
     "output_type": "stream",
     "text": [
      "c:\\Users\\riche\\OneDrive\\Documenten\\GitHub\\EPO4-C2\\BVP.ipynb:46: SettingWithCopyWarning: \n",
      "A value is trying to be set on a copy of a slice from a DataFrame\n",
      "\n",
      "See the caveats in the documentation: https://pandas.pydata.org/pandas-docs/stable/user_guide/indexing.html#returning-a-view-versus-a-copy\n",
      "  \"    features_event.reset_index(drop=True, inplace=True)\\n\",\n"
     ]
    }
   ],
   "source": [
    "features = pd.read_csv(\"out_features.csv\", index_col=0)\n",
    "features = bvp_prep(features)"
   ]
  },
  {
   "cell_type": "code",
   "execution_count": 3,
   "metadata": {},
   "outputs": [
    {
     "name": "stdout",
     "output_type": "stream",
     "text": [
      "402 402\n"
     ]
    }
   ],
   "source": [
    "num_features = 25\n",
    "y = features['y']\n",
    "X_total = features.drop(['y', 'index', 'PPG_Rate_Mean'], axis=1)\n",
    "print(len(y), len(X_total))"
   ]
  },
  {
   "attachments": {},
   "cell_type": "markdown",
   "metadata": {},
   "source": [
    "Feature selection"
   ]
  },
  {
   "cell_type": "code",
   "execution_count": 4,
   "metadata": {},
   "outputs": [],
   "source": [
    "# LASSO\n",
    "num_feats = num_features\n",
    "scaler = StandardScaler().fit(X_total)\n",
    "X_train = scaler.transform(X_total)\n",
    "embeded_lr_selector = SelectFromModel(LogisticRegression(C=1, penalty=\"l1\", solver='liblinear'), max_features=num_feats)\n",
    "embeded_lr_selector.fit(scaler.transform(X_total), y)\n",
    "\n",
    "embeded_lr_support = embeded_lr_selector.get_support()\n",
    "embeded_lr_feature = X_total.loc[:,embeded_lr_support].columns.tolist()"
   ]
  },
  {
   "attachments": {},
   "cell_type": "markdown",
   "metadata": {},
   "source": [
    "Classifier"
   ]
  },
  {
   "cell_type": "code",
   "execution_count": 5,
   "metadata": {},
   "outputs": [],
   "source": [
    "def svm_func(X_train, y_train):\n",
    "    # define the model\n",
    "    svm_model = svm.SVC()\n",
    "\n",
    "    # fit/train the model on all features\n",
    "    svm_model.fit(X_train, y_train)\n",
    "    # Y_test_pred = svm_model.predict(X_test)\n",
    "\n",
    "    # # score\n",
    "    # svm_score = svm_model.score(X_test,y_test)\n",
    "    return svm_model #, Y_test_pred, svm_score"
   ]
  },
  {
   "attachments": {},
   "cell_type": "markdown",
   "metadata": {},
   "source": [
    "Create model"
   ]
  },
  {
   "cell_type": "code",
   "execution_count": 6,
   "metadata": {},
   "outputs": [],
   "source": [
    "X_train = features\n",
    "y_train = X_train['y']\n",
    "X_train = X_train.drop(['y', 'index'], axis=1)\n",
    "X_train = X_train[list(embeded_lr_feature)]\n",
    "\n",
    "# fit the data\n",
    "scaler = StandardScaler().fit(X_train)\n",
    "X_train = scaler.transform(X_train)\n",
    "\n",
    "# Get model\n",
    "svm_model = svm_func(X_train, y_train)\n",
    "# Get the score"
   ]
  },
  {
   "attachments": {},
   "cell_type": "markdown",
   "metadata": {},
   "source": [
    "Read measured data from csv"
   ]
  },
  {
   "cell_type": "code",
   "execution_count": 4,
   "metadata": {},
   "outputs": [],
   "source": [
    "columns_ecg =['index', 'ecg_HR_mean', 'ecg_HR_min', 'ecg_HR_max', 'ecg_HR_std', 'ecg_SDNN', 'ecg_SDANN', 'ecg_RMSSD', \n",
    "                                           'ecg_SDSD','ecg_pNN50', 'ecg_pNN20', \"ecg_triangular_index\", \"ecg_tinn\", \"ecg_sd1\", \"ecg_sd2\",\n",
    "                                            \"ecg_ratio_sd2_sd1\", 'ecg_abs_power_VLF', 'ecg_abs_power_LF', 'ecg_abs_power_HF', 'ecg_tot_power',\n",
    "                                            'ecg_LF/HF', 'ecg_peak_vlf', 'ecg_peak_lf', 'ecg_peak_hf', 'ecg_norm_power_LF', 'ecg_norm_power_HF',\n",
    "                                            'max_cwt_absmean', 'min_cwt_absmean', 'mean_cwt_absmean','std_cwt_absmean', \n",
    "                                            'max_cwt_std', 'min_cwt_std', 'mean_cwt_std','std_cwt_std',\n",
    "                                            'max_cwt_energy', 'min_cwt_energy', 'mean_cwt_energy','std_cwt_energy',\n",
    "                                            'max_cwt_var', 'min_cwt_var', 'mean_cwt_var','std_cwt_var',\n",
    "                                            'entropy']\n",
    "columns_resp = ['RSP_Rate_Mean','RRV_RMSSD', 'RRV_MeanBB', 'RRV_SDBB', 'RRV_SDSD', 'RRV_CVBB', 'RRV_CVSD', 'RRV_MedianBB',\n",
    "                'RRV_MadBB', 'RRV_MCVBB', 'RRV_VLF', 'RRV_LF', 'RRV_HF', 'RRV_LFHF', 'RRV_LFn', 'RRV_HFn', 'RRV_SD1',\n",
    "                'RRV_SD2', 'RRV_SD2SD1', 'RRV_ApEn', 'RRV_SampEn', 'RSP_Amplitude_Mean', 'RSP_RVT', 'RSP_Symmetry_PeakTrough',\n",
    "                'RSP_Symmetry_RiseDecay', 'RSP_Phase_Duration_Inspiration', 'RSP_Phase_Duration_Expiration', 'RSP_Phase_Duration_Ratio']\n",
    "\n",
    "columns = [*columns_ecg, *columns_resp]\n",
    "meas_ecgfeatures = pd.DataFrame(None, columns= columns)\n",
    "meas_edafeatures = None\n",
    "meas_bvpfeatures = None\n",
    "\n",
    "fs = 400 # sampling frequency\n",
    "duration = 45"
   ]
  },
  {
   "cell_type": "code",
   "execution_count": 9,
   "metadata": {},
   "outputs": [
    {
     "name": "stdout",
     "output_type": "stream",
     "text": [
      "0 7155\n"
     ]
    }
   ],
   "source": [
    "data = pd.read_csv(\"Stacey-nultest_1.csv\")\n",
    "\n",
    "ecg_base = data['ECG Data']\n",
    "eda_base = data['GSR Data']\n",
    "t = data['TimeStamp']\n",
    "bvp_base = data['PPG_Red Data']\n",
    "\n",
    "ecg_base = ecg_base[20:]\n",
    "eda_base = eda_base[20:]\n",
    "bvp_base = bvp_base[20:]\n",
    "\n",
    "# Multiple smaller samples per signal\n",
    "# samples = 10 # specify amount of samples\n",
    "n_samples = duration * fs\n",
    "for j in range(t[len(t)-1]//n_samples): # loop over all segments\n",
    "    # Cutting the signal into a segment\n",
    "    start, end = j*fs*duration, (j+1)*fs*duration\n",
    "    start = t.index[t>=start][0]\n",
    "    end = t.index[t<=end][-1]\n",
    "    print(start, end)\n",
    "    ecg = ecg_base[start:end]\n",
    "    eda = eda_base[start:end]\n",
    "    bvp = bvp_base[start:end]\n",
    "    \n",
    "    # getting the eda and ecg features\n",
    "    index = str(j)\n",
    "\n",
    "    tonic, phasic, start, end = get_edaindex(eda, fs)\n",
    "    meas_edafeatures = get_edafeatures(index, meas_edafeatures, phasic, tonic, fs)\n",
    "    meas_ecgfeatures = get_ecgfeatures(ecg, fs, meas_ecgfeatures, index)\n",
    "    \n",
    "    bvpfeature = get_bvpfeatures(bvp, fs, index)\n",
    "    meas_bvpfeatures = pd.concat([meas_bvpfeatures, bvpfeature], axis=0)"
   ]
  },
  {
   "cell_type": "code",
   "execution_count": 11,
   "metadata": {},
   "outputs": [
    {
     "name": "stderr",
     "output_type": "stream",
     "text": [
      "c:\\Users\\riche\\OneDrive\\Documenten\\GitHub\\EPO4-C2\\BVP.ipynb:46: SettingWithCopyWarning: \n",
      "A value is trying to be set on a copy of a slice from a DataFrame\n",
      "\n",
      "See the caveats in the documentation: https://pandas.pydata.org/pandas-docs/stable/user_guide/indexing.html#returning-a-view-versus-a-copy\n",
      "  \"    features_event.reset_index(drop=True, inplace=True)\\n\",\n",
      "c:\\Users\\riche\\OneDrive\\Documenten\\GitHub\\EPO4-C2\\BVP.ipynb:48: SettingWithCopyWarning: \n",
      "A value is trying to be set on a copy of a slice from a DataFrame\n",
      "\n",
      "See the caveats in the documentation: https://pandas.pydata.org/pandas-docs/stable/user_guide/indexing.html#returning-a-view-versus-a-copy\n",
      "  \"    features_bvp = pd.concat([features_event, features], axis = 1)\\n\",\n"
     ]
    },
    {
     "data": {
      "text/html": [
       "<div>\n",
       "<style scoped>\n",
       "    .dataframe tbody tr th:only-of-type {\n",
       "        vertical-align: middle;\n",
       "    }\n",
       "\n",
       "    .dataframe tbody tr th {\n",
       "        vertical-align: top;\n",
       "    }\n",
       "\n",
       "    .dataframe thead th {\n",
       "        text-align: right;\n",
       "    }\n",
       "</style>\n",
       "<table border=\"1\" class=\"dataframe\">\n",
       "  <thead>\n",
       "    <tr style=\"text-align: right;\">\n",
       "      <th></th>\n",
       "      <th>level_0</th>\n",
       "      <th>PPG_Rate_Baseline</th>\n",
       "      <th>PPG_Rate_Max</th>\n",
       "      <th>PPG_Rate_Min</th>\n",
       "      <th>PPG_Rate_Mean</th>\n",
       "      <th>PPG_Rate_SD</th>\n",
       "      <th>PPG_Rate_Max_Time</th>\n",
       "      <th>PPG_Rate_Min_Time</th>\n",
       "      <th>PPG_Rate_Trend_Linear</th>\n",
       "      <th>PPG_Rate_Trend_Quadratic</th>\n",
       "      <th>...</th>\n",
       "      <th>scr_Entropy</th>\n",
       "      <th>scr_max_freq</th>\n",
       "      <th>scl_mean</th>\n",
       "      <th>scl_std</th>\n",
       "      <th>scl_max</th>\n",
       "      <th>scl_min</th>\n",
       "      <th>scl_range</th>\n",
       "      <th>scl_kurtosis</th>\n",
       "      <th>scl_skew</th>\n",
       "      <th>scl_momentum</th>\n",
       "    </tr>\n",
       "  </thead>\n",
       "  <tbody>\n",
       "    <tr>\n",
       "      <th>0</th>\n",
       "      <td>0</td>\n",
       "      <td>92.294039</td>\n",
       "      <td>34.02175</td>\n",
       "      <td>-4.182423</td>\n",
       "      <td>3.535079</td>\n",
       "      <td>9.823779</td>\n",
       "      <td>0.52031</td>\n",
       "      <td>1.9</td>\n",
       "      <td>7.693279</td>\n",
       "      <td>5.578761</td>\n",
       "      <td>...</td>\n",
       "      <td>8457.926604</td>\n",
       "      <td>-0.0625</td>\n",
       "      <td>200.163448</td>\n",
       "      <td>12.4175</td>\n",
       "      <td>216.463694</td>\n",
       "      <td>183.127042</td>\n",
       "      <td>33.336652</td>\n",
       "      <td>-1.608117</td>\n",
       "      <td>-0.00049</td>\n",
       "      <td>154.19431</td>\n",
       "    </tr>\n",
       "  </tbody>\n",
       "</table>\n",
       "<p>1 rows × 177 columns</p>\n",
       "</div>"
      ],
      "text/plain": [
       "   level_0  PPG_Rate_Baseline  PPG_Rate_Max  PPG_Rate_Min  PPG_Rate_Mean  \\\n",
       "0        0          92.294039      34.02175     -4.182423       3.535079   \n",
       "\n",
       "   PPG_Rate_SD  PPG_Rate_Max_Time  PPG_Rate_Min_Time  PPG_Rate_Trend_Linear  \\\n",
       "0     9.823779            0.52031                1.9               7.693279   \n",
       "\n",
       "   PPG_Rate_Trend_Quadratic  ...  scr_Entropy  scr_max_freq    scl_mean  \\\n",
       "0                  5.578761  ...  8457.926604       -0.0625  200.163448   \n",
       "\n",
       "   scl_std     scl_max     scl_min  scl_range  scl_kurtosis  scl_skew  \\\n",
       "0  12.4175  216.463694  183.127042  33.336652     -1.608117  -0.00049   \n",
       "\n",
       "   scl_momentum  \n",
       "0     154.19431  \n",
       "\n",
       "[1 rows x 177 columns]"
      ]
     },
     "execution_count": 11,
     "metadata": {},
     "output_type": "execute_result"
    }
   ],
   "source": [
    "bvp_filt = bvp_prep(meas_bvpfeatures)\n",
    "\n",
    "features1 = pd.merge(meas_ecgfeatures, meas_edafeatures, left_index=True, right_index=True)\n",
    "total_features = pd.merge(bvp_filt, features1, on='index')\n",
    "# features1\n",
    "total_features = total_features[total_features.RSP_RVT != 0.0]\n",
    "total_features"
   ]
  },
  {
   "cell_type": "code",
   "execution_count": 62,
   "metadata": {},
   "outputs": [
    {
     "name": "stdout",
     "output_type": "stream",
     "text": [
      "HRV_MFDFA_alpha2_Delta\n"
     ]
    }
   ],
   "source": [
    "# for feat in embeded_lr_feature:\n",
    "#     if feat not in features1:\n",
    "#         embeded_lr_feature.remove(feat)\n",
    "\n",
    "meas_features = features1[embeded_lr_feature]"
   ]
  },
  {
   "cell_type": "code",
   "execution_count": 65,
   "metadata": {},
   "outputs": [
    {
     "name": "stderr",
     "output_type": "stream",
     "text": [
      "c:\\Users\\riche\\AppData\\Local\\Programs\\Python\\Python39\\lib\\site-packages\\sklearn\\base.py:432: UserWarning: X has feature names, but SVC was fitted without feature names\n",
      "  warnings.warn(\n"
     ]
    },
    {
     "data": {
      "text/plain": [
       "array([1], dtype=int64)"
      ]
     },
     "execution_count": 65,
     "metadata": {},
     "output_type": "execute_result"
    }
   ],
   "source": [
    "svm_model.predict(meas_features)"
   ]
  }
 ],
 "metadata": {
  "kernelspec": {
   "display_name": "Python 3",
   "language": "python",
   "name": "python3"
  },
  "language_info": {
   "codemirror_mode": {
    "name": "ipython",
    "version": 3
   },
   "file_extension": ".py",
   "mimetype": "text/x-python",
   "name": "python",
   "nbconvert_exporter": "python",
   "pygments_lexer": "ipython3",
   "version": "3.9.0"
  },
  "orig_nbformat": 4
 },
 "nbformat": 4,
 "nbformat_minor": 2
}
