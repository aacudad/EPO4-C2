{
 "cells": [
  {
   "cell_type": "code",
   "execution_count": null,
   "metadata": {},
   "outputs": [],
   "source": [
    "from scipy import signal\n",
    "import matplotlib.pyplot as plt\n",
    "import neurokit2 as nk\n",
    "import pyhrv.frequency_domain as fd\n",
    "import pyhrv.time_domain as td\n",
    "\n",
    "from ipynb.fs.full.get_samples import get_data, get_samples_signal\n",
    "from ipynb.fs.full.ECG_features import filter_ecgsignal"
   ]
  },
  {
   "cell_type": "code",
   "execution_count": null,
   "metadata": {},
   "outputs": [],
   "source": [
    "fs =700\n",
    "subject ='S2'\n",
    "label = 2\n",
    "data = get_data(subject)\n",
    "labels = data.get_labels()\n",
    "ecg, resp, eda_base = get_samples_signal(data, labels, label, fs)\n",
    "\n",
    "filtered_ecg = filter_ecgsignal(ecg, fs)\n",
    "rpeaks, info = nk.ecg_peaks(ecg, sampling_rate=fs)\n",
    "ecg_rate = nk.ecg_rate(rpeaks, sampling_rate=fs, desired_length=len(ecg))\n",
    "edr = nk.ecg_rsp(ecg_rate, sampling_rate=fs)\n",
    "resp_peaks1, _ = signal.find_peaks(edr, height=0, distance=4)\n",
    "nk.signal_plot(edr)"
   ]
  },
  {
   "cell_type": "code",
   "execution_count": null,
   "metadata": {},
   "outputs": [],
   "source": [
    "from scipy.interpolate import splrep, splev\n",
    "\n",
    "ecg_td = td.ecg(ecg, interactive= False, show = False, sampling_rate=700)\n",
    "rr = ecg_td['rpeaks']\n",
    "filtered_ecg = ecg_td['filtered']\n",
    "\n",
    "fs = 700\n",
    "# rr = rpeaks\n",
    "rr = (rr / fs) * 1000\n",
    "rri = np.diff(rr)\n",
    "print(rri)\n",
    "\n",
    "def interp_cubic_spline(rri, sf_up=4):\n",
    "    rri_time = np.cumsum(rri) / 1000.0\n",
    "    time_rri = rri_time - rri_time[0]\n",
    "    time_rri_interp = np.arange(0, time_rri[-1], 1 / float(sf_up))\n",
    "    tck = splrep(time_rri, rri, s=0)\n",
    "    rri_interp = splev(time_rri_interp, tck, der=0)\n",
    "    return rri_interp\n",
    "\n",
    "sf_up = 4\n",
    "rri_interp = interp_cubic_spline(rri, sf_up) \n",
    "hr = 1000 * (60 / rri_interp)\n",
    "print('Mean HR: %.2f bpm' % np.mean(hr))\n",
    "\n",
    "# Detrend and normalize\n",
    "edr = signal.detrend(hr)\n",
    "edr = (edr - edr.mean()) / edr.std()\n",
    "\n",
    "# Find respiratory peaks\n",
    "resp_peaks, _ = signal.find_peaks(edr, height=0, distance=sf_up)\n",
    "\n",
    "# Convert to seconds\n",
    "resp_peaks = resp_peaks\n",
    "resp_peaks_diff = np.diff(resp_peaks) / sf_up\n",
    "\n",
    "# Plot the EDR waveform\n",
    "plt.plot(edr)\n",
    "plt.plot(resp_peaks, edr[resp_peaks], 'o')\n",
    "_ = plt.title('ECG derived respiration')"
   ]
  },
  {
   "cell_type": "code",
   "execution_count": null,
   "metadata": {},
   "outputs": [],
   "source": [
    "# rpeaks, info = nk.ecg_peaks(resp, sampling_rate=fs)\n",
    "resp_peaks2, _ = signal.find_peaks(resp, height=2, distance=30)\n",
    "maxi = 0\n",
    "begini = 0\n",
    "peaks = []\n",
    "\n",
    "for i in range(len(resp_peaks2)):\n",
    "    if resp_peaks2[i] >= resp_peaks2[begini] + 400:\n",
    "        begini = i\n",
    "        peaks.append(resp_peaks2[maxi])\n",
    "        maxi = i\n",
    "\n",
    "    if resp[resp_peaks2[i]]> resp[resp_peaks2[maxi]]:\n",
    "        maxi = i\n",
    "\n",
    "print(peaks)\n",
    "plt.figure(figsize=(8,6))\n",
    "plt.plot(resp)\n",
    "plt.plot(peaks, resp[peaks], 'o')"
   ]
  },
  {
   "cell_type": "code",
   "execution_count": null,
   "metadata": {},
   "outputs": [],
   "source": [
    "print(len(resp_peaks1),len(resp_peaks2))\n",
    "print(peaks)\n",
    "print(resp_peaks1, resp_peaks)"
   ]
  }
 ],
 "metadata": {
  "language_info": {
   "name": "python"
  },
  "orig_nbformat": 4
 },
 "nbformat": 4,
 "nbformat_minor": 2
}
