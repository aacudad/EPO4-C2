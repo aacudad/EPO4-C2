{
 "cells": [
  {
   "cell_type": "code",
   "execution_count": 12,
   "metadata": {},
   "outputs": [],
   "source": [
    "import os\n",
    "import numpy as np\n",
    "from scipy.signal import butter, iirnotch, lfilter\n",
    "import numpy as np\n",
    "from scipy import signal\n",
    "import matplotlib.pyplot as plt\n",
    "# import neurokit2 as nk\n",
    "import pandas as pd\n",
    "from ecgdetectors import Detectors"
   ]
  },
  {
   "cell_type": "code",
   "execution_count": 13,
   "metadata": {},
   "outputs": [],
   "source": [
    "# Function that reads a csv file and outputs a data frame\n",
    "def read_from_csv(file):\n",
    "    data_frame = pd.read_csv(file, sep=\",\")\n",
    "    return data_frame"
   ]
  },
  {
   "cell_type": "code",
   "execution_count": 14,
   "metadata": {},
   "outputs": [],
   "source": [
    "# Function that writes a data frame to a csv file\n",
    "def write_to_csv(df, file):\n",
    "    df.to_csv(index=False)\n",
    "    location = \"C:/Users/riche/Desktop/ECG/\"\n",
    "    path = location + file\n",
    "    os.makedirs(location, exist_ok=True)  \n",
    "    df.to_csv(path)"
   ]
  },
  {
   "cell_type": "code",
   "execution_count": 15,
   "metadata": {},
   "outputs": [],
   "source": [
    "# filtering\n",
    "def filter_signal(ecg, fs):\n",
    "    nyq = 0.5*fs\n",
    "    order=5\n",
    "\n",
    "    # highpass filter\n",
    "    high=0.5\n",
    "    high= high/nyq\n",
    "    b, a = butter(order, high, 'highpass')\n",
    "    ecg_h = lfilter(b,a,ecg)\n",
    "\n",
    "    # lowpass filter\n",
    "    low = 70\n",
    "    low= low/nyq\n",
    "    b, a = butter(order, low, 'lowpass')\n",
    "    ecg_hl = lfilter(b,a,ecg_h)\n",
    "\n",
    "    # notch filter\n",
    "    notch=50\n",
    "    notch = notch/nyq\n",
    "    b, a = iirnotch(notch, 30, fs)\n",
    "    ecg_hln = lfilter(b,a,ecg_hl)\n",
    "\n",
    "    t=np.arange(0,ecg.size*(1/fs),(1/fs))\n",
    "    t=t[:ecg.size]\n",
    "\n",
    "    # plt.figure(figsize=(12,4))\n",
    "    # plt.plot(t,ecg,label=\"raw ECG\")\n",
    "    # plt.plot(t,ecg_hln, label=\"filtered ECG\")\n",
    "    # plt.xlabel('$Time (s)$') \n",
    "    # plt.ylabel('$ECG$') \n",
    "    # plt.legend()\n",
    "    return ecg_hln"
   ]
  },
  {
   "cell_type": "code",
   "execution_count": 16,
   "metadata": {},
   "outputs": [],
   "source": [
    "# detect R-peaks\n",
    "def detect_rpeaks(fs, ecg_hln):\n",
    "    detectors = Detectors(fs)\n",
    "\n",
    "    r_peaks_pan = detectors.pan_tompkins_detector(ecg_hln)\n",
    "    r_peaks_pan = np.asarray(r_peaks_pan)\n",
    "\n",
    "    # plt.figure(figsize=(12,4))\n",
    "    # plt.plot(ecg_hln)\n",
    "    # plt.plot(r_peaks_pan,ecg_hln[r_peaks_pan], 'ro')\n",
    "    return r_peaks_pan"
   ]
  },
  {
   "attachments": {},
   "cell_type": "markdown",
   "metadata": {},
   "source": [
    "# **Feature extraction**"
   ]
  },
  {
   "cell_type": "code",
   "execution_count": 20,
   "metadata": {},
   "outputs": [],
   "source": [
    "from hrv import HRV   # to import the module\n",
    "\n",
    "# Feature extraction\n",
    "def get_features(r_peaks_pan, fs):\n",
    "    hrv_class = HRV(fs)\n",
    "    # print(r_peaks_pan)\n",
    "    #Number of pairs of succesive NNs that differ by more than 20ms(NN20)\n",
    "    feat_nn20=hrv_class.NN20(r_peaks_pan)\n",
    "    # print(f\"nn20:{feat_nn20}\")\n",
    "    #Number of pairs of succesive NNs that differ by more than 50ms(NN50)\n",
    "    feat_nn50=hrv_class.NN50(r_peaks_pan)\n",
    "    # print(f\"nn50:{feat_nn50}\")\n",
    "    #Root mean square of succesive differences(RMSSD)\n",
    "    feat_rmssd=hrv_class.RMSSD(r_peaks_pan, normalise= True)\n",
    "    # print(f\"rmssd:{feat_rmssd}\")\n",
    "    #Heart-rate feature extraction in BPM(HR)\n",
    "    feat_hr=np.mean(hrv_class.HR(r_peaks_pan))\n",
    "    # print(f\"HR:{feat_hr}\")\n",
    "    #Standard deviation of succesive differences(SDSD)\n",
    "    feat_sdsd=hrv_class.SDSD(r_peaks_pan)\n",
    "    # print(f\"SDSD:{feat_sdsd}\")\n",
    "    #The proportion of NN50 divided by total number of NNs(pNN50)\n",
    "    feat_pnn50=hrv_class.pNN50(r_peaks_pan)\n",
    "    # print(f\"pNN50:{feat_pnn50}\")\n",
    "    #The proportion of NN20 divided by total number of NNs(pNN20)\n",
    "    feat_pnn20=hrv_class.pNN20(r_peaks_pan)\n",
    "    # print(f\"pNN20:{feat_pnn20}\")\n",
    "    #The\n",
    "    return [feat_nn20, feat_nn50, feat_rmssd, feat_hr, feat_sdsd, feat_pnn50, feat_pnn20]"
   ]
  },
  {
   "cell_type": "code",
   "execution_count": 23,
   "metadata": {},
   "outputs": [
    {
     "name": "stdout",
     "output_type": "stream",
     "text": [
      "Empty DataFrame\n",
      "Columns: [feat_nn20, feat_nn50, feat_rmssd, feat_nnhr, feat_sdsd, feat_pnn50, feat_pnn20]\n",
      "Index: []\n"
     ]
    }
   ],
   "source": [
    "# set up an empty features file\n",
    "df_features = pd.DataFrame(None, columns= ['feat_nn20', 'feat_nn50', 'feat_rmssd', 'feat_nnhr', \n",
    "                                     'feat_sdsd', 'feat_pnn50', 'feat_pnn20'])\n",
    "print(df_features)\n",
    "write_to_csv(df_features, \"out_features.csv\")\n"
   ]
  },
  {
   "cell_type": "code",
   "execution_count": 24,
   "metadata": {},
   "outputs": [],
   "source": [
    "# get features from all signals and write to a csv file\n",
    "\n",
    "fs = 700\n",
    "y = []\n",
    "for label in range(1,5):\n",
    "    file = \"out_\" + str(label) + \".csv\"\n",
    "\n",
    "    df = read_from_csv(file)\n",
    "\n",
    "    for subject in df:\n",
    "        if subject != 'Unnamed: 0':\n",
    "            y.append(label)\n",
    "            ecg = df[subject]\n",
    "            filtered_ecg = filter_signal(ecg, fs)\n",
    "            r_peaks_pan = detect_rpeaks(fs, filtered_ecg)\n",
    "            features = get_features(r_peaks_pan, fs)\n",
    "            df_features.loc[subject+str(label)] = features\n",
    "\n",
    "write_to_csv(df_features, \"out_features.csv\")\n"
   ]
  },
  {
   "attachments": {},
   "cell_type": "markdown",
   "metadata": {},
   "source": [
    "# **PCA**"
   ]
  },
  {
   "cell_type": "code",
   "execution_count": 26,
   "metadata": {},
   "outputs": [],
   "source": [
    "from sklearn.preprocessing import StandardScaler\n",
    "from sklearn.decomposition import PCA\n",
    "from sklearn.linear_model import LogisticRegression\n",
    "from sklearn.model_selection import train_test_split"
   ]
  },
  {
   "cell_type": "code",
   "execution_count": 27,
   "metadata": {},
   "outputs": [
    {
     "data": {
      "text/plain": [
       "Index(['feat_nn20', 'feat_nn50', 'feat_rmssd', 'feat_nnhr', 'feat_sdsd',\n",
       "       'feat_pnn50', 'feat_pnn20'],\n",
       "      dtype='object')"
      ]
     },
     "execution_count": 27,
     "metadata": {},
     "output_type": "execute_result"
    }
   ],
   "source": [
    "df_features.keys()"
   ]
  },
  {
   "cell_type": "code",
   "execution_count": 28,
   "metadata": {},
   "outputs": [
    {
     "data": {
      "text/plain": [
       "<matplotlib.collections.PathCollection at 0x22bfe786ee0>"
      ]
     },
     "execution_count": 28,
     "metadata": {},
     "output_type": "execute_result"
    },
    {
     "data": {
      "image/png": "[encoded data removed]",
      "text/plain": [
       "<Figure size 800x600 with 1 Axes>"
      ]
     },
     "metadata": {},
     "output_type": "display_data"
    }
   ],
   "source": [
    "X_train, X_test, y_train, y_test = train_test_split(df_features, y, test_size=0.3)\n",
    "scaler = StandardScaler().fit(X_train)\n",
    "X_train = scaler.transform(X_train)\n",
    "X_test = scaler.transform(X_test)\n",
    "pca = PCA(n_components=3) \n",
    "pca = pca.fit(X_train)\n",
    "\n",
    "X_train_pca=pca.transform(X_train)\n",
    "X_test_pca=pca.transform(X_test)\n",
    "plt.figure(figsize=(8,6))\n",
    "plt.scatter(X_train_pca[:,0], X_train_pca[:,1], c=y_train)"
   ]
  },
  {
   "cell_type": "code",
   "execution_count": 29,
   "metadata": {},
   "outputs": [
    {
     "name": "stdout",
     "output_type": "stream",
     "text": [
      "0.35185185185185186\n"
     ]
    }
   ],
   "source": [
    "model = LogisticRegression()\n",
    "model.fit(X_train_pca, y_train)\n",
    "print(model.score(X_test_pca, y_test))"
   ]
  }
 ],
 "metadata": {
  "kernelspec": {
   "display_name": "Python 3",
   "language": "python",
   "name": "python3"
  },
  "language_info": {
   "codemirror_mode": {
    "name": "ipython",
    "version": 3
   },
   "file_extension": ".py",
   "mimetype": "text/x-python",
   "name": "python",
   "nbconvert_exporter": "python",
   "pygments_lexer": "ipython3",
   "version": "3.9.0"
  },
  "orig_nbformat": 4
 },
 "nbformat": 4,
 "nbformat_minor": 2
}
