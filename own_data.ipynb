{
 "cells": [
  {
   "cell_type": "code",
   "execution_count": 1,
   "metadata": {},
   "outputs": [
    {
     "name": "stderr",
     "output_type": "stream",
     "text": [
      "c:\\Users\\riche\\AppData\\Local\\Programs\\Python\\Python39\\lib\\site-packages\\antropy\\fractal.py:197: NumbaDeprecationWarning: \u001b[1mThe 'nopython' keyword argument was not supplied to the 'numba.jit' decorator. The implicit default value for this argument is currently False, but it will be changed to True in Numba 0.59.0. See https://numba.readthedocs.io/en/stable/reference/deprecation.html#deprecation-of-object-mode-fall-back-behaviour-when-using-jit for details.\u001b[0m\n",
      "  @jit('float64(float64[:], int32)')\n"
     ]
    }
   ],
   "source": [
    "import numpy as np\n",
    "import pandas as pd\n",
    "import matplotlib.pyplot as plt\n",
    "import pickle\n",
    "import neurokit2 as nk\n",
    "from sklearn.preprocessing import StandardScaler\n",
    "from sklearn.linear_model import LogisticRegression\n",
    "from sklearn import svm\n",
    "from sklearn.model_selection import train_test_split\n",
    "from sklearn.preprocessing import StandardScaler\n",
    "from tensorflow.keras.utils import to_categorical\n",
    "from tensorflow.keras.models import Sequential\n",
    "from tensorflow.keras.layers import Dense, Dropout\n",
    "from tensorflow.keras.optimizers import Adam\n",
    "from sklearn.ensemble import AdaBoostClassifier\n",
    "import pyhrv.time_domain as td\n",
    "import pywt\n",
    "import ipynb\n",
    "import matplotlib.pyplot as plt\n",
    "import pickle\n",
    "import pyhrv\n",
    "import ipynb\n",
    "from sklearn.feature_selection import VarianceThreshold\n",
    "from sklearn.preprocessing import MinMaxScaler\n",
    "from sklearn.feature_selection import SelectKBest\n",
    "from sklearn.feature_selection import chi2\n",
    "from mlxtend.feature_selection import SequentialFeatureSelector as SFS\n",
    "from sklearn.feature_selection import SelectFromModel\n",
    "from sklearn.linear_model import LogisticRegression\n",
    "from sklearn.ensemble import RandomForestClassifier\n",
    "from lightgbm import LGBMClassifier\n",
    "from sklearn.tree import DecisionTreeClassifier\n",
    "import xgboost as xgb\n",
    "from sklearn.metrics import mean_squared_error\n",
    "\n",
    "# functions for features extraction\n",
    "from ipynb.fs.full.ECG_features import get_ecgfeatures\n",
    "from ipynb.fs.full.EDA import get_edaindex, get_edafeatures\n",
    "from ipynb.fs.full.BVP import get_bvpfeatures, bvp_prep"
   ]
  },
  {
   "attachments": {},
   "cell_type": "markdown",
   "metadata": {},
   "source": [
    "Get train data from dataset"
   ]
  },
  {
   "cell_type": "code",
   "execution_count": 50,
   "metadata": {},
   "outputs": [
    {
     "name": "stderr",
     "output_type": "stream",
     "text": [
      "c:\\Users\\riche\\OneDrive\\Documenten\\GitHub\\EPO4-C2\\BVP.ipynb:46: SettingWithCopyWarning: \n",
      "A value is trying to be set on a copy of a slice from a DataFrame\n",
      "\n",
      "See the caveats in the documentation: https://pandas.pydata.org/pandas-docs/stable/user_guide/indexing.html#returning-a-view-versus-a-copy\n",
      "  \"    features_event.reset_index(drop=True, inplace=True)\\n\",\n"
     ]
    }
   ],
   "source": [
    "features = pd.read_csv(\"out_features.csv\", index_col=0)\n",
    "features = bvp_prep(features)"
   ]
  },
  {
   "cell_type": "code",
   "execution_count": 51,
   "metadata": {},
   "outputs": [
    {
     "name": "stdout",
     "output_type": "stream",
     "text": [
      "402 402\n"
     ]
    }
   ],
   "source": [
    "num_features = 25\n",
    "y = features['y']\n",
    "X_total = features.drop(['y', 'index', 'PPG_Rate_Mean'], axis=1)\n",
    "print(len(y), len(X_total))"
   ]
  },
  {
   "attachments": {},
   "cell_type": "markdown",
   "metadata": {},
   "source": [
    "Feature selection"
   ]
  },
  {
   "cell_type": "code",
   "execution_count": 52,
   "metadata": {},
   "outputs": [],
   "source": [
    "# LASSO\n",
    "num_feats = num_features\n",
    "scaler = StandardScaler().fit(X_total)\n",
    "X_train = scaler.transform(X_total)\n",
    "embeded_lr_selector = SelectFromModel(LogisticRegression(C=1, penalty=\"l1\", solver='liblinear'), max_features=num_feats)\n",
    "embeded_lr_selector.fit(scaler.transform(X_total), y)\n",
    "\n",
    "embeded_lr_support = embeded_lr_selector.get_support()\n",
    "embeded_lr_feature = X_total.loc[:,embeded_lr_support].columns.tolist()"
   ]
  },
  {
   "attachments": {},
   "cell_type": "markdown",
   "metadata": {},
   "source": [
    "Classifier"
   ]
  },
  {
   "cell_type": "code",
   "execution_count": 53,
   "metadata": {},
   "outputs": [],
   "source": [
    "def svm_func(X_train, y_train):\n",
    "    # define the model\n",
    "    svm_model = svm.SVC()\n",
    "\n",
    "    # fit/train the model on all features\n",
    "    svm_model.fit(X_train, y_train)\n",
    "    # Y_test_pred = svm_model.predict(X_test)\n",
    "\n",
    "    # # score\n",
    "    # svm_score = svm_model.score(X_test,y_test)\n",
    "    return svm_model #, Y_test_pred, svm_score"
   ]
  },
  {
   "attachments": {},
   "cell_type": "markdown",
   "metadata": {},
   "source": [
    "Create model"
   ]
  },
  {
   "cell_type": "code",
   "execution_count": 64,
   "metadata": {},
   "outputs": [],
   "source": [
    "if \"PPG_Rate_Max\" in embeded_lr_feature:\n",
    "        embeded_lr_feature.remove(\"PPG_Rate_Max\")\n",
    "\n",
    "X_train = features\n",
    "y_train = X_train['y']\n",
    "X_train = X_train.drop(['y', 'index'], axis=1)\n",
    "X_train = X_train[list(embeded_lr_feature)]\n",
    "\n",
    "# fit the data\n",
    "scaler = StandardScaler().fit(X_train)\n",
    "X_train = scaler.transform(X_train)\n",
    "\n",
    "# Get model\n",
    "svm_model = svm_func(X_train, y_train)\n",
    "# Get the score"
   ]
  },
  {
   "attachments": {},
   "cell_type": "markdown",
   "metadata": {},
   "source": [
    "Read measured data from csv"
   ]
  },
  {
   "cell_type": "code",
   "execution_count": 56,
   "metadata": {},
   "outputs": [],
   "source": [
    "columns_ecg =['index', 'ecg_HR_mean', 'ecg_HR_min', 'ecg_HR_max', 'ecg_HR_std', 'ecg_SDNN', 'ecg_SDANN', 'ecg_RMSSD', \n",
    "                                           'ecg_SDSD','ecg_pNN50', 'ecg_pNN20', \"ecg_triangular_index\", \"ecg_tinn\", \"ecg_sd1\", \"ecg_sd2\",\n",
    "                                            \"ecg_ratio_sd2_sd1\", 'ecg_abs_power_VLF', 'ecg_abs_power_LF', 'ecg_abs_power_HF', 'ecg_tot_power',\n",
    "                                            'ecg_LF/HF', 'ecg_peak_vlf', 'ecg_peak_lf', 'ecg_peak_hf', 'ecg_norm_power_LF', 'ecg_norm_power_HF',\n",
    "                                            'max_cwt_absmean', 'min_cwt_absmean', 'mean_cwt_absmean','std_cwt_absmean', \n",
    "                                            'max_cwt_std', 'min_cwt_std', 'mean_cwt_std','std_cwt_std',\n",
    "                                            'max_cwt_energy', 'min_cwt_energy', 'mean_cwt_energy','std_cwt_energy',\n",
    "                                            'max_cwt_var', 'min_cwt_var', 'mean_cwt_var','std_cwt_var',\n",
    "                                            'entropy']\n",
    "columns_resp = ['RSP_Rate_Mean','RRV_RMSSD', 'RRV_MeanBB', 'RRV_SDBB', 'RRV_SDSD', 'RRV_CVBB', 'RRV_CVSD', 'RRV_MedianBB',\n",
    "                'RRV_MadBB', 'RRV_MCVBB', 'RRV_VLF', 'RRV_LF', 'RRV_HF', 'RRV_LFHF', 'RRV_LFn', 'RRV_HFn', 'RRV_SD1',\n",
    "                'RRV_SD2', 'RRV_SD2SD1', 'RRV_ApEn', 'RRV_SampEn', 'RSP_Amplitude_Mean', 'RSP_RVT', 'RSP_Symmetry_PeakTrough',\n",
    "                'RSP_Symmetry_RiseDecay', 'RSP_Phase_Duration_Inspiration', 'RSP_Phase_Duration_Expiration', 'RSP_Phase_Duration_Ratio']\n",
    "\n",
    "columns = [*columns_ecg, *columns_resp]\n",
    "meas_ecgfeatures = pd.DataFrame(None, columns= columns)\n",
    "meas_edafeatures = None\n",
    "meas_bvpfeatures = None\n",
    "\n",
    "fs = 400 # sampling frequency\n",
    "duration = 45"
   ]
  },
  {
   "cell_type": "code",
   "execution_count": 57,
   "metadata": {},
   "outputs": [],
   "source": [
    "data = pd.read_csv(\"Daan-nultest_2.csv\")\n",
    "\n",
    "ecg_base = data['ECG Data']\n",
    "eda_base = data['GSR Data']\n",
    "t = data['TimeStamp']\n",
    "# bvp = PPG_Red Data,PPG_IR Data\n",
    "\n",
    "ecg_base = ecg_base[9:]\n",
    "eda_base = eda_base[9:]\n",
    "\n",
    "# Multiple smaller samples per signal\n",
    "# samples = 10 # specify amount of samples\n",
    "n_samples = duration * fs\n",
    "for j in range(t[len(t)-1]//n_samples): # loop over all segments\n",
    "    # Cutting the signal into a segment\n",
    "    start, end = j*fs*duration, (j+1)*fs*duration\n",
    "    ecg = ecg_base[(ecg_base > start) & (ecg_base < end)]\n",
    "    eda = eda_base[(eda_base > start) & (eda_base < end)]\n",
    "    # bvp = bvp_base[start: end]\n",
    "\n",
    "    # getting the eda and ecg features\n",
    "    index = str(j)\n",
    "    tonic, phasic, start, end = get_edaindex(eda, fs)\n",
    "    meas_edafeatures = get_edafeatures(index, meas_edafeatures, phasic, tonic, fs)\n",
    "    meas_ecgfeatures = get_ecgfeatures(ecg, fs, meas_ecgfeatures, index)\n",
    "    \n",
    "    # bvpfeature = get_bvpfeatures(bvp, fs_bvp, index)\n",
    "    # bvpfeatures = pd.concat([bvpfeatures, bvpfeature], axis=0)"
   ]
  },
  {
   "cell_type": "code",
   "execution_count": 58,
   "metadata": {},
   "outputs": [
    {
     "data": {
      "text/html": [
       "<div>\n",
       "<style scoped>\n",
       "    .dataframe tbody tr th:only-of-type {\n",
       "        vertical-align: middle;\n",
       "    }\n",
       "\n",
       "    .dataframe tbody tr th {\n",
       "        vertical-align: top;\n",
       "    }\n",
       "\n",
       "    .dataframe thead th {\n",
       "        text-align: right;\n",
       "    }\n",
       "</style>\n",
       "<table border=\"1\" class=\"dataframe\">\n",
       "  <thead>\n",
       "    <tr style=\"text-align: right;\">\n",
       "      <th></th>\n",
       "      <th>index</th>\n",
       "      <th>ecg_HR_mean</th>\n",
       "      <th>ecg_HR_min</th>\n",
       "      <th>ecg_HR_max</th>\n",
       "      <th>ecg_HR_std</th>\n",
       "      <th>ecg_SDNN</th>\n",
       "      <th>ecg_SDANN</th>\n",
       "      <th>ecg_RMSSD</th>\n",
       "      <th>ecg_SDSD</th>\n",
       "      <th>ecg_pNN50</th>\n",
       "      <th>...</th>\n",
       "      <th>scr_Entropy</th>\n",
       "      <th>scr_max_freq</th>\n",
       "      <th>scl_mean</th>\n",
       "      <th>scl_std</th>\n",
       "      <th>scl_max</th>\n",
       "      <th>scl_min</th>\n",
       "      <th>scl_range</th>\n",
       "      <th>scl_kurtosis</th>\n",
       "      <th>scl_skew</th>\n",
       "      <th>scl_momentum</th>\n",
       "    </tr>\n",
       "  </thead>\n",
       "  <tbody>\n",
       "    <tr>\n",
       "      <th>0</th>\n",
       "      <td>0</td>\n",
       "      <td>75.784329</td>\n",
       "      <td>65.934066</td>\n",
       "      <td>90.566038</td>\n",
       "      <td>6.226686</td>\n",
       "      <td>0.078104</td>\n",
       "      <td>0.0</td>\n",
       "      <td>0.067202</td>\n",
       "      <td>53.534814</td>\n",
       "      <td>0.25</td>\n",
       "      <td>...</td>\n",
       "      <td>952236.153605</td>\n",
       "      <td>0.0</td>\n",
       "      <td>81.066552</td>\n",
       "      <td>14.606922</td>\n",
       "      <td>114.967428</td>\n",
       "      <td>64.340333</td>\n",
       "      <td>50.627095</td>\n",
       "      <td>-0.263396</td>\n",
       "      <td>0.994003</td>\n",
       "      <td>213.362159</td>\n",
       "    </tr>\n",
       "  </tbody>\n",
       "</table>\n",
       "<p>1 rows × 100 columns</p>\n",
       "</div>"
      ],
      "text/plain": [
       "  index  ecg_HR_mean  ecg_HR_min  ecg_HR_max  ecg_HR_std  ecg_SDNN  ecg_SDANN  \\\n",
       "0     0    75.784329   65.934066   90.566038    6.226686  0.078104        0.0   \n",
       "\n",
       "   ecg_RMSSD   ecg_SDSD  ecg_pNN50  ...    scr_Entropy  scr_max_freq  \\\n",
       "0   0.067202  53.534814       0.25  ...  952236.153605           0.0   \n",
       "\n",
       "    scl_mean    scl_std     scl_max    scl_min  scl_range  scl_kurtosis  \\\n",
       "0  81.066552  14.606922  114.967428  64.340333  50.627095     -0.263396   \n",
       "\n",
       "   scl_skew  scl_momentum  \n",
       "0  0.994003    213.362159  \n",
       "\n",
       "[1 rows x 100 columns]"
      ]
     },
     "execution_count": 58,
     "metadata": {},
     "output_type": "execute_result"
    }
   ],
   "source": [
    "# bvp_filt = bvp_prep(bvpfeatures)\n",
    "\n",
    "features1 = pd.merge(meas_ecgfeatures, meas_edafeatures, left_index=True, right_index=True)\n",
    "# total_features = pd.merge(bvp_filt, features1, on='index')\n",
    "features1\n",
    "# total_features = total_features[total_features.RSP_RVT != 0.0]"
   ]
  },
  {
   "cell_type": "code",
   "execution_count": 62,
   "metadata": {},
   "outputs": [
    {
     "name": "stdout",
     "output_type": "stream",
     "text": [
      "HRV_MFDFA_alpha2_Delta\n"
     ]
    }
   ],
   "source": [
    "for feat in embeded_lr_feature:\n",
    "    if feat not in features1:\n",
    "        embeded_lr_feature.remove(feat)\n",
    "\n",
    "meas_features = features1[embeded_lr_feature]"
   ]
  },
  {
   "cell_type": "code",
   "execution_count": 65,
   "metadata": {},
   "outputs": [
    {
     "name": "stderr",
     "output_type": "stream",
     "text": [
      "c:\\Users\\riche\\AppData\\Local\\Programs\\Python\\Python39\\lib\\site-packages\\sklearn\\base.py:432: UserWarning: X has feature names, but SVC was fitted without feature names\n",
      "  warnings.warn(\n"
     ]
    },
    {
     "data": {
      "text/plain": [
       "array([1], dtype=int64)"
      ]
     },
     "execution_count": 65,
     "metadata": {},
     "output_type": "execute_result"
    }
   ],
   "source": [
    "svm_model.predict(meas_features)"
   ]
  }
 ],
 "metadata": {
  "kernelspec": {
   "display_name": "Python 3",
   "language": "python",
   "name": "python3"
  },
  "language_info": {
   "codemirror_mode": {
    "name": "ipython",
    "version": 3
   },
   "file_extension": ".py",
   "mimetype": "text/x-python",
   "name": "python",
   "nbconvert_exporter": "python",
   "pygments_lexer": "ipython3",
   "version": "3.9.0"
  },
  "orig_nbformat": 4
 },
 "nbformat": 4,
 "nbformat_minor": 2
}
