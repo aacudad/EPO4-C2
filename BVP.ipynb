{
 "cells": [
  {
   "cell_type": "code",
   "execution_count": 2,
   "metadata": {},
   "outputs": [],
   "source": [
    "import ipynb\n",
    "import numpy as np\n",
    "import pandas as pd\n",
    "import matplotlib.pyplot as plt\n",
    "import os\n",
    "import pickle\n",
    "import scipy\n",
    "import neurokit2 as nk\n",
    "import random\n",
    "import pyhrv"
   ]
  },
  {
   "cell_type": "code",
   "execution_count": 3,
   "metadata": {},
   "outputs": [],
   "source": [
    "def get_bvpfeatures(data):\n",
    "    features_bvp = None\n",
    "\n",
    "    df, info = nk.ppg_process(data, sampling_rate=100)\n",
    "\n",
    "    # Visualize the processing\n",
    "    #nk.ppg_plot(df, sampling_rate=fs)\n",
    "\n",
    "    features = nk.ppg_intervalrelated(df)\n",
    "\n",
    "    #features_bvp = pd.concat([features_event, features], axis = 1)\n",
    "    # features_bvp = features_bvp.dropna(axis='columns')\n",
    "    return features"
   ]
  },
  {
   "cell_type": "code",
   "execution_count": 2,
   "metadata": {},
   "outputs": [],
   "source": [
    "def bvp_prep(data):\n",
    "    data = data.dropna(axis='columns')\n",
    "    features = data\n",
    "    features.replace([np.inf, -np.inf], np.nan, inplace=True)\n",
    "    features = features.dropna(axis='columns')\n",
    "    features.drop(columns=features.columns[:2], axis=1,  inplace=True)\n",
    "    features = features.reset_index()\n",
    "    return features"
   ]
  }
 ],
 "metadata": {
  "kernelspec": {
   "display_name": "Python 3",
   "language": "python",
   "name": "python3"
  },
  "language_info": {
   "codemirror_mode": {
    "name": "ipython",
    "version": 3
   },
   "file_extension": ".py",
   "mimetype": "text/x-python",
   "name": "python",
   "nbconvert_exporter": "python",
   "pygments_lexer": "ipython3",
   "version": "3.9.13"
  },
  "orig_nbformat": 4
 },
 "nbformat": 4,
 "nbformat_minor": 2
}
