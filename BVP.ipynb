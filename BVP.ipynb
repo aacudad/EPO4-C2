{
 "cells": [
  {
   "cell_type": "code",
   "execution_count": 2,
   "metadata": {},
   "outputs": [],
   "source": [
    "import ipynb\n",
    "import numpy as np\n",
    "import pandas as pd\n",
    "import matplotlib.pyplot as plt\n",
    "import os\n",
    "import pickle\n",
    "import scipy\n",
    "import neurokit2 as nk\n",
    "import random\n",
    "import pyhrv"
   ]
  },
  {
   "cell_type": "code",
   "execution_count": 8,
   "metadata": {},
   "outputs": [],
   "source": [
    "def get_bvpfeatures(data, fs, index):\n",
    "    #event_time = []\n",
    "    features_bvp = None\n",
    "\n",
    "    #for i in range(samples):\n",
    "    #    event_time.append(int((i/samples)*len(data)))\n",
    "\n",
    "    df, info = nk.ppg_process(data, sampling_rate=fs)\n",
    "\n",
    "    # Visualize the processing\n",
    "    #nk.ppg_plot(df, sampling_rate=fs)\n",
    "\n",
    "    epochs = nk.epochs_create(df, events=[1],\n",
    "                             epochs_start=-0.1, epochs_end=1.9)\n",
    "\n",
    "    features_event = nk.ppg_eventrelated(epochs)\n",
    "    #features = nk.ppg_intervalrelated(epochs)\n",
    "    features = nk.ppg_analyze(df, sampling_rate=fs)\n",
    "\n",
    "    features_event.reset_index(drop=True, inplace=True)\n",
    "\n",
    "    features_bvp = pd.concat([features_event, features], axis = 1)\n",
    "    features_bvp['index'] = index\n",
    "    # features_bvp = features_bvp.dropna(axis='columns')\n",
    "    return features_bvp"
   ]
  },
  {
   "cell_type": "code",
   "execution_count": 4,
   "metadata": {},
   "outputs": [],
   "source": [
    "def bvp_prep(data):\n",
    "    data = data.dropna(axis='columns')\n",
    "    features = data\n",
    "    features.replace([np.inf, -np.inf], np.nan, inplace=True)\n",
    "    features = features.dropna(axis='columns')\n",
    "    features.drop(columns=features.columns[:2], axis=1,  inplace=True)\n",
    "    features = features.reset_index()\n",
    "    return features"
   ]
  },
  {
   "cell_type": "code",
   "execution_count": 9,
   "metadata": {},
   "outputs": [
    {
     "data": {
      "text/html": [
       "<div>\n",
       "<style scoped>\n",
       "    .dataframe tbody tr th:only-of-type {\n",
       "        vertical-align: middle;\n",
       "    }\n",
       "\n",
       "    .dataframe tbody tr th {\n",
       "        vertical-align: top;\n",
       "    }\n",
       "\n",
       "    .dataframe thead th {\n",
       "        text-align: right;\n",
       "    }\n",
       "</style>\n",
       "<table border=\"1\" class=\"dataframe\">\n",
       "  <thead>\n",
       "    <tr style=\"text-align: right;\">\n",
       "      <th></th>\n",
       "      <th>Label</th>\n",
       "      <th>Event_Onset</th>\n",
       "      <th>PPG_Rate_Baseline</th>\n",
       "      <th>PPG_Rate_Max</th>\n",
       "      <th>PPG_Rate_Min</th>\n",
       "      <th>PPG_Rate_Mean</th>\n",
       "      <th>PPG_Rate_SD</th>\n",
       "      <th>PPG_Rate_Max_Time</th>\n",
       "      <th>PPG_Rate_Min_Time</th>\n",
       "      <th>PPG_Rate_Trend_Linear</th>\n",
       "      <th>...</th>\n",
       "      <th>HRV_ShanEn</th>\n",
       "      <th>HRV_FuzzyEn</th>\n",
       "      <th>HRV_MSEn</th>\n",
       "      <th>HRV_CMSEn</th>\n",
       "      <th>HRV_RCMSEn</th>\n",
       "      <th>HRV_CD</th>\n",
       "      <th>HRV_HFD</th>\n",
       "      <th>HRV_KFD</th>\n",
       "      <th>HRV_LZC</th>\n",
       "      <th>index</th>\n",
       "    </tr>\n",
       "  </thead>\n",
       "  <tbody>\n",
       "    <tr>\n",
       "      <th>0</th>\n",
       "      <td>1</td>\n",
       "      <td>1</td>\n",
       "      <td>92.28039</td>\n",
       "      <td>34.703737</td>\n",
       "      <td>-5.496823</td>\n",
       "      <td>3.383289</td>\n",
       "      <td>10.121064</td>\n",
       "      <td>0.431266</td>\n",
       "      <td>1.9</td>\n",
       "      <td>-1.582559</td>\n",
       "      <td>...</td>\n",
       "      <td>4.546594</td>\n",
       "      <td>1.135078</td>\n",
       "      <td>NaN</td>\n",
       "      <td>NaN</td>\n",
       "      <td>NaN</td>\n",
       "      <td>2.473939</td>\n",
       "      <td>1.934433</td>\n",
       "      <td>1.584745</td>\n",
       "      <td>1.627075</td>\n",
       "      <td>1</td>\n",
       "    </tr>\n",
       "  </tbody>\n",
       "</table>\n",
       "<p>1 rows × 94 columns</p>\n",
       "</div>"
      ],
      "text/plain": [
       "  Label  Event_Onset  PPG_Rate_Baseline  PPG_Rate_Max  PPG_Rate_Min  \\\n",
       "0     1            1           92.28039     34.703737     -5.496823   \n",
       "\n",
       "   PPG_Rate_Mean  PPG_Rate_SD  PPG_Rate_Max_Time  PPG_Rate_Min_Time  \\\n",
       "0       3.383289    10.121064           0.431266                1.9   \n",
       "\n",
       "   PPG_Rate_Trend_Linear  ...  HRV_ShanEn  HRV_FuzzyEn  HRV_MSEn  HRV_CMSEn  \\\n",
       "0              -1.582559  ...    4.546594     1.135078       NaN        NaN   \n",
       "\n",
       "   HRV_RCMSEn    HRV_CD   HRV_HFD   HRV_KFD   HRV_LZC  index  \n",
       "0         NaN  2.473939  1.934433  1.584745  1.627075      1  \n",
       "\n",
       "[1 rows x 94 columns]"
      ]
     },
     "execution_count": 9,
     "metadata": {},
     "output_type": "execute_result"
    }
   ],
   "source": [
    "# a = get_bvpfeatures(bvp, 400, '1')\n",
    "# a"
   ]
  }
 ],
 "metadata": {
  "kernelspec": {
   "display_name": "Python 3",
   "language": "python",
   "name": "python3"
  },
  "language_info": {
   "codemirror_mode": {
    "name": "ipython",
    "version": 3
   },
   "file_extension": ".py",
   "mimetype": "text/x-python",
   "name": "python",
   "nbconvert_exporter": "python",
   "pygments_lexer": "ipython3",
   "version": "3.9.0"
  },
  "orig_nbformat": 4
 },
 "nbformat": 4,
 "nbformat_minor": 2
}
