{
 "cells": [
  {
   "cell_type": "code",
   "execution_count": 5,
   "metadata": {},
   "outputs": [],
   "source": [
    "import ipynb\n",
    "import numpy as np\n",
    "import pandas as pd\n",
    "import matplotlib.pyplot as plt\n",
    "import os\n",
    "import pickle\n",
    "import scipy\n",
    "import neurokit2 as nk\n",
    "import random\n",
    "import pyhrv"
   ]
  },
  {
   "cell_type": "code",
   "execution_count": 9,
   "metadata": {},
   "outputs": [],
   "source": [
    "def get_bvpfeatures(data, fs, index):\n",
    "    #event_time = []\n",
    "    features_bvp = None\n",
    "\n",
    "    #for i in range(samples):\n",
    "    #    event_time.append(int((i/samples)*len(data)))\n",
    "\n",
    "    df, info = nk.ppg_process(data)\n",
    "\n",
    "    # Visualize the processing\n",
    "    #nk.ppg_plot(df, sampling_rate=fs)\n",
    "\n",
    "    epochs = nk.epochs_create(df, events=[1],\n",
    "                             epochs_start=-0.1, epochs_end=1.9)\n",
    "\n",
    "    features_event = nk.ppg_eventrelated(epochs)\n",
    "    #features = nk.ppg_intervalrelated(epochs)\n",
    "    features = nk.ppg_analyze(df)\n",
    "\n",
    "    features_event.reset_index(drop=True, inplace=True)\n",
    "\n",
    "    features_bvp = pd.concat([features_event, features], axis = 1)\n",
    "    features_bvp['index'] = index\n",
    "    # features_bvp = features_bvp.dropna(axis='columns')\n",
    "    return features_bvp"
   ]
  },
  {
   "cell_type": "code",
   "execution_count": 3,
   "metadata": {},
   "outputs": [],
   "source": [
    "def bvp_prep(data):\n",
    "    data = data.dropna(axis='columns')\n",
    "    features = data\n",
    "    features.replace([np.inf, -np.inf], np.nan, inplace=True)\n",
    "    features = features.dropna(axis='columns')\n",
    "    features.drop(columns=features.columns[:2], axis=1,  inplace=True)\n",
    "    features = features.reset_index()\n",
    "    return features"
   ]
  }
 ],
 "metadata": {
  "kernelspec": {
   "display_name": "Python 3",
   "language": "python",
   "name": "python3"
  },
  "language_info": {
   "codemirror_mode": {
    "name": "ipython",
    "version": 3
   },
   "file_extension": ".py",
   "mimetype": "text/x-python",
   "name": "python",
   "nbconvert_exporter": "python",
   "pygments_lexer": "ipython3",
   "version": "3.9.0"
  },
  "orig_nbformat": 4
 },
 "nbformat": 4,
 "nbformat_minor": 2
}
