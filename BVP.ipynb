{
 "cells": [
  {
   "cell_type": "code",
   "execution_count": 2,
   "metadata": {},
   "outputs": [],
   "source": [
    "# import packages\n",
    "import ipynb\n",
    "import numpy as np\n",
    "import pandas as pd\n",
    "import matplotlib.pyplot as plt\n",
    "import os\n",
    "import pickle\n",
    "import scipy\n",
    "import neurokit2 as nk\n",
    "import random\n",
    "import pyhrv"
   ]
  },
  {
   "cell_type": "code",
   "execution_count": 7,
   "metadata": {},
   "outputs": [],
   "source": [
    "# Feature extraction PPG features\n",
    "def get_bvpfeatures(data, index):\n",
    "    features_bvp = None\n",
    "\n",
    "    df, info = nk.ppg_process(data, sampling_rate=100) # Process data before extraction\n",
    "\n",
    "    features = nk.ppg_intervalrelated(df) # Features extraced with Neurokit2 function\n",
    "    features['index'] = index\n",
    "    return features"
   ]
  },
  {
   "cell_type": "code",
   "execution_count": 1,
   "metadata": {},
   "outputs": [],
   "source": [
    "# Data preparation\n",
    "def bvp_prep(data):\n",
    "    data = data.fillna(method=\"ffill\") # Fill the NaN values with last known value\n",
    "    data = data.fillna(method=\"bfill\") # Fill the NaN values with next known value\n",
    "    data = data.drop(['HRV_LF','HRV_LFn','HRV_LFHF'], axis = 1) # These features will be dropped\n",
    "    # These features will be set to 0 if NaN\n",
    "    data[['HRV_HF', 'HRV_VHF', 'HRV_HFn', 'HRV_LnHF', 'HRV_MSE', 'HRV_CMSE', 'HRV_RCMSE']] = data[['HRV_HF', 'HRV_VHF', 'HRV_HFn', 'HRV_LnHF', 'HRV_MSE', 'HRV_CMSE', 'HRV_RCMSE']].replace(np.nan, 0) \n",
    "    data = data.dropna(axis='columns') # Drop the columns containing NaN\n",
    "    features = data\n",
    "    features.replace([np.inf, -np.inf], np.nan, inplace=True) # Replace infinity values with NaN\n",
    "    features = features.dropna(axis='columns') # Drop the columns containing NaN\n",
    "    return features"
   ]
  },
  {
   "cell_type": "code",
   "execution_count": 9,
   "metadata": {},
   "outputs": [],
   "source": [
    "# Filter the measured data\n",
    "def sensorPPGfilter(data):\n",
    "    fs = 400 # sampling frequency\n",
    "    ir_data = data.iloc[100:,[3]] # select PPG data\n",
    "\n",
    "    #plt.figure(figsize=(20,4))\n",
    "    #plt.plot(ir_data)\n",
    "    # labels and titles\n",
    "    #plt.title('Raw IR signal')\n",
    "    #plt.xlabel('$Index$') \n",
    "    #plt.ylabel('$PPG$') \n",
    "    #plt.figure(figsize=(20,4))\n",
    "\n",
    "    ir_data_clean = nk.ppg_clean(ir_data, method='nabian2018', sampling_rate=1000) # clean function Neurokit\n",
    "\n",
    "    # Parameters \n",
    "    order = 4\n",
    "    frequency = np.array([0.5,10]) # cutoff freq of 0.5 and 10 Hz\n",
    "    sampling_rate = 400\n",
    "    frequency = frequency / (sampling_rate / 2)  # Normalize frequency to Nyquist Frequency (Fs/2).\n",
    "\n",
    "    # Filtering\n",
    "    b, a = scipy.signal.butter(order, frequency, btype='band') # 4th order Butterworth bandpass filter\n",
    "    ir_filt = scipy.signal.filtfilt(b, a, ir_data_clean, axis=0) # apply filter to data\n",
    "\n",
    "    peaks_red, _ = find_peaks(np.array(ir_filt), height=0, distance=0.5*fs) # peak detection\n",
    "    peaks_red_min, _ = find_peaks(-ir_filt, height=0, distance=0.5*fs) # onset detection\n",
    "\n",
    "    ir_filt = scipy.signal.filtfilt(b, a, ir_data_clean, axis=0)[peaks_red_min[0]-1:peaks_red_min[-1]-1] # slice data from first peak to last peak\n",
    "    peaks_red, _ = find_peaks(np.array(ir_filt), height=0, distance=0.5*fs)\n",
    "    peaks_red_min, _ = find_peaks(-ir_filt, height=0, distance=0.5*fs)\n",
    "\n",
    "    # plot\n",
    "    #plt.figure(figsize=(20,4))\n",
    "    #plt.plot((red_data-red_data.iloc[0,0]))\n",
    "    #plt.plot(-ir_filt) # plot the BVP data\n",
    "    #plt.plot(peaks_red, red_filt[peaks_red], \"x\")\n",
    "    #plt.plot(peaks_red_min, red_filt[peaks_red_min], \"x\")\n",
    "    # labels and titles\n",
    "    #plt.title('Filtered IR signal')\n",
    "    #plt.xlabel('$Index$') \n",
    "    #plt.ylabel('$PPG$') \n",
    "    return -ir_filt # return the BVP data"
   ]
  }
 ],
 "metadata": {
  "kernelspec": {
   "display_name": "Python 3",
   "language": "python",
   "name": "python3"
  },
  "language_info": {
   "codemirror_mode": {
    "name": "ipython",
    "version": 3
   },
   "file_extension": ".py",
   "mimetype": "text/x-python",
   "name": "python",
   "nbconvert_exporter": "python",
   "pygments_lexer": "ipython3",
   "version": "3.9.13"
  },
  "orig_nbformat": 4
 },
 "nbformat": 4,
 "nbformat_minor": 2
}
