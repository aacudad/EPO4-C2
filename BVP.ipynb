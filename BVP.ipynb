{
 "cells": [
  {
   "cell_type": "code",
   "execution_count": 2,
   "metadata": {},
   "outputs": [],
   "source": [
    "import ipynb\n",
    "import numpy as np\n",
    "import pandas as pd\n",
    "import matplotlib.pyplot as plt\n",
    "import os\n",
    "import pickle\n",
    "import scipy\n",
    "import neurokit2 as nk\n",
    "import random\n",
    "import pyhrv"
   ]
  },
  {
   "cell_type": "code",
   "execution_count": 7,
   "metadata": {},
   "outputs": [],
   "source": [
    "def get_bvpfeatures(data):\n",
    "    features_bvp = None\n",
    "\n",
    "    df, info = nk.ppg_process(data, sampling_rate=100)\n",
    "\n",
    "    features = nk.ppg_intervalrelated(df)\n",
    "    return features"
   ]
  },
  {
   "cell_type": "code",
   "execution_count": 1,
   "metadata": {},
   "outputs": [],
   "source": [
    "def bvp_prep(data):\n",
    "    data = data.fillna(method=\"ffill\")\n",
    "    data = data.fillna(method=\"bfill\")\n",
    "    data = data.drop(['HRV_LF','HRV_LFn','HRV_LFHF'], axis = 1)\n",
    "    data[['HRV_HF', 'HRV_VHF', 'HRV_HFn', 'HRV_LnHF', 'HRV_MSE', 'HRV_CMSE', 'HRV_RCMSE']] = data[['HRV_HF', 'HRV_VHF', 'HRV_HFn', 'HRV_LnHF', 'HRV_MSE', 'HRV_CMSE', 'HRV_RCMSE']].replace(np.nan, 0) \n",
    "    data = data.dropna(axis='columns')\n",
    "    features = data\n",
    "    features.replace([np.inf, -np.inf], np.nan, inplace=True)\n",
    "    features = features.dropna(axis='columns')\n",
    "    #features.drop(columns=features.columns[:2], axis=1,  inplace=True)\n",
    "    #features = features.reset_index()\n",
    "    return features"
   ]
  },
  {
   "cell_type": "code",
   "execution_count": 9,
   "metadata": {},
   "outputs": [],
   "source": [
    "def sensorPPGfilter(data):\n",
    "    fs = 400\n",
    "    ir_data = data.iloc[100:,[3]]\n",
    "\n",
    "    plt.figure(figsize=(20,4))\n",
    "    #plt.plot(ir_data)\n",
    "    # labels and titles\n",
    "    #plt.title('Raw IR signal')\n",
    "    #plt.xlabel('$Index$') \n",
    "    #plt.ylabel('$PPG$') \n",
    "    #plt.figure(figsize=(20,4))\n",
    "\n",
    "    ir_data_clean = nk.ppg_clean(ir_data, method='nabian2018', sampling_rate=1000)\n",
    "\n",
    "    # Parameters \n",
    "    order = 4\n",
    "    frequency = np.array([0.5,10])\n",
    "    sampling_rate = 300\n",
    "    frequency = frequency / (sampling_rate / 2)  # Normalize frequency to Nyquist Frequency (Fs/2).\n",
    "\n",
    "    # Filtering\n",
    "    b, a = scipy.signal.butter(order, frequency, btype='band')\n",
    "    ir_filt = scipy.signal.filtfilt(b, a, ir_data_clean, axis=0)\n",
    "\n",
    "    peaks_red, _ = find_peaks(np.array(ir_filt), height=0, distance=0.5*fs)\n",
    "    peaks_red_min, _ = find_peaks(-ir_filt, height=0, distance=0.5*fs)\n",
    "\n",
    "    ir_filt = scipy.signal.filtfilt(b, a, ir_data_clean, axis=0)[peaks_red_min[0]-1:peaks_red_min[-1]-1]\n",
    "    peaks_red, _ = find_peaks(np.array(ir_filt), height=0, distance=0.5*fs)\n",
    "    peaks_red_min, _ = find_peaks(-ir_filt, height=0, distance=0.5*fs)\n",
    "\n",
    "    # plot\n",
    "    plt.figure(figsize=(20,4))\n",
    "    #plt.plot((red_data-red_data.iloc[0,0]))\n",
    "    plt.plot(-ir_filt)\n",
    "    #plt.plot(peaks_red, red_filt[peaks_red], \"x\")\n",
    "    #plt.plot(peaks_red_min, red_filt[peaks_red_min], \"x\")\n",
    "    # labels and titles\n",
    "    plt.title('Filtered IR signal')\n",
    "    plt.xlabel('$Index$') \n",
    "    plt.ylabel('$PPG$') \n",
    "    return -ir_filt"
   ]
  }
 ],
 "metadata": {
  "kernelspec": {
   "display_name": "Python 3",
   "language": "python",
   "name": "python3"
  },
  "language_info": {
   "codemirror_mode": {
    "name": "ipython",
    "version": 3
   },
   "file_extension": ".py",
   "mimetype": "text/x-python",
   "name": "python",
   "nbconvert_exporter": "python",
   "pygments_lexer": "ipython3",
   "version": "3.9.13"
  },
  "orig_nbformat": 4
 },
 "nbformat": 4,
 "nbformat_minor": 2
}
