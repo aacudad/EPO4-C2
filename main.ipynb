{
 "cells": [
  {
   "cell_type": "code",
   "execution_count": 133,
   "metadata": {},
   "outputs": [],
   "source": [
    "import ipynb\n",
    "import numpy as np\n",
    "import pandas as pd\n",
    "import matplotlib.pyplot as plt\n",
    "import os\n",
    "import pickle\n",
    "from scipy import signal\n",
    "# import neurokit2 as nk\n",
    "import random\n",
    "# %matplotlib inline \n",
    "import pyhrv\n",
    "import ipynb\n",
    "\n",
    "# functions for features extraction\n",
    "from ipynb.fs.full.ECG_features import get_ecgfeatures\n",
    "from ipynb.fs.full.EDA import get_edaindex, get_edafeatures"
   ]
  },
  {
   "cell_type": "code",
   "execution_count": 134,
   "metadata": {},
   "outputs": [],
   "source": [
    "# Dataset reading\n",
    "class read_data_of_one_subject:\n",
    "            \"\"\"Read data from WESAD dataset\"\"\"\n",
    "            def __init__(self, path, subject):\n",
    "                self.keys = ['label', 'subject', 'signal']\n",
    "                self.signal_keys = ['wrist', 'chest']\n",
    "                self.chest_sensor_keys = ['ACC', 'ECG', 'EDA', 'EMG', 'Resp', 'Temp']\n",
    "                self.wrist_sensor_keys = ['ACC', 'BVP', 'EDA', 'TEMP']\n",
    "                #os.chdir(path)\n",
    "                #os.chdir(subject)\n",
    "                with open(path + subject +'/'+subject + '.pkl', 'rb') as file:\n",
    "                    data = pickle.load(file, encoding='latin1')\n",
    "                self.data = data\n",
    "\n",
    "            def get_labels(self):\n",
    "                return self.data[self.keys[0]]\n",
    "\n",
    "            def get_wrist_data(self):\n",
    "                \"\"\"\"\"\"\n",
    "                #label = self.data[self.keys[0]]\n",
    "                assert subject == self.data[self.keys[1]]\n",
    "                signal = self.data[self.keys[2]]\n",
    "                wrist_data = signal[self.signal_keys[0]]\n",
    "                #wrist_ACC = wrist_data[self.wrist_sensor_keys[0]]\n",
    "                #wrist_ECG = wrist_data[self.wrist_sensor_keys[1]]\n",
    "                return wrist_data\n",
    "\n",
    "            def get_chest_data(self):\n",
    "                \"\"\"\"\"\"\n",
    "                signal = self.data[self.keys[2]]\n",
    "                chest_data = signal[self.signal_keys[1]]\n",
    "                return chest_data"
   ]
  },
  {
   "cell_type": "code",
   "execution_count": 135,
   "metadata": {},
   "outputs": [
    {
     "name": "stdout",
     "output_type": "stream",
     "text": [
      "S2\n",
      "S3\n",
      "S4\n",
      "S5\n",
      "S6\n",
      "S7\n",
      "S8\n",
      "S9\n",
      "S10\n",
      "S11\n",
      "S12\n",
      "S13\n",
      "S14\n",
      "S15\n",
      "S16\n",
      "S17\n"
     ]
    }
   ],
   "source": [
    "# Set up empty dataframes for the features\n",
    "ecgfeatures = pd.DataFrame(None, columns= ['HR_mean', 'HR_min', 'HR_max', 'HR_std', 'SDNN', 'SDANN', 'RMSSD', 'SDSD','pNN50', 'pNN20', \n",
    "                                    'abs_power_VLF', 'abs_power_LF', 'abs_power_HF', 'tot_power', 'LF/HF', \n",
    "                                    'peak_vlf', 'peak_lf', 'peak_hf', 'norm_power_LF', 'norm_power_HF'])\n",
    "edafeatures = None\n",
    "\n",
    "fs = 700 # sampling frequency\n",
    "y = []\n",
    "# data_set_path= \"C:/Users/JackC/Documents/EPO4/WESAD/WESAD/\" # Folder path\n",
    "#data_set_path= \"C:/Users/riche/Downloads/WESAD/WESAD/\" # Folder path\n",
    "data_set_path = \"C:/Users/Adnane/Downloads/WESAD/WESAD/\"\n",
    "\n",
    "for i in range(16): # 15 subjects\n",
    "    subject = 'S'+str(i+2) # Cycle through S2 to S17\n",
    "    print(subject)\n",
    "    if subject != 'S12': # Skip S12, because it does not exist\n",
    "        # Object instantiation\n",
    "        obj_data = {}\n",
    "\n",
    "        # Accessing class attributes and method through objects\n",
    "        obj_data[subject] = read_data_of_one_subject(data_set_path, subject)\n",
    "\n",
    "        chest_data_dict = obj_data[subject].get_chest_data()\n",
    "        chest_dict_length = {key: len(value) for key, value in chest_data_dict.items()}\n",
    "\n",
    "        # Get labels\n",
    "        labels = obj_data[subject].get_labels()\n",
    "\n",
    "        for label in range(1,5): # for every state of stress\n",
    "            \n",
    "            baseline = np.asarray([idx for idx,val in enumerate(labels) if val == label])\n",
    "\n",
    "            eda_base=chest_data_dict['EDA'][baseline,0] # Select the EDA data\n",
    "            ecg_base=chest_data_dict['ECG'][baseline,0] # Select the ECG data\n",
    "            resp_base=chest_data_dict['Resp'][baseline,0] # Select the respiration data\n",
    "\n",
    "            #tonic, phasic, start, end = get_edaindex(eda_base, fs)\n",
    "\n",
    "            #Matching the index of the phasic to the other signals\n",
    "            #ecg = ecg_base[start: end]\n",
    "            #resp = resp_base[start: end]\n",
    "            #tonic = tonic[start: end]\n",
    "            duration = 25\n",
    "\n",
    "            # Multiple smaller samples per signal\n",
    "            samples = 10 # specify amount of samples\n",
    "            \n",
    "            for j in range(samples):\n",
    "\n",
    "                # adding the labels to y\n",
    "                if label==3 or label==4: # if amusement or medidation, classify as non-stress\n",
    "                    y.append(1)\n",
    "                else:\n",
    "                    y.append(label)\n",
    "\n",
    "                # choosing a random begin point for smaller sample\n",
    "                begin = random.randint(0, min(len(ecg_base),len(ecg_base))- duration * fs)\n",
    "\n",
    "                ecg = ecg_base[begin: begin + duration*fs]\n",
    "                eda = eda_base[begin: begin + duration*fs]\n",
    "\n",
    "                 # splitting sample into 10 smaller even-sized parts\n",
    "                #ecg = ecg_base[int(len(ecg_base)* (j/samples)) : int(len(ecg_base)* ((j+1)/samples))]\n",
    "                #eda = eda_base[int(len(eda_base)* (j/samples)) : int(len(eda_base)* ((j+1)/samples))]\n",
    "\n",
    "                # getting the eda and ecg features\n",
    "                index = subject + str(label) + str(j)\n",
    "                tonic, phasic, start, end = get_edaindex(eda, fs)\n",
    "                edafeatures = get_edafeatures(index, edafeatures, phasic, tonic, fs)\n",
    "                ecgfeatures = get_ecgfeatures(ecg, fs, ecgfeatures, index)\n",
    "\n",
    "            ## One sample per signal\n",
    "#\n",
    "            #if label==3 or label==4:\n",
    "            #        y.append(1)\n",
    "            #else:\n",
    "            #    y.append(label)\n",
    "#\n",
    "            #index = subject + str(label) \n",
    "            #edafeatures = get_edafeatures(index, edafeatures, phasic, tonic, fs)\n",
    "            #ecgfeatures = get_ecgfeatures(ecg, fs, ecgfeatures, index)\n",
    "\n",
    "\n",
    "            # Plot a signal\n",
    "\n",
    "            # t=np.arange(0,eda_base.size*(1/fs),(1/fs))\n",
    "            # t=t[:eda_base.size]\n",
    "            \n",
    "            # plt.figure(figsize=(12,4))\n",
    "            # plt.plot(t, eda_base)\n",
    "            # plt.xlabel('$Time (s)$') \n",
    "            # plt.ylabel('$signal$')\n"
   ]
  },
  {
   "cell_type": "code",
   "execution_count": 136,
   "metadata": {},
   "outputs": [],
   "source": [
    "# saving the feature data in csv files\n",
    "edafeatures.to_csv(\"EDA_features.csv\")\n",
    "ecgfeatures.to_csv(\"ECG_features.csv\")\n",
    "\n",
    "features = pd.merge(ecgfeatures, edafeatures, left_index=True, right_index=True)\n",
    "features.to_csv(\"features_\"+str(samples)+\"_samp.csv\") # csv for smaller samples"
   ]
  },
  {
   "cell_type": "code",
   "execution_count": 137,
   "metadata": {},
   "outputs": [],
   "source": [
    "# reading from csv file if necessary\n",
    "# multiple samples\n",
    "#samples = 10 # specify which csv file with amount of samples\n",
    "#features = pd.read_csv(\"features_\"+str(samples)+\"_samp.csv\", index_col=0)\n",
    "#total_features = features"
   ]
  },
  {
   "cell_type": "code",
   "execution_count": 138,
   "metadata": {},
   "outputs": [],
   "source": [
    "from sklearn.preprocessing import StandardScaler\n",
    "from sklearn.decomposition import PCA\n",
    "from sklearn.linear_model import LogisticRegression\n",
    "from sklearn.model_selection import train_test_split\n",
    "from sklearn import svm"
   ]
  },
  {
   "cell_type": "code",
   "execution_count": 139,
   "metadata": {},
   "outputs": [],
   "source": [
    "total_features = pd.merge(ecgfeatures, edafeatures, left_index=True, right_index=True)\n",
    "y_feat = y"
   ]
  },
  {
   "attachments": {},
   "cell_type": "markdown",
   "metadata": {},
   "source": [
    "# Performing PCA"
   ]
  },
  {
   "cell_type": "code",
   "execution_count": 140,
   "metadata": {},
   "outputs": [],
   "source": [
    "# normalize data\n",
    "scaler = StandardScaler().fit(features)\n",
    "X_train = scaler.transform(features)\n",
    "\n",
    "n = 25\n",
    "# perform PCA\n",
    "pca = PCA(n_components=n)\n",
    "pca.fit(X_train)\n",
    "X_train_pca = pca.transform(X_train)\n",
    "x_train = X_train_pca[:,0:3] # Three best features\n",
    "\n",
    "# plot two best features\n",
    "# plt.figure(figsize=(8,6))\n",
    "# plt.scatter(X_train_pca[:,0], X_train_pca[:,1], c=y)"
   ]
  },
  {
   "cell_type": "code",
   "execution_count": 141,
   "metadata": {},
   "outputs": [
    {
     "data": {
      "text/plain": [
       "<matplotlib.legend.Legend at 0x1dc56697820>"
      ]
     },
     "execution_count": 141,
     "metadata": {},
     "output_type": "execute_result"
    },
    {
     "data": {
      "image/png": "[encoded data removed]",
      "text/plain": [
       "<Figure size 640x480 with 1 Axes>"
      ]
     },
     "metadata": {},
     "output_type": "display_data"
    }
   ],
   "source": [
    "# plot feature variance\n",
    "plt.bar(range(0,n), pca.explained_variance_ratio_, label=\"individual var\");\n",
    "plt.step(range(0,n), np.cumsum(pca.explained_variance_ratio_),'r', label=\"cumulative var\");\n",
    "plt.xlabel('Principal component index'); plt.ylabel('explained variance ratio %');\n",
    "plt.legend()"
   ]
  },
  {
   "cell_type": "code",
   "execution_count": 142,
   "metadata": {},
   "outputs": [
    {
     "name": "stdout",
     "output_type": "stream",
     "text": [
      "600\n"
     ]
    }
   ],
   "source": [
    "# Splitting the data in train and test data\n",
    "print(len(x_train))\n",
    "X_train, X_test, y_train, y_test = train_test_split(x_train, y, test_size=0.2, random_state=5)\n",
    "\n",
    "# Scaling the data\n",
    "scaler = StandardScaler().fit(X_train)\n",
    "X_train = scaler.transform(X_train)\n",
    "X_test = scaler.transform(X_test)"
   ]
  },
  {
   "attachments": {},
   "cell_type": "markdown",
   "metadata": {},
   "source": [
    "# Logistic regression"
   ]
  },
  {
   "cell_type": "code",
   "execution_count": 143,
   "metadata": {},
   "outputs": [],
   "source": [
    "from sklearn.linear_model import LogisticRegression\n",
    "logistic_model = LogisticRegression()\n",
    "logistic_model.fit(X_train, y_train)\n",
    "Y_test_pred = logistic_model.predict(X_test)\n",
    "log_score = logistic_model.score(X_test,y_test)"
   ]
  },
  {
   "attachments": {},
   "cell_type": "markdown",
   "metadata": {},
   "source": [
    "# SVM"
   ]
  },
  {
   "cell_type": "code",
   "execution_count": 144,
   "metadata": {},
   "outputs": [],
   "source": [
    "from sklearn import datasets, svm\n",
    "svm_model = svm.SVC()\n",
    "svm_model.fit(X_train, y_train)\n",
    "Y_test_pred = svm_model.predict(X_test)\n",
    "svm_score = svm_model.score(X_test,y_test)"
   ]
  },
  {
   "attachments": {},
   "cell_type": "markdown",
   "metadata": {},
   "source": [
    "# Neural Networks"
   ]
  },
  {
   "cell_type": "code",
   "execution_count": 145,
   "metadata": {},
   "outputs": [
    {
     "name": "stdout",
     "output_type": "stream",
     "text": [
      "[0.800000011920929, 0.8833333253860474, 0.875, 0.8833333253860474, 0.8500000238418579]\n",
      "Average Validation Accuracy: 0.8583333373069764\n"
     ]
    }
   ],
   "source": [
    "from sklearn.model_selection import train_test_split\n",
    "from sklearn.preprocessing import StandardScaler\n",
    "from sklearn.decomposition import PCA\n",
    "from tensorflow.keras.utils import to_categorical\n",
    "from tensorflow.keras.models import Sequential\n",
    "from tensorflow.keras.layers import Dense, Dropout\n",
    "from tensorflow.keras.optimizers import Adam\n",
    "\n",
    "val_accuracies = []\n",
    "for i in range(5): # run 5 times with 5 random states to determine model accuracy\n",
    "    # Splitting the data in train and test data\n",
    "    X_train, X_test, y_train, y_test = train_test_split(x_train, y, test_size=0.2, random_state= i + 1)\n",
    "\n",
    "    # Scaling the data\n",
    "    scaler = StandardScaler().fit(X_train)\n",
    "    X_train = scaler.transform(X_train)\n",
    "    X_test = scaler.transform(X_test)\n",
    "    ## Convert labels to categorical\n",
    "    y_train_cat = to_categorical(y_train)\n",
    "    y_test_cat = to_categorical(y_test)\n",
    "\n",
    "    # Define the feedforward neural network\n",
    "    neural_model = Sequential()\n",
    "    neural_model.add(Dense(64, activation='relu', input_shape=(3,)))\n",
    "    neural_model.add(Dense(64, activation='relu'))\n",
    "    neural_model.add(Dense(64, activation='relu'))\n",
    "    neural_model.add(Dense(64, activation = 'relu'))\n",
    "    neural_model.add(Dropout(0.5))\n",
    "    neural_model.add(Dense(3, activation='softmax'))\n",
    "\n",
    "    # Compile the model\n",
    "    optimizer = Adam(learning_rate=0.001)\n",
    "    neural_model.compile(loss='categorical_crossentropy',\n",
    "                  optimizer=optimizer,\n",
    "                  metrics=['accuracy'])\n",
    "\n",
    "    # Train the model\n",
    "    # history = model.fit(X_train_pca, y_train, validation_data=(X_test_pca, y_test), epochs=45, batch_size=100, verbose=2)\n",
    "    history = neural_model.fit(X_train, y_train_cat, validation_data=(X_test, y_test_cat), epochs=45, batch_size=100, verbose=0)\n",
    "    val_accuracy = history.history['val_accuracy'][-1]\n",
    "    val_accuracies.append(val_accuracy) # accuracy score\n",
    "\n",
    "print(val_accuracies)\n",
    "avg_val_accuracy = sum(val_accuracies) / len(val_accuracies) # average of accurracy scores\n",
    "print(\"Average Validation Accuracy:\", avg_val_accuracy)"
   ]
  },
  {
   "cell_type": "code",
   "execution_count": 146,
   "metadata": {},
   "outputs": [
    {
     "data": {
      "text/plain": [
       "<matplotlib.legend.Legend at 0x1dbf8d22e90>"
      ]
     },
     "execution_count": 146,
     "metadata": {},
     "output_type": "execute_result"
    },
    {
     "data": {
      "image/png": "[encoded data removed]",
      "text/plain": [
       "<Figure size 640x480 with 1 Axes>"
      ]
     },
     "metadata": {},
     "output_type": "display_data"
    }
   ],
   "source": [
    "plt.plot(history.history['accuracy'])\n",
    "plt.plot(history.history['val_accuracy'])\n",
    "plt.legend(['accuracy', 'val_accuracy'])"
   ]
  },
  {
   "attachments": {},
   "cell_type": "markdown",
   "metadata": {},
   "source": [
    "# AdaBoost"
   ]
  },
  {
   "cell_type": "code",
   "execution_count": 147,
   "metadata": {},
   "outputs": [
    {
     "name": "stdout",
     "output_type": "stream",
     "text": [
      "[0.8388888888888889, 0.9055555555555556, 0.8277777777777777, 0.8555555555555555, 0.8555555555555555, 0.8555555555555555, 0.8222222222222222, 0.8444444444444444, 0.8055555555555556, 0.8166666666666667, 0.8777777777777778, 0.8944444444444445, 0.85, 0.8611111111111112, 0.8666666666666667, 0.85, 0.8833333333333333, 0.8222222222222222, 0.8388888888888889, 0.85, 0.8666666666666667, 0.85, 0.8277777777777777, 0.8833333333333333, 0.8888888888888888, 0.8722222222222222, 0.8777777777777778, 0.8611111111111112, 0.8722222222222222, 0.8833333333333333, 0.9055555555555556, 0.85, 0.8555555555555555, 0.8611111111111112, 0.8388888888888889, 0.8, 0.8166666666666667, 0.8611111111111112, 0.8666666666666667, 0.8388888888888889, 0.8666666666666667, 0.8444444444444444, 0.8555555555555555, 0.8833333333333333, 0.8444444444444444, 0.8666666666666667, 0.8444444444444444, 0.8833333333333333, 0.8555555555555555, 0.8666666666666667, 0.8611111111111112, 0.8722222222222222, 0.8833333333333333, 0.8611111111111112, 0.8611111111111112, 0.9277777777777778, 0.8611111111111112, 0.8777777777777778, 0.7944444444444444, 0.8611111111111112, 0.8777777777777778, 0.8611111111111112, 0.8055555555555556, 0.8944444444444445, 0.8277777777777777, 0.8444444444444444, 0.8555555555555555, 0.8666666666666667, 0.8333333333333334, 0.8722222222222222, 0.8277777777777777, 0.8777777777777778, 0.8722222222222222, 0.8722222222222222, 0.8611111111111112, 0.8611111111111112, 0.8666666666666667, 0.9, 0.8777777777777778, 0.8444444444444444, 0.7944444444444444, 0.8444444444444444, 0.8388888888888889, 0.8777777777777778, 0.8611111111111112, 0.8111111111111111, 0.8555555555555555, 0.8611111111111112, 0.8777777777777778, 0.85, 0.85, 0.8722222222222222, 0.8611111111111112, 0.85, 0.85, 0.8222222222222222, 0.8, 0.8555555555555555, 0.8555555555555555, 0.8555555555555555, 0.8833333333333333, 0.8611111111111112, 0.8777777777777778, 0.8444444444444444, 0.8055555555555556, 0.8611111111111112, 0.8611111111111112, 0.85, 0.8722222222222222, 0.8222222222222222, 0.8277777777777777, 0.8722222222222222, 0.8722222222222222, 0.8555555555555555, 0.85, 0.8944444444444445, 0.8277777777777777, 0.8444444444444444, 0.8722222222222222, 0.8388888888888889, 0.8555555555555555, 0.8277777777777777, 0.9, 0.8444444444444444, 0.8277777777777777, 0.8444444444444444, 0.8722222222222222, 0.8611111111111112, 0.8888888888888888, 0.85, 0.8555555555555555, 0.8555555555555555, 0.8333333333333334, 0.85, 0.8833333333333333, 0.9, 0.8611111111111112, 0.8277777777777777, 0.8444444444444444, 0.8611111111111112, 0.8277777777777777, 0.8333333333333334, 0.8333333333333334, 0.8444444444444444, 0.8888888888888888, 0.8555555555555555, 0.8444444444444444, 0.8833333333333333, 0.8277777777777777, 0.8944444444444445, 0.8722222222222222, 0.8611111111111112, 0.8277777777777777, 0.8611111111111112, 0.9055555555555556, 0.8666666666666667, 0.8444444444444444, 0.85, 0.8388888888888889, 0.8166666666666667, 0.8055555555555556, 0.8166666666666667, 0.8388888888888889, 0.8222222222222222, 0.8333333333333334, 0.8722222222222222, 0.8777777777777778, 0.8277777777777777, 0.8222222222222222, 0.8555555555555555, 0.8555555555555555, 0.85, 0.8944444444444445, 0.8166666666666667, 0.8555555555555555, 0.7666666666666667, 0.8277777777777777, 0.8166666666666667, 0.8833333333333333, 0.8388888888888889, 0.8388888888888889, 0.8166666666666667, 0.8388888888888889, 0.8833333333333333, 0.8388888888888889, 0.8444444444444444, 0.8444444444444444, 0.8277777777777777, 0.8555555555555555, 0.8722222222222222, 0.8277777777777777, 0.7888888888888889, 0.8277777777777777, 0.8555555555555555, 0.8, 0.8555555555555555, 0.8277777777777777, 0.85, 0.8555555555555555, 0.8722222222222222]\n",
      "0.8526666666666667\n"
     ]
    }
   ],
   "source": [
    "# Import the AdaBoost classifier\n",
    "from sklearn.ensemble import AdaBoostClassifier\n",
    "Ada_scores = [[]]*200\n",
    "for i in range(200):\n",
    "    X_train, X_test, y_train, y_test = train_test_split(x_train, y, test_size=0.3, random_state= i+1)\n",
    "    # Create adaboost classifer object\n",
    "    abc= AdaBoostClassifier(n_estimators=50, learning_rate=1, random_state=5)\n",
    "\n",
    "    # Train Adaboost Classifer\n",
    "    adaboost_model = abc.fit(X_train, y_train)\n",
    "\n",
    "\n",
    "#Predict the response for test dataset\n",
    "# y_pred = model1.predict(X_test)\n",
    "    score30= adaboost_model.score(X_test, y_test)\n",
    "    Ada_scores[i] = score30\n",
    "print(Ada_scores)\n",
    "print(np.mean(Ada_scores))\n",
    "#predictions = adaboost_model.predict(X_test)\n",
    "#print(predictions != y_test)\n",
    "#print(score30)"
   ]
  },
  {
   "cell_type": "code",
   "execution_count": 200,
   "metadata": {},
   "outputs": [
    {
     "name": "stdout",
     "output_type": "stream",
     "text": [
      "0.8641666666666667\n",
      "120\n"
     ]
    },
    {
     "data": {
      "text/plain": [
       "[<matplotlib.lines.Line2D at 0x1db94624490>]"
      ]
     },
     "execution_count": 200,
     "metadata": {},
     "output_type": "execute_result"
    },
    {
     "data": {
      "image/png": "[encoded data removed]",
      "text/plain": [
       "<Figure size 640x480 with 1 Axes>"
      ]
     },
     "metadata": {},
     "output_type": "display_data"
    }
   ],
   "source": [
    "from sklearn.tree import DecisionTreeClassifier\n",
    "scores_ada = []\n",
    "trainscores_ada = []\n",
    "for i in range (50):\n",
    "      dtree = DecisionTreeClassifier(criterion='entropy', max_depth=1, random_state=1)\n",
    "      adbclassifier = AdaBoostClassifier(base_estimator=dtree,\n",
    "                                    n_estimators=100,\n",
    "                                    learning_rate=1,\n",
    "                                    algorithm = 'SAMME',\n",
    "                                    random_state=1)\n",
    "      X_train, X_test, y_train, y_test = train_test_split(x_train, y, test_size=0.2, random_state= i+1)\n",
    "      adbclassifier.fit(X_train, y_train)\n",
    "      scores_ada.append(adbclassifier.score(X_test,y_test))\n",
    "      trainscores_ada.append(adbclassifier.score(X_train,y_train))\n",
    "print(np.mean(scores_ada))\n",
    "print(len(X_test))\n",
    "plt.ylim(0,1)\n",
    "plt.plot(scores_ada)\n",
    "plt.plot(trainscores_ada)"
   ]
  },
  {
   "attachments": {},
   "cell_type": "markdown",
   "metadata": {},
   "source": [
    "# XGBoost"
   ]
  },
  {
   "cell_type": "code",
   "execution_count": 241,
   "metadata": {},
   "outputs": [
    {
     "name": "stdout",
     "output_type": "stream",
     "text": [
      "0.8606999999999999\n",
      "0.9322541666666666\n"
     ]
    }
   ],
   "source": [
    "from xgboost import XGBClassifier\n",
    "from sklearn.preprocessing import LabelEncoder\n",
    "from sklearn.metrics import accuracy_score\n",
    "label = LabelEncoder()\n",
    "y2 = label.fit_transform(y)\n",
    "y2 = list(y2)\n",
    "xg_scores = []\n",
    "xg_trainscores = []\n",
    "for i in range(500):\n",
    "    X_train, X_test, y_train, y_test = train_test_split(x_train, y2, test_size=0.2, random_state= i+1)\n",
    "    xgb_clf = XGBClassifier(n_estimators = 500,\n",
    "                            learning_rate = 1,\n",
    "                            eval_metric = \"logloss\",\n",
    "                            early_stopping_rounds = 5,\n",
    "                            n_jobs = -1,\n",
    "                            )\n",
    "    xgb_clf.fit(X_train, y_train,                    \n",
    "                eval_set = [(X_test,y_test)],\n",
    "                verbose = False)\n",
    "    pred_test = xgb_clf.predict(X_test)\n",
    "    test_score = accuracy_score(pred_test, y_test)\n",
    "    xg_scores.append(test_score)\n",
    "    pred_test = xgb_clf.predict(X_train)\n",
    "    train_score = accuracy_score(pred_test, y_train)\n",
    "    xg_trainscores.append(train_score)\n",
    "print(np.mean(xg_scores))\n",
    "print(np.mean(xg_trainscores))\n"
   ]
  },
  {
   "cell_type": "code",
   "execution_count": 250,
   "metadata": {},
   "outputs": [
    {
     "data": {
      "text/plain": [
       "[<matplotlib.lines.Line2D at 0x1dbf85c5990>]"
      ]
     },
     "execution_count": 250,
     "metadata": {},
     "output_type": "execute_result"
    },
    {
     "data": {
      "image/png": "[encoded data removed]",
      "text/plain": [
       "<Figure size 640x480 with 1 Axes>"
      ]
     },
     "metadata": {},
     "output_type": "display_data"
    }
   ],
   "source": [
    "plt.ylim(0,1)\n",
    "plt.plot(xg_scores, c = 'blue')\n",
    "plt.plot(xg_trainscores, c = 'green')\n"
   ]
  },
  {
   "cell_type": "code",
   "execution_count": 251,
   "metadata": {},
   "outputs": [
    {
     "name": "stdout",
     "output_type": "stream",
     "text": [
      "Test score: 0.83\n",
      "[0 1 0 1 0 0 0 0 0 0 0 1 1 0 1 0 0 1 1 0 0 0 0 0 1 0 0 1 0 0 0 0 1 1 0 0 0\n",
      " 1 0 0 0 0 1 0 0 1 0 0 0 1 0 0 0 0 0 0 0 1 0 0 0 0 1 0 0 1 0 0 1 0 0 0 0 0\n",
      " 0 0 0 0 0 0 0 0 1 0 0 0 0 0 0 0 1 0 1 0 1 0 0 0 1 1 0 0 0 0 1 0 0 0 0 0 1\n",
      " 0 0 0 1 1 1 1 0 1]\n"
     ]
    }
   ],
   "source": [
    "from sklearn.metrics import accuracy_score\n",
    "pred_test = xgb_clf.predict(X_test)\n",
    "test_score = accuracy_score(pred_test, y_test)\n",
    "print(\"Test score:\", np.round(test_score,2))\n",
    "print(pred_test)"
   ]
  },
  {
   "cell_type": "code",
   "execution_count": 252,
   "metadata": {},
   "outputs": [
    {
     "name": "stdout",
     "output_type": "stream",
     "text": [
      "0.9277777777777778\n"
     ]
    }
   ],
   "source": [
    "print(np.max(Ada_scores))"
   ]
  },
  {
   "attachments": {},
   "cell_type": "markdown",
   "metadata": {},
   "source": [
    "# Random forest method"
   ]
  },
  {
   "cell_type": "code",
   "execution_count": 149,
   "metadata": {},
   "outputs": [
    {
     "name": "stdout",
     "output_type": "stream",
     "text": [
      "[0, 1, 2]\n"
     ]
    }
   ],
   "source": [
    "#from sklearn.datasets import make_classification\n",
    "from sklearn.ensemble import RandomForestClassifier\n",
    "\n",
    "# define the model\n",
    "randomf_model = RandomForestClassifier()\n",
    "\n",
    "# fit/train the model on all features\n",
    "randomf_model.fit(X_train, y_train)\n",
    "Y_test_pred = randomf_model.predict(X_test)\n",
    "\n",
    "# score\n",
    "rf_score=randomf_model.score(X_test, y_test)\n",
    "\n",
    "# get feature importance\n",
    "importance = randomf_model.feature_importances_\n",
    "\n",
    "#creat a dictionary with key=indices, and values=importance\n",
    "important_features_dict = {}\n",
    "for idx, val in enumerate(importance):\n",
    "    important_features_dict[idx] = val\n",
    "# sorting \n",
    "important_features_list = sorted(important_features_dict,\n",
    "                                 key=important_features_dict.get,\n",
    "                                 reverse=True)\n",
    "# print indices of top 5 features\n",
    "print(important_features_list[:5])\n",
    "#plt.plot(importance)"
   ]
  },
  {
   "attachments": {},
   "cell_type": "markdown",
   "metadata": {},
   "source": [
    "# Scores"
   ]
  },
  {
   "cell_type": "code",
   "execution_count": 150,
   "metadata": {},
   "outputs": [],
   "source": [
    "y_test_cat = to_categorical(y_test)\n",
    "y_test1 = y_test_cat.astype('int64')\n",
    "testYarg = np.argmax(y_test1, axis = 1)"
   ]
  },
  {
   "cell_type": "code",
   "execution_count": 151,
   "metadata": {},
   "outputs": [],
   "source": [
    "# function which gives predicted and correct values with missclassifications and scores for neural network\n",
    "def model_predict_neural(X_test, y_test1, model):\n",
    "    predictions = model.predict(X_test)\n",
    "    predictions = np.argmax(predictions, axis = 1)\n",
    "    y_test1 = y_test1.astype('int64')\n",
    "    testYarg = np.argmax(y_test1, axis = 1)\n",
    "    miss_class = np.where(predictions != testYarg)\n",
    "    miss_class = miss_class[0]\n",
    "    print(\"Neural network\")\n",
    "    print(\"Predicted:\",predictions)\n",
    "    print(\"Correct:  \",testYarg)\n",
    "    print(\"Index missclassified:\", miss_class)\n",
    "    print(\"Score:\", val_accuracy, \"\\n\")\n",
    "    return predictions, miss_class, testYarg"
   ]
  },
  {
   "cell_type": "code",
   "execution_count": 152,
   "metadata": {},
   "outputs": [],
   "source": [
    "# function which gives predicted and correct values with missclassifications and scores for rest models\n",
    "def model_predict(X_test, y_test1, model):\n",
    "    predictions = model.predict(X_test)\n",
    "    #y_test1 = y_test1.astype('int64')\n",
    "    #testYarg = np.argmax(y_test1, axis = 1)\n",
    "    miss_class = np.where(predictions != y_test1)\n",
    "    miss_class = miss_class[0]\n",
    "    score=model.score(X_test, y_test1)\n",
    "    print(model)\n",
    "    print(\"Predicted:\",predictions)\n",
    "    print(\"Correct:  \",testYarg)\n",
    "    print(\"Index missclassified:\", miss_class)\n",
    "    print(\"Score:\", score, \"\\n\")\n",
    "    return predictions, miss_class, testYarg"
   ]
  },
  {
   "cell_type": "code",
   "execution_count": 153,
   "metadata": {},
   "outputs": [
    {
     "name": "stdout",
     "output_type": "stream",
     "text": [
      "6/6 [==============================] - 0s 1ms/step\n",
      "Neural network\n",
      "Predicted: [1 1 1 1 1 1 1 1 2 1 1 1 1 1 1 1 2 1 2 2 1 1 1 1 1 1 1 1 1 1 1 1 1 2 1 1 2\n",
      " 1 1 1 2 2 2 1 1 1 1 1 1 1 1 1 1 1 1 1 1 1 1 1 1 1 1 1 2 1 1 2 1 1 1 1 2 2\n",
      " 2 1 1 1 2 1 1 1 1 1 1 2 1 1 2 1 1 1 2 1 1 1 1 1 1 1 1 1 1 1 1 2 2 1 1 1 1\n",
      " 2 1 2 1 1 1 1 2 2 2 1 1 1 1 1 2 2 1 1 1 1 1 1 1 1 1 2 1 2 2 1 1 1 1 1 1 1\n",
      " 1 1 2 1 1 1 1 1 1 1 1 2 1 1 2 2 2 1 2 1 2 1 1 1 2 2 1 1 1 2 1 1]\n",
      "Correct:   [1 1 1 2 1 2 1 1 2 1 2 1 1 1 1 1 2 1 2 1 1 1 1 1 1 1 1 1 1 1 1 1 1 2 2 1 1\n",
      " 2 1 1 2 2 1 1 1 1 1 1 1 1 2 1 1 1 1 1 1 1 1 1 1 1 1 1 2 1 1 1 1 1 1 1 2 1\n",
      " 2 1 1 1 2 2 1 1 1 1 1 2 2 1 2 1 1 1 2 1 1 1 1 1 1 1 1 1 1 1 1 2 2 1 1 1 1\n",
      " 2 2 2 1 1 1 1 2 2 2 1 1 1 1 1 2 1 1 1 1 1 1 1 1 1 1 2 1 1 2 1 1 1 1 1 1 1\n",
      " 2 1 1 1 1 1 1 2 1 1 2 1 1 1 1 2 1 1 2 1 2 1 1 2 1 1 1 1 1 2 1 1]\n",
      "Index missclassified: [  3   5  10  19  34  36  37  42  50  67  73  79  86 112 127 139 148 150\n",
      " 155 158 159 162 164 171 172 173]\n",
      "Score: 0.8500000238418579 \n",
      "\n",
      "LogisticRegression()\n",
      "Predicted: [1 1 1 2 1 1 1 1 2 1 1 1 1 1 1 2 2 1 2 2 1 1 1 1 1 1 1 1 1 1 2 1 1 2 1 1 2\n",
      " 1 1 1 2 2 1 1 1 1 1 1 1 1 1 1 1 2 1 1 1 1 1 1 1 1 1 1 2 1 1 2 1 1 1 1 2 2\n",
      " 2 1 1 1 2 1 1 1 1 1 1 2 1 2 2 1 1 1 2 1 1 1 1 1 1 2 1 1 1 2 2 2 2 1 1 1 2\n",
      " 2 1 2 1 1 1 1 1 2 2 2 1 1 1 2 2 2 1 2 1 2 1 1 2 1 1 2 1 2 1 1 1 2 1 1 1 1\n",
      " 1 1 2 1 1 1 2 1 1 1 2 2 1 1 2 2 2 1 2 1 2 1 1 1 2 2 1 1 2 2 1 2]\n",
      "Correct:   [1 1 1 2 1 2 1 1 2 1 2 1 1 1 1 1 2 1 2 1 1 1 1 1 1 1 1 1 1 1 1 1 1 2 2 1 1\n",
      " 2 1 1 2 2 1 1 1 1 1 1 1 1 2 1 1 1 1 1 1 1 1 1 1 1 1 1 2 1 1 1 1 1 1 1 2 1\n",
      " 2 1 1 1 2 2 1 1 1 1 1 2 2 1 2 1 1 1 2 1 1 1 1 1 1 1 1 1 1 1 1 2 2 1 1 1 1\n",
      " 2 2 2 1 1 1 1 2 2 2 1 1 1 1 1 2 1 1 1 1 1 1 1 1 1 1 2 1 1 2 1 1 1 1 1 1 1\n",
      " 2 1 1 1 1 1 1 2 1 1 2 1 1 1 1 2 1 1 2 1 2 1 1 2 1 1 1 1 1 2 1 1]\n",
      "Index missclassified: [  5  10  15  19  30  34  36  37  50  53  67  73  79  86  87  99 103 104\n",
      " 110 112 118 121 125 127 129 131 134 139 140 143 148 150 154 155 159 162\n",
      " 164 171 172 173 176 179]\n",
      "Score: 0.7666666666666667 \n",
      "\n",
      "SVC()\n",
      "Predicted: [1 1 1 1 1 1 1 1 2 1 1 1 1 1 1 1 2 1 1 1 1 1 1 1 1 1 1 1 1 1 2 1 1 2 1 1 2\n",
      " 1 1 1 1 1 1 1 1 1 1 1 1 1 1 1 1 1 1 1 1 1 1 1 1 1 1 1 1 1 1 2 1 1 1 1 2 2\n",
      " 2 1 1 1 2 1 1 1 1 1 1 2 1 1 1 1 1 1 2 1 1 1 1 1 1 1 1 1 1 2 1 1 1 1 1 1 1\n",
      " 1 1 1 1 1 1 1 1 1 1 1 1 1 1 1 1 2 1 1 1 1 1 1 1 1 1 2 1 2 1 1 1 1 1 1 1 1\n",
      " 1 1 1 1 1 1 1 1 1 1 2 2 1 1 2 2 1 1 2 1 1 1 1 1 2 2 1 1 1 1 1 1]\n",
      "Correct:   [1 1 1 2 1 2 1 1 2 1 2 1 1 1 1 1 2 1 2 1 1 1 1 1 1 1 1 1 1 1 1 1 1 2 2 1 1\n",
      " 2 1 1 2 2 1 1 1 1 1 1 1 1 2 1 1 1 1 1 1 1 1 1 1 1 1 1 2 1 1 1 1 1 1 1 2 1\n",
      " 2 1 1 1 2 2 1 1 1 1 1 2 2 1 2 1 1 1 2 1 1 1 1 1 1 1 1 1 1 1 1 2 2 1 1 1 1\n",
      " 2 2 2 1 1 1 1 2 2 2 1 1 1 1 1 2 1 1 1 1 1 1 1 1 1 1 2 1 1 2 1 1 1 1 1 1 1\n",
      " 2 1 1 1 1 1 1 2 1 1 2 1 1 1 1 2 1 1 2 1 2 1 1 2 1 1 1 1 1 2 1 1]\n",
      "Index missclassified: [  3   5  10  18  30  34  36  37  40  41  50  64  67  73  79  86  88 103\n",
      " 105 106 111 112 113 118 119 120 126 127 139 140 148 155 159 162 168 171\n",
      " 172 173 177]\n",
      "Score: 0.7833333333333333 \n",
      "\n",
      "RandomForestClassifier()\n",
      "Predicted: [1 1 1 1 1 1 1 1 2 1 1 1 1 1 1 1 2 1 2 2 1 1 1 1 1 1 1 1 1 1 1 1 1 2 1 1 1\n",
      " 1 1 1 2 2 1 1 1 1 1 1 1 1 1 1 1 1 1 1 1 1 1 1 1 1 1 1 2 1 1 1 1 1 1 1 2 1\n",
      " 2 1 1 1 2 1 1 1 1 1 1 2 2 1 2 1 1 1 2 1 1 1 1 1 1 1 1 1 2 1 1 2 2 1 1 1 1\n",
      " 2 1 2 1 1 1 1 2 2 2 1 1 1 1 1 2 2 1 1 1 1 1 1 1 1 1 1 1 1 2 1 1 2 1 1 1 1\n",
      " 1 1 1 1 1 1 2 1 1 1 1 2 1 1 1 2 2 1 1 1 2 1 2 1 2 1 1 1 1 2 1 1]\n",
      "Correct:   [1 1 1 2 1 2 1 1 2 1 2 1 1 1 1 1 2 1 2 1 1 1 1 1 1 1 1 1 1 1 1 1 1 2 2 1 1\n",
      " 2 1 1 2 2 1 1 1 1 1 1 1 1 2 1 1 1 1 1 1 1 1 1 1 1 1 1 2 1 1 1 1 1 1 1 2 1\n",
      " 2 1 1 1 2 2 1 1 1 1 1 2 2 1 2 1 1 1 2 1 1 1 1 1 1 1 1 1 1 1 1 2 2 1 1 1 1\n",
      " 2 2 2 1 1 1 1 2 2 2 1 1 1 1 1 2 1 1 1 1 1 1 1 1 1 1 2 1 1 2 1 1 1 1 1 1 1\n",
      " 2 1 1 1 1 1 1 2 1 1 2 1 1 1 1 2 1 1 2 1 2 1 1 2 1 1 1 1 1 2 1 1]\n",
      "Index missclassified: [  3   5  10  19  34  37  50  79 102 112 127 137 143 148 154 155 158 159\n",
      " 164 166 170 171 172]\n",
      "Score: 0.8722222222222222 \n",
      "\n"
     ]
    }
   ],
   "source": [
    "model_predict_neural(X_test, y_test_cat, neural_model)\n",
    "model_predict(X_test, y_test, logistic_model)\n",
    "model_predict(X_test, y_test, svm_model)\n",
    "predictions = model_predict(X_test, y_test, randomf_model)"
   ]
  },
  {
   "attachments": {},
   "cell_type": "markdown",
   "metadata": {},
   "source": [
    "# Cross-validation score of different models"
   ]
  },
  {
   "cell_type": "code",
   "execution_count": 154,
   "metadata": {},
   "outputs": [],
   "source": [
    "from numpy import mean\n",
    "from numpy import std\n",
    "from sklearn.datasets import make_classification\n",
    "from sklearn.model_selection import KFold\n",
    "from sklearn.model_selection import cross_val_score\n",
    "from sklearn.linear_model import LogisticRegression\n",
    "\n",
    "# k-fold Cross-Validation\n",
    "def cross_validation(X, y, model):\n",
    "    cv = KFold(n_splits= 5, random_state=1, shuffle=True)\n",
    "    scores = cross_val_score(model, X,y, scoring='accuracy', cv=cv, n_jobs=-1)\n",
    "    print('Accuracy: %.3f (%.3f)' % (mean(scores), std(scores)))\n",
    "    return scores"
   ]
  },
  {
   "cell_type": "code",
   "execution_count": 155,
   "metadata": {},
   "outputs": [
    {
     "name": "stdout",
     "output_type": "stream",
     "text": [
      "Logistic regression\n",
      "Accuracy: 0.908 (0.026)\n",
      "[0.89166667 0.91666667 0.86666667 0.93333333 0.93333333] \n",
      "\n",
      "SVM\n",
      "Accuracy: 0.797 (0.037)\n",
      "[0.80833333 0.83333333 0.8        0.725      0.81666667] \n",
      "\n",
      "Randomforest\n",
      "Accuracy: 0.930 (0.015)\n",
      "[0.91666667 0.94166667 0.90833333 0.94166667 0.94166667] \n",
      "\n",
      "Neural Network\n",
      "Accuracy: 0.8583333373069764\n",
      "[0.800000011920929, 0.8833333253860474, 0.875, 0.8833333253860474, 0.8500000238418579]\n",
      "ACC std: 0.032 \n",
      "\n"
     ]
    }
   ],
   "source": [
    "# perform on all models\n",
    "print(\"Logistic regression\")\n",
    "cv_logistic = cross_validation(features, y, logistic_model)\n",
    "print(cv_logistic,\"\\n\\nSVM\")\n",
    "cv_svm = cross_validation(features, y, svm_model)\n",
    "print(cv_svm, \"\\n\\nRandomforest\")\n",
    "cv_randomf = cross_validation(features, y, randomf_model)\n",
    "print(cv_randomf, \"\\n\\nNeural Network\")\n",
    "print(\"Accuracy:\", avg_val_accuracy)\n",
    "print(val_accuracies)\n",
    "print ('ACC std:', '{0:0.3f}'.format(np.std(val_accuracies)), \"\\n\")"
   ]
  },
  {
   "attachments": {},
   "cell_type": "markdown",
   "metadata": {},
   "source": [
    "Subject Based"
   ]
  },
  {
   "cell_type": "code",
   "execution_count": 156,
   "metadata": {},
   "outputs": [],
   "source": [
    "features = total_features\n",
    "feat_list = []\n",
    "\n",
    "# take the features from each subject\n",
    "for a in range(15):\n",
    "    df = features[a*samples*4:(a+1)*samples*4]\n",
    "    feat_list.append(df)"
   ]
  },
  {
   "cell_type": "code",
   "execution_count": 157,
   "metadata": {},
   "outputs": [
    {
     "data": {
      "text/plain": [
       "15"
      ]
     },
     "execution_count": 157,
     "metadata": {},
     "output_type": "execute_result"
    }
   ],
   "source": [
    "# define output for each subject\n",
    "y_sb1 = []\n",
    "for i in range(1):\n",
    "    y_sb1.extend(samples * [1])\n",
    "    y_sb1.extend(samples * [2])\n",
    "    y_sb1.extend(samples * [1])\n",
    "    y_sb1.extend(samples * [1])\n",
    "len(feat_list)\n",
    "\n",
    "# output for whole sample\n",
    "y_sb2 = []\n",
    "for i in range(1):\n",
    "    y_sb2.extend([1,2,1,1])\n",
    "len(feat_list)"
   ]
  },
  {
   "cell_type": "code",
   "execution_count": 158,
   "metadata": {},
   "outputs": [],
   "source": [
    "# initialize values for model score lists\n",
    "nnmean_sb = []\n",
    "nnstd_sb = []\n",
    "acc_sb = {}\n",
    "acc_sb['LogisticRegression()'] = []\n",
    "acc_sb['SVC()'] = []\n",
    "acc_sb['RandomForestClassifier()'] = []\n",
    "std_sb = {}\n",
    "std_sb['LogisticRegression()'] = []\n",
    "std_sb['SVC()'] = []\n",
    "std_sb['RandomForestClassifier()'] = []"
   ]
  },
  {
   "cell_type": "code",
   "execution_count": 159,
   "metadata": {},
   "outputs": [
    {
     "name": "stdout",
     "output_type": "stream",
     "text": [
      "Logistic regression\n",
      "[1.    0.625 0.625 0.75  0.875] \n",
      "\n",
      "SVM\n",
      "[1.    0.75  0.75  0.625 0.625] \n",
      "\n",
      "Randomforest\n",
      "[0.875 1.    0.875 0.875 1.   ] \n",
      "\n",
      "Neural Network\n",
      "Logistic regression\n",
      "[1.    0.625 1.    1.    0.875] \n",
      "\n",
      "SVM\n",
      "[1.    0.75  0.75  0.625 0.625] \n",
      "\n",
      "Randomforest\n",
      "[1.    0.875 1.    1.    1.   ] \n",
      "\n",
      "Neural Network\n",
      "Logistic regression\n",
      "[1.    1.    0.875 1.    1.   ] \n",
      "\n",
      "SVM\n",
      "[1.    0.875 0.875 0.625 0.625] \n",
      "\n",
      "Randomforest\n",
      "[1.    1.    0.875 1.    1.   ] \n",
      "\n",
      "Neural Network\n",
      "Logistic regression\n",
      "[1.    0.875 0.875 0.875 1.   ] \n",
      "\n",
      "SVM\n",
      "[1.    0.75  0.625 0.625 0.625] \n",
      "\n",
      "Randomforest\n",
      "[1. 1. 1. 1. 1.] \n",
      "\n",
      "Neural Network\n",
      "Logistic regression\n",
      "[0.875 0.5   0.875 0.875 1.   ] \n",
      "\n",
      "SVM\n",
      "[1.    0.875 0.75  0.75  0.75 ] \n",
      "\n",
      "Randomforest\n",
      "[1.    0.625 0.875 0.875 1.   ] \n",
      "\n",
      "Neural Network\n",
      "Logistic regression\n",
      "[1.    0.875 1.    1.    1.   ] \n",
      "\n",
      "SVM\n",
      "[1.    0.75  0.75  0.625 0.625] \n",
      "\n",
      "Randomforest\n",
      "[1.    0.875 1.    1.    1.   ] \n",
      "\n",
      "Neural Network\n",
      "Logistic regression\n",
      "[1.    0.75  1.    0.75  0.875] \n",
      "\n",
      "SVM\n",
      "[1.    0.75  0.75  0.625 0.625] \n",
      "\n",
      "Randomforest\n",
      "[1.   1.   1.   0.75 1.  ] \n",
      "\n",
      "Neural Network\n",
      "Logistic regression\n",
      "[1.    0.875 0.875 0.875 0.875] \n",
      "\n",
      "SVM\n",
      "[1.    0.75  0.75  0.625 0.625] \n",
      "\n",
      "Randomforest\n",
      "[1.    1.    0.875 0.875 0.875] \n",
      "\n",
      "Neural Network\n",
      "Logistic regression\n",
      "[1.    0.75  0.875 0.875 0.875] \n",
      "\n",
      "SVM\n",
      "[1.    0.625 0.75  0.625 0.625] \n",
      "\n",
      "Randomforest\n",
      "[1.    0.75  1.    1.    0.875] \n",
      "\n",
      "Neural Network\n"
     ]
    },
    {
     "ename": "KeyboardInterrupt",
     "evalue": "",
     "output_type": "error",
     "traceback": [
      "\u001b[1;31m---------------------------------------------------------------------------\u001b[0m",
      "\u001b[1;31mKeyboardInterrupt\u001b[0m                         Traceback (most recent call last)",
      "\u001b[1;32mc:\\Users\\Adnane\\OneDrive - Delft University of Technology\\Documenten\\GitHub\\EPO4-C2\\main.ipynb Cell 37\u001b[0m in \u001b[0;36m8\n\u001b[0;32m     <a href='vscode-notebook-cell:/c%3A/Users/Adnane/OneDrive%20-%20Delft%20University%20of%20Technology/Documenten/GitHub/EPO4-C2/main.ipynb#X44sZmlsZQ%3D%3D?line=72'>73</a>\u001b[0m neural_model_sb\u001b[39m.\u001b[39mcompile(loss\u001b[39m=\u001b[39m\u001b[39m'\u001b[39m\u001b[39mcategorical_crossentropy\u001b[39m\u001b[39m'\u001b[39m,\n\u001b[0;32m     <a href='vscode-notebook-cell:/c%3A/Users/Adnane/OneDrive%20-%20Delft%20University%20of%20Technology/Documenten/GitHub/EPO4-C2/main.ipynb#X44sZmlsZQ%3D%3D?line=73'>74</a>\u001b[0m             optimizer\u001b[39m=\u001b[39moptimizer,\n\u001b[0;32m     <a href='vscode-notebook-cell:/c%3A/Users/Adnane/OneDrive%20-%20Delft%20University%20of%20Technology/Documenten/GitHub/EPO4-C2/main.ipynb#X44sZmlsZQ%3D%3D?line=74'>75</a>\u001b[0m             metrics\u001b[39m=\u001b[39m[\u001b[39m'\u001b[39m\u001b[39maccuracy\u001b[39m\u001b[39m'\u001b[39m])\n\u001b[0;32m     <a href='vscode-notebook-cell:/c%3A/Users/Adnane/OneDrive%20-%20Delft%20University%20of%20Technology/Documenten/GitHub/EPO4-C2/main.ipynb#X44sZmlsZQ%3D%3D?line=76'>77</a>\u001b[0m \u001b[39m# Train the model\u001b[39;00m\n\u001b[0;32m     <a href='vscode-notebook-cell:/c%3A/Users/Adnane/OneDrive%20-%20Delft%20University%20of%20Technology/Documenten/GitHub/EPO4-C2/main.ipynb#X44sZmlsZQ%3D%3D?line=77'>78</a>\u001b[0m \n\u001b[0;32m     <a href='vscode-notebook-cell:/c%3A/Users/Adnane/OneDrive%20-%20Delft%20University%20of%20Technology/Documenten/GitHub/EPO4-C2/main.ipynb#X44sZmlsZQ%3D%3D?line=78'>79</a>\u001b[0m \u001b[39m# history = model.fit(X_train_pca, y_train, validation_data=(X_test_pca, y_test), epochs=45, batch_size=100, verbose=2)\u001b[39;00m\n\u001b[1;32m---> <a href='vscode-notebook-cell:/c%3A/Users/Adnane/OneDrive%20-%20Delft%20University%20of%20Technology/Documenten/GitHub/EPO4-C2/main.ipynb#X44sZmlsZQ%3D%3D?line=79'>80</a>\u001b[0m history \u001b[39m=\u001b[39m neural_model_sb\u001b[39m.\u001b[39;49mfit(X_trainn_sb, y_train_cat_sb, validation_data\u001b[39m=\u001b[39;49m(X_testn_sb, y_test_cat_sb), epochs\u001b[39m=\u001b[39;49m\u001b[39m45\u001b[39;49m, batch_size\u001b[39m=\u001b[39;49m\u001b[39m100\u001b[39;49m, verbose\u001b[39m=\u001b[39;49m\u001b[39m0\u001b[39;49m)\n\u001b[0;32m     <a href='vscode-notebook-cell:/c%3A/Users/Adnane/OneDrive%20-%20Delft%20University%20of%20Technology/Documenten/GitHub/EPO4-C2/main.ipynb#X44sZmlsZQ%3D%3D?line=80'>81</a>\u001b[0m val_accuracy_sb \u001b[39m=\u001b[39m history\u001b[39m.\u001b[39mhistory[\u001b[39m'\u001b[39m\u001b[39mval_accuracy\u001b[39m\u001b[39m'\u001b[39m][\u001b[39m-\u001b[39m\u001b[39m1\u001b[39m]\n\u001b[0;32m     <a href='vscode-notebook-cell:/c%3A/Users/Adnane/OneDrive%20-%20Delft%20University%20of%20Technology/Documenten/GitHub/EPO4-C2/main.ipynb#X44sZmlsZQ%3D%3D?line=81'>82</a>\u001b[0m val_accuracies_sb\u001b[39m.\u001b[39mappend(val_accuracy_sb) \u001b[39m# accuracy score\u001b[39;00m\n",
      "File \u001b[1;32mc:\\Program Files\\Python310\\lib\\site-packages\\keras\\utils\\traceback_utils.py:65\u001b[0m, in \u001b[0;36mfilter_traceback.<locals>.error_handler\u001b[1;34m(*args, **kwargs)\u001b[0m\n\u001b[0;32m     63\u001b[0m filtered_tb \u001b[39m=\u001b[39m \u001b[39mNone\u001b[39;00m\n\u001b[0;32m     64\u001b[0m \u001b[39mtry\u001b[39;00m:\n\u001b[1;32m---> 65\u001b[0m     \u001b[39mreturn\u001b[39;00m fn(\u001b[39m*\u001b[39margs, \u001b[39m*\u001b[39m\u001b[39m*\u001b[39mkwargs)\n\u001b[0;32m     66\u001b[0m \u001b[39mexcept\u001b[39;00m \u001b[39mException\u001b[39;00m \u001b[39mas\u001b[39;00m e:\n\u001b[0;32m     67\u001b[0m     filtered_tb \u001b[39m=\u001b[39m _process_traceback_frames(e\u001b[39m.\u001b[39m__traceback__)\n",
      "File \u001b[1;32mc:\\Program Files\\Python310\\lib\\site-packages\\keras\\engine\\training.py:1729\u001b[0m, in \u001b[0;36mModel.fit\u001b[1;34m(self, x, y, batch_size, epochs, verbose, callbacks, validation_split, validation_data, shuffle, class_weight, sample_weight, initial_epoch, steps_per_epoch, validation_steps, validation_batch_size, validation_freq, max_queue_size, workers, use_multiprocessing)\u001b[0m\n\u001b[0;32m   1714\u001b[0m \u001b[39mif\u001b[39;00m \u001b[39mgetattr\u001b[39m(\u001b[39mself\u001b[39m, \u001b[39m\"\u001b[39m\u001b[39m_eval_data_handler\u001b[39m\u001b[39m\"\u001b[39m, \u001b[39mNone\u001b[39;00m) \u001b[39mis\u001b[39;00m \u001b[39mNone\u001b[39;00m:\n\u001b[0;32m   1715\u001b[0m     \u001b[39mself\u001b[39m\u001b[39m.\u001b[39m_eval_data_handler \u001b[39m=\u001b[39m data_adapter\u001b[39m.\u001b[39mget_data_handler(\n\u001b[0;32m   1716\u001b[0m         x\u001b[39m=\u001b[39mval_x,\n\u001b[0;32m   1717\u001b[0m         y\u001b[39m=\u001b[39mval_y,\n\u001b[1;32m   (...)\u001b[0m\n\u001b[0;32m   1727\u001b[0m         steps_per_execution\u001b[39m=\u001b[39m\u001b[39mself\u001b[39m\u001b[39m.\u001b[39m_steps_per_execution,\n\u001b[0;32m   1728\u001b[0m     )\n\u001b[1;32m-> 1729\u001b[0m val_logs \u001b[39m=\u001b[39m \u001b[39mself\u001b[39;49m\u001b[39m.\u001b[39;49mevaluate(\n\u001b[0;32m   1730\u001b[0m     x\u001b[39m=\u001b[39;49mval_x,\n\u001b[0;32m   1731\u001b[0m     y\u001b[39m=\u001b[39;49mval_y,\n\u001b[0;32m   1732\u001b[0m     sample_weight\u001b[39m=\u001b[39;49mval_sample_weight,\n\u001b[0;32m   1733\u001b[0m     batch_size\u001b[39m=\u001b[39;49mvalidation_batch_size \u001b[39mor\u001b[39;49;00m batch_size,\n\u001b[0;32m   1734\u001b[0m     steps\u001b[39m=\u001b[39;49mvalidation_steps,\n\u001b[0;32m   1735\u001b[0m     callbacks\u001b[39m=\u001b[39;49mcallbacks,\n\u001b[0;32m   1736\u001b[0m     max_queue_size\u001b[39m=\u001b[39;49mmax_queue_size,\n\u001b[0;32m   1737\u001b[0m     workers\u001b[39m=\u001b[39;49mworkers,\n\u001b[0;32m   1738\u001b[0m     use_multiprocessing\u001b[39m=\u001b[39;49muse_multiprocessing,\n\u001b[0;32m   1739\u001b[0m     return_dict\u001b[39m=\u001b[39;49m\u001b[39mTrue\u001b[39;49;00m,\n\u001b[0;32m   1740\u001b[0m     _use_cached_eval_dataset\u001b[39m=\u001b[39;49m\u001b[39mTrue\u001b[39;49;00m,\n\u001b[0;32m   1741\u001b[0m )\n\u001b[0;32m   1742\u001b[0m val_logs \u001b[39m=\u001b[39m {\n\u001b[0;32m   1743\u001b[0m     \u001b[39m\"\u001b[39m\u001b[39mval_\u001b[39m\u001b[39m\"\u001b[39m \u001b[39m+\u001b[39m name: val \u001b[39mfor\u001b[39;00m name, val \u001b[39min\u001b[39;00m val_logs\u001b[39m.\u001b[39mitems()\n\u001b[0;32m   1744\u001b[0m }\n\u001b[0;32m   1745\u001b[0m epoch_logs\u001b[39m.\u001b[39mupdate(val_logs)\n",
      "File \u001b[1;32mc:\\Program Files\\Python310\\lib\\site-packages\\keras\\utils\\traceback_utils.py:65\u001b[0m, in \u001b[0;36mfilter_traceback.<locals>.error_handler\u001b[1;34m(*args, **kwargs)\u001b[0m\n\u001b[0;32m     63\u001b[0m filtered_tb \u001b[39m=\u001b[39m \u001b[39mNone\u001b[39;00m\n\u001b[0;32m     64\u001b[0m \u001b[39mtry\u001b[39;00m:\n\u001b[1;32m---> 65\u001b[0m     \u001b[39mreturn\u001b[39;00m fn(\u001b[39m*\u001b[39margs, \u001b[39m*\u001b[39m\u001b[39m*\u001b[39mkwargs)\n\u001b[0;32m     66\u001b[0m \u001b[39mexcept\u001b[39;00m \u001b[39mException\u001b[39;00m \u001b[39mas\u001b[39;00m e:\n\u001b[0;32m     67\u001b[0m     filtered_tb \u001b[39m=\u001b[39m _process_traceback_frames(e\u001b[39m.\u001b[39m__traceback__)\n",
      "File \u001b[1;32mc:\\Program Files\\Python310\\lib\\site-packages\\keras\\engine\\training.py:2082\u001b[0m, in \u001b[0;36mModel.evaluate\u001b[1;34m(self, x, y, batch_size, verbose, sample_weight, steps, callbacks, max_queue_size, workers, use_multiprocessing, return_dict, **kwargs)\u001b[0m\n\u001b[0;32m   2080\u001b[0m logs \u001b[39m=\u001b[39m tf_utils\u001b[39m.\u001b[39msync_to_numpy_or_python_type(logs)\n\u001b[0;32m   2081\u001b[0m \u001b[39m# Override with model metrics instead of last step logs\u001b[39;00m\n\u001b[1;32m-> 2082\u001b[0m logs \u001b[39m=\u001b[39m \u001b[39mself\u001b[39;49m\u001b[39m.\u001b[39;49m_validate_and_get_metrics_result(logs)\n\u001b[0;32m   2083\u001b[0m callbacks\u001b[39m.\u001b[39mon_test_end(logs\u001b[39m=\u001b[39mlogs)\n\u001b[0;32m   2085\u001b[0m \u001b[39mif\u001b[39;00m return_dict:\n",
      "File \u001b[1;32mc:\\Program Files\\Python310\\lib\\site-packages\\keras\\engine\\training.py:1202\u001b[0m, in \u001b[0;36mModel._validate_and_get_metrics_result\u001b[1;34m(self, logs)\u001b[0m\n\u001b[0;32m   1198\u001b[0m PSS_WARN_MSG \u001b[39m=\u001b[39m \u001b[39m\"\u001b[39m\u001b[39mCould not get Model metric results. \u001b[39m\u001b[39m\\\u001b[39;00m\n\u001b[0;32m   1199\u001b[0m \u001b[39mUsing the results of last step function could lead to incorrect \u001b[39m\u001b[39m\\\u001b[39;00m\n\u001b[0;32m   1200\u001b[0m \u001b[39mresults when used with ParameterServerStrategy\u001b[39m\u001b[39m\"\u001b[39m\n\u001b[0;32m   1201\u001b[0m \u001b[39mtry\u001b[39;00m:\n\u001b[1;32m-> 1202\u001b[0m     metric_logs \u001b[39m=\u001b[39m \u001b[39mself\u001b[39;49m\u001b[39m.\u001b[39;49mget_metrics_result()\n\u001b[0;32m   1203\u001b[0m \u001b[39mexcept\u001b[39;00m \u001b[39mTypeError\u001b[39;00m:\n\u001b[0;32m   1204\u001b[0m     \u001b[39mif\u001b[39;00m \u001b[39mself\u001b[39m\u001b[39m.\u001b[39m_cluster_coordinator:\n",
      "File \u001b[1;32mc:\\Program Files\\Python310\\lib\\site-packages\\keras\\engine\\training.py:1166\u001b[0m, in \u001b[0;36mModel.get_metrics_result\u001b[1;34m(self)\u001b[0m\n\u001b[0;32m   1164\u001b[0m return_metrics \u001b[39m=\u001b[39m {}\n\u001b[0;32m   1165\u001b[0m \u001b[39mfor\u001b[39;00m metric \u001b[39min\u001b[39;00m \u001b[39mself\u001b[39m\u001b[39m.\u001b[39mmetrics:\n\u001b[1;32m-> 1166\u001b[0m     result \u001b[39m=\u001b[39m metric\u001b[39m.\u001b[39;49mresult()\n\u001b[0;32m   1167\u001b[0m     \u001b[39mif\u001b[39;00m \u001b[39misinstance\u001b[39m(result, \u001b[39mdict\u001b[39m):\n\u001b[0;32m   1168\u001b[0m         return_metrics\u001b[39m.\u001b[39mupdate(result)\n",
      "File \u001b[1;32mc:\\Program Files\\Python310\\lib\\site-packages\\keras\\utils\\metrics_utils.py:141\u001b[0m, in \u001b[0;36mresult_wrapper.<locals>.decorated\u001b[1;34m(metric_obj, *args)\u001b[0m\n\u001b[0;32m    138\u001b[0m \u001b[39m# Results need to be wrapped in a `tf.identity` op to ensure\u001b[39;00m\n\u001b[0;32m    139\u001b[0m \u001b[39m# correct execution order.\u001b[39;00m\n\u001b[0;32m    140\u001b[0m \u001b[39mif\u001b[39;00m \u001b[39misinstance\u001b[39m(raw_result, (tf\u001b[39m.\u001b[39mTensor, tf\u001b[39m.\u001b[39mVariable, \u001b[39mfloat\u001b[39m, \u001b[39mint\u001b[39m)):\n\u001b[1;32m--> 141\u001b[0m     result_t \u001b[39m=\u001b[39m tf\u001b[39m.\u001b[39;49midentity(raw_result)\n\u001b[0;32m    142\u001b[0m \u001b[39melif\u001b[39;00m \u001b[39misinstance\u001b[39m(raw_result, \u001b[39mdict\u001b[39m):\n\u001b[0;32m    143\u001b[0m     result_t \u001b[39m=\u001b[39m {\n\u001b[0;32m    144\u001b[0m         key: tf\u001b[39m.\u001b[39midentity(value)\n\u001b[0;32m    145\u001b[0m         \u001b[39mfor\u001b[39;00m key, value \u001b[39min\u001b[39;00m raw_result\u001b[39m.\u001b[39mitems()\n\u001b[0;32m    146\u001b[0m     }\n",
      "File \u001b[1;32mc:\\Program Files\\Python310\\lib\\site-packages\\tensorflow\\python\\util\\traceback_utils.py:150\u001b[0m, in \u001b[0;36mfilter_traceback.<locals>.error_handler\u001b[1;34m(*args, **kwargs)\u001b[0m\n\u001b[0;32m    148\u001b[0m filtered_tb \u001b[39m=\u001b[39m \u001b[39mNone\u001b[39;00m\n\u001b[0;32m    149\u001b[0m \u001b[39mtry\u001b[39;00m:\n\u001b[1;32m--> 150\u001b[0m   \u001b[39mreturn\u001b[39;00m fn(\u001b[39m*\u001b[39margs, \u001b[39m*\u001b[39m\u001b[39m*\u001b[39mkwargs)\n\u001b[0;32m    151\u001b[0m \u001b[39mexcept\u001b[39;00m \u001b[39mException\u001b[39;00m \u001b[39mas\u001b[39;00m e:\n\u001b[0;32m    152\u001b[0m   filtered_tb \u001b[39m=\u001b[39m _process_traceback_frames(e\u001b[39m.\u001b[39m__traceback__)\n",
      "File \u001b[1;32mc:\\Program Files\\Python310\\lib\\site-packages\\tensorflow\\python\\util\\dispatch.py:1176\u001b[0m, in \u001b[0;36madd_dispatch_support.<locals>.decorator.<locals>.op_dispatch_handler\u001b[1;34m(*args, **kwargs)\u001b[0m\n\u001b[0;32m   1174\u001b[0m \u001b[39m# Fallback dispatch system (dispatch v1):\u001b[39;00m\n\u001b[0;32m   1175\u001b[0m \u001b[39mtry\u001b[39;00m:\n\u001b[1;32m-> 1176\u001b[0m   \u001b[39mreturn\u001b[39;00m dispatch_target(\u001b[39m*\u001b[39margs, \u001b[39m*\u001b[39m\u001b[39m*\u001b[39mkwargs)\n\u001b[0;32m   1177\u001b[0m \u001b[39mexcept\u001b[39;00m (\u001b[39mTypeError\u001b[39;00m, \u001b[39mValueError\u001b[39;00m):\n\u001b[0;32m   1178\u001b[0m   \u001b[39m# Note: convert_to_eager_tensor currently raises a ValueError, not a\u001b[39;00m\n\u001b[0;32m   1179\u001b[0m   \u001b[39m# TypeError, when given unexpected types.  So we need to catch both.\u001b[39;00m\n\u001b[0;32m   1180\u001b[0m   result \u001b[39m=\u001b[39m dispatch(op_dispatch_handler, args, kwargs)\n",
      "File \u001b[1;32mc:\\Program Files\\Python310\\lib\\site-packages\\tensorflow\\python\\ops\\array_ops.py:302\u001b[0m, in \u001b[0;36midentity\u001b[1;34m(input, name)\u001b[0m\n\u001b[0;32m    298\u001b[0m \u001b[39mif\u001b[39;00m context\u001b[39m.\u001b[39mexecuting_eagerly() \u001b[39mand\u001b[39;00m \u001b[39mnot\u001b[39;00m \u001b[39mhasattr\u001b[39m(\u001b[39minput\u001b[39m, \u001b[39m\"\u001b[39m\u001b[39mgraph\u001b[39m\u001b[39m\"\u001b[39m):\n\u001b[0;32m    299\u001b[0m   \u001b[39m# Make sure we get an input with handle data attached from resource\u001b[39;00m\n\u001b[0;32m    300\u001b[0m   \u001b[39m# variables. Variables have correct handle data when graph building.\u001b[39;00m\n\u001b[0;32m    301\u001b[0m   \u001b[39minput\u001b[39m \u001b[39m=\u001b[39m ops\u001b[39m.\u001b[39mconvert_to_tensor(\u001b[39minput\u001b[39m)\n\u001b[1;32m--> 302\u001b[0m ret \u001b[39m=\u001b[39m gen_array_ops\u001b[39m.\u001b[39;49midentity(\u001b[39minput\u001b[39;49m, name\u001b[39m=\u001b[39;49mname)\n\u001b[0;32m    303\u001b[0m \u001b[39m# Propagate handle data for happier shape inference for resource variables.\u001b[39;00m\n\u001b[0;32m    304\u001b[0m \u001b[39mif\u001b[39;00m \u001b[39mhasattr\u001b[39m(\u001b[39minput\u001b[39m, \u001b[39m\"\u001b[39m\u001b[39m_handle_data\u001b[39m\u001b[39m\"\u001b[39m):\n",
      "File \u001b[1;32mc:\\Program Files\\Python310\\lib\\site-packages\\tensorflow\\python\\ops\\gen_array_ops.py:4885\u001b[0m, in \u001b[0;36midentity\u001b[1;34m(input, name)\u001b[0m\n\u001b[0;32m   4883\u001b[0m \u001b[39mif\u001b[39;00m tld\u001b[39m.\u001b[39mis_eager:\n\u001b[0;32m   4884\u001b[0m   \u001b[39mtry\u001b[39;00m:\n\u001b[1;32m-> 4885\u001b[0m     _result \u001b[39m=\u001b[39m pywrap_tfe\u001b[39m.\u001b[39;49mTFE_Py_FastPathExecute(\n\u001b[0;32m   4886\u001b[0m       _ctx, \u001b[39m\"\u001b[39;49m\u001b[39mIdentity\u001b[39;49m\u001b[39m\"\u001b[39;49m, name, \u001b[39minput\u001b[39;49m)\n\u001b[0;32m   4887\u001b[0m     \u001b[39mreturn\u001b[39;00m _result\n\u001b[0;32m   4888\u001b[0m   \u001b[39mexcept\u001b[39;00m _core\u001b[39m.\u001b[39m_NotOkStatusException \u001b[39mas\u001b[39;00m e:\n",
      "\u001b[1;31mKeyboardInterrupt\u001b[0m: "
     ]
    }
   ],
   "source": [
    "for features in feat_list: # cycle through each subject\n",
    "    scaler_sb = StandardScaler().fit(features)\n",
    "    X_train_sb = scaler_sb.transform(features)\n",
    "\n",
    "    # perform PCA\n",
    "    pca = PCA(n_components=4)\n",
    "    pca.fit(X_train_sb)\n",
    "    X_train_pca_sb = pca.transform(X_train_sb)\n",
    "    x_train_sb = X_train_pca_sb[:,0:3] # Three best features\n",
    "\n",
    "    # plt.figure(figsize=(8,6))\n",
    "    # plt.scatter(X_train_pca[:,0], X_train_pca[:,1], c=y)\n",
    "    # # perform pca on features\n",
    "    # plt.bar(range(0,15), pca.explained_variance_ratio_, label=\"individual var\");\n",
    "    # plt.step(range(0,15), np.cumsum(pca.explained_variance_ratio_),'r', label=\"cumulative var\");\n",
    "    # plt.xlabel('Principal component index'); plt.ylabel('explained variance ratio %');\n",
    "    # plt.legend()\n",
    "\n",
    "    # Splitting the data in train and test data\n",
    "    X_train_sb, X_test_sb, y_train_sb, y_test_sb = train_test_split(x_train_sb, y_sb1, test_size=0.2, random_state=5)\n",
    "\n",
    "    # Scaling the data\n",
    "    scaler_sb = StandardScaler().fit(X_train_sb)\n",
    "    X_train_sb = scaler_sb.transform(X_train_sb)\n",
    "    X_test_sb = scaler_sb.transform(X_test_sb)\n",
    "\n",
    "    # logistic regression\n",
    "    logistic_model_sb = LogisticRegression()\n",
    "    logistic_model_sb.fit(X_train_sb, y_train_sb)\n",
    "    Y_test_pred_sb = logistic_model_sb.predict(X_test_sb)\n",
    "    log_score_sb = logistic_model_sb.score(X_test_sb,y_test_sb)\n",
    "\n",
    "    # SVM\n",
    "    from sklearn import datasets, svm\n",
    "    svm_model_sb = svm.SVC()\n",
    "    svm_model_sb.fit(X_train_sb, y_train_sb)\n",
    "    Y_test_pred = svm_model_sb.predict(X_test_sb)\n",
    "    svm_score = svm_model_sb.score(X_test_sb,y_test_sb)\n",
    "\n",
    "    from sklearn.model_selection import train_test_split\n",
    "    from sklearn.preprocessing import StandardScaler\n",
    "    from sklearn.decomposition import PCA\n",
    "    from tensorflow.keras.utils import to_categorical\n",
    "    from tensorflow.keras.models import Sequential\n",
    "    from tensorflow.keras.layers import Dense, Dropout\n",
    "    from tensorflow.keras.optimizers import Adam\n",
    "\n",
    "    # neural network\n",
    "    val_accuracies_sb = []\n",
    "    for i in range(5): # run 5 times with 5 random states to determine model accuracy\n",
    "        # Splitting the data in train and test data\n",
    "        X_trainn_sb, X_testn_sb, y_trainn_sb, y_testn_sb = train_test_split(x_train_sb, y_sb1, test_size=0.2, random_state= i + 1)\n",
    "\n",
    "        # Scaling the data\n",
    "        scaler_sb = StandardScaler().fit(X_trainn_sb)\n",
    "        X_trainn_sb = scaler_sb.transform(X_trainn_sb)\n",
    "        X_testn_sb = scaler_sb.transform(X_testn_sb)\n",
    "        ## Convert labels to categorical\n",
    "        y_train_cat_sb = to_categorical(y_trainn_sb,3)\n",
    "        y_test_cat_sb = to_categorical(y_testn_sb,3)\n",
    "\n",
    "        # Define the feedforward neural network\n",
    "        neural_model_sb = Sequential()\n",
    "        neural_model_sb.add(Dense(64, activation='relu', input_shape=(3,)))\n",
    "        neural_model_sb.add(Dense(64, activation='relu'))\n",
    "        neural_model_sb.add(Dense(64, activation='relu'))\n",
    "        neural_model_sb.add(Dense(64, activation = 'relu'))\n",
    "        neural_model_sb.add(Dropout(0.5))\n",
    "        neural_model_sb.add(Dense(3, activation='softmax'))\n",
    "\n",
    "        # Compile the model\n",
    "        optimizer = Adam(learning_rate=0.001)\n",
    "        neural_model_sb.compile(loss='categorical_crossentropy',\n",
    "                    optimizer=optimizer,\n",
    "                    metrics=['accuracy'])\n",
    "\n",
    "        # Train the model\n",
    "\n",
    "        # history = model.fit(X_train_pca, y_train, validation_data=(X_test_pca, y_test), epochs=45, batch_size=100, verbose=2)\n",
    "        history = neural_model_sb.fit(X_trainn_sb, y_train_cat_sb, validation_data=(X_testn_sb, y_test_cat_sb), epochs=45, batch_size=100, verbose=0)\n",
    "        val_accuracy_sb = history.history['val_accuracy'][-1]\n",
    "        val_accuracies_sb.append(val_accuracy_sb) # accuracy score\n",
    "\n",
    "    # print(val_accuracies)\n",
    "    avg_val_accuracy_sb = sum(val_accuracies_sb) / len(val_accuracies_sb) # average of accurracy scores\n",
    "    # print(\"Average Validation Accuracy:\", avg_val_accuracy)\n",
    "    # plt.plot(history.history['accuracy'])\n",
    "    # plt.plot(history.history['val_accuracy'])\n",
    "    # plt.legend(['accuracy', 'val_accuracy'])\n",
    "    #from sklearn.datasets import make_classification\n",
    "    from sklearn.ensemble import RandomForestClassifier\n",
    "\n",
    "    # Random forest\n",
    "    # define the model\n",
    "    randomf_model_sb = RandomForestClassifier()\n",
    "\n",
    "    # fit/train the model on all features\n",
    "    randomf_model_sb.fit(X_train_sb, y_train_sb)\n",
    "    Y_test_pred_sb = randomf_model_sb.predict(X_test_sb)\n",
    "\n",
    "    #score\n",
    "    rf_score_sb=randomf_model_sb.score(X_test_sb, y_test_sb)\n",
    "    \n",
    "    # determine model score \n",
    "    y_test_cat_sb = to_categorical(y_test_sb)\n",
    "    y_test1_sb = y_test_cat_sb.astype('int64')\n",
    "    testYarg_sb = np.argmax(y_test1_sb, axis = 1)\n",
    "\n",
    "    def model_predict_neural(X_test, y_test1, model):\n",
    "        predictions = model.predict(X_test)\n",
    "        predictions = np.argmax(predictions, axis = 1)\n",
    "        y_test1 = y_test1.astype('int64')\n",
    "        testYarg = np.argmax(y_test1, axis = 1)\n",
    "        miss_class = np.where(predictions != testYarg_sb)\n",
    "        miss_class = miss_class[0]\n",
    "        # print(\"Neural network\")\n",
    "        # print(\"Predicted:\",predictions)\n",
    "        # print(\"Correct:  \",testYarg)\n",
    "        # print(\"Index missclassified:\", miss_class)\n",
    "        # print(\"Score:\", val_accuracy, \"\\n\")\n",
    "        return predictions, miss_class, testYarg\n",
    "    def model_predict(X_test, y_test1, model):\n",
    "        predictions = model.predict(X_test)\n",
    "        #y_test1 = y_test1.astype('int64')\n",
    "        #testYarg = np.argmax(y_test1, axis = 1)\n",
    "        miss_class = np.where(predictions != y_test1)\n",
    "        miss_class = miss_class[0]\n",
    "        score=model.score(X_test, y_test1)\n",
    "        # print(model)\n",
    "        # print(\"Predicted:\",predictions)\n",
    "        # print(\"Correct:  \",testYarg)\n",
    "        # print(\"Index missclassified:\", miss_class)\n",
    "        # print(\"Score:\", score, \"\\n\")\n",
    "        return predictions, miss_class, testYarg\n",
    "    # model_predict_neural(X_test, y_test_cat, neural_model)\n",
    "    # model_predict(X_test, y_test, logistic_model)\n",
    "    # model_predict(X_test, y_test, svm_model)\n",
    "    # predictions = model_predict(X_test, y_test, randomf_model)\n",
    "    from numpy import mean\n",
    "    from numpy import std\n",
    "    from sklearn.datasets import make_classification\n",
    "    from sklearn.model_selection import KFold\n",
    "    from sklearn.model_selection import cross_val_score\n",
    "    from sklearn.linear_model import LogisticRegression\n",
    "\n",
    "    def cross_validation(X, y, model, acc_d, std_d):\n",
    "        cv = KFold(n_splits= 5, random_state=1, shuffle=True)\n",
    "        scores = cross_val_score(model, X,y, scoring='accuracy', cv=cv, n_jobs=-1)\n",
    "        # print('Accuracy: %.3f (%.3f)' % (mean(scores), std(scores)))\n",
    "        # print(str(model))\n",
    "        acc_sb[str(model)].append(mean(scores))\n",
    "        std_sb[str(model)].append(std(scores))\n",
    "        return scores\n",
    "    print(\"Logistic regression\")\n",
    "    cv_logistic = cross_validation(features, y_sb1, logistic_model_sb, acc_sb, std_sb)\n",
    "    print(cv_logistic,\"\\n\\nSVM\")\n",
    "    cv_svm = cross_validation(features, y_sb1, svm_model_sb, acc_sb, std_sb)\n",
    "    print(cv_svm, \"\\n\\nRandomforest\")\n",
    "    cv_randomf = cross_validation(features, y_sb1, randomf_model_sb, acc_sb, std_sb)\n",
    "    print(cv_randomf, \"\\n\\nNeural Network\")\n",
    "    # print(\"Accuracy:\", avg_val_accuracy)\n",
    "    # print(val_accuracies)\n",
    "    # print ('ACC std:', '{0:0.3f}'.format(np.std(val_accuracies)), \"\\n\")\n",
    "    nnmean_sb.append(avg_val_accuracy_sb)\n",
    "    nnstd_sb.append(np.std(val_accuracies_sb))"
   ]
  },
  {
   "cell_type": "code",
   "execution_count": null,
   "metadata": {},
   "outputs": [
    {
     "name": "stdout",
     "output_type": "stream",
     "text": [
      "Logistic regression\n",
      "0.92500\n",
      "0.06665 \n",
      "\n",
      "SVM\n",
      "0.76833\n",
      "0.12557 \n",
      "\n",
      "Randomforest\n",
      "0.96167\n",
      "0.04989 \n",
      "\n",
      "Neural Network\n",
      "0.96833\n",
      "0.04085\n"
     ]
    }
   ],
   "source": [
    "print(\"Logistic regression\")\n",
    "print(\"{:.5f}\".format(mean(acc_sb['LogisticRegression()'])))\n",
    "print(\"{:.5f}\".format(mean(std_sb['LogisticRegression()'])), \"\\n\\nSVM\")\n",
    "print(\"{:.5f}\".format(mean(acc_sb['SVC()'])))\n",
    "print(\"{:.5f}\".format(mean(std_sb['SVC()'])), \"\\n\\nRandomforest\")\n",
    "print(\"{:.5f}\".format(mean(acc_sb['RandomForestClassifier()'])))\n",
    "print(\"{:.5f}\".format(mean(std_sb['RandomForestClassifier()'])), \"\\n\\nNeural Network\")\n",
    "print(\"{:.5f}\".format(mean(nnmean_sb)))\n",
    "print(\"{:.5f}\".format(mean(nnstd_sb)))\n"
   ]
  },
  {
   "attachments": {},
   "cell_type": "markdown",
   "metadata": {},
   "source": [
    "# Hybrid approach"
   ]
  },
  {
   "cell_type": "code",
   "execution_count": null,
   "metadata": {},
   "outputs": [],
   "source": [
    "from sklearn.linear_model import LogisticRegression\n",
    "from sklearn import datasets, svm\n",
    "from sklearn.ensemble import RandomForestClassifier"
   ]
  },
  {
   "cell_type": "code",
   "execution_count": null,
   "metadata": {},
   "outputs": [],
   "source": [
    "features = total_features\n",
    "feat_list = []\n",
    "\n",
    "# extract features from each subject\n",
    "for a in range(15):\n",
    "    df = features[a*samples*4:(a+1)*samples*4]\n",
    "    feat_list.append(df)"
   ]
  },
  {
   "cell_type": "code",
   "execution_count": null,
   "metadata": {},
   "outputs": [
    {
     "data": {
      "text/plain": [
       "15"
      ]
     },
     "execution_count": 50,
     "metadata": {},
     "output_type": "execute_result"
    }
   ],
   "source": [
    "# define output for each subject\n",
    "y_hy1 = []\n",
    "for i in range(1):\n",
    "    y_hy1.extend(samples * [1])\n",
    "    y_hy1.extend(samples * [2])\n",
    "    y_hy1.extend(samples * [1])\n",
    "    y_hy1.extend(samples * [1])\n",
    "len(feat_list)\n",
    "\n",
    "y_hy2 = []\n",
    "for i in range(1):\n",
    "    y_hy2.extend([1,2,1,1])\n",
    "len(feat_list)"
   ]
  },
  {
   "cell_type": "code",
   "execution_count": null,
   "metadata": {},
   "outputs": [],
   "source": [
    "nnmean_hy = []\n",
    "nnstd_hy = []\n",
    "acc_hy = {}\n",
    "acc_hy['LogisticRegression()'] = []\n",
    "acc_hy['SVC()'] = []\n",
    "acc_hy['RandomForestClassifier()'] = []\n",
    "std_hy = {}\n",
    "std_hy['LogisticRegression()'] = []\n",
    "std_hy['SVC()'] = []\n",
    "std_hy['RandomForestClassifier()'] = []"
   ]
  },
  {
   "cell_type": "code",
   "execution_count": null,
   "metadata": {},
   "outputs": [
    {
     "data": {
      "text/plain": [
       "<matplotlib.collections.PathCollection at 0x1dc32f25c60>"
      ]
     },
     "execution_count": 52,
     "metadata": {},
     "output_type": "execute_result"
    },
    {
     "data": {
      "image/png": "[encoded data removed]",
      "text/plain": [
       "<Figure size 800x600 with 1 Axes>"
      ]
     },
     "metadata": {},
     "output_type": "display_data"
    }
   ],
   "source": [
    "x_hybrid = np.empty((0,3))\n",
    "x_hybrid_pca1 = x_hybrid_pca2 = y_hy2l = y_hy1l = np.empty((0))\n",
    "\n",
    "# Scale and perform PCA for each subject\n",
    "for features in feat_list: # cycle through each subject\n",
    "    scaler_hy = StandardScaler().fit(features)\n",
    "    X_train_hy = scaler_hy.transform(features)\n",
    "\n",
    "    pca = PCA(n_components=4)\n",
    "    pca.fit(X_train_hy)\n",
    "    X_train_pcahy = pca.transform(X_train_hy)\n",
    "    x_train_hy = X_train_pcahy[:,0:3] # Three best features\n",
    "    x_hybrid = np.concatenate((x_hybrid, x_train_hy)) # add each scaled subject feature to x_hybrid\n",
    "    x_hybrid_pca1 = np.concatenate((x_hybrid_pca1, X_train_pcahy[:,0]))\n",
    "    x_hybrid_pca2 = np.concatenate((x_hybrid_pca2, X_train_pcahy[:,1]))\n",
    "    y_hy1l = np.concatenate((y_hy1l, y_hy1))\n",
    "\n",
    "plt.figure(figsize=(8,6))\n",
    "plt.scatter(x_hybrid_pca1, x_hybrid_pca2, c=y_hy1l)"
   ]
  },
  {
   "cell_type": "code",
   "execution_count": null,
   "metadata": {},
   "outputs": [],
   "source": [
    "# Splitting the data in train and test data\n",
    "X_train_hy, X_test_hy, y_train_hy, y_test_hy = train_test_split(x_hybrid, y_hy1l, test_size=0.2, random_state=5)\n",
    "\n",
    "# Scaling the data\n",
    "scaler_hy = StandardScaler().fit(X_train_hy)\n",
    "X_train_hyy = scaler_hy.transform(X_train_hy)\n",
    "X_test_hy = scaler_hy.transform(X_test_hy)\n",
    "\n",
    "# Logistic regression\n",
    "logistic_model_hy = LogisticRegression()\n",
    "logistic_model_hy.fit(X_train_hy, y_train_hy)\n",
    "Y_test_pred_hy = logistic_model_hy.predict(X_test_hy)\n",
    "log_score_hy = logistic_model_hy.score(X_test_hy,y_test_hy)\n",
    "\n",
    "# SVM\n",
    "svm_model_hy = svm.SVC()\n",
    "svm_model_hy.fit(X_train_hy, y_train_hy)\n",
    "Y_test_pred_hy = svm_model_hy.predict(X_test_hy)\n",
    "svm_score_hy = svm_model_hy.score(X_test_hy,y_test_hy)\n",
    "\n",
    "from sklearn.model_selection import train_test_split\n",
    "from sklearn.preprocessing import StandardScaler\n",
    "from sklearn.decomposition import PCA\n",
    "from tensorflow.keras.utils import to_categorical\n",
    "from tensorflow.keras.models import Sequential\n",
    "from tensorflow.keras.layers import Dense, Dropout\n",
    "from tensorflow.keras.optimizers import Adam\n",
    "\n",
    "# neural network\n",
    "val_accuracies_hy = []\n",
    "for i in range(5): # run 5 times with 5 random states to determine model accuracy\n",
    "    # Splitting the data in train and test data\n",
    "    X_trainn_hy, X_testn_hy, y_trainn_hy, y_testn_hy = train_test_split(x_hybrid, y_hy1l, test_size=0.2, random_state= i + 1)\n",
    "    # Scaling the data\n",
    "    scaler_hy = StandardScaler().fit(X_trainn_hy)\n",
    "    X_trainn_hy = scaler_hy.transform(X_trainn_hy)\n",
    "    X_testn_hy = scaler_hy.transform(X_testn_hy)\n",
    "    ## Convert labels to categorical\n",
    "    y_train_cat_hy = to_categorical(y_trainn_hy,3)\n",
    "    y_test_cat_hy = to_categorical(y_testn_hy,3)\n",
    "    # Define the feedforward neural network\n",
    "    neural_model_hy = Sequential()\n",
    "    neural_model_hy.add(Dense(128, activation='relu', input_shape=(3,)))\n",
    "    neural_model_hy.add(Dense(128, activation='relu'))\n",
    "    neural_model_hy.add(Dense(128, activation='relu'))\n",
    "    neural_model_hy.add(Dense(128, activation = 'relu'))\n",
    "    neural_model_hy.add(Dropout(0.5))\n",
    "    neural_model_hy.add(Dense(3, activation='softmax'))\n",
    "    # Compile the model\n",
    "    optimizer = Adam(learning_rate=0.001)\n",
    "    neural_model_hy.compile(loss='categorical_crossentropy',\n",
    "                optimizer=optimizer,\n",
    "                metrics=['accuracy'])\n",
    "    # Train the model\n",
    "    # history = model.fit(X_train_pca, y_train, validation_data=(X_test_pca, y_test), epochs=45, batch_size=100, verbose=2)\n",
    "    history_hy = neural_model_hy.fit(X_trainn_hy, y_train_cat_hy, validation_data=(X_testn_hy, y_test_cat_hy), epochs=45, batch_size=100, verbose=0)\n",
    "    val_accuracy_hy = history_hy.history['val_accuracy'][-1]\n",
    "    val_accuracies_hy.append(val_accuracy_hy) # accuracy score\n",
    "# print(val_accuracies)\n",
    "avg_val_accuracy_hy = sum(val_accuracies_hy) / len(val_accuracies_hy) # average of accurracy scores\n",
    "# print(\"Average Validation Accuracy:\", avg_val_accuracy)\n",
    "# plt.plot(history.history['accuracy'])\n",
    "# plt.plot(history.history['val_accuracy'])\n",
    "# plt.legend(['accuracy', 'val_accuracy'])\n",
    "#from sklearn.datasets import make_classification\n",
    "\n",
    "# random forest\n",
    "from sklearn.ensemble import RandomForestClassifier\n",
    "# define the model\n",
    "randomf_model_hy = RandomForestClassifier()\n",
    "# fit/train the model on all features\n",
    "randomf_model_hy.fit(X_train_hy, y_train_hy)\n",
    "Y_test_pred_hy = randomf_model_hy.predict(X_test_hy)\n",
    "#score\n",
    "rf_score_hy = randomf_model_hy.score(X_test_hy, y_test_hy)\n"
   ]
  },
  {
   "cell_type": "code",
   "execution_count": null,
   "metadata": {},
   "outputs": [
    {
     "name": "stdout",
     "output_type": "stream",
     "text": [
      "Logistic regression\n",
      "[0.925      0.94166667 0.88333333 0.925      0.91666667] \n",
      "\n",
      "SVM\n",
      "[0.925      0.95       0.89166667 0.95       0.91666667] \n",
      "\n",
      "Randomforest\n",
      "[0.94166667 0.95       0.89166667 0.93333333 0.91666667] \n",
      "\n",
      "Neural Network\n",
      "[0.9416666626930237, 0.9166666865348816, 0.9416666626930237, 0.9083333611488342, 0.9166666865348816]\n"
     ]
    }
   ],
   "source": [
    "# calculate model scores\n",
    "y_test_cat_hy = to_categorical(y_test_hy)\n",
    "y_test1_hy = y_test_cat_hy.astype('int64')\n",
    "testYarg = np.argmax(y_test1_hy, axis = 1)\n",
    "def model_predict_neural(X_test, y_test1, model):\n",
    "    predictions = model.predict(X_test)\n",
    "    predictions = np.argmax(predictions, axis = 1)\n",
    "    y_test1 = y_test1.astype('int64')\n",
    "    testYarg = np.argmax(y_test1, axis = 1)\n",
    "    miss_class = np.where(predictions != testYarg)\n",
    "    miss_class = miss_class[0]\n",
    "    # print(\"Neural network\")\n",
    "    # print(\"Predicted:\",predictions)\n",
    "    # print(\"Correct:  \",testYarg)\n",
    "    # print(\"Index missclassified:\", miss_class)\n",
    "    # print(\"Score:\", val_accuracy, \"\\n\")\n",
    "    return predictions, miss_class, testYarg\n",
    "def model_predict(X_test, y_test1, model):\n",
    "    predictions = model.predict(X_test)\n",
    "    #y_test1 = y_test1.astype('int64')\n",
    "    #testYarg = np.argmax(y_test1, axis = 1)\n",
    "    miss_class = np.where(predictions != y_test1)\n",
    "    miss_class = miss_class[0]\n",
    "    score=model.score(X_test, y_test1)\n",
    "    # print(model)\n",
    "    # print(\"Predicted:\",predictions)\n",
    "    # print(\"Correct:  \",testYarg)\n",
    "    # print(\"Index missclassified:\", miss_class)\n",
    "    # print(\"Score:\", score, \"\\n\")\n",
    "    return predictions, miss_class, testYarg\n",
    "# model_predict_neural(X_test, y_test_cat, neural_model)\n",
    "# model_predict(X_test, y_test, logistic_model)\n",
    "# model_predict(X_test, y_test, svm_model)\n",
    "# predictions = model_predict(X_test, y_test, randomf_model)\n",
    "\n",
    "from numpy import mean\n",
    "from numpy import std\n",
    "from sklearn.datasets import make_classification\n",
    "from sklearn.model_selection import KFold\n",
    "from sklearn.model_selection import cross_val_score\n",
    "from sklearn.linear_model import LogisticRegression\n",
    "def cross_validation(X, y, model, acc_d, std_d):\n",
    "    cv = KFold(n_splits= 5, random_state=1, shuffle=True)\n",
    "    scores = cross_val_score(model, X,y, scoring='accuracy', cv=cv, n_jobs=-1)\n",
    "    # print('Accuracy: %.3f (%.3f)' % (mean(scores), std(scores)))\n",
    "    # print(str(model))\n",
    "    acc_hy[str(model)].append(mean(scores))\n",
    "    std_hy[str(model)].append(std(scores))\n",
    "    return scores\n",
    "print(\"Logistic regression\")\n",
    "cv_logistic = cross_validation(x_hybrid, y_hy1l, logistic_model_hy, acc_hy, std_hy)\n",
    "print(cv_logistic,\"\\n\\nSVM\")\n",
    "cv_svm = cross_validation(x_hybrid, y_hy1l, svm_model_hy, acc_hy, std_hy)\n",
    "print(cv_svm, \"\\n\\nRandomforest\")\n",
    "cv_randomf = cross_validation(x_hybrid, y_hy1l, randomf_model_hy, acc_hy, std_hy)\n",
    "print(cv_randomf, \"\\n\\nNeural Network\")\n",
    "# print(\"Accuracy:\", avg_val_accuracy)\n",
    "print(val_accuracies_hy)\n",
    "#print ('ACC std:', '{0:0.3f}'.format(np.std(val_accuracies)), \"\\n\")\n",
    "nnmean_hy.append(avg_val_accuracy_hy)\n",
    "nnstd_hy.append(np.std(val_accuracies_hy))"
   ]
  },
  {
   "cell_type": "code",
   "execution_count": null,
   "metadata": {},
   "outputs": [
    {
     "name": "stdout",
     "output_type": "stream",
     "text": [
      "Logistic regression\n",
      "0.91833\n",
      "0.01929 \n",
      "\n",
      "SVM\n",
      "0.92667\n",
      "0.02198 \n",
      "\n",
      "Randomforest\n",
      "0.92667\n",
      "0.02068 \n",
      "\n",
      "Neural Network\n",
      "0.92500\n",
      "0.01394\n"
     ]
    }
   ],
   "source": [
    "print(\"Logistic regression\")\n",
    "print(\"{:.5f}\".format(acc_hy['LogisticRegression()'][0]))\n",
    "print(\"{:.5f}\".format(std_hy['LogisticRegression()'][0]), \"\\n\\nSVM\")\n",
    "print(\"{:.5f}\".format(acc_hy['SVC()'][0]))\n",
    "print(\"{:.5f}\".format(std_hy['SVC()'][0]), \"\\n\\nRandomforest\")\n",
    "print(\"{:.5f}\".format(acc_hy['RandomForestClassifier()'][0]))\n",
    "print(\"{:.5f}\".format(std_hy['RandomForestClassifier()'][0]), \"\\n\\nNeural Network\")\n",
    "print(\"{:.5f}\".format(nnmean_hy[0]))\n",
    "print(\"{:.5f}\".format(nnstd_hy[0]))\n"
   ]
  }
 ],
 "metadata": {
  "kernelspec": {
   "display_name": "Python 3",
   "language": "python",
   "name": "python3"
  },
  "language_info": {
   "codemirror_mode": {
    "name": "ipython",
    "version": 3
   },
   "file_extension": ".py",
   "mimetype": "text/x-python",
   "name": "python",
   "nbconvert_exporter": "python",
   "pygments_lexer": "ipython3",
   "version": "3.10.7"
  },
  "orig_nbformat": 4
 },
 "nbformat": 4,
 "nbformat_minor": 2
}
