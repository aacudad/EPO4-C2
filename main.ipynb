{
 "cells": [
  {
   "cell_type": "code",
   "execution_count": 1,
   "metadata": {},
   "outputs": [
    {
     "name": "stderr",
     "output_type": "stream",
     "text": [
      "C:\\Users\\JackC\\AppData\\Local\\Packages\\PythonSoftwareFoundation.Python.3.9_qbz5n2kfra8p0\\LocalCache\\local-packages\\Python39\\site-packages\\plotly_resampler\\aggregation\\aggregators.py:24: UserWarning: Could not import lttbc; will use a (slower) python alternative.\n",
      "  warnings.warn(\"Could not import lttbc; will use a (slower) python alternative.\")\n",
      "C:\\Users\\JackC\\AppData\\Local\\Packages\\PythonSoftwareFoundation.Python.3.9_qbz5n2kfra8p0\\LocalCache\\local-packages\\Python39\\site-packages\\antropy\\fractal.py:197: NumbaDeprecationWarning: \u001b[1mThe 'nopython' keyword argument was not supplied to the 'numba.jit' decorator. The implicit default value for this argument is currently False, but it will be changed to True in Numba 0.59.0. See https://numba.readthedocs.io/en/stable/reference/deprecation.html#deprecation-of-object-mode-fall-back-behaviour-when-using-jit for details.\u001b[0m\n",
      "  @jit('float64(float64[:], int32)')\n"
     ]
    }
   ],
   "source": [
    "import ipynb\n",
    "import numpy as np\n",
    "import pandas as pd\n",
    "import matplotlib.pyplot as plt\n",
    "import os\n",
    "import pickle\n",
    "from scipy import signal\n",
    "# import neurokit2 as nk\n",
    "import random\n",
    "# %matplotlib inline \n",
    "import pyhrv\n",
    "import ipynb\n",
    "\n",
    "from ipynb.fs.full.ECG_features import get_ecgfeatures\n",
    "from ipynb.fs.full.EDA import get_edaindex, get_edafeatures"
   ]
  },
  {
   "cell_type": "code",
   "execution_count": 2,
   "metadata": {},
   "outputs": [],
   "source": [
    "class read_data_of_one_subject:\n",
    "            \"\"\"Read data from WESAD dataset\"\"\"\n",
    "            def __init__(self, path, subject):\n",
    "                self.keys = ['label', 'subject', 'signal']\n",
    "                self.signal_keys = ['wrist', 'chest']\n",
    "                self.chest_sensor_keys = ['ACC', 'ECG', 'EDA', 'EMG', 'Resp', 'Temp']\n",
    "                self.wrist_sensor_keys = ['ACC', 'BVP', 'EDA', 'TEMP']\n",
    "                #os.chdir(path)\n",
    "                #os.chdir(subject)\n",
    "                with open(path + subject +'/'+subject + '.pkl', 'rb') as file:\n",
    "                    data = pickle.load(file, encoding='latin1')\n",
    "                self.data = data\n",
    "\n",
    "            def get_labels(self):\n",
    "                return self.data[self.keys[0]]\n",
    "\n",
    "            def get_wrist_data(self):\n",
    "                \"\"\"\"\"\"\n",
    "                #label = self.data[self.keys[0]]\n",
    "                assert subject == self.data[self.keys[1]]\n",
    "                signal = self.data[self.keys[2]]\n",
    "                wrist_data = signal[self.signal_keys[0]]\n",
    "                #wrist_ACC = wrist_data[self.wrist_sensor_keys[0]]\n",
    "                #wrist_ECG = wrist_data[self.wrist_sensor_keys[1]]\n",
    "                return wrist_data\n",
    "\n",
    "            def get_chest_data(self):\n",
    "                \"\"\"\"\"\"\n",
    "                signal = self.data[self.keys[2]]\n",
    "                chest_data = signal[self.signal_keys[1]]\n",
    "                return chest_data"
   ]
  },
  {
   "cell_type": "code",
   "execution_count": 3,
   "metadata": {},
   "outputs": [
    {
     "name": "stdout",
     "output_type": "stream",
     "text": [
      "S2\n",
      "S3\n",
      "S4\n",
      "S5\n",
      "S6\n",
      "S7\n",
      "S8\n",
      "S9\n",
      "S10\n",
      "S11\n",
      "S12\n",
      "S13\n",
      "S14\n",
      "S15\n",
      "S16\n",
      "S17\n"
     ]
    }
   ],
   "source": [
    "# Set up empty dataframes for the features\n",
    "ecgfeatures = pd.DataFrame(None, columns= ['HR_mean', 'HR_min', 'HR_max', 'HR_std', 'SDNN', 'SDANN', 'RMSSD', 'SDSD','pNN50', 'pNN20', \n",
    "                                    'abs_power_VLF', 'abs_power_LF', 'abs_power_HF', 'tot_power', 'LF/HF', \n",
    "                                    'peak_vlf', 'peak_lf', 'peak_hf', 'norm_power_LF', 'norm_power_HF'])\n",
    "edafeatures = None\n",
    "\n",
    "fs = 700\n",
    "y = []\n",
    "data_set_path= \"C:/Users/JackC/Documents/EPO4/WESAD/WESAD/\" # Folder path\n",
    "#data_set_path= \"C:/Users/riche/Downloads/WESAD/WESAD/\" # Folder path\n",
    "\n",
    "for i in range(16): # 15 subject\n",
    "    subject = 'S'+str(i+2) # Cycle through S2 to S17\n",
    "    print(subject)\n",
    "    if subject != 'S12': # Skip S12, because it does not exist\n",
    "        # Object instantiation\n",
    "        obj_data = {}\n",
    "\n",
    "        # Accessing class attributes and method through objects\n",
    "        obj_data[subject] = read_data_of_one_subject(data_set_path, subject)\n",
    "\n",
    "        chest_data_dict = obj_data[subject].get_chest_data()\n",
    "        chest_dict_length = {key: len(value) for key, value in chest_data_dict.items()}\n",
    "\n",
    "        # Get labels\n",
    "        labels = obj_data[subject].get_labels()\n",
    "\n",
    "        for label in range(1,5): # for every state of stress\n",
    "            \n",
    "            baseline = np.asarray([idx for idx,val in enumerate(labels) if val == label])\n",
    "\n",
    "            eda_base=chest_data_dict['EDA'][baseline,0] # Select the EDA data\n",
    "            ecg_base=chest_data_dict['ECG'][baseline,0] # Select the ECG data\n",
    "            resp_base=chest_data_dict['Resp'][baseline,0] # Select the respiration data\n",
    "\n",
    "            #tonic, phasic, start, end = get_edaindex(eda_base, fs)\n",
    "\n",
    "            #Matching the index of the phasic to the other signals\n",
    "            #ecg = ecg_base[start: end]\n",
    "            #resp = resp_base[start: end]\n",
    "            #tonic = tonic[start: end]\n",
    "            duration = 25\n",
    "            #Multiple (5) samples per signal\n",
    "            samples = 10\n",
    "            for j in range(samples):\n",
    "\n",
    "                # adding the labels to y\n",
    "                if label==3 or label==4:\n",
    "                    y.append(1)\n",
    "                else:\n",
    "                    y.append(label)\n",
    "\n",
    "                # choosing a random begin point\n",
    "                begin = random.randint(0, min(len(ecg_base),len(ecg_base))- duration * fs)\n",
    "                \n",
    "                ecg = ecg_base[begin: begin + duration*fs]\n",
    "                eda = eda_base[begin: begin + duration*fs]\n",
    "\n",
    "                # getting the eda and ecg features\n",
    "                index = subject + str(label) + str(j)\n",
    "                tonic, phasic, start, end = get_edaindex(eda, fs)\n",
    "                edafeatures = get_edafeatures(index, edafeatures, phasic, tonic, fs)\n",
    "                ecgfeatures = get_ecgfeatures(ecg, fs, ecgfeatures, index)\n",
    "\n",
    "            ## One sample per signal\n",
    "#\n",
    "            #if label==3 or label==4:\n",
    "            #        y.append(1)\n",
    "            #else:\n",
    "            #    y.append(label)\n",
    "#\n",
    "            #index = subject + str(label) \n",
    "            #edafeatures = get_edafeatures(index, edafeatures, phasic, tonic, fs)\n",
    "            #ecgfeatures = get_ecgfeatures(ecg, fs, ecgfeatures, index)\n",
    "\n",
    "\n",
    "            # Plot a signal\n",
    "\n",
    "            # t=np.arange(0,eda_base.size*(1/fs),(1/fs))\n",
    "            # t=t[:eda_base.size]\n",
    "            \n",
    "            # plt.figure(figsize=(12,4))\n",
    "            # plt.plot(t, eda_base)\n",
    "            # plt.xlabel('$Time (s)$') \n",
    "            # plt.ylabel('$signal$')\n"
   ]
  },
  {
   "cell_type": "code",
   "execution_count": 4,
   "metadata": {},
   "outputs": [],
   "source": [
    "# saving the feature data in csv files\n",
    "edafeatures.to_csv(\"EDA_features.csv\")\n",
    "ecgfeatures.to_csv(\"ECG_features.csv\")\n",
    "\n",
    "features = pd.merge(ecgfeatures, edafeatures, left_index=True, right_index=True)\n",
    "features.to_csv(\"features_10_samp.csv\")"
   ]
  },
  {
   "cell_type": "code",
   "execution_count": 5,
   "metadata": {},
   "outputs": [],
   "source": [
    "#reading from csv file if necessary\n",
    "#multiple samples (5 samples per subject)\n",
    "features = pd.read_csv('features_10_samp.csv', index_col=0)\n",
    "samples = 10\n",
    "total_features = features"
   ]
  },
  {
   "cell_type": "code",
   "execution_count": 6,
   "metadata": {},
   "outputs": [],
   "source": [
    "from sklearn.preprocessing import StandardScaler\n",
    "from sklearn.decomposition import PCA\n",
    "from sklearn.linear_model import LogisticRegression\n",
    "from sklearn.model_selection import train_test_split\n",
    "from sklearn import svm"
   ]
  },
  {
   "cell_type": "code",
   "execution_count": 7,
   "metadata": {},
   "outputs": [],
   "source": [
    "total_features = pd.merge(ecgfeatures, edafeatures, left_index=True, right_index=True)\n",
    "y_feat = y"
   ]
  },
  {
   "attachments": {},
   "cell_type": "markdown",
   "metadata": {},
   "source": [
    "# Performing PCA"
   ]
  },
  {
   "cell_type": "code",
   "execution_count": 8,
   "metadata": {},
   "outputs": [
    {
     "data": {
      "text/plain": [
       "<matplotlib.collections.PathCollection at 0x284655f9af0>"
      ]
     },
     "execution_count": 8,
     "metadata": {},
     "output_type": "execute_result"
    },
    {
     "data": {
      "image/png": "[encoded data removed]",
      "text/plain": [
       "<Figure size 800x600 with 1 Axes>"
      ]
     },
     "metadata": {},
     "output_type": "display_data"
    }
   ],
   "source": [
    "scaler = StandardScaler().fit(features)\n",
    "X_train = scaler.transform(features)\n",
    "\n",
    "pca = PCA(n_components=25)\n",
    "pca.fit(X_train)\n",
    "X_train_pca = pca.transform(X_train)\n",
    "x_train = X_train_pca[:,0:3] # Three best features\n",
    "\n",
    "plt.figure(figsize=(8,6))\n",
    "plt.scatter(X_train_pca[:,0], X_train_pca[:,1], c=y)"
   ]
  },
  {
   "cell_type": "code",
   "execution_count": 9,
   "metadata": {},
   "outputs": [
    {
     "data": {
      "text/plain": [
       "<matplotlib.legend.Legend at 0x284654243a0>"
      ]
     },
     "execution_count": 9,
     "metadata": {},
     "output_type": "execute_result"
    },
    {
     "data": {
      "image/png": "[encoded data removed]",
      "text/plain": [
       "<Figure size 640x480 with 1 Axes>"
      ]
     },
     "metadata": {},
     "output_type": "display_data"
    }
   ],
   "source": [
    "# perform pca on features\n",
    "plt.bar(range(0,25), pca.explained_variance_ratio_, label=\"individual var\");\n",
    "plt.step(range(0,25), np.cumsum(pca.explained_variance_ratio_),'r', label=\"cumulative var\");\n",
    "plt.xlabel('Principal component index'); plt.ylabel('explained variance ratio %');\n",
    "plt.legend()"
   ]
  },
  {
   "cell_type": "code",
   "execution_count": 10,
   "metadata": {},
   "outputs": [],
   "source": [
    "# Splitting the data in train and test data\n",
    "X_train, X_test, y_train, y_test = train_test_split(x_train, y, test_size=0.2, random_state=5)\n",
    "# X_train, X_test, y_train, y_test = features[0:57], features[57:], y[0:57], y[57:]\n",
    "# X_train, X_test, y_train, y_test = features[0:336], features[336:], y[0:336], y[336:]\n",
    "\n",
    "# Scaling the data\n",
    "\n",
    "scaler = StandardScaler().fit(X_train)\n",
    "X_train = scaler.transform(X_train)\n",
    "X_test = scaler.transform(X_test)"
   ]
  },
  {
   "attachments": {},
   "cell_type": "markdown",
   "metadata": {},
   "source": [
    "# Logistic regression"
   ]
  },
  {
   "cell_type": "code",
   "execution_count": 11,
   "metadata": {},
   "outputs": [],
   "source": [
    "from sklearn.linear_model import LogisticRegression\n",
    "logistic_model = LogisticRegression()\n",
    "logistic_model.fit(X_train, y_train)\n",
    "Y_test_pred = logistic_model.predict(X_test)\n",
    "log_score = logistic_model.score(X_test,y_test)"
   ]
  },
  {
   "attachments": {},
   "cell_type": "markdown",
   "metadata": {},
   "source": [
    "# SVM"
   ]
  },
  {
   "cell_type": "code",
   "execution_count": 12,
   "metadata": {},
   "outputs": [],
   "source": [
    "from sklearn import datasets, svm\n",
    "svm_model = svm.SVC()\n",
    "svm_model.fit(X_train, y_train)\n",
    "Y_test_pred = svm_model.predict(X_test)\n",
    "svm_score = svm_model.score(X_test,y_test)"
   ]
  },
  {
   "attachments": {},
   "cell_type": "markdown",
   "metadata": {},
   "source": [
    "# Neural Networks"
   ]
  },
  {
   "cell_type": "code",
   "execution_count": 13,
   "metadata": {},
   "outputs": [
    {
     "name": "stdout",
     "output_type": "stream",
     "text": [
      "[0.8583333492279053, 0.875, 0.8916666507720947, 0.8999999761581421, 0.875]\n",
      "Average Validation Accuracy: 0.8799999952316284\n"
     ]
    }
   ],
   "source": [
    "from sklearn.model_selection import train_test_split\n",
    "from sklearn.preprocessing import StandardScaler\n",
    "from sklearn.decomposition import PCA\n",
    "from tensorflow.keras.utils import to_categorical\n",
    "from tensorflow.keras.models import Sequential\n",
    "from tensorflow.keras.layers import Dense, Dropout\n",
    "from tensorflow.keras.optimizers import Adam\n",
    "\n",
    "val_accuracies = []\n",
    "for i in range(5): # run 5 times with 5 random states to determine model accuracy\n",
    "    # Splitting the data in train and test data\n",
    "    X_train, X_test, y_train, y_test = train_test_split(x_train, y, test_size=0.2, random_state= i + 1)\n",
    "\n",
    "    # Scaling the data\n",
    "    scaler = StandardScaler().fit(X_train)\n",
    "    X_train = scaler.transform(X_train)\n",
    "    X_test = scaler.transform(X_test)\n",
    "    ## Convert labels to categorical\n",
    "    y_train_cat = to_categorical(y_train)\n",
    "    y_test_cat = to_categorical(y_test)\n",
    "\n",
    "    # Define the feedforward neural network\n",
    "    neural_model = Sequential()\n",
    "    neural_model.add(Dense(64, activation='relu', input_shape=(3,)))\n",
    "    neural_model.add(Dense(64, activation='relu'))\n",
    "    neural_model.add(Dense(64, activation='relu'))\n",
    "    neural_model.add(Dense(64, activation = 'relu'))\n",
    "    neural_model.add(Dropout(0.5))\n",
    "    neural_model.add(Dense(3, activation='softmax'))\n",
    "\n",
    "    # Compile the model\n",
    "    optimizer = Adam(learning_rate=0.001)\n",
    "    neural_model.compile(loss='categorical_crossentropy',\n",
    "                  optimizer=optimizer,\n",
    "                  metrics=['accuracy'])\n",
    "\n",
    "    # Train the model\n",
    "    # history = model.fit(X_train_pca, y_train, validation_data=(X_test_pca, y_test), epochs=45, batch_size=100, verbose=2)\n",
    "    history = neural_model.fit(X_train, y_train_cat, validation_data=(X_test, y_test_cat), epochs=45, batch_size=100, verbose=0)\n",
    "    val_accuracy = history.history['val_accuracy'][-1]\n",
    "    val_accuracies.append(val_accuracy) # accuracy score\n",
    "\n",
    "print(val_accuracies)\n",
    "avg_val_accuracy = sum(val_accuracies) / len(val_accuracies) # average of accurracy scores\n",
    "print(\"Average Validation Accuracy:\", avg_val_accuracy)"
   ]
  },
  {
   "cell_type": "code",
   "execution_count": 14,
   "metadata": {},
   "outputs": [
    {
     "data": {
      "text/plain": [
       "<matplotlib.legend.Legend at 0x2846eaaaaf0>"
      ]
     },
     "execution_count": 14,
     "metadata": {},
     "output_type": "execute_result"
    },
    {
     "data": {
      "image/png": "[encoded data removed]",
      "text/plain": [
       "<Figure size 640x480 with 1 Axes>"
      ]
     },
     "metadata": {},
     "output_type": "display_data"
    }
   ],
   "source": [
    "plt.plot(history.history['accuracy'])\n",
    "plt.plot(history.history['val_accuracy'])\n",
    "plt.legend(['accuracy', 'val_accuracy'])"
   ]
  },
  {
   "attachments": {},
   "cell_type": "markdown",
   "metadata": {},
   "source": [
    "# Random forest method"
   ]
  },
  {
   "cell_type": "code",
   "execution_count": 15,
   "metadata": {},
   "outputs": [
    {
     "name": "stdout",
     "output_type": "stream",
     "text": [
      "[0, 1, 2]\n"
     ]
    }
   ],
   "source": [
    "#from sklearn.datasets import make_classification\n",
    "from sklearn.ensemble import RandomForestClassifier\n",
    "\n",
    "# define the model\n",
    "randomf_model = RandomForestClassifier()\n",
    "\n",
    "# fit/train the model on all features\n",
    "randomf_model.fit(X_train, y_train)\n",
    "Y_test_pred = randomf_model.predict(X_test)\n",
    "\n",
    "#score\n",
    "rf_score=randomf_model.score(X_test, y_test)\n",
    "\n",
    "# get feature importance\n",
    "importance = randomf_model.feature_importances_\n",
    "\n",
    "#creat a dictionary with key=indices, and values=importance\n",
    "important_features_dict = {}\n",
    "for idx, val in enumerate(importance):\n",
    "    important_features_dict[idx] = val\n",
    "# sorting \n",
    "important_features_list = sorted(important_features_dict,\n",
    "                                 key=important_features_dict.get,\n",
    "                                 reverse=True)\n",
    "# print indices of top 5 features\n",
    "print(important_features_list[:5])\n",
    "#plt.plot(importance)"
   ]
  },
  {
   "attachments": {},
   "cell_type": "markdown",
   "metadata": {},
   "source": [
    "# Scores"
   ]
  },
  {
   "cell_type": "code",
   "execution_count": 16,
   "metadata": {},
   "outputs": [],
   "source": [
    "y_test_cat = to_categorical(y_test)\n",
    "y_test1 = y_test_cat.astype('int64')\n",
    "testYarg = np.argmax(y_test1, axis = 1)"
   ]
  },
  {
   "cell_type": "code",
   "execution_count": 17,
   "metadata": {},
   "outputs": [],
   "source": [
    "def model_predict_neural(X_test, y_test1, model):\n",
    "    predictions = model.predict(X_test)\n",
    "    predictions = np.argmax(predictions, axis = 1)\n",
    "    y_test1 = y_test1.astype('int64')\n",
    "    testYarg = np.argmax(y_test1, axis = 1)\n",
    "    miss_class = np.where(predictions != testYarg)\n",
    "    miss_class = miss_class[0]\n",
    "    print(\"Neural network\")\n",
    "    print(\"Predicted:\",predictions)\n",
    "    print(\"Correct:  \",testYarg)\n",
    "    print(\"Index missclassified:\", miss_class)\n",
    "    print(\"Score:\", val_accuracy, \"\\n\")\n",
    "    return predictions, miss_class, testYarg"
   ]
  },
  {
   "cell_type": "code",
   "execution_count": 18,
   "metadata": {},
   "outputs": [],
   "source": [
    "def model_predict(X_test, y_test1, model):\n",
    "    predictions = model.predict(X_test)\n",
    "    #y_test1 = y_test1.astype('int64')\n",
    "    #testYarg = np.argmax(y_test1, axis = 1)\n",
    "    miss_class = np.where(predictions != y_test1)\n",
    "    miss_class = miss_class[0]\n",
    "    score=model.score(X_test, y_test1)\n",
    "    print(model)\n",
    "    print(\"Predicted:\",predictions)\n",
    "    print(\"Correct:  \",testYarg)\n",
    "    print(\"Index missclassified:\", miss_class)\n",
    "    print(\"Score:\", score, \"\\n\")\n",
    "    return predictions, miss_class, testYarg"
   ]
  },
  {
   "cell_type": "code",
   "execution_count": 19,
   "metadata": {},
   "outputs": [
    {
     "name": "stdout",
     "output_type": "stream",
     "text": [
      "4/4 [==============================] - 0s 1ms/step\n",
      "Neural network\n",
      "Predicted: [1 1 1 1 1 1 1 1 1 1 1 1 1 1 1 1 1 2 1 1 1 1 1 2 2 1 1 2 1 1 2 1 1 1 1 1 1\n",
      " 1 1 1 2 1 1 2 1 1 2 1 1 1 1 1 2 1 2 2 1 2 2 1 1 2 1 1 1 1 1 1 2 1 1 2 1 1\n",
      " 1 1 1 1 1 1 1 1 1 1 1 2 2 1 1 1 2 1 1 1 1 1 2 2 1 1 1 1 2 1 2 1 1 1 1 1 1\n",
      " 1 2 1 2 1 1 1 1 1]\n",
      "Correct:   [1 1 1 2 2 1 1 2 1 1 1 1 1 1 1 1 1 2 1 1 1 1 1 2 2 1 1 2 1 1 2 1 1 1 1 1 1\n",
      " 1 1 1 2 1 1 1 1 1 1 1 1 1 1 2 2 1 2 2 1 1 2 1 1 2 2 1 1 1 1 1 2 1 1 1 1 1\n",
      " 1 1 1 1 1 1 1 1 1 1 1 2 2 1 1 1 2 2 1 1 1 1 2 1 1 1 1 2 2 2 2 1 1 1 1 1 1\n",
      " 2 2 1 1 1 1 1 1 1]\n",
      "Index missclassified: [  3   4   7  43  46  51  57  62  71  91  97 101 103 111 114]\n",
      "Score: 0.875 \n",
      "\n",
      "LogisticRegression()\n",
      "Predicted: [1 1 1 1 2 1 1 1 1 1 1 1 1 1 1 1 1 1 1 1 1 1 1 2 1 1 1 1 1 1 2 1 1 1 1 1 1\n",
      " 1 1 1 1 1 1 1 1 1 1 1 1 1 1 1 1 1 2 2 1 1 1 1 1 1 1 1 1 1 1 1 2 1 1 1 1 1\n",
      " 1 1 1 1 1 1 1 1 1 1 1 2 1 1 1 1 2 1 1 1 1 1 2 2 1 1 1 1 2 1 2 1 1 1 1 1 1\n",
      " 1 1 1 1 1 1 1 1 1]\n",
      "Correct:   [1 1 1 2 2 1 1 2 1 1 1 1 1 1 1 1 1 2 1 1 1 1 1 2 2 1 1 2 1 1 2 1 1 1 1 1 1\n",
      " 1 1 1 2 1 1 1 1 1 1 1 1 1 1 2 2 1 2 2 1 1 2 1 1 2 2 1 1 1 1 1 2 1 1 1 1 1\n",
      " 1 1 1 1 1 1 1 1 1 1 1 2 2 1 1 1 2 2 1 1 1 1 2 1 1 1 1 2 2 2 2 1 1 1 1 1 1\n",
      " 2 2 1 1 1 1 1 1 1]\n",
      "Index missclassified: [  3   7  17  24  27  40  51  52  58  61  62  86  91  97 101 103 111 112]\n",
      "Score: 0.85 \n",
      "\n",
      "SVC()\n",
      "Predicted: [1 1 1 1 1 1 1 1 1 1 1 1 1 1 1 1 1 1 1 1 1 1 1 2 1 1 1 1 1 1 2 1 1 1 1 1 1\n",
      " 1 1 1 1 1 1 2 1 1 1 1 1 1 1 1 1 1 2 2 1 1 2 1 1 1 1 1 1 1 1 1 2 1 1 1 1 1\n",
      " 1 1 1 1 1 1 1 1 1 1 1 2 1 1 1 1 2 1 1 1 1 1 2 2 1 1 1 1 2 1 2 1 1 1 1 1 1\n",
      " 1 1 1 1 1 1 1 1 1]\n",
      "Correct:   [1 1 1 2 2 1 1 2 1 1 1 1 1 1 1 1 1 2 1 1 1 1 1 2 2 1 1 2 1 1 2 1 1 1 1 1 1\n",
      " 1 1 1 2 1 1 1 1 1 1 1 1 1 1 2 2 1 2 2 1 1 2 1 1 2 2 1 1 1 1 1 2 1 1 1 1 1\n",
      " 1 1 1 1 1 1 1 1 1 1 1 2 2 1 1 1 2 2 1 1 1 1 2 1 1 1 1 2 2 2 2 1 1 1 1 1 1\n",
      " 2 2 1 1 1 1 1 1 1]\n",
      "Index missclassified: [  3   4   7  17  24  27  40  43  51  52  61  62  86  91  97 101 103 111\n",
      " 112]\n",
      "Score: 0.8416666666666667 \n",
      "\n",
      "RandomForestClassifier()\n",
      "Predicted: [1 1 1 1 1 1 1 1 1 1 1 1 1 1 1 1 1 1 1 1 1 1 1 1 2 1 2 1 1 1 2 1 1 1 1 1 1\n",
      " 1 1 1 1 1 1 2 1 1 2 1 1 1 1 1 2 1 2 2 1 2 2 1 1 1 1 1 1 1 1 1 2 1 1 2 1 1\n",
      " 1 1 1 1 1 1 1 1 1 1 1 2 1 1 1 1 2 1 1 1 2 1 2 2 1 1 1 1 2 1 2 1 1 1 1 1 1\n",
      " 1 1 1 2 1 1 1 1 1]\n",
      "Correct:   [1 1 1 2 2 1 1 2 1 1 1 1 1 1 1 1 1 2 1 1 1 1 1 2 2 1 1 2 1 1 2 1 1 1 1 1 1\n",
      " 1 1 1 2 1 1 1 1 1 1 1 1 1 1 2 2 1 2 2 1 1 2 1 1 2 2 1 1 1 1 1 2 1 1 1 1 1\n",
      " 1 1 1 1 1 1 1 1 1 1 1 2 2 1 1 1 2 2 1 1 1 1 2 1 1 1 1 2 2 2 2 1 1 1 1 1 1\n",
      " 2 2 1 1 1 1 1 1 1]\n",
      "Index missclassified: [  3   4   7  17  23  26  27  40  43  46  51  57  61  62  71  86  91  94\n",
      "  97 101 103 111 112 114]\n",
      "Score: 0.8 \n",
      "\n"
     ]
    }
   ],
   "source": [
    "model_predict_neural(X_test, y_test_cat, neural_model)\n",
    "model_predict(X_test, y_test, logistic_model)\n",
    "model_predict(X_test, y_test, svm_model)\n",
    "predictions = model_predict(X_test, y_test, randomf_model)"
   ]
  },
  {
   "attachments": {},
   "cell_type": "markdown",
   "metadata": {},
   "source": [
    "# Cross-validation score of different models"
   ]
  },
  {
   "cell_type": "code",
   "execution_count": 20,
   "metadata": {},
   "outputs": [],
   "source": [
    "from numpy import mean\n",
    "from numpy import std\n",
    "from sklearn.datasets import make_classification\n",
    "from sklearn.model_selection import KFold\n",
    "from sklearn.model_selection import cross_val_score\n",
    "from sklearn.linear_model import LogisticRegression\n",
    "\n",
    "def cross_validation(X, y, model):\n",
    "    cv = KFold(n_splits= 5, random_state=1, shuffle=True)\n",
    "    scores = cross_val_score(model, X,y, scoring='accuracy', cv=cv, n_jobs=-1)\n",
    "    print('Accuracy: %.3f (%.3f)' % (mean(scores), std(scores)))\n",
    "    return scores"
   ]
  },
  {
   "cell_type": "code",
   "execution_count": 21,
   "metadata": {},
   "outputs": [
    {
     "name": "stdout",
     "output_type": "stream",
     "text": [
      "Logistic regression\n",
      "Accuracy: 0.917 (0.020)\n",
      "[0.89166667 0.925      0.9        0.91666667 0.95      ] \n",
      "\n",
      "SVM\n",
      "Accuracy: 0.790 (0.054)\n",
      "[0.81666667 0.83333333 0.80833333 0.68333333 0.80833333] \n",
      "\n",
      "Randomforest\n",
      "Accuracy: 0.955 (0.007)\n",
      "[0.95       0.95833333 0.95       0.95       0.96666667] \n",
      "\n",
      "Neural Network\n",
      "Accuracy: 0.8799999952316284\n",
      "[0.8583333492279053, 0.875, 0.8916666507720947, 0.8999999761581421, 0.875]\n",
      "ACC std: 0.015 \n",
      "\n"
     ]
    }
   ],
   "source": [
    "print(\"Logistic regression\")\n",
    "cv_logistic = cross_validation(features, y, logistic_model)\n",
    "print(cv_logistic,\"\\n\\nSVM\")\n",
    "cv_svm = cross_validation(features, y, svm_model)\n",
    "print(cv_svm, \"\\n\\nRandomforest\")\n",
    "cv_randomf = cross_validation(features, y, randomf_model)\n",
    "print(cv_randomf, \"\\n\\nNeural Network\")\n",
    "print(\"Accuracy:\", avg_val_accuracy)\n",
    "print(val_accuracies)\n",
    "print ('ACC std:', '{0:0.3f}'.format(np.std(val_accuracies)), \"\\n\")"
   ]
  },
  {
   "attachments": {},
   "cell_type": "markdown",
   "metadata": {},
   "source": [
    "Subject Based"
   ]
  },
  {
   "cell_type": "code",
   "execution_count": 22,
   "metadata": {},
   "outputs": [],
   "source": [
    "features = total_features"
   ]
  },
  {
   "cell_type": "code",
   "execution_count": 23,
   "metadata": {},
   "outputs": [],
   "source": [
    "features = total_features\n",
    "feat_list = []\n",
    "for a in range(15):\n",
    "    df = features[a*samples*4:(a+1)*samples*4]\n",
    "    feat_list.append(df)"
   ]
  },
  {
   "cell_type": "code",
   "execution_count": 24,
   "metadata": {},
   "outputs": [
    {
     "data": {
      "text/plain": [
       "15"
      ]
     },
     "execution_count": 24,
     "metadata": {},
     "output_type": "execute_result"
    }
   ],
   "source": [
    "y_sb1 = []\n",
    "for i in range(1):\n",
    "    y_sb1.extend(samples * [1])\n",
    "    y_sb1.extend(samples * [2])\n",
    "    y_sb1.extend(samples * [1])\n",
    "    y_sb1.extend(samples * [1])\n",
    "len(feat_list)\n",
    "\n",
    "y_sb2 = []\n",
    "for i in range(1):\n",
    "    y_sb2.extend([1,2,1,1])\n",
    "len(feat_list)"
   ]
  },
  {
   "cell_type": "code",
   "execution_count": 25,
   "metadata": {},
   "outputs": [],
   "source": [
    "nnmean_sb = []\n",
    "nnstd_sb = []\n",
    "acc_sb = {}\n",
    "acc_sb['LogisticRegression()'] = []\n",
    "acc_sb['SVC()'] = []\n",
    "acc_sb['RandomForestClassifier()'] = []\n",
    "std_sb = {}\n",
    "std_sb['LogisticRegression()'] = []\n",
    "std_sb['SVC()'] = []\n",
    "std_sb['RandomForestClassifier()'] = []"
   ]
  },
  {
   "cell_type": "code",
   "execution_count": 26,
   "metadata": {},
   "outputs": [
    {
     "name": "stdout",
     "output_type": "stream",
     "text": [
      "Logistic regression\n",
      "[0.875 0.875 0.75  0.75  0.875] \n",
      "\n",
      "SVM\n",
      "[1.    0.625 0.75  0.625 0.625] \n",
      "\n",
      "Randomforest\n",
      "[0.875 0.875 1.    1.    1.   ] \n",
      "\n",
      "Neural Network\n",
      "Logistic regression\n",
      "[0.875 1.    0.625 1.    1.   ] \n",
      "\n",
      "SVM\n",
      "[1.    0.75  0.75  0.625 0.625] \n",
      "\n",
      "Randomforest\n",
      "[1.    1.    1.    0.875 1.   ] \n",
      "\n",
      "Neural Network\n",
      "Logistic regression\n",
      "[1. 1. 1. 1. 1.] \n",
      "\n",
      "SVM\n",
      "[1.    0.75  1.    0.875 0.875] \n",
      "\n",
      "Randomforest\n",
      "[1. 1. 1. 1. 1.] \n",
      "\n",
      "Neural Network\n",
      "Logistic regression\n",
      "[1.   1.   1.   1.   0.75] \n",
      "\n",
      "SVM\n",
      "[1.    0.75  0.875 0.875 0.625] \n",
      "\n",
      "Randomforest\n",
      "[1.    0.875 1.    1.    1.   ] \n",
      "\n",
      "Neural Network\n",
      "Logistic regression\n",
      "[0.875 0.75  0.875 1.    1.   ] \n",
      "\n",
      "SVM\n",
      "[1.    0.75  0.75  0.625 0.625] \n",
      "\n",
      "Randomforest\n",
      "[1.    0.875 1.    0.875 1.   ] \n",
      "\n",
      "Neural Network\n",
      "Logistic regression\n",
      "[1. 1. 1. 1. 1.] \n",
      "\n",
      "SVM\n",
      "[1.    0.75  0.75  0.625 0.625] \n",
      "\n",
      "Randomforest\n",
      "[1.    1.    1.    1.    0.875] \n",
      "\n",
      "Neural Network\n",
      "Logistic regression\n",
      "[1.   1.   1.   1.   0.75] \n",
      "\n",
      "SVM\n",
      "[1.    0.75  0.75  0.625 0.625] \n",
      "\n",
      "Randomforest\n",
      "[1.    0.875 1.    0.875 1.   ] \n",
      "\n",
      "Neural Network\n",
      "Logistic regression\n",
      "[1.    0.75  0.75  0.625 0.75 ] \n",
      "\n",
      "SVM\n",
      "[1.    0.75  0.75  0.625 0.625] \n",
      "\n",
      "Randomforest\n",
      "[1.    1.    0.625 0.875 1.   ] \n",
      "\n",
      "Neural Network\n",
      "Logistic regression\n",
      "[0.875 1.    0.875 1.    0.875] \n",
      "\n",
      "SVM\n",
      "[1.    0.75  0.75  0.625 0.625] \n",
      "\n",
      "Randomforest\n",
      "[1.    1.    1.    1.    0.875] \n",
      "\n",
      "Neural Network\n",
      "Logistic regression\n",
      "[1.    1.    0.875 1.    0.875] \n",
      "\n",
      "SVM\n",
      "[1.    0.75  0.75  0.625 0.625] \n",
      "\n",
      "Randomforest\n",
      "[1. 1. 1. 1. 1.] \n",
      "\n",
      "Neural Network\n",
      "Logistic regression\n",
      "[0.875 0.875 0.875 0.875 1.   ] \n",
      "\n",
      "SVM\n",
      "[1.    0.75  0.75  0.625 0.625] \n",
      "\n",
      "Randomforest\n",
      "[1. 1. 1. 1. 1.] \n",
      "\n",
      "Neural Network\n",
      "Logistic regression\n",
      "[1. 1. 1. 1. 1.] \n",
      "\n",
      "SVM\n",
      "[1.    0.75  0.75  0.625 0.625] \n",
      "\n",
      "Randomforest\n",
      "[1. 1. 1. 1. 1.] \n",
      "\n",
      "Neural Network\n",
      "Logistic regression\n",
      "[1.    0.625 0.875 0.75  0.875] \n",
      "\n",
      "SVM\n",
      "[1.    0.75  0.75  0.625 0.625] \n",
      "\n",
      "Randomforest\n",
      "[1.    1.    0.875 0.75  1.   ] \n",
      "\n",
      "Neural Network\n",
      "Logistic regression\n",
      "[1. 1. 1. 1. 1.] \n",
      "\n",
      "SVM\n",
      "[1.    0.75  0.75  0.625 0.625] \n",
      "\n",
      "Randomforest\n",
      "[1.    0.875 1.    1.    1.   ] \n",
      "\n",
      "Neural Network\n",
      "Logistic regression\n",
      "[1.    0.875 1.    0.75  1.   ] \n",
      "\n",
      "SVM\n",
      "[1.    0.75  0.75  0.625 0.625] \n",
      "\n",
      "Randomforest\n",
      "[1. 1. 1. 1. 1.] \n",
      "\n",
      "Neural Network\n"
     ]
    }
   ],
   "source": [
    "for features in feat_list:\n",
    "    scaler_sb = StandardScaler().fit(features)\n",
    "    X_train_sb = scaler_sb.transform(features)\n",
    "\n",
    "    pca = PCA(n_components=4)\n",
    "    pca.fit(X_train_sb)\n",
    "    X_train_pca_sb = pca.transform(X_train_sb)\n",
    "    x_train_sb = X_train_pca_sb[:,0:3] # Three best features\n",
    "\n",
    "    # plt.figure(figsize=(8,6))\n",
    "    # plt.scatter(X_train_pca[:,0], X_train_pca[:,1], c=y)\n",
    "    # # perform pca on features\n",
    "    # plt.bar(range(0,15), pca.explained_variance_ratio_, label=\"individual var\");\n",
    "    # plt.step(range(0,15), np.cumsum(pca.explained_variance_ratio_),'r', label=\"cumulative var\");\n",
    "    # plt.xlabel('Principal component index'); plt.ylabel('explained variance ratio %');\n",
    "    # plt.legend()\n",
    "# Splitting the data in train and test data\n",
    "    X_train_sb, X_test_sb, y_train_sb, y_test_sb = train_test_split(x_train_sb, y_sb1, test_size=0.2, random_state=5)\n",
    "# Scaling the data\n",
    "    scaler_sb = StandardScaler().fit(X_train_sb)\n",
    "    X_train_sb = scaler_sb.transform(X_train_sb)\n",
    "    X_test_sb = scaler_sb.transform(X_test_sb)\n",
    "    logistic_model_sb = LogisticRegression()\n",
    "    logistic_model_sb.fit(X_train_sb, y_train_sb)\n",
    "    Y_test_pred_sb = logistic_model_sb.predict(X_test_sb)\n",
    "    log_score_sb = logistic_model_sb.score(X_test_sb,y_test_sb)\n",
    "\n",
    "    from sklearn import datasets, svm\n",
    "    svm_model_sb = svm.SVC()\n",
    "    svm_model_sb.fit(X_train_sb, y_train_sb)\n",
    "    Y_test_pred = svm_model_sb.predict(X_test_sb)\n",
    "    svm_score = svm_model_sb.score(X_test_sb,y_test_sb)\n",
    "\n",
    "    from sklearn.model_selection import train_test_split\n",
    "    from sklearn.preprocessing import StandardScaler\n",
    "    from sklearn.decomposition import PCA\n",
    "    from tensorflow.keras.utils import to_categorical\n",
    "    from tensorflow.keras.models import Sequential\n",
    "    from tensorflow.keras.layers import Dense, Dropout\n",
    "    from tensorflow.keras.optimizers import Adam\n",
    "\n",
    "    val_accuracies_sb = []\n",
    "    for i in range(5): # run 5 times with 5 random states to determine model accuracy\n",
    "        # Splitting the data in train and test data\n",
    "        X_trainn_sb, X_testn_sb, y_trainn_sb, y_testn_sb = train_test_split(x_train_sb, y_sb1, test_size=0.2, random_state= i + 1)\n",
    "\n",
    "        # Scaling the data\n",
    "        scaler_sb = StandardScaler().fit(X_trainn_sb)\n",
    "        X_trainn_sb = scaler_sb.transform(X_trainn_sb)\n",
    "        X_testn_sb = scaler_sb.transform(X_testn_sb)\n",
    "        ## Convert labels to categorical\n",
    "        y_train_cat_sb = to_categorical(y_trainn_sb,3)\n",
    "        y_test_cat_sb = to_categorical(y_testn_sb,3)\n",
    "\n",
    "        # Define the feedforward neural network\n",
    "        neural_model_sb = Sequential()\n",
    "        neural_model_sb.add(Dense(64, activation='relu', input_shape=(3,)))\n",
    "        neural_model_sb.add(Dense(64, activation='relu'))\n",
    "        neural_model_sb.add(Dense(64, activation='relu'))\n",
    "        neural_model_sb.add(Dense(64, activation = 'relu'))\n",
    "        neural_model_sb.add(Dropout(0.5))\n",
    "        neural_model_sb.add(Dense(3, activation='softmax'))\n",
    "\n",
    "        # Compile the model\n",
    "        optimizer = Adam(learning_rate=0.001)\n",
    "        neural_model_sb.compile(loss='categorical_crossentropy',\n",
    "                    optimizer=optimizer,\n",
    "                    metrics=['accuracy'])\n",
    "\n",
    "        # Train the model\n",
    "\n",
    "        # history = model.fit(X_train_pca, y_train, validation_data=(X_test_pca, y_test), epochs=45, batch_size=100, verbose=2)\n",
    "        history = neural_model_sb.fit(X_trainn_sb, y_train_cat_sb, validation_data=(X_testn_sb, y_test_cat_sb), epochs=45, batch_size=100, verbose=0)\n",
    "        val_accuracy_sb = history.history['val_accuracy'][-1]\n",
    "        val_accuracies_sb.append(val_accuracy_sb) # accuracy score\n",
    "\n",
    "    # print(val_accuracies)\n",
    "    avg_val_accuracy_sb = sum(val_accuracies_sb) / len(val_accuracies_sb) # average of accurracy scores\n",
    "    # print(\"Average Validation Accuracy:\", avg_val_accuracy)\n",
    "    # plt.plot(history.history['accuracy'])\n",
    "    # plt.plot(history.history['val_accuracy'])\n",
    "    # plt.legend(['accuracy', 'val_accuracy'])\n",
    "    #from sklearn.datasets import make_classification\n",
    "    from sklearn.ensemble import RandomForestClassifier\n",
    "\n",
    "    # define the model\n",
    "    randomf_model_sb = RandomForestClassifier()\n",
    "\n",
    "    # fit/train the model on all features\n",
    "    randomf_model_sb.fit(X_train_sb, y_train_sb)\n",
    "    Y_test_pred_sb = randomf_model_sb.predict(X_test_sb)\n",
    "\n",
    "    #score\n",
    "    rf_score_sb=randomf_model_sb.score(X_test_sb, y_test_sb)\n",
    "    \n",
    "    y_test_cat_sb = to_categorical(y_test_sb)\n",
    "    y_test1_sb = y_test_cat_sb.astype('int64')\n",
    "    testYarg_sb = np.argmax(y_test1_sb, axis = 1)\n",
    "\n",
    "    def model_predict_neural(X_test, y_test1, model):\n",
    "        predictions = model.predict(X_test)\n",
    "        predictions = np.argmax(predictions, axis = 1)\n",
    "        y_test1 = y_test1.astype('int64')\n",
    "        testYarg = np.argmax(y_test1, axis = 1)\n",
    "        miss_class = np.where(predictions != testYarg_sb)\n",
    "        miss_class = miss_class[0]\n",
    "        # print(\"Neural network\")\n",
    "        # print(\"Predicted:\",predictions)\n",
    "        # print(\"Correct:  \",testYarg)\n",
    "        # print(\"Index missclassified:\", miss_class)\n",
    "        # print(\"Score:\", val_accuracy, \"\\n\")\n",
    "        return predictions, miss_class, testYarg\n",
    "    def model_predict(X_test, y_test1, model):\n",
    "        predictions = model.predict(X_test)\n",
    "        #y_test1 = y_test1.astype('int64')\n",
    "        #testYarg = np.argmax(y_test1, axis = 1)\n",
    "        miss_class = np.where(predictions != y_test1)\n",
    "        miss_class = miss_class[0]\n",
    "        score=model.score(X_test, y_test1)\n",
    "        # print(model)\n",
    "        # print(\"Predicted:\",predictions)\n",
    "        # print(\"Correct:  \",testYarg)\n",
    "        # print(\"Index missclassified:\", miss_class)\n",
    "        # print(\"Score:\", score, \"\\n\")\n",
    "        return predictions, miss_class, testYarg\n",
    "    # model_predict_neural(X_test, y_test_cat, neural_model)\n",
    "    # model_predict(X_test, y_test, logistic_model)\n",
    "    # model_predict(X_test, y_test, svm_model)\n",
    "    # predictions = model_predict(X_test, y_test, randomf_model)\n",
    "    from numpy import mean\n",
    "    from numpy import std\n",
    "    from sklearn.datasets import make_classification\n",
    "    from sklearn.model_selection import KFold\n",
    "    from sklearn.model_selection import cross_val_score\n",
    "    from sklearn.linear_model import LogisticRegression\n",
    "\n",
    "    def cross_validation(X, y, model, acc_d, std_d):\n",
    "        cv = KFold(n_splits= 5, random_state=1, shuffle=True)\n",
    "        scores = cross_val_score(model, X,y, scoring='accuracy', cv=cv, n_jobs=-1)\n",
    "        # print('Accuracy: %.3f (%.3f)' % (mean(scores), std(scores)))\n",
    "        # print(str(model))\n",
    "        acc_sb[str(model)].append(mean(scores))\n",
    "        std_sb[str(model)].append(std(scores))\n",
    "        return scores\n",
    "    print(\"Logistic regression\")\n",
    "    cv_logistic = cross_validation(features, y_sb1, logistic_model_sb, acc_sb, std_sb)\n",
    "    print(cv_logistic,\"\\n\\nSVM\")\n",
    "    cv_svm = cross_validation(features, y_sb1, svm_model_sb, acc_sb, std_sb)\n",
    "    print(cv_svm, \"\\n\\nRandomforest\")\n",
    "    cv_randomf = cross_validation(features, y_sb1, randomf_model_sb, acc_sb, std_sb)\n",
    "    print(cv_randomf, \"\\n\\nNeural Network\")\n",
    "    # print(\"Accuracy:\", avg_val_accuracy)\n",
    "    # print(val_accuracies)\n",
    "    # print ('ACC std:', '{0:0.3f}'.format(np.std(val_accuracies)), \"\\n\")\n",
    "    nnmean_sb.append(avg_val_accuracy_sb)\n",
    "    nnstd_sb.append(np.std(val_accuracies_sb))"
   ]
  },
  {
   "cell_type": "code",
   "execution_count": 27,
   "metadata": {},
   "outputs": [
    {
     "name": "stdout",
     "output_type": "stream",
     "text": [
      "Logistic regression\n",
      "0.92167\n",
      "0.06820 \n",
      "\n",
      "SVM\n",
      "0.76333\n",
      "0.13400 \n",
      "\n",
      "Randomforest\n",
      "0.97000\n",
      "0.04530 \n",
      "\n",
      "Neural Network\n",
      "0.96500\n",
      "0.04515\n"
     ]
    }
   ],
   "source": [
    "print(\"Logistic regression\")\n",
    "print(\"{:.5f}\".format(mean(acc_sb['LogisticRegression()'])))\n",
    "print(\"{:.5f}\".format(mean(std_sb['LogisticRegression()'])), \"\\n\\nSVM\")\n",
    "print(\"{:.5f}\".format(mean(acc_sb['SVC()'])))\n",
    "print(\"{:.5f}\".format(mean(std_sb['SVC()'])), \"\\n\\nRandomforest\")\n",
    "print(\"{:.5f}\".format(mean(acc_sb['RandomForestClassifier()'])))\n",
    "print(\"{:.5f}\".format(mean(std_sb['RandomForestClassifier()'])), \"\\n\\nNeural Network\")\n",
    "print(\"{:.5f}\".format(mean(nnmean_sb)))\n",
    "print(\"{:.5f}\".format(mean(nnstd_sb)))\n"
   ]
  },
  {
   "attachments": {},
   "cell_type": "markdown",
   "metadata": {},
   "source": [
    "# Hybrid approach"
   ]
  },
  {
   "cell_type": "code",
   "execution_count": 28,
   "metadata": {},
   "outputs": [],
   "source": [
    "from sklearn.linear_model import LogisticRegression\n",
    "from sklearn import datasets, svm\n",
    "from sklearn.ensemble import RandomForestClassifier"
   ]
  },
  {
   "cell_type": "code",
   "execution_count": 29,
   "metadata": {},
   "outputs": [],
   "source": [
    "features = total_features\n",
    "feat_list = []\n",
    "for a in range(15):\n",
    "    df = features[a*samples*4:(a+1)*samples*4]\n",
    "    feat_list.append(df)"
   ]
  },
  {
   "cell_type": "code",
   "execution_count": 30,
   "metadata": {},
   "outputs": [
    {
     "data": {
      "text/plain": [
       "15"
      ]
     },
     "execution_count": 30,
     "metadata": {},
     "output_type": "execute_result"
    }
   ],
   "source": [
    "y_hy1 = []\n",
    "for i in range(1):\n",
    "    y_hy1.extend(samples * [1])\n",
    "    y_hy1.extend(samples * [2])\n",
    "    y_hy1.extend(samples * [1])\n",
    "    y_hy1.extend(samples * [1])\n",
    "len(feat_list)\n",
    "\n",
    "y_hy2 = []\n",
    "for i in range(1):\n",
    "    y_hy2.extend([1,2,1,1])\n",
    "len(feat_list)"
   ]
  },
  {
   "cell_type": "code",
   "execution_count": 31,
   "metadata": {},
   "outputs": [],
   "source": [
    "nnmean_hy = []\n",
    "nnstd_hy = []\n",
    "acc_hy = {}\n",
    "acc_hy['LogisticRegression()'] = []\n",
    "acc_hy['SVC()'] = []\n",
    "acc_hy['RandomForestClassifier()'] = []\n",
    "std_hy = {}\n",
    "std_hy['LogisticRegression()'] = []\n",
    "std_hy['SVC()'] = []\n",
    "std_hy['RandomForestClassifier()'] = []"
   ]
  },
  {
   "cell_type": "code",
   "execution_count": 32,
   "metadata": {},
   "outputs": [
    {
     "data": {
      "text/plain": [
       "<matplotlib.collections.PathCollection at 0x283d140c9a0>"
      ]
     },
     "execution_count": 32,
     "metadata": {},
     "output_type": "execute_result"
    },
    {
     "data": {
      "image/png": "[encoded data removed]",
      "text/plain": [
       "<Figure size 800x600 with 1 Axes>"
      ]
     },
     "metadata": {},
     "output_type": "display_data"
    }
   ],
   "source": [
    "x_hybrid = np.empty((0,3))\n",
    "x_hybrid_pca1 = x_hybrid_pca2 = y_hy2l = y_hy1l = np.empty((0))\n",
    "\n",
    "for features in feat_list:\n",
    "    scaler_hy = StandardScaler().fit(features)\n",
    "    X_train_hy = scaler_hy.transform(features)\n",
    "\n",
    "    pca = PCA(n_components=4)\n",
    "    pca.fit(X_train_hy)\n",
    "    X_train_pcahy = pca.transform(X_train_hy)\n",
    "    x_train_hy = X_train_pcahy[:,0:3] # Three best features\n",
    "    x_hybrid = np.concatenate((x_hybrid, x_train_hy))\n",
    "    x_hybrid_pca1 = np.concatenate((x_hybrid_pca1, X_train_pcahy[:,0]))\n",
    "    x_hybrid_pca2 = np.concatenate((x_hybrid_pca2, X_train_pcahy[:,1]))\n",
    "    y_hy1l = np.concatenate((y_hy1l, y_hy1))\n",
    "\n",
    "plt.figure(figsize=(8,6))\n",
    "plt.scatter(x_hybrid_pca1, x_hybrid_pca2, c=y_hy1l)"
   ]
  },
  {
   "cell_type": "code",
   "execution_count": 33,
   "metadata": {},
   "outputs": [],
   "source": [
    "# Splitting the data in train and test data\n",
    "X_train_hy, X_test_hy, y_train_hy, y_test_hy = train_test_split(x_hybrid, y_hy1l, test_size=0.2, random_state=5)\n",
    "# X_train, X_test, y_train, y_test = features[0:53], features[53:], y[0:53], y[53:]\n",
    "# X_train, X_test, y_train, y_test = features[0:262], features[262:], y[0:262], y[262:]\n",
    "# Scaling the data\n",
    "\n",
    "scaler_hy = StandardScaler().fit(X_train_hy)\n",
    "X_train_hyy = scaler_hy.transform(X_train_hy)\n",
    "X_test_hy = scaler_hy.transform(X_test_hy)\n",
    "\n",
    "logistic_model_hy = LogisticRegression()\n",
    "logistic_model_hy.fit(X_train_hy, y_train_hy)\n",
    "Y_test_pred_hy = logistic_model_hy.predict(X_test_hy)\n",
    "log_score_hy = logistic_model_hy.score(X_test_hy,y_test_hy)\n",
    "\n",
    "svm_model_hy = svm.SVC()\n",
    "svm_model_hy.fit(X_train_hy, y_train_hy)\n",
    "Y_test_pred_hy = svm_model_hy.predict(X_test_hy)\n",
    "svm_score_hy = svm_model_hy.score(X_test_hy,y_test_hy)\n",
    "\n",
    "\n",
    "from sklearn.model_selection import train_test_split\n",
    "from sklearn.preprocessing import StandardScaler\n",
    "from sklearn.decomposition import PCA\n",
    "from tensorflow.keras.utils import to_categorical\n",
    "from tensorflow.keras.models import Sequential\n",
    "from tensorflow.keras.layers import Dense, Dropout\n",
    "from tensorflow.keras.optimizers import Adam\n",
    "val_accuracies_hy = []\n",
    "for i in range(5): # run 5 times with 5 random states to determine model accuracy\n",
    "    # Splitting the data in train and test data\n",
    "    X_trainn_hy, X_testn_hy, y_trainn_hy, y_testn_hy = train_test_split(x_hybrid, y_hy1l, test_size=0.2, random_state= i + 1)\n",
    "    # Scaling the data\n",
    "    scaler_hy = StandardScaler().fit(X_trainn_hy)\n",
    "    X_trainn_hy = scaler_hy.transform(X_trainn_hy)\n",
    "    X_testn_hy = scaler_hy.transform(X_testn_hy)\n",
    "    ## Convert labels to categorical\n",
    "    y_train_cat_hy = to_categorical(y_trainn_hy,3)\n",
    "    y_test_cat_hy = to_categorical(y_testn_hy,3)\n",
    "    # Define the feedforward neural network\n",
    "    neural_model_hy = Sequential()\n",
    "    neural_model_hy.add(Dense(128, activation='relu', input_shape=(3,)))\n",
    "    neural_model_hy.add(Dense(128, activation='relu'))\n",
    "    neural_model_hy.add(Dense(128, activation='relu'))\n",
    "    neural_model_hy.add(Dense(128, activation = 'relu'))\n",
    "    neural_model_hy.add(Dropout(0.5))\n",
    "    neural_model_hy.add(Dense(3, activation='softmax'))\n",
    "    # Compile the model\n",
    "    optimizer = Adam(learning_rate=0.001)\n",
    "    neural_model_hy.compile(loss='categorical_crossentropy',\n",
    "                optimizer=optimizer,\n",
    "                metrics=['accuracy'])\n",
    "    # Train the model\n",
    "    # history = model.fit(X_train_pca, y_train, validation_data=(X_test_pca, y_test), epochs=45, batch_size=100, verbose=2)\n",
    "    history_hy = neural_model_hy.fit(X_trainn_hy, y_train_cat_hy, validation_data=(X_testn_hy, y_test_cat_hy), epochs=45, batch_size=100, verbose=0)\n",
    "    val_accuracy_hy = history_hy.history['val_accuracy'][-1]\n",
    "    val_accuracies_hy.append(val_accuracy_hy) # accuracy score\n",
    "# print(val_accuracies)\n",
    "avg_val_accuracy_hy = sum(val_accuracies_hy) / len(val_accuracies_hy) # average of accurracy scores\n",
    "# print(\"Average Validation Accuracy:\", avg_val_accuracy)\n",
    "# plt.plot(history.history['accuracy'])\n",
    "# plt.plot(history.history['val_accuracy'])\n",
    "# plt.legend(['accuracy', 'val_accuracy'])\n",
    "#from sklearn.datasets import make_classification\n",
    "\n",
    "from sklearn.ensemble import RandomForestClassifier\n",
    "# define the model\n",
    "randomf_model_hy = RandomForestClassifier()\n",
    "# fit/train the model on all features\n",
    "randomf_model_hy.fit(X_train_hy, y_train_hy)\n",
    "Y_test_pred_hy = randomf_model_hy.predict(X_test_hy)\n",
    "#score\n",
    "rf_score_hy = randomf_model_hy.score(X_test_hy, y_test_hy)\n"
   ]
  },
  {
   "cell_type": "code",
   "execution_count": 35,
   "metadata": {},
   "outputs": [
    {
     "name": "stdout",
     "output_type": "stream",
     "text": [
      "Logistic regression\n",
      "[0.91666667 0.95       0.90833333 0.88333333 0.94166667] \n",
      "\n",
      "SVM\n",
      "[0.93333333 0.94166667 0.91666667 0.925      0.93333333] \n",
      "\n",
      "Randomforest\n",
      "[0.90833333 0.95833333 0.91666667 0.9        0.93333333] \n",
      "\n",
      "Neural Network\n",
      "[0.9333333373069763, 0.949999988079071, 0.9166666865348816, 0.9416666626930237, 0.9333333373069763]\n"
     ]
    }
   ],
   "source": [
    "y_test_cat_hy = to_categorical(y_test_hy)\n",
    "y_test1_hy = y_test_cat_hy.astype('int64')\n",
    "testYarg = np.argmax(y_test1_hy, axis = 1)\n",
    "def model_predict_neural(X_test, y_test1, model):\n",
    "    predictions = model.predict(X_test)\n",
    "    predictions = np.argmax(predictions, axis = 1)\n",
    "    y_test1 = y_test1.astype('int64')\n",
    "    testYarg = np.argmax(y_test1, axis = 1)\n",
    "    miss_class = np.where(predictions != testYarg)\n",
    "    miss_class = miss_class[0]\n",
    "    # print(\"Neural network\")\n",
    "    # print(\"Predicted:\",predictions)\n",
    "    # print(\"Correct:  \",testYarg)\n",
    "    # print(\"Index missclassified:\", miss_class)\n",
    "    # print(\"Score:\", val_accuracy, \"\\n\")\n",
    "    return predictions, miss_class, testYarg\n",
    "def model_predict(X_test, y_test1, model):\n",
    "    predictions = model.predict(X_test)\n",
    "    #y_test1 = y_test1.astype('int64')\n",
    "    #testYarg = np.argmax(y_test1, axis = 1)\n",
    "    miss_class = np.where(predictions != y_test1)\n",
    "    miss_class = miss_class[0]\n",
    "    score=model.score(X_test, y_test1)\n",
    "    # print(model)\n",
    "    # print(\"Predicted:\",predictions)\n",
    "    # print(\"Correct:  \",testYarg)\n",
    "    # print(\"Index missclassified:\", miss_class)\n",
    "    # print(\"Score:\", score, \"\\n\")\n",
    "    return predictions, miss_class, testYarg\n",
    "# model_predict_neural(X_test, y_test_cat, neural_model)\n",
    "# model_predict(X_test, y_test, logistic_model)\n",
    "# model_predict(X_test, y_test, svm_model)\n",
    "# predictions = model_predict(X_test, y_test, randomf_model)\n",
    "\n",
    "from numpy import mean\n",
    "from numpy import std\n",
    "from sklearn.datasets import make_classification\n",
    "from sklearn.model_selection import KFold\n",
    "from sklearn.model_selection import cross_val_score\n",
    "from sklearn.linear_model import LogisticRegression\n",
    "def cross_validation(X, y, model, acc_d, std_d):\n",
    "    cv = KFold(n_splits= 5, random_state=1, shuffle=True)\n",
    "    scores = cross_val_score(model, X,y, scoring='accuracy', cv=cv, n_jobs=-1)\n",
    "    # print('Accuracy: %.3f (%.3f)' % (mean(scores), std(scores)))\n",
    "    # print(str(model))\n",
    "    acc_hy[str(model)].append(mean(scores))\n",
    "    std_hy[str(model)].append(std(scores))\n",
    "    return scores\n",
    "print(\"Logistic regression\")\n",
    "cv_logistic = cross_validation(x_hybrid, y_hy1l, logistic_model_hy, acc_hy, std_hy)\n",
    "print(cv_logistic,\"\\n\\nSVM\")\n",
    "cv_svm = cross_validation(x_hybrid, y_hy1l, svm_model_hy, acc_hy, std_hy)\n",
    "print(cv_svm, \"\\n\\nRandomforest\")\n",
    "cv_randomf = cross_validation(x_hybrid, y_hy1l, randomf_model_hy, acc_hy, std_hy)\n",
    "print(cv_randomf, \"\\n\\nNeural Network\")\n",
    "# print(\"Accuracy:\", avg_val_accuracy)\n",
    "print(val_accuracies_hy)\n",
    "#print ('ACC std:', '{0:0.3f}'.format(np.std(val_accuracies)), \"\\n\")\n",
    "nnmean_hy.append(avg_val_accuracy_hy)\n",
    "nnstd_hy.append(np.std(val_accuracies_hy))"
   ]
  },
  {
   "cell_type": "code",
   "execution_count": 36,
   "metadata": {},
   "outputs": [
    {
     "name": "stdout",
     "output_type": "stream",
     "text": [
      "Logistic regression\n",
      "0.92000\n",
      "0.02392 \n",
      "\n",
      "SVM\n",
      "0.93000\n",
      "0.00850 \n",
      "\n",
      "Randomforest\n",
      "0.92333\n",
      "0.02068 \n",
      "\n",
      "Neural Network\n",
      "0.93500\n",
      "0.01106\n"
     ]
    }
   ],
   "source": [
    "print(\"Logistic regression\")\n",
    "print(\"{:.5f}\".format(acc_hy['LogisticRegression()'][0]))\n",
    "print(\"{:.5f}\".format(std_hy['LogisticRegression()'][0]), \"\\n\\nSVM\")\n",
    "print(\"{:.5f}\".format(acc_hy['SVC()'][0]))\n",
    "print(\"{:.5f}\".format(std_hy['SVC()'][0]), \"\\n\\nRandomforest\")\n",
    "print(\"{:.5f}\".format(acc_hy['RandomForestClassifier()'][0]))\n",
    "print(\"{:.5f}\".format(std_hy['RandomForestClassifier()'][0]), \"\\n\\nNeural Network\")\n",
    "print(\"{:.5f}\".format(nnmean_hy[0]))\n",
    "print(\"{:.5f}\".format(nnstd_hy[0]))\n"
   ]
  }
 ],
 "metadata": {
  "kernelspec": {
   "display_name": "Python 3",
   "language": "python",
   "name": "python3"
  },
  "language_info": {
   "codemirror_mode": {
    "name": "ipython",
    "version": 3
   },
   "file_extension": ".py",
   "mimetype": "text/x-python",
   "name": "python",
   "nbconvert_exporter": "python",
   "pygments_lexer": "ipython3",
   "version": "3.9.13"
  },
  "orig_nbformat": 4
 },
 "nbformat": 4,
 "nbformat_minor": 2
}
