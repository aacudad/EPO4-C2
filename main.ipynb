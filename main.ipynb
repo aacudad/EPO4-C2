{
 "cells": [
  {
   "cell_type": "code",
   "execution_count": 20,
   "metadata": {},
   "outputs": [],
   "source": [
    "import ipynb\n",
    "import numpy as np\n",
    "import pandas as pd\n",
    "import matplotlib.pyplot as plt\n",
    "import os\n",
    "import pickle\n",
    "import scipy\n",
    "from scipy import signal\n",
    "import neurokit2 as nk\n",
    "import random\n",
    "# %matplotlib inline \n",
    "import pyhrv\n",
    "import ipynb\n",
    "\n",
    "# functions for features extraction\n",
    "from ipynb.fs.full.ECG_features import get_ecgfeatures\n",
    "from ipynb.fs.full.EDA import get_edaindex, get_edafeatures\n",
    "from ipynb.fs.full.BVP import get_bvpfeatures, bvp_prep"
   ]
  },
  {
   "cell_type": "code",
   "execution_count": 2,
   "metadata": {},
   "outputs": [],
   "source": [
    "# Dataset reading\n",
    "class read_data_of_one_subject:\n",
    "            \"\"\"Read data from WESAD dataset\"\"\"\n",
    "            def __init__(self, path, subject):\n",
    "                self.keys = ['label', 'subject', 'signal']\n",
    "                self.signal_keys = ['wrist', 'chest']\n",
    "                self.chest_sensor_keys = ['ACC', 'ECG', 'EDA', 'EMG', 'Resp', 'Temp']\n",
    "                self.wrist_sensor_keys = ['ACC', 'BVP', 'EDA', 'TEMP']\n",
    "                #os.chdir(path)\n",
    "                #os.chdir(subject)\n",
    "                with open(path + subject +'/'+subject + '.pkl', 'rb') as file:\n",
    "                    data = pickle.load(file, encoding='latin1')\n",
    "                self.data = data\n",
    "\n",
    "            def get_labels(self):\n",
    "                return self.data[self.keys[0]]\n",
    "\n",
    "            def get_wrist_data(self):\n",
    "                \"\"\"\"\"\"\n",
    "                #label = self.data[self.keys[0]]\n",
    "                #assert subject == self.data[self.keys[1]]\n",
    "                signal = self.data[self.keys[2]]\n",
    "                wrist_data = signal[self.signal_keys[0]]\n",
    "                #wrist_ACC = wrist_data[self.wrist_sensor_keys[0]]\n",
    "                #wrist_ECG = wrist_data[self.wrist_sensor_keys[1]]\n",
    "                return wrist_data\n",
    "\n",
    "            def get_chest_data(self):\n",
    "                \"\"\"\"\"\"\n",
    "                signal = self.data[self.keys[2]]\n",
    "                chest_data = signal[self.signal_keys[1]]\n",
    "                return chest_data"
   ]
  },
  {
   "cell_type": "code",
   "execution_count": 3,
   "metadata": {},
   "outputs": [
    {
     "name": "stdout",
     "output_type": "stream",
     "text": [
      "S2\n",
      "S3\n",
      "S4\n",
      "S5\n",
      "S6\n",
      "S7\n",
      "S8\n",
      "S9\n",
      "S10\n",
      "S11\n",
      "S12\n",
      "S13\n",
      "S14\n",
      "S15\n",
      "S16\n",
      "S17\n"
     ]
    }
   ],
   "source": [
    "# Set up empty dataframes for the features\n",
    "ecgfeatures = pd.DataFrame(None, columns= ['HR_mean', 'HR_min', 'HR_max', 'HR_std', 'SDNN', 'SDANN', 'RMSSD', 'SDSD','pNN50', 'pNN20', \n",
    "                                    'abs_power_VLF', 'abs_power_LF', 'abs_power_HF', 'tot_power', 'LF/HF', \n",
    "                                    'peak_vlf', 'peak_lf', 'peak_hf', 'norm_power_LF', 'norm_power_HF'])\n",
    "edafeatures = None\n",
    "bvpfeatures = None\n",
    "\n",
    "fs = 700 # sampling frequency\n",
    "y = []\n",
    "data_set_path= \"C:/Users/JackC/Documents/EPO4/WESAD/WESAD/\" # Folder path\n",
    "#data_set_path= \"C:/Users/riche/Downloads/WESAD/WESAD/\" # Folder path\n",
    "#data_set_path = \"C:/Users/Adnane/Downloads/WESAD/WESAD/\"\n",
    "\n",
    "for i in range(16): # 15 subjects\n",
    "    subject = 'S'+str(i+2) # Cycle through S2 to S17\n",
    "    print(subject)\n",
    "    if subject != 'S12': # Skip S12, because it does not exist\n",
    "        # Object instantiation\n",
    "        obj_data = {}\n",
    "\n",
    "        # Accessing class attributes and method through objects\n",
    "        obj_data[subject] = read_data_of_one_subject(data_set_path, subject)\n",
    "\n",
    "        chest_data_dict = obj_data[subject].get_chest_data()\n",
    "        wrist_data_dict = obj_data[subject].get_wrist_data()\n",
    "        chest_dict_length = {key: len(value) for key, value in chest_data_dict.items()}\n",
    "        wrist_dict_length = {key: len(value) for key, value in wrist_data_dict.items()}\n",
    "        # Get labels\n",
    "        labels = obj_data[subject].get_labels()\n",
    "\n",
    "        for label in range(1,5): # for every state of stress\n",
    "            \n",
    "            baseline = np.asarray([idx for idx,val in enumerate(labels) if val == label])\n",
    "\n",
    "            eda_base=chest_data_dict['EDA'][baseline,0] # Select the EDA data\n",
    "            ecg_base=chest_data_dict['ECG'][baseline,0] # Select the ECG data\n",
    "            resp_base=chest_data_dict['Resp'][baseline,0] # Select the respiration data\n",
    "            baseline_BVP = baseline * 64 // fs\n",
    "            bvp_base=wrist_data_dict['BVP'][baseline_BVP,0] # Select the BVP data\n",
    "\n",
    "            #tonic, phasic, start, end = get_edaindex(eda_base, fs)\n",
    "\n",
    "            #Matching the index of the phasic to the other signals\n",
    "            #ecg = ecg_base[start: end]\n",
    "            #resp = resp_base[start: end]\n",
    "            #tonic = tonic[start: end]\n",
    "            duration = 25\n",
    "\n",
    "            # Multiple smaller samples per signal\n",
    "            samples = 10 # specify amount of samples\n",
    "            \n",
    "            for j in range(samples):\n",
    "\n",
    "                # adding the labels to y\n",
    "                if label==3 or label==4: # if amusement or medidation, classify as non-stress\n",
    "                    y.append(1)\n",
    "                else:\n",
    "                    y.append(label)\n",
    "\n",
    "                # choosing a random begin point for smaller sample\n",
    "                begin = random.randint(0, min(len(ecg_base),len(ecg_base))- duration * fs)\n",
    "\n",
    "                ecg = ecg_base[begin: begin + duration*fs]\n",
    "                eda = eda_base[begin: begin + duration*fs]\n",
    "                bvp = bvp_base[begin: begin + duration*fs]\n",
    "\n",
    "                 # splitting sample into 10 smaller even-sized parts\n",
    "                #ecg = ecg_base[int(len(ecg_base)* (j/samples)) : int(len(ecg_base)* ((j+1)/samples))]\n",
    "                #eda = eda_base[int(len(eda_base)* (j/samples)) : int(len(eda_base)* ((j+1)/samples))]\n",
    "\n",
    "                # getting the eda and ecg features\n",
    "                index = subject + str(label) + str(j)\n",
    "                tonic, phasic, start, end = get_edaindex(eda, fs)\n",
    "                edafeatures = get_edafeatures(index, edafeatures, phasic, tonic, fs)\n",
    "                ecgfeatures = get_ecgfeatures(ecg, fs, ecgfeatures, index)\n",
    "                \n",
    "                bvpfeature = get_bvpfeatures(bvp)\n",
    "                bvpfeatures = pd.concat([bvpfeatures, bvpfeature])\n",
    "\n",
    "            ## One sample per signal\n",
    "#\n",
    "            #if label==3 or label==4:\n",
    "            #        y.append(1)\n",
    "            #else:\n",
    "            #    y.append(label)\n",
    "#\n",
    "            #index = subject + str(label) \n",
    "            #edafeatures = get_edafeatures(index, edafeatures, phasic, tonic, fs)\n",
    "            #ecgfeatures = get_ecgfeatures(ecg, fs, ecgfeatures, index)\n",
    "\n",
    "\n",
    "            # Plot a signal\n",
    "\n",
    "            # t=np.arange(0,eda_base.size*(1/fs),(1/fs))\n",
    "            # t=t[:eda_base.size]\n",
    "            \n",
    "            # plt.figure(figsize=(12,4))\n",
    "            # plt.plot(t, eda_base)\n",
    "            # plt.xlabel('$Time (s)$') \n",
    "            # plt.ylabel('$signal$')"
   ]
  },
  {
   "cell_type": "code",
   "execution_count": 4,
   "metadata": {},
   "outputs": [
    {
     "name": "stderr",
     "output_type": "stream",
     "text": [
      "c:\\Users\\JackC\\Documents\\EPO4-C2\\BVP.ipynb:45: SettingWithCopyWarning: \n",
      "A value is trying to be set on a copy of a slice from a DataFrame\n",
      "\n",
      "See the caveats in the documentation: https://pandas.pydata.org/pandas-docs/stable/user_guide/indexing.html#returning-a-view-versus-a-copy\n",
      "  \"\\n\",\n",
      "c:\\Users\\JackC\\Documents\\EPO4-C2\\BVP.ipynb:47: SettingWithCopyWarning: \n",
      "A value is trying to be set on a copy of a slice from a DataFrame\n",
      "\n",
      "See the caveats in the documentation: https://pandas.pydata.org/pandas-docs/stable/user_guide/indexing.html#returning-a-view-versus-a-copy\n",
      "  \"\\n\",\n"
     ]
    }
   ],
   "source": [
    "bvp_filt = bvp_prep(bvpfeatures) # remove nan and inf in BVP features\n",
    "\n",
    "# saving the feature data in csv files\n",
    "edafeatures.to_csv(\"EDA_features.csv\")\n",
    "ecgfeatures.to_csv(\"ECG_features.csv\")\n",
    "bvp_filt.to_csv(\"BVP_features.csv\")\n",
    "\n",
    "features1 = pd.merge(ecgfeatures, edafeatures, left_index=True, right_index=True)\n",
    "features1.reset_index(drop=True, inplace=True)\n",
    "\n",
    "features = pd.merge(features1, bvp_filt, left_index=True, right_index=True)\n",
    "features.to_csv(\"features_\"+str(samples)+\"_samp.csv\") # csv for smaller samples"
   ]
  },
  {
   "cell_type": "code",
   "execution_count": 5,
   "metadata": {},
   "outputs": [],
   "source": [
    "from sklearn.preprocessing import StandardScaler\n",
    "from sklearn.decomposition import PCA\n",
    "from sklearn.linear_model import LogisticRegression\n",
    "from sklearn.model_selection import train_test_split\n",
    "from sklearn import svm"
   ]
  },
  {
   "cell_type": "code",
   "execution_count": 63,
   "metadata": {},
   "outputs": [],
   "source": [
    "total_features = features\n",
    "y_feat = y"
   ]
  },
  {
   "attachments": {},
   "cell_type": "markdown",
   "metadata": {},
   "source": [
    "# Performing PCA"
   ]
  },
  {
   "cell_type": "code",
   "execution_count": 74,
   "metadata": {},
   "outputs": [],
   "source": [
    "# normalize data\n",
    "scaler = StandardScaler().fit(features)\n",
    "X_train = scaler.transform(features)\n",
    "\n",
    "n = 25\n",
    "# perform PCA\n",
    "pca = PCA(n_components=n)\n",
    "pca.fit(X_train)\n",
    "X_train_pca = pca.transform(X_train)\n",
    "x_train = X_train_pca[:,0:3] # Three best features\n",
    "\n",
    "# plot two best features\n",
    "# plt.figure(figsize=(8,6))\n",
    "# plt.scatter(X_train_pca[:,0], X_train_pca[:,1], c=y)"
   ]
  },
  {
   "cell_type": "code",
   "execution_count": 75,
   "metadata": {},
   "outputs": [
    {
     "data": {
      "text/plain": [
       "<matplotlib.legend.Legend at 0x234b48fe850>"
      ]
     },
     "execution_count": 75,
     "metadata": {},
     "output_type": "execute_result"
    },
    {
     "data": {
      "image/png": "[encoded data removed]",
      "text/plain": [
       "<Figure size 640x480 with 1 Axes>"
      ]
     },
     "metadata": {},
     "output_type": "display_data"
    }
   ],
   "source": [
    "# plot feature variance\n",
    "plt.bar(range(0,n), pca.explained_variance_ratio_, label=\"individual var\");\n",
    "plt.step(range(0,n), np.cumsum(pca.explained_variance_ratio_),'r', label=\"cumulative var\");\n",
    "plt.xlabel('Principal component index'); plt.ylabel('explained variance ratio %');\n",
    "plt.legend()"
   ]
  },
  {
   "cell_type": "code",
   "execution_count": 76,
   "metadata": {},
   "outputs": [
    {
     "name": "stdout",
     "output_type": "stream",
     "text": [
      "600\n"
     ]
    }
   ],
   "source": [
    "# Splitting the data in train and test data\n",
    "print(len(x_train))\n",
    "X_train, X_test, y_train, y_test = train_test_split(x_train, y, test_size=0.2, random_state=5)\n",
    "\n",
    "# Scaling the data\n",
    "scaler = StandardScaler().fit(X_train)\n",
    "X_train = scaler.transform(X_train)\n",
    "X_test = scaler.transform(X_test)"
   ]
  },
  {
   "attachments": {},
   "cell_type": "markdown",
   "metadata": {},
   "source": [
    "# Logistic regression"
   ]
  },
  {
   "cell_type": "code",
   "execution_count": 10,
   "metadata": {},
   "outputs": [],
   "source": [
    "from sklearn.linear_model import LogisticRegression\n",
    "logistic_model = LogisticRegression()\n",
    "logistic_model.fit(X_train, y_train)\n",
    "Y_test_pred = logistic_model.predict(X_test)\n",
    "log_score = logistic_model.score(X_test,y_test)"
   ]
  },
  {
   "attachments": {},
   "cell_type": "markdown",
   "metadata": {},
   "source": [
    "# SVM"
   ]
  },
  {
   "cell_type": "code",
   "execution_count": 11,
   "metadata": {},
   "outputs": [],
   "source": [
    "from sklearn import datasets, svm\n",
    "svm_model = svm.SVC()\n",
    "svm_model.fit(X_train, y_train)\n",
    "Y_test_pred = svm_model.predict(X_test)\n",
    "svm_score = svm_model.score(X_test,y_test)"
   ]
  },
  {
   "attachments": {},
   "cell_type": "markdown",
   "metadata": {},
   "source": [
    "# Neural Networks"
   ]
  },
  {
   "cell_type": "code",
   "execution_count": 12,
   "metadata": {},
   "outputs": [
    {
     "name": "stdout",
     "output_type": "stream",
     "text": [
      "[0.8583333492279053, 0.8916666507720947, 0.8916666507720947, 0.8666666746139526, 0.8666666746139526]\n",
      "Average Validation Accuracy: 0.875\n"
     ]
    }
   ],
   "source": [
    "from sklearn.model_selection import train_test_split\n",
    "from sklearn.preprocessing import StandardScaler\n",
    "from sklearn.decomposition import PCA\n",
    "from tensorflow.keras.utils import to_categorical\n",
    "from tensorflow.keras.models import Sequential\n",
    "from tensorflow.keras.layers import Dense, Dropout\n",
    "from tensorflow.keras.optimizers import Adam\n",
    "\n",
    "val_accuracies = []\n",
    "for i in range(5): # run 5 times with 5 random states to determine model accuracy\n",
    "    # Splitting the data in train and test data\n",
    "    X_train, X_test, y_train, y_test = train_test_split(x_train, y, test_size=0.2, random_state= i + 1)\n",
    "\n",
    "    # Scaling the data\n",
    "    scaler = StandardScaler().fit(X_train)\n",
    "    X_train = scaler.transform(X_train)\n",
    "    X_test = scaler.transform(X_test)\n",
    "    ## Convert labels to categorical\n",
    "    y_train_cat = to_categorical(y_train)\n",
    "    y_test_cat = to_categorical(y_test)\n",
    "\n",
    "    # Define the feedforward neural network\n",
    "    neural_model = Sequential()\n",
    "    neural_model.add(Dense(64, activation='relu', input_shape=(3,)))\n",
    "    neural_model.add(Dense(64, activation='relu'))\n",
    "    neural_model.add(Dense(64, activation='relu'))\n",
    "    neural_model.add(Dense(64, activation = 'relu'))\n",
    "    neural_model.add(Dropout(0.5))\n",
    "    neural_model.add(Dense(3, activation='softmax'))\n",
    "\n",
    "    # Compile the model\n",
    "    optimizer = Adam(learning_rate=0.001)\n",
    "    neural_model.compile(loss='categorical_crossentropy',\n",
    "                  optimizer=optimizer,\n",
    "                  metrics=['accuracy'])\n",
    "\n",
    "    # Train the model\n",
    "    # history = model.fit(X_train_pca, y_train, validation_data=(X_test_pca, y_test), epochs=45, batch_size=100, verbose=2)\n",
    "    history = neural_model.fit(X_train, y_train_cat, validation_data=(X_test, y_test_cat), epochs=45, batch_size=100, verbose=0)\n",
    "    val_accuracy = history.history['val_accuracy'][-1]\n",
    "    val_accuracies.append(val_accuracy) # accuracy score\n",
    "\n",
    "print(val_accuracies)\n",
    "avg_val_accuracy = sum(val_accuracies) / len(val_accuracies) # average of accurracy scores\n",
    "print(\"Average Validation Accuracy:\", avg_val_accuracy)"
   ]
  },
  {
   "cell_type": "code",
   "execution_count": 13,
   "metadata": {},
   "outputs": [
    {
     "data": {
      "text/plain": [
       "<matplotlib.legend.Legend at 0x234b26712b0>"
      ]
     },
     "execution_count": 13,
     "metadata": {},
     "output_type": "execute_result"
    },
    {
     "data": {
      "image/png": "[encoded data removed]",
      "text/plain": [
       "<Figure size 640x480 with 1 Axes>"
      ]
     },
     "metadata": {},
     "output_type": "display_data"
    }
   ],
   "source": [
    "plt.plot(history.history['accuracy'])\n",
    "plt.plot(history.history['val_accuracy'])\n",
    "plt.legend(['accuracy', 'val_accuracy'])"
   ]
  },
  {
   "attachments": {},
   "cell_type": "markdown",
   "metadata": {},
   "source": [
    "# AdaBoost"
   ]
  },
  {
   "cell_type": "code",
   "execution_count": 14,
   "metadata": {},
   "outputs": [
    {
     "name": "stdout",
     "output_type": "stream",
     "text": [
      "[0.8666666666666667, 0.8777777777777778, 0.8388888888888889, 0.8444444444444444, 0.8277777777777777, 0.8388888888888889, 0.85, 0.8722222222222222, 0.8222222222222222, 0.8444444444444444, 0.8111111111111111, 0.85, 0.8888888888888888, 0.8666666666666667, 0.8277777777777777, 0.8388888888888889, 0.85, 0.8444444444444444, 0.8222222222222222, 0.8611111111111112, 0.85, 0.8611111111111112, 0.8666666666666667, 0.8833333333333333, 0.8333333333333334, 0.8611111111111112, 0.8888888888888888, 0.8611111111111112, 0.8666666666666667, 0.8444444444444444, 0.8333333333333334, 0.8277777777777777, 0.8333333333333334, 0.8277777777777777, 0.8333333333333334, 0.8444444444444444, 0.85, 0.8388888888888889, 0.8611111111111112, 0.8666666666666667, 0.8222222222222222, 0.85, 0.8388888888888889, 0.8555555555555555, 0.8333333333333334, 0.8833333333333333, 0.7888888888888889, 0.85, 0.8444444444444444, 0.8222222222222222, 0.8555555555555555, 0.85, 0.8777777777777778, 0.8388888888888889, 0.8944444444444445, 0.8777777777777778, 0.8555555555555555, 0.8833333333333333, 0.7777777777777778, 0.85, 0.85, 0.8388888888888889, 0.8555555555555555, 0.8611111111111112, 0.8444444444444444, 0.8555555555555555, 0.8277777777777777, 0.8388888888888889, 0.85, 0.8277777777777777, 0.8333333333333334, 0.8388888888888889, 0.8333333333333334, 0.8666666666666667, 0.8611111111111112, 0.8666666666666667, 0.7944444444444444, 0.8277777777777777, 0.8777777777777778, 0.8555555555555555, 0.8388888888888889, 0.8666666666666667, 0.8555555555555555, 0.8166666666666667, 0.8388888888888889, 0.8333333333333334, 0.8444444444444444, 0.8388888888888889, 0.85, 0.8555555555555555, 0.8222222222222222, 0.8833333333333333, 0.8611111111111112, 0.7888888888888889, 0.8388888888888889, 0.8555555555555555, 0.8611111111111112, 0.8722222222222222, 0.8222222222222222, 0.8833333333333333, 0.8722222222222222, 0.8333333333333334, 0.8444444444444444, 0.8611111111111112, 0.8222222222222222, 0.8722222222222222, 0.8444444444444444, 0.8166666666666667, 0.8833333333333333, 0.8444444444444444, 0.8277777777777777, 0.8444444444444444, 0.8611111111111112, 0.8722222222222222, 0.85, 0.85, 0.85, 0.8333333333333334, 0.8722222222222222, 0.8388888888888889, 0.85, 0.8944444444444445, 0.85, 0.8388888888888889, 0.85, 0.8333333333333334, 0.8277777777777777, 0.8277777777777777, 0.8722222222222222, 0.8277777777777777, 0.8222222222222222, 0.8444444444444444, 0.8555555555555555, 0.8777777777777778, 0.8611111111111112, 0.8722222222222222, 0.8666666666666667, 0.8277777777777777, 0.8388888888888889, 0.8555555555555555, 0.8111111111111111, 0.8611111111111112, 0.8333333333333334, 0.8611111111111112, 0.8333333333333334, 0.8666666666666667, 0.8777777777777778, 0.8555555555555555, 0.8555555555555555, 0.8944444444444445, 0.8611111111111112, 0.8722222222222222, 0.8333333333333334, 0.8444444444444444, 0.9055555555555556, 0.8555555555555555, 0.9, 0.8555555555555555, 0.8388888888888889, 0.9055555555555556, 0.85, 0.8333333333333334, 0.8055555555555556, 0.85, 0.8666666666666667, 0.8444444444444444, 0.8444444444444444, 0.8611111111111112, 0.8277777777777777, 0.8388888888888889, 0.8722222222222222, 0.8722222222222222, 0.8666666666666667, 0.8222222222222222, 0.8666666666666667, 0.8333333333333334, 0.8277777777777777, 0.8333333333333334, 0.8388888888888889, 0.8222222222222222, 0.8166666666666667, 0.8333333333333334, 0.7944444444444444, 0.85, 0.8555555555555555, 0.8111111111111111, 0.8611111111111112, 0.8055555555555556, 0.8277777777777777, 0.8277777777777777, 0.9055555555555556, 0.8555555555555555, 0.8444444444444444, 0.8722222222222222, 0.8222222222222222, 0.8555555555555555, 0.8388888888888889, 0.8555555555555555, 0.8388888888888889, 0.85]\n",
      "0.8483611111111111\n"
     ]
    }
   ],
   "source": [
    "# Import the AdaBoost classifier\n",
    "from sklearn.ensemble import AdaBoostClassifier\n",
    "Ada_scores = [[]]*200\n",
    "for i in range(200):\n",
    "    X_train, X_test, y_train, y_test = train_test_split(x_train, y, test_size=0.3, random_state= i+1)\n",
    "    # Create adaboost classifer object\n",
    "    abc= AdaBoostClassifier(n_estimators=50, learning_rate=1, random_state=5)\n",
    "\n",
    "    # Train Adaboost Classifer\n",
    "    adaboost_model = abc.fit(X_train, y_train)\n",
    "\n",
    "\n",
    "#Predict the response for test dataset\n",
    "# y_pred = model1.predict(X_test)\n",
    "    score30= adaboost_model.score(X_test, y_test)\n",
    "    Ada_scores[i] = score30\n",
    "print(Ada_scores)\n",
    "print(np.mean(Ada_scores))\n",
    "#predictions = adaboost_model.predict(X_test)\n",
    "#print(predictions != y_test)\n",
    "#print(score30)"
   ]
  },
  {
   "cell_type": "code",
   "execution_count": 15,
   "metadata": {},
   "outputs": [
    {
     "name": "stdout",
     "output_type": "stream",
     "text": [
      "0.8483333333333334\n",
      "120\n"
     ]
    },
    {
     "data": {
      "text/plain": [
       "[<matplotlib.lines.Line2D at 0x234b28908e0>]"
      ]
     },
     "execution_count": 15,
     "metadata": {},
     "output_type": "execute_result"
    },
    {
     "data": {
      "image/png": "[encoded data removed]",
      "text/plain": [
       "<Figure size 640x480 with 1 Axes>"
      ]
     },
     "metadata": {},
     "output_type": "display_data"
    }
   ],
   "source": [
    "from sklearn.tree import DecisionTreeClassifier\n",
    "scores_ada = []\n",
    "trainscores_ada = []\n",
    "for i in range (50):\n",
    "      dtree = DecisionTreeClassifier(criterion='entropy', max_depth=1, random_state=1)\n",
    "      adbclassifier = AdaBoostClassifier(base_estimator=dtree,\n",
    "                                    n_estimators=100,\n",
    "                                    learning_rate=1,\n",
    "                                    algorithm = 'SAMME',\n",
    "                                    random_state=1)\n",
    "      X_train, X_test, y_train, y_test = train_test_split(x_train, y, test_size=0.2, random_state= i+1)\n",
    "      adbclassifier.fit(X_train, y_train)\n",
    "      scores_ada.append(adbclassifier.score(X_test,y_test))\n",
    "      trainscores_ada.append(adbclassifier.score(X_train,y_train))\n",
    "print(np.mean(scores_ada))\n",
    "print(len(X_test))\n",
    "plt.ylim(0,1)\n",
    "plt.plot(scores_ada)\n",
    "plt.plot(trainscores_ada)"
   ]
  },
  {
   "attachments": {},
   "cell_type": "markdown",
   "metadata": {},
   "source": [
    "# XGBoost"
   ]
  },
  {
   "cell_type": "code",
   "execution_count": 16,
   "metadata": {},
   "outputs": [
    {
     "ename": "ModuleNotFoundError",
     "evalue": "No module named 'xgboost'",
     "output_type": "error",
     "traceback": [
      "\u001b[1;31m---------------------------------------------------------------------------\u001b[0m",
      "\u001b[1;31mModuleNotFoundError\u001b[0m                       Traceback (most recent call last)",
      "Cell \u001b[1;32mIn[16], line 1\u001b[0m\n\u001b[1;32m----> 1\u001b[0m \u001b[39mfrom\u001b[39;00m \u001b[39mxgboost\u001b[39;00m \u001b[39mimport\u001b[39;00m XGBClassifier\n\u001b[0;32m      2\u001b[0m \u001b[39mfrom\u001b[39;00m \u001b[39msklearn\u001b[39;00m\u001b[39m.\u001b[39;00m\u001b[39mpreprocessing\u001b[39;00m \u001b[39mimport\u001b[39;00m LabelEncoder\n\u001b[0;32m      3\u001b[0m \u001b[39mfrom\u001b[39;00m \u001b[39msklearn\u001b[39;00m\u001b[39m.\u001b[39;00m\u001b[39mmetrics\u001b[39;00m \u001b[39mimport\u001b[39;00m accuracy_score\n",
      "\u001b[1;31mModuleNotFoundError\u001b[0m: No module named 'xgboost'"
     ]
    }
   ],
   "source": [
    "from xgboost import XGBClassifier\n",
    "from sklearn.preprocessing import LabelEncoder\n",
    "from sklearn.metrics import accuracy_score\n",
    "label = LabelEncoder()\n",
    "y2 = label.fit_transform(y)\n",
    "y2 = list(y2)\n",
    "xg_scores = []\n",
    "xg_trainscores = []\n",
    "for i in range(500):\n",
    "    X_train, X_test, y_train, y_test = train_test_split(x_train, y2, test_size=0.2, random_state= i+1)\n",
    "    xgb_clf = XGBClassifier(n_estimators = 500,\n",
    "                            learning_rate = 1,\n",
    "                            eval_metric = \"logloss\",\n",
    "                            early_stopping_rounds = 5,\n",
    "                            n_jobs = -1,\n",
    "                            )\n",
    "    xgb_clf.fit(X_train, y_train,                    \n",
    "                eval_set = [(X_test,y_test)],\n",
    "                verbose = False)\n",
    "    pred_test = xgb_clf.predict(X_test)\n",
    "    test_score = accuracy_score(pred_test, y_test)\n",
    "    xg_scores.append(test_score)\n",
    "    pred_test = xgb_clf.predict(X_train)\n",
    "    train_score = accuracy_score(pred_test, y_train)\n",
    "    xg_trainscores.append(train_score)\n",
    "print(np.mean(xg_scores))\n",
    "print(np.mean(xg_trainscores))\n"
   ]
  },
  {
   "cell_type": "code",
   "execution_count": null,
   "metadata": {},
   "outputs": [
    {
     "data": {
      "text/plain": [
       "[<matplotlib.lines.Line2D at 0x1dbf85c5990>]"
      ]
     },
     "execution_count": 250,
     "metadata": {},
     "output_type": "execute_result"
    },
    {
     "data": {
      "image/png": "[encoded data removed]",
      "text/plain": [
       "<Figure size 640x480 with 1 Axes>"
      ]
     },
     "metadata": {},
     "output_type": "display_data"
    }
   ],
   "source": [
    "plt.ylim(0,1)\n",
    "plt.plot(xg_scores, c = 'blue')\n",
    "plt.plot(xg_trainscores, c = 'green')\n"
   ]
  },
  {
   "cell_type": "code",
   "execution_count": null,
   "metadata": {},
   "outputs": [
    {
     "name": "stdout",
     "output_type": "stream",
     "text": [
      "Test score: 0.83\n",
      "[0 1 0 1 0 0 0 0 0 0 0 1 1 0 1 0 0 1 1 0 0 0 0 0 1 0 0 1 0 0 0 0 1 1 0 0 0\n",
      " 1 0 0 0 0 1 0 0 1 0 0 0 1 0 0 0 0 0 0 0 1 0 0 0 0 1 0 0 1 0 0 1 0 0 0 0 0\n",
      " 0 0 0 0 0 0 0 0 1 0 0 0 0 0 0 0 1 0 1 0 1 0 0 0 1 1 0 0 0 0 1 0 0 0 0 0 1\n",
      " 0 0 0 1 1 1 1 0 1]\n"
     ]
    }
   ],
   "source": [
    "from sklearn.metrics import accuracy_score\n",
    "pred_test = xgb_clf.predict(X_test)\n",
    "test_score = accuracy_score(pred_test, y_test)\n",
    "print(\"Test score:\", np.round(test_score,2))\n",
    "print(pred_test)"
   ]
  },
  {
   "cell_type": "code",
   "execution_count": null,
   "metadata": {},
   "outputs": [
    {
     "name": "stdout",
     "output_type": "stream",
     "text": [
      "0.9277777777777778\n"
     ]
    }
   ],
   "source": [
    "print(np.max(Ada_scores))"
   ]
  },
  {
   "attachments": {},
   "cell_type": "markdown",
   "metadata": {},
   "source": [
    "# Random forest method"
   ]
  },
  {
   "cell_type": "code",
   "execution_count": 77,
   "metadata": {},
   "outputs": [
    {
     "name": "stdout",
     "output_type": "stream",
     "text": [
      "[0]\n"
     ]
    }
   ],
   "source": [
    "#from sklearn.datasets import make_classification\n",
    "from sklearn.ensemble import RandomForestClassifier\n",
    "\n",
    "# define the model\n",
    "randomf_model = RandomForestClassifier()\n",
    "\n",
    "# fit/train the model on all features\n",
    "randomf_model.fit(X_train, y_train)\n",
    "Y_test_pred = randomf_model.predict(X_test)\n",
    "\n",
    "# score\n",
    "rf_score=randomf_model.score(X_test, y_test)\n",
    "\n",
    "# get feature importance\n",
    "importance = randomf_model.feature_importances_\n",
    "\n",
    "#creat a dictionary with key=indices, and values=importance\n",
    "important_features_dict = {}\n",
    "for idx, val in enumerate(importance):\n",
    "    important_features_dict[idx] = val\n",
    "# sorting \n",
    "important_features_list = sorted(important_features_dict,\n",
    "                                 key=important_features_dict.get,\n",
    "                                 reverse=True)\n",
    "# print indices of top 5 features\n",
    "print(important_features_list[:5])\n",
    "#plt.plot(importance)"
   ]
  },
  {
   "attachments": {},
   "cell_type": "markdown",
   "metadata": {},
   "source": [
    "# Scores"
   ]
  },
  {
   "cell_type": "code",
   "execution_count": null,
   "metadata": {},
   "outputs": [],
   "source": [
    "y_test_cat = to_categorical(y_test)\n",
    "y_test1 = y_test_cat.astype('int64')\n",
    "testYarg = np.argmax(y_test1, axis = 1)"
   ]
  },
  {
   "cell_type": "code",
   "execution_count": null,
   "metadata": {},
   "outputs": [],
   "source": [
    "# function which gives predicted and correct values with missclassifications and scores for neural network\n",
    "def model_predict_neural(X_test, y_test1, model):\n",
    "    predictions = model.predict(X_test)\n",
    "    predictions = np.argmax(predictions, axis = 1)\n",
    "    y_test1 = y_test1.astype('int64')\n",
    "    testYarg = np.argmax(y_test1, axis = 1)\n",
    "    miss_class = np.where(predictions != testYarg)\n",
    "    miss_class = miss_class[0]\n",
    "    print(\"Neural network\")\n",
    "    print(\"Predicted:\",predictions)\n",
    "    print(\"Correct:  \",testYarg)\n",
    "    print(\"Index missclassified:\", miss_class)\n",
    "    print(\"Score:\", val_accuracy, \"\\n\")\n",
    "    return predictions, miss_class, testYarg"
   ]
  },
  {
   "cell_type": "code",
   "execution_count": null,
   "metadata": {},
   "outputs": [],
   "source": [
    "# function which gives predicted and correct values with missclassifications and scores for rest models\n",
    "def model_predict(X_test, y_test1, model):\n",
    "    predictions = model.predict(X_test)\n",
    "    #y_test1 = y_test1.astype('int64')\n",
    "    #testYarg = np.argmax(y_test1, axis = 1)\n",
    "    miss_class = np.where(predictions != y_test1)\n",
    "    miss_class = miss_class[0]\n",
    "    score=model.score(X_test, y_test1)\n",
    "    print(model)\n",
    "    print(\"Predicted:\",predictions)\n",
    "    print(\"Correct:  \",testYarg)\n",
    "    print(\"Index missclassified:\", miss_class)\n",
    "    print(\"Score:\", score, \"\\n\")\n",
    "    return predictions, miss_class, testYarg"
   ]
  },
  {
   "cell_type": "code",
   "execution_count": null,
   "metadata": {},
   "outputs": [
    {
     "name": "stdout",
     "output_type": "stream",
     "text": [
      "4/4 [==============================] - 0s 4ms/step\n",
      "Neural network\n",
      "Predicted: [1 2 1 1 1 1 2 1 2 2 2 1 1 2 1 2 1 1 1 1 1 1 1 1 1 1 1 1 1 2 1 1 1 1 2 2 1\n",
      " 1 1 2 1 1 1 1 2 1 2 1 1 1 1 1 1 1 1 1 1 1 2 1 1 1 1 1 1 1 1 1 1 1 2 1 1 2\n",
      " 1 1 1 1 1 1 1 1 1 1 1 1 1 1 2 1 1 2 1 1 1 1 2 1 1 1 1 2 1 1 1 1 1 1 1 1 1\n",
      " 1 1 1 1 1 2 1 2 1]\n",
      "Correct:   [1 2 1 1 1 1 2 1 2 2 2 1 1 2 1 1 1 1 1 1 2 1 1 1 1 1 1 1 1 2 1 1 1 1 2 2 1\n",
      " 1 1 2 1 1 1 2 2 1 1 1 1 1 1 1 1 1 1 1 1 1 2 1 1 2 1 1 1 1 1 1 1 2 2 1 1 2\n",
      " 1 1 1 1 1 1 1 1 1 1 1 1 1 1 2 1 1 2 1 1 1 1 1 1 1 1 1 2 1 1 2 1 1 2 1 1 1\n",
      " 1 1 1 1 2 2 1 2 1]\n",
      "Index missclassified: [ 15  20  43  46  61  69  96 104 107 115]\n",
      "Score: 0.875 \n",
      "\n",
      "LogisticRegression()\n",
      "Predicted: [1 2 1 2 1 1 2 1 2 2 2 1 1 2 1 1 1 1 1 1 1 1 1 1 1 1 1 1 1 2 1 1 2 1 2 2 1\n",
      " 1 1 2 1 1 1 1 2 1 1 1 1 1 1 1 1 1 1 1 1 1 2 1 1 1 1 1 1 1 2 1 1 2 2 1 1 2\n",
      " 1 1 1 1 2 1 1 1 1 1 1 1 1 2 2 1 2 2 1 1 2 1 2 1 1 1 1 2 1 1 1 1 1 1 1 1 1\n",
      " 1 1 1 1 2 2 1 2 1]\n",
      "Correct:   [1 2 1 1 1 1 2 1 2 2 2 1 1 2 1 1 1 1 1 1 2 1 1 1 1 1 1 1 1 2 1 1 1 1 2 2 1\n",
      " 1 1 2 1 1 1 2 2 1 1 1 1 1 1 1 1 1 1 1 1 1 2 1 1 2 1 1 1 1 1 1 1 2 2 1 1 2\n",
      " 1 1 1 1 1 1 1 1 1 1 1 1 1 1 2 1 1 2 1 1 1 1 1 1 1 1 1 2 1 1 2 1 1 2 1 1 1\n",
      " 1 1 1 1 2 2 1 2 1]\n",
      "Index missclassified: [  3  20  32  43  61  66  78  87  90  94  96 104 107]\n",
      "Score: 0.8916666666666667 \n",
      "\n",
      "SVC()\n",
      "Predicted: [1 1 1 1 1 1 2 1 2 2 1 1 1 2 1 2 1 1 1 1 1 1 1 1 1 1 1 1 1 2 1 1 1 1 2 2 1\n",
      " 1 1 2 1 1 1 1 1 1 1 1 1 1 1 1 1 1 1 1 1 1 1 1 1 1 1 1 1 1 1 1 1 1 2 1 1 2\n",
      " 1 1 1 1 1 1 1 1 1 1 1 1 1 2 1 1 1 1 1 1 1 1 1 1 1 1 1 1 1 1 1 1 1 1 1 1 1\n",
      " 1 1 1 1 1 1 1 1 1]\n",
      "Correct:   [1 2 1 1 1 1 2 1 2 2 2 1 1 2 1 1 1 1 1 1 2 1 1 1 1 1 1 1 1 2 1 1 1 1 2 2 1\n",
      " 1 1 2 1 1 1 2 2 1 1 1 1 1 1 1 1 1 1 1 1 1 2 1 1 2 1 1 1 1 1 1 1 2 2 1 1 2\n",
      " 1 1 1 1 1 1 1 1 1 1 1 1 1 1 2 1 1 2 1 1 1 1 1 1 1 1 1 2 1 1 2 1 1 2 1 1 1\n",
      " 1 1 1 1 2 2 1 2 1]\n",
      "Index missclassified: [  1  10  15  20  43  44  58  61  69  87  88  91 101 104 107 115 116 118]\n",
      "Score: 0.85 \n",
      "\n",
      "RandomForestClassifier()\n",
      "Predicted: [1 2 1 2 1 1 2 1 2 2 2 1 1 2 1 2 1 1 1 1 1 1 1 1 1 1 1 1 1 2 1 1 1 1 2 2 1\n",
      " 1 1 2 1 1 1 1 2 1 1 1 1 1 1 1 1 1 1 1 1 1 2 1 1 1 1 1 1 1 2 1 1 2 2 1 1 2\n",
      " 1 1 1 1 1 1 1 1 1 1 1 1 1 2 2 1 1 2 1 1 1 1 2 1 1 1 1 2 1 1 1 1 1 1 1 1 1\n",
      " 1 1 1 1 1 2 1 2 1]\n",
      "Correct:   [1 2 1 1 1 1 2 1 2 2 2 1 1 2 1 1 1 1 1 1 2 1 1 1 1 1 1 1 1 2 1 1 1 1 2 2 1\n",
      " 1 1 2 1 1 1 2 2 1 1 1 1 1 1 1 1 1 1 1 1 1 2 1 1 2 1 1 1 1 1 1 1 2 2 1 1 2\n",
      " 1 1 1 1 1 1 1 1 1 1 1 1 1 1 2 1 1 2 1 1 1 1 1 1 1 1 1 2 1 1 2 1 1 2 1 1 1\n",
      " 1 1 1 1 2 2 1 2 1]\n",
      "Index missclassified: [  3  15  20  43  61  66  87  96 104 107 115]\n",
      "Score: 0.9083333333333333 \n",
      "\n"
     ]
    }
   ],
   "source": [
    "model_predict_neural(X_test, y_test_cat, neural_model)\n",
    "model_predict(X_test, y_test, logistic_model)\n",
    "model_predict(X_test, y_test, svm_model)\n",
    "predictions = model_predict(X_test, y_test, randomf_model)"
   ]
  },
  {
   "attachments": {},
   "cell_type": "markdown",
   "metadata": {},
   "source": [
    "# Cross-validation score of different models"
   ]
  },
  {
   "cell_type": "code",
   "execution_count": null,
   "metadata": {},
   "outputs": [],
   "source": [
    "from numpy import mean\n",
    "from numpy import std\n",
    "from sklearn.datasets import make_classification\n",
    "from sklearn.model_selection import KFold\n",
    "from sklearn.model_selection import cross_val_score\n",
    "from sklearn.linear_model import LogisticRegression\n",
    "\n",
    "# k-fold Cross-Validation\n",
    "def cross_validation(X, y, model):\n",
    "    cv = KFold(n_splits= 5, random_state=1, shuffle=True)\n",
    "    scores = cross_val_score(model, X,y, scoring='accuracy', cv=cv, n_jobs=-1)\n",
    "    print('Accuracy: %.3f (%.3f)' % (mean(scores), std(scores)))\n",
    "    return scores"
   ]
  },
  {
   "cell_type": "code",
   "execution_count": 55,
   "metadata": {},
   "outputs": [
    {
     "name": "stdout",
     "output_type": "stream",
     "text": [
      "Logistic regression\n",
      "Accuracy: 0.807 (0.036)\n",
      "[0.81666667 0.86666667 0.75833333 0.80833333 0.78333333] \n",
      "\n",
      "SVM\n",
      "Accuracy: 0.748 (0.049)\n",
      "[0.75       0.80833333 0.75833333 0.65833333 0.76666667] \n",
      "\n",
      "Randomforest\n",
      "Accuracy: 0.945 (0.010)\n",
      "[0.93333333 0.95833333 0.95       0.95       0.93333333] \n",
      "\n",
      "Neural Network\n",
      "Accuracy: 0.8866666674613952\n",
      "[0.8500000238418579, 0.8916666507720947, 0.8916666507720947, 0.925000011920929, 0.875]\n",
      "ACC std: 0.024 \n",
      "\n"
     ]
    }
   ],
   "source": [
    "# perform on all models\n",
    "print(\"Logistic regression\")\n",
    "cv_logistic = cross_validation(features, y, logistic_model)\n",
    "print(cv_logistic,\"\\n\\nSVM\")\n",
    "cv_svm = cross_validation(features, y, svm_model)\n",
    "print(cv_svm, \"\\n\\nRandomforest\")\n",
    "cv_randomf = cross_validation(features, y, randomf_model)\n",
    "print(cv_randomf, \"\\n\\nNeural Network\")\n",
    "print(\"Accuracy:\", avg_val_accuracy)\n",
    "print(val_accuracies)\n",
    "print ('ACC std:', '{0:0.3f}'.format(np.std(val_accuracies)), \"\\n\")"
   ]
  },
  {
   "attachments": {},
   "cell_type": "markdown",
   "metadata": {},
   "source": [
    "Subject Based"
   ]
  },
  {
   "cell_type": "code",
   "execution_count": 56,
   "metadata": {},
   "outputs": [],
   "source": [
    "features = total_features\n",
    "feat_list = []\n",
    "\n",
    "# take the features from each subject\n",
    "for a in range(15):\n",
    "    df = features[a*samples*4:(a+1)*samples*4]\n",
    "    feat_list.append(df)"
   ]
  },
  {
   "cell_type": "code",
   "execution_count": 57,
   "metadata": {},
   "outputs": [
    {
     "data": {
      "text/plain": [
       "15"
      ]
     },
     "execution_count": 57,
     "metadata": {},
     "output_type": "execute_result"
    }
   ],
   "source": [
    "# define output for each subject\n",
    "y_sb1 = []\n",
    "for i in range(1):\n",
    "    y_sb1.extend(samples * [1])\n",
    "    y_sb1.extend(samples * [2])\n",
    "    y_sb1.extend(samples * [1])\n",
    "    y_sb1.extend(samples * [1])\n",
    "len(feat_list)\n",
    "\n",
    "# output for whole sample\n",
    "y_sb2 = []\n",
    "for i in range(1):\n",
    "    y_sb2.extend([1,2,1,1])\n",
    "len(feat_list)"
   ]
  },
  {
   "cell_type": "code",
   "execution_count": 58,
   "metadata": {},
   "outputs": [],
   "source": [
    "# initialize values for model score lists\n",
    "nnmean_sb = []\n",
    "nnstd_sb = []\n",
    "acc_sb = {}\n",
    "acc_sb['LogisticRegression()'] = []\n",
    "acc_sb['SVC()'] = []\n",
    "acc_sb['RandomForestClassifier()'] = []\n",
    "std_sb = {}\n",
    "std_sb['LogisticRegression()'] = []\n",
    "std_sb['SVC()'] = []\n",
    "std_sb['RandomForestClassifier()'] = []"
   ]
  },
  {
   "cell_type": "code",
   "execution_count": 59,
   "metadata": {},
   "outputs": [
    {
     "name": "stdout",
     "output_type": "stream",
     "text": [
      "Logistic regression\n",
      "[0.875 0.875 0.875 0.625 0.875] \n",
      "\n",
      "SVM\n",
      "[0.875 0.75  0.75  0.625 0.625] \n",
      "\n",
      "Randomforest\n",
      "[1.    0.875 1.    0.875 0.625] \n",
      "\n",
      "Neural Network\n",
      "Logistic regression\n",
      "[0.875 1.    1.    0.875 0.75 ] \n",
      "\n",
      "SVM\n",
      "[1.    0.75  0.75  0.625 0.625] \n",
      "\n",
      "Randomforest\n",
      "[1.    0.875 1.    0.875 0.75 ] \n",
      "\n",
      "Neural Network\n",
      "Logistic regression\n",
      "[1. 1. 1. 1. 1.] \n",
      "\n",
      "SVM\n",
      "[1.    0.75  0.75  0.625 0.625] \n",
      "\n",
      "Randomforest\n",
      "[1. 1. 1. 1. 1.] \n",
      "\n",
      "Neural Network\n",
      "Logistic regression\n",
      "[1.    0.75  1.    0.875 0.625] \n",
      "\n",
      "SVM\n",
      "[1.    0.75  0.75  0.625 0.625] \n",
      "\n",
      "Randomforest\n",
      "[1.    0.875 0.875 0.875 1.   ] \n",
      "\n",
      "Neural Network\n",
      "Logistic regression\n",
      "[1.    0.875 1.    0.875 0.75 ] \n",
      "\n",
      "SVM\n",
      "[1.    0.75  0.75  0.625 0.625] \n",
      "\n",
      "Randomforest\n",
      "[1.    1.    1.    0.75  0.875] \n",
      "\n",
      "Neural Network\n",
      "Logistic regression\n",
      "[0.875 0.75  0.875 1.    1.   ] \n",
      "\n",
      "SVM\n",
      "[1.    0.75  0.75  0.625 0.625] \n",
      "\n",
      "Randomforest\n",
      "[1.    0.875 1.    1.    1.   ] \n",
      "\n",
      "Neural Network\n",
      "Logistic regression\n",
      "[1.    0.875 0.75  0.75  0.875] \n",
      "\n",
      "SVM\n",
      "[1.    0.75  0.75  0.625 0.625] \n",
      "\n",
      "Randomforest\n",
      "[1. 1. 1. 1. 1.] \n",
      "\n",
      "Neural Network\n",
      "Logistic regression\n",
      "[0.875 1.    0.875 0.75  1.   ] \n",
      "\n",
      "SVM\n",
      "[1.    0.875 0.875 0.625 0.75 ] \n",
      "\n",
      "Randomforest\n",
      "[0.875 1.    1.    1.    0.875] \n",
      "\n",
      "Neural Network\n",
      "Logistic regression\n",
      "[0.75  0.875 0.875 0.75  0.375] \n",
      "\n",
      "SVM\n",
      "[0.875 0.75  0.75  0.625 0.625] \n",
      "\n",
      "Randomforest\n",
      "[1.    1.    1.    1.    0.875] \n",
      "\n",
      "Neural Network\n",
      "Logistic regression\n",
      "[1.    1.    1.    1.    0.875] \n",
      "\n",
      "SVM\n",
      "[0.75  0.75  0.75  0.625 0.625] \n",
      "\n",
      "Randomforest\n",
      "[1. 1. 1. 1. 1.] \n",
      "\n",
      "Neural Network\n",
      "Logistic regression\n",
      "[0.875 0.875 0.75  0.875 0.875] \n",
      "\n",
      "SVM\n",
      "[1.    0.75  0.75  0.625 0.625] \n",
      "\n",
      "Randomforest\n",
      "[1.    0.875 1.    1.    1.   ] \n",
      "\n",
      "Neural Network\n",
      "Logistic regression\n",
      "[1.    0.875 0.875 1.    0.875] \n",
      "\n",
      "SVM\n",
      "[1.    0.75  0.75  0.625 0.625] \n",
      "\n",
      "Randomforest\n",
      "[1.    0.875 1.    0.875 1.   ] \n",
      "\n",
      "Neural Network\n",
      "Logistic regression\n",
      "[0.875 0.875 0.75  0.875 0.625] \n",
      "\n",
      "SVM\n",
      "[1.    0.75  0.75  0.625 0.625] \n",
      "\n",
      "Randomforest\n",
      "[0.875 1.    1.    0.75  0.75 ] \n",
      "\n",
      "Neural Network\n",
      "Logistic regression\n",
      "[1.    0.875 1.    1.    1.   ] \n",
      "\n",
      "SVM\n",
      "[1.    0.75  0.75  0.625 0.625] \n",
      "\n",
      "Randomforest\n",
      "[1. 1. 1. 1. 1.] \n",
      "\n",
      "Neural Network\n",
      "Logistic regression\n",
      "[0.75  0.875 0.625 0.875 0.625] \n",
      "\n",
      "SVM\n",
      "[1.    0.75  0.75  0.625 0.625] \n",
      "\n",
      "Randomforest\n",
      "[1.   1.   1.   1.   0.75] \n",
      "\n",
      "Neural Network\n"
     ]
    }
   ],
   "source": [
    "for features in feat_list: # cycle through each subject\n",
    "    scaler_sb = StandardScaler().fit(features)\n",
    "    X_train_sb = scaler_sb.transform(features)\n",
    "\n",
    "    # perform PCA\n",
    "    pca = PCA(n_components=4)\n",
    "    pca.fit(X_train_sb)\n",
    "    X_train_pca_sb = pca.transform(X_train_sb)\n",
    "    x_train_sb = X_train_pca_sb[:,0:3] # Three best features\n",
    "\n",
    "    # plt.figure(figsize=(8,6))\n",
    "    # plt.scatter(X_train_pca[:,0], X_train_pca[:,1], c=y)\n",
    "    # # perform pca on features\n",
    "    # plt.bar(range(0,15), pca.explained_variance_ratio_, label=\"individual var\");\n",
    "    # plt.step(range(0,15), np.cumsum(pca.explained_variance_ratio_),'r', label=\"cumulative var\");\n",
    "    # plt.xlabel('Principal component index'); plt.ylabel('explained variance ratio %');\n",
    "    # plt.legend()\n",
    "\n",
    "    # Splitting the data in train and test data\n",
    "    X_train_sb, X_test_sb, y_train_sb, y_test_sb = train_test_split(x_train_sb, y_sb1, test_size=0.2, random_state=5)\n",
    "\n",
    "    # Scaling the data\n",
    "    scaler_sb = StandardScaler().fit(X_train_sb)\n",
    "    X_train_sb = scaler_sb.transform(X_train_sb)\n",
    "    X_test_sb = scaler_sb.transform(X_test_sb)\n",
    "\n",
    "    # logistic regression\n",
    "    logistic_model_sb = LogisticRegression()\n",
    "    logistic_model_sb.fit(X_train_sb, y_train_sb)\n",
    "    Y_test_pred_sb = logistic_model_sb.predict(X_test_sb)\n",
    "    log_score_sb = logistic_model_sb.score(X_test_sb,y_test_sb)\n",
    "\n",
    "    # SVM\n",
    "    from sklearn import datasets, svm\n",
    "    svm_model_sb = svm.SVC()\n",
    "    svm_model_sb.fit(X_train_sb, y_train_sb)\n",
    "    Y_test_pred = svm_model_sb.predict(X_test_sb)\n",
    "    svm_score = svm_model_sb.score(X_test_sb,y_test_sb)\n",
    "\n",
    "    from sklearn.model_selection import train_test_split\n",
    "    from sklearn.preprocessing import StandardScaler\n",
    "    from sklearn.decomposition import PCA\n",
    "    from tensorflow.keras.utils import to_categorical\n",
    "    from tensorflow.keras.models import Sequential\n",
    "    from tensorflow.keras.layers import Dense, Dropout\n",
    "    from tensorflow.keras.optimizers import Adam\n",
    "\n",
    "    # neural network\n",
    "    val_accuracies_sb = []\n",
    "    for i in range(5): # run 5 times with 5 random states to determine model accuracy\n",
    "        # Splitting the data in train and test data\n",
    "        X_trainn_sb, X_testn_sb, y_trainn_sb, y_testn_sb = train_test_split(x_train_sb, y_sb1, test_size=0.2, random_state= i + 1)\n",
    "\n",
    "        # Scaling the data\n",
    "        scaler_sb = StandardScaler().fit(X_trainn_sb)\n",
    "        X_trainn_sb = scaler_sb.transform(X_trainn_sb)\n",
    "        X_testn_sb = scaler_sb.transform(X_testn_sb)\n",
    "        ## Convert labels to categorical\n",
    "        y_train_cat_sb = to_categorical(y_trainn_sb,3)\n",
    "        y_test_cat_sb = to_categorical(y_testn_sb,3)\n",
    "\n",
    "        # Define the feedforward neural network\n",
    "        neural_model_sb = Sequential()\n",
    "        neural_model_sb.add(Dense(64, activation='relu', input_shape=(3,)))\n",
    "        neural_model_sb.add(Dense(64, activation='relu'))\n",
    "        neural_model_sb.add(Dense(64, activation='relu'))\n",
    "        neural_model_sb.add(Dense(64, activation = 'relu'))\n",
    "        neural_model_sb.add(Dropout(0.5))\n",
    "        neural_model_sb.add(Dense(3, activation='softmax'))\n",
    "\n",
    "        # Compile the model\n",
    "        optimizer = Adam(learning_rate=0.001)\n",
    "        neural_model_sb.compile(loss='categorical_crossentropy',\n",
    "                    optimizer=optimizer,\n",
    "                    metrics=['accuracy'])\n",
    "\n",
    "        # Train the model\n",
    "\n",
    "        # history = model.fit(X_train_pca, y_train, validation_data=(X_test_pca, y_test), epochs=45, batch_size=100, verbose=2)\n",
    "        history = neural_model_sb.fit(X_trainn_sb, y_train_cat_sb, validation_data=(X_testn_sb, y_test_cat_sb), epochs=45, batch_size=100, verbose=0)\n",
    "        val_accuracy_sb = history.history['val_accuracy'][-1]\n",
    "        val_accuracies_sb.append(val_accuracy_sb) # accuracy score\n",
    "\n",
    "    # print(val_accuracies)\n",
    "    avg_val_accuracy_sb = sum(val_accuracies_sb) / len(val_accuracies_sb) # average of accurracy scores\n",
    "    # print(\"Average Validation Accuracy:\", avg_val_accuracy)\n",
    "    # plt.plot(history.history['accuracy'])\n",
    "    # plt.plot(history.history['val_accuracy'])\n",
    "    # plt.legend(['accuracy', 'val_accuracy'])\n",
    "    #from sklearn.datasets import make_classification\n",
    "    from sklearn.ensemble import RandomForestClassifier\n",
    "\n",
    "    # Random forest\n",
    "    # define the model\n",
    "    randomf_model_sb = RandomForestClassifier()\n",
    "\n",
    "    # fit/train the model on all features\n",
    "    randomf_model_sb.fit(X_train_sb, y_train_sb)\n",
    "    Y_test_pred_sb = randomf_model_sb.predict(X_test_sb)\n",
    "\n",
    "    #score\n",
    "    rf_score_sb=randomf_model_sb.score(X_test_sb, y_test_sb)\n",
    "    \n",
    "    # determine model score \n",
    "    y_test_cat_sb = to_categorical(y_test_sb)\n",
    "    y_test1_sb = y_test_cat_sb.astype('int64')\n",
    "    testYarg_sb = np.argmax(y_test1_sb, axis = 1)\n",
    "\n",
    "    def model_predict_neural(X_test, y_test1, model):\n",
    "        predictions = model.predict(X_test)\n",
    "        predictions = np.argmax(predictions, axis = 1)\n",
    "        y_test1 = y_test1.astype('int64')\n",
    "        testYarg = np.argmax(y_test1, axis = 1)\n",
    "        miss_class = np.where(predictions != testYarg_sb)\n",
    "        miss_class = miss_class[0]\n",
    "        # print(\"Neural network\")\n",
    "        # print(\"Predicted:\",predictions)\n",
    "        # print(\"Correct:  \",testYarg)\n",
    "        # print(\"Index missclassified:\", miss_class)\n",
    "        # print(\"Score:\", val_accuracy, \"\\n\")\n",
    "        return predictions, miss_class, testYarg\n",
    "    def model_predict(X_test, y_test1, model):\n",
    "        predictions = model.predict(X_test)\n",
    "        #y_test1 = y_test1.astype('int64')\n",
    "        #testYarg = np.argmax(y_test1, axis = 1)\n",
    "        miss_class = np.where(predictions != y_test1)\n",
    "        miss_class = miss_class[0]\n",
    "        score=model.score(X_test, y_test1)\n",
    "        # print(model)\n",
    "        # print(\"Predicted:\",predictions)\n",
    "        # print(\"Correct:  \",testYarg)\n",
    "        # print(\"Index missclassified:\", miss_class)\n",
    "        # print(\"Score:\", score, \"\\n\")\n",
    "        return predictions, miss_class, testYarg\n",
    "    # model_predict_neural(X_test, y_test_cat, neural_model)\n",
    "    # model_predict(X_test, y_test, logistic_model)\n",
    "    # model_predict(X_test, y_test, svm_model)\n",
    "    # predictions = model_predict(X_test, y_test, randomf_model)\n",
    "    from numpy import mean\n",
    "    from numpy import std\n",
    "    from sklearn.datasets import make_classification\n",
    "    from sklearn.model_selection import KFold\n",
    "    from sklearn.model_selection import cross_val_score\n",
    "    from sklearn.linear_model import LogisticRegression\n",
    "\n",
    "    def cross_validation(X, y, model, acc_d, std_d):\n",
    "        cv = KFold(n_splits= 5, random_state=1, shuffle=True)\n",
    "        scores = cross_val_score(model, X,y, scoring='accuracy', cv=cv, n_jobs=-1)\n",
    "        # print('Accuracy: %.3f (%.3f)' % (mean(scores), std(scores)))\n",
    "        # print(str(model))\n",
    "        acc_sb[str(model)].append(mean(scores))\n",
    "        std_sb[str(model)].append(std(scores))\n",
    "        return scores\n",
    "    print(\"Logistic regression\")\n",
    "    cv_logistic = cross_validation(features, y_sb1, logistic_model_sb, acc_sb, std_sb)\n",
    "    print(cv_logistic,\"\\n\\nSVM\")\n",
    "    cv_svm = cross_validation(features, y_sb1, svm_model_sb, acc_sb, std_sb)\n",
    "    print(cv_svm, \"\\n\\nRandomforest\")\n",
    "    cv_randomf = cross_validation(features, y_sb1, randomf_model_sb, acc_sb, std_sb)\n",
    "    print(cv_randomf, \"\\n\\nNeural Network\")\n",
    "    # print(\"Accuracy:\", avg_val_accuracy)\n",
    "    # print(val_accuracies)\n",
    "    # print ('ACC std:', '{0:0.3f}'.format(np.std(val_accuracies)), \"\\n\")\n",
    "    nnmean_sb.append(avg_val_accuracy_sb)\n",
    "    nnstd_sb.append(np.std(val_accuracies_sb))"
   ]
  },
  {
   "cell_type": "code",
   "execution_count": 60,
   "metadata": {},
   "outputs": [
    {
     "name": "stdout",
     "output_type": "stream",
     "text": [
      "Logistic regression\n",
      "0.87500\n",
      "0.08802 \n",
      "\n",
      "SVM\n",
      "0.74833\n",
      "0.12547 \n",
      "\n",
      "Randomforest\n",
      "0.95167\n",
      "0.05840 \n",
      "\n",
      "Neural Network\n",
      "0.95000\n",
      "0.04880\n"
     ]
    }
   ],
   "source": [
    "print(\"Logistic regression\")\n",
    "print(\"{:.5f}\".format(mean(acc_sb['LogisticRegression()'])))\n",
    "print(\"{:.5f}\".format(mean(std_sb['LogisticRegression()'])), \"\\n\\nSVM\")\n",
    "print(\"{:.5f}\".format(mean(acc_sb['SVC()'])))\n",
    "print(\"{:.5f}\".format(mean(std_sb['SVC()'])), \"\\n\\nRandomforest\")\n",
    "print(\"{:.5f}\".format(mean(acc_sb['RandomForestClassifier()'])))\n",
    "print(\"{:.5f}\".format(mean(std_sb['RandomForestClassifier()'])), \"\\n\\nNeural Network\")\n",
    "print(\"{:.5f}\".format(mean(nnmean_sb)))\n",
    "print(\"{:.5f}\".format(mean(nnstd_sb)))\n"
   ]
  },
  {
   "attachments": {},
   "cell_type": "markdown",
   "metadata": {},
   "source": [
    "# Hybrid approach"
   ]
  },
  {
   "cell_type": "code",
   "execution_count": 61,
   "metadata": {},
   "outputs": [],
   "source": [
    "from sklearn.linear_model import LogisticRegression\n",
    "from sklearn import datasets, svm\n",
    "from sklearn.ensemble import RandomForestClassifier"
   ]
  },
  {
   "cell_type": "code",
   "execution_count": 62,
   "metadata": {},
   "outputs": [],
   "source": [
    "features = total_features\n",
    "feat_list = []\n",
    "\n",
    "# extract features from each subject\n",
    "for a in range(15):\n",
    "    df = features[a*samples*4:(a+1)*samples*4]\n",
    "    feat_list.append(df)"
   ]
  },
  {
   "cell_type": "code",
   "execution_count": 63,
   "metadata": {},
   "outputs": [
    {
     "data": {
      "text/plain": [
       "15"
      ]
     },
     "execution_count": 63,
     "metadata": {},
     "output_type": "execute_result"
    }
   ],
   "source": [
    "# define output for each subject\n",
    "y_hy1 = []\n",
    "for i in range(1):\n",
    "    y_hy1.extend(samples * [1])\n",
    "    y_hy1.extend(samples * [2])\n",
    "    y_hy1.extend(samples * [1])\n",
    "    y_hy1.extend(samples * [1])\n",
    "len(feat_list)\n",
    "\n",
    "y_hy2 = []\n",
    "for i in range(1):\n",
    "    y_hy2.extend([1,2,1,1])\n",
    "len(feat_list)"
   ]
  },
  {
   "cell_type": "code",
   "execution_count": 64,
   "metadata": {},
   "outputs": [],
   "source": [
    "nnmean_hy = []\n",
    "nnstd_hy = []\n",
    "acc_hy = {}\n",
    "acc_hy['LogisticRegression()'] = []\n",
    "acc_hy['SVC()'] = []\n",
    "acc_hy['RandomForestClassifier()'] = []\n",
    "std_hy = {}\n",
    "std_hy['LogisticRegression()'] = []\n",
    "std_hy['SVC()'] = []\n",
    "std_hy['RandomForestClassifier()'] = []"
   ]
  },
  {
   "cell_type": "code",
   "execution_count": 65,
   "metadata": {},
   "outputs": [
    {
     "data": {
      "text/plain": [
       "<matplotlib.collections.PathCollection at 0x14099857250>"
      ]
     },
     "execution_count": 65,
     "metadata": {},
     "output_type": "execute_result"
    },
    {
     "data": {
      "image/png": "[encoded data removed]",
      "text/plain": [
       "<Figure size 800x600 with 1 Axes>"
      ]
     },
     "metadata": {},
     "output_type": "display_data"
    }
   ],
   "source": [
    "x_hybrid = np.empty((0,3))\n",
    "x_hybrid_pca1 = x_hybrid_pca2 = y_hy2l = y_hy1l = np.empty((0))\n",
    "\n",
    "# Scale and perform PCA for each subject\n",
    "for features in feat_list: # cycle through each subject\n",
    "    scaler_hy = StandardScaler().fit(features)\n",
    "    X_train_hy = scaler_hy.transform(features)\n",
    "\n",
    "    pca = PCA(n_components=4)\n",
    "    pca.fit(X_train_hy)\n",
    "    X_train_pcahy = pca.transform(X_train_hy)\n",
    "    x_train_hy = X_train_pcahy[:,0:3] # Three best features\n",
    "    x_hybrid = np.concatenate((x_hybrid, x_train_hy)) # add each scaled subject feature to x_hybrid\n",
    "    x_hybrid_pca1 = np.concatenate((x_hybrid_pca1, X_train_pcahy[:,0]))\n",
    "    x_hybrid_pca2 = np.concatenate((x_hybrid_pca2, X_train_pcahy[:,1]))\n",
    "    y_hy1l = np.concatenate((y_hy1l, y_hy1))\n",
    "\n",
    "plt.figure(figsize=(8,6))\n",
    "plt.scatter(x_hybrid_pca1, x_hybrid_pca2, c=y_hy1l)"
   ]
  },
  {
   "cell_type": "code",
   "execution_count": 66,
   "metadata": {},
   "outputs": [],
   "source": [
    "# Splitting the data in train and test data\n",
    "X_train_hy, X_test_hy, y_train_hy, y_test_hy = train_test_split(x_hybrid, y_hy1l, test_size=0.2, random_state=5)\n",
    "\n",
    "# Scaling the data\n",
    "scaler_hy = StandardScaler().fit(X_train_hy)\n",
    "X_train_hyy = scaler_hy.transform(X_train_hy)\n",
    "X_test_hy = scaler_hy.transform(X_test_hy)\n",
    "\n",
    "# Logistic regression\n",
    "logistic_model_hy = LogisticRegression()\n",
    "logistic_model_hy.fit(X_train_hy, y_train_hy)\n",
    "Y_test_pred_hy = logistic_model_hy.predict(X_test_hy)\n",
    "log_score_hy = logistic_model_hy.score(X_test_hy,y_test_hy)\n",
    "\n",
    "# SVM\n",
    "svm_model_hy = svm.SVC()\n",
    "svm_model_hy.fit(X_train_hy, y_train_hy)\n",
    "Y_test_pred_hy = svm_model_hy.predict(X_test_hy)\n",
    "svm_score_hy = svm_model_hy.score(X_test_hy,y_test_hy)\n",
    "\n",
    "from sklearn.model_selection import train_test_split\n",
    "from sklearn.preprocessing import StandardScaler\n",
    "from sklearn.decomposition import PCA\n",
    "from tensorflow.keras.utils import to_categorical\n",
    "from tensorflow.keras.models import Sequential\n",
    "from tensorflow.keras.layers import Dense, Dropout\n",
    "from tensorflow.keras.optimizers import Adam\n",
    "\n",
    "# neural network\n",
    "val_accuracies_hy = []\n",
    "for i in range(5): # run 5 times with 5 random states to determine model accuracy\n",
    "    # Splitting the data in train and test data\n",
    "    X_trainn_hy, X_testn_hy, y_trainn_hy, y_testn_hy = train_test_split(x_hybrid, y_hy1l, test_size=0.2, random_state= i + 1)\n",
    "    # Scaling the data\n",
    "    scaler_hy = StandardScaler().fit(X_trainn_hy)\n",
    "    X_trainn_hy = scaler_hy.transform(X_trainn_hy)\n",
    "    X_testn_hy = scaler_hy.transform(X_testn_hy)\n",
    "    ## Convert labels to categorical\n",
    "    y_train_cat_hy = to_categorical(y_trainn_hy,3)\n",
    "    y_test_cat_hy = to_categorical(y_testn_hy,3)\n",
    "    # Define the feedforward neural network\n",
    "    neural_model_hy = Sequential()\n",
    "    neural_model_hy.add(Dense(128, activation='relu', input_shape=(3,)))\n",
    "    neural_model_hy.add(Dense(128, activation='relu'))\n",
    "    neural_model_hy.add(Dense(128, activation='relu'))\n",
    "    neural_model_hy.add(Dense(128, activation = 'relu'))\n",
    "    neural_model_hy.add(Dropout(0.5))\n",
    "    neural_model_hy.add(Dense(3, activation='softmax'))\n",
    "    # Compile the model\n",
    "    optimizer = Adam(learning_rate=0.001)\n",
    "    neural_model_hy.compile(loss='categorical_crossentropy',\n",
    "                optimizer=optimizer,\n",
    "                metrics=['accuracy'])\n",
    "    # Train the model\n",
    "    # history = model.fit(X_train_pca, y_train, validation_data=(X_test_pca, y_test), epochs=45, batch_size=100, verbose=2)\n",
    "    history_hy = neural_model_hy.fit(X_trainn_hy, y_train_cat_hy, validation_data=(X_testn_hy, y_test_cat_hy), epochs=45, batch_size=100, verbose=0)\n",
    "    val_accuracy_hy = history_hy.history['val_accuracy'][-1]\n",
    "    val_accuracies_hy.append(val_accuracy_hy) # accuracy score\n",
    "# print(val_accuracies)\n",
    "avg_val_accuracy_hy = sum(val_accuracies_hy) / len(val_accuracies_hy) # average of accurracy scores\n",
    "# print(\"Average Validation Accuracy:\", avg_val_accuracy)\n",
    "# plt.plot(history.history['accuracy'])\n",
    "# plt.plot(history.history['val_accuracy'])\n",
    "# plt.legend(['accuracy', 'val_accuracy'])\n",
    "#from sklearn.datasets import make_classification\n",
    "\n",
    "# random forest\n",
    "from sklearn.ensemble import RandomForestClassifier\n",
    "# define the model\n",
    "randomf_model_hy = RandomForestClassifier()\n",
    "# fit/train the model on all features\n",
    "randomf_model_hy.fit(X_train_hy, y_train_hy)\n",
    "Y_test_pred_hy = randomf_model_hy.predict(X_test_hy)\n",
    "#score\n",
    "rf_score_hy = randomf_model_hy.score(X_test_hy, y_test_hy)\n"
   ]
  },
  {
   "cell_type": "code",
   "execution_count": 67,
   "metadata": {},
   "outputs": [
    {
     "name": "stdout",
     "output_type": "stream",
     "text": [
      "Logistic regression\n",
      "[0.775      0.84166667 0.8        0.75       0.825     ] \n",
      "\n",
      "SVM\n",
      "[0.84166667 0.84166667 0.81666667 0.8        0.79166667] \n",
      "\n",
      "Randomforest\n",
      "[0.81666667 0.85833333 0.81666667 0.81666667 0.83333333] \n",
      "\n",
      "Neural Network\n",
      "[0.8333333134651184, 0.824999988079071, 0.7749999761581421, 0.8333333134651184, 0.7583333253860474]\n"
     ]
    }
   ],
   "source": [
    "# calculate model scores\n",
    "y_test_cat_hy = to_categorical(y_test_hy)\n",
    "y_test1_hy = y_test_cat_hy.astype('int64')\n",
    "testYarg = np.argmax(y_test1_hy, axis = 1)\n",
    "def model_predict_neural(X_test, y_test1, model):\n",
    "    predictions = model.predict(X_test)\n",
    "    predictions = np.argmax(predictions, axis = 1)\n",
    "    y_test1 = y_test1.astype('int64')\n",
    "    testYarg = np.argmax(y_test1, axis = 1)\n",
    "    miss_class = np.where(predictions != testYarg)\n",
    "    miss_class = miss_class[0]\n",
    "    # print(\"Neural network\")\n",
    "    # print(\"Predicted:\",predictions)\n",
    "    # print(\"Correct:  \",testYarg)\n",
    "    # print(\"Index missclassified:\", miss_class)\n",
    "    # print(\"Score:\", val_accuracy, \"\\n\")\n",
    "    return predictions, miss_class, testYarg\n",
    "def model_predict(X_test, y_test1, model):\n",
    "    predictions = model.predict(X_test)\n",
    "    #y_test1 = y_test1.astype('int64')\n",
    "    #testYarg = np.argmax(y_test1, axis = 1)\n",
    "    miss_class = np.where(predictions != y_test1)\n",
    "    miss_class = miss_class[0]\n",
    "    score=model.score(X_test, y_test1)\n",
    "    # print(model)\n",
    "    # print(\"Predicted:\",predictions)\n",
    "    # print(\"Correct:  \",testYarg)\n",
    "    # print(\"Index missclassified:\", miss_class)\n",
    "    # print(\"Score:\", score, \"\\n\")\n",
    "    return predictions, miss_class, testYarg\n",
    "# model_predict_neural(X_test, y_test_cat, neural_model)\n",
    "# model_predict(X_test, y_test, logistic_model)\n",
    "# model_predict(X_test, y_test, svm_model)\n",
    "# predictions = model_predict(X_test, y_test, randomf_model)\n",
    "\n",
    "from numpy import mean\n",
    "from numpy import std\n",
    "from sklearn.datasets import make_classification\n",
    "from sklearn.model_selection import KFold\n",
    "from sklearn.model_selection import cross_val_score\n",
    "from sklearn.linear_model import LogisticRegression\n",
    "def cross_validation(X, y, model, acc_d, std_d):\n",
    "    cv = KFold(n_splits= 5, random_state=1, shuffle=True)\n",
    "    scores = cross_val_score(model, X,y, scoring='accuracy', cv=cv, n_jobs=-1)\n",
    "    # print('Accuracy: %.3f (%.3f)' % (mean(scores), std(scores)))\n",
    "    # print(str(model))\n",
    "    acc_hy[str(model)].append(mean(scores))\n",
    "    std_hy[str(model)].append(std(scores))\n",
    "    return scores\n",
    "print(\"Logistic regression\")\n",
    "cv_logistic = cross_validation(x_hybrid, y_hy1l, logistic_model_hy, acc_hy, std_hy)\n",
    "print(cv_logistic,\"\\n\\nSVM\")\n",
    "cv_svm = cross_validation(x_hybrid, y_hy1l, svm_model_hy, acc_hy, std_hy)\n",
    "print(cv_svm, \"\\n\\nRandomforest\")\n",
    "cv_randomf = cross_validation(x_hybrid, y_hy1l, randomf_model_hy, acc_hy, std_hy)\n",
    "print(cv_randomf, \"\\n\\nNeural Network\")\n",
    "# print(\"Accuracy:\", avg_val_accuracy)\n",
    "print(val_accuracies_hy)\n",
    "#print ('ACC std:', '{0:0.3f}'.format(np.std(val_accuracies)), \"\\n\")\n",
    "nnmean_hy.append(avg_val_accuracy_hy)\n",
    "nnstd_hy.append(np.std(val_accuracies_hy))"
   ]
  },
  {
   "cell_type": "code",
   "execution_count": 68,
   "metadata": {},
   "outputs": [
    {
     "name": "stdout",
     "output_type": "stream",
     "text": [
      "Logistic regression\n",
      "0.79833\n",
      "0.03308 \n",
      "\n",
      "SVM\n",
      "0.81833\n",
      "0.02068 \n",
      "\n",
      "Randomforest\n",
      "0.82833\n",
      "0.01633 \n",
      "\n",
      "Neural Network\n",
      "0.80500\n",
      "0.03189\n"
     ]
    }
   ],
   "source": [
    "print(\"Logistic regression\")\n",
    "print(\"{:.5f}\".format(acc_hy['LogisticRegression()'][0]))\n",
    "print(\"{:.5f}\".format(std_hy['LogisticRegression()'][0]), \"\\n\\nSVM\")\n",
    "print(\"{:.5f}\".format(acc_hy['SVC()'][0]))\n",
    "print(\"{:.5f}\".format(std_hy['SVC()'][0]), \"\\n\\nRandomforest\")\n",
    "print(\"{:.5f}\".format(acc_hy['RandomForestClassifier()'][0]))\n",
    "print(\"{:.5f}\".format(std_hy['RandomForestClassifier()'][0]), \"\\n\\nNeural Network\")\n",
    "print(\"{:.5f}\".format(nnmean_hy[0]))\n",
    "print(\"{:.5f}\".format(nnstd_hy[0]))\n"
   ]
  },
  {
   "attachments": {},
   "cell_type": "markdown",
   "metadata": {},
   "source": [
    "Own Measurement"
   ]
  },
  {
   "cell_type": "code",
   "execution_count": 69,
   "metadata": {},
   "outputs": [
    {
     "name": "stdout",
     "output_type": "stream",
     "text": [
      "3346\n"
     ]
    }
   ],
   "source": [
    "# Set up empty dataframes for the features\n",
    "ecgfeaturestest = pd.DataFrame(None, columns= ['HR_mean', 'HR_min', 'HR_max', 'HR_std', 'SDNN', 'SDANN', 'RMSSD', 'SDSD','pNN50', 'pNN20', \n",
    "                                    'abs_power_VLF', 'abs_power_LF', 'abs_power_HF', 'tot_power', 'LF/HF', \n",
    "                                    'peak_vlf', 'peak_lf', 'peak_hf', 'norm_power_LF', 'norm_power_HF'])\n",
    "edafeaturestest = None\n",
    "\n",
    "# Reading from csv\n",
    "data = pd.read_csv('First_Measurements.csv', index_col=0)\n",
    "ecg = data['ECG Data']\n",
    "eda = data['GSR Data']\n",
    "fs =100\n",
    "duration = 30\n",
    "print(len(eda))"
   ]
  },
  {
   "cell_type": "code",
   "execution_count": 70,
   "metadata": {},
   "outputs": [
    {
     "name": "stdout",
     "output_type": "stream",
     "text": [
      "3346\n"
     ]
    },
    {
     "ename": "ValueError",
     "evalue": "The number of derivatives at boundaries does not match: expected 1, got 0+0",
     "output_type": "error",
     "traceback": [
      "\u001b[1;31m---------------------------------------------------------------------------\u001b[0m",
      "\u001b[1;31mValueError\u001b[0m                                Traceback (most recent call last)",
      "Cell \u001b[1;32mIn[70], line 22\u001b[0m\n\u001b[0;32m     20\u001b[0m tonic, phasic, start, end \u001b[39m=\u001b[39m get_edaindex(eda, fs)\n\u001b[0;32m     21\u001b[0m edafeaturestest \u001b[39m=\u001b[39m get_edafeatures(index, edafeaturestest, phasic, tonic, fs)\n\u001b[1;32m---> 22\u001b[0m ecgfeaturestest \u001b[39m=\u001b[39m get_ecgfeatures(ecg, fs, ecgfeaturestest, index)\n\u001b[0;32m     24\u001b[0m total_featurestest \u001b[39m=\u001b[39m pd\u001b[39m.\u001b[39mmerge(ecgfeaturestest, edafeaturestest, left_index\u001b[39m=\u001b[39m\u001b[39mTrue\u001b[39;00m, right_index\u001b[39m=\u001b[39m\u001b[39mTrue\u001b[39;00m)\n",
      "File \u001b[1;32mc:\\Users\\JackC\\Documents\\EPO4-C2\\ECG_features.ipynb:116\u001b[0m, in \u001b[0;36mget_ecgfeatures\u001b[1;34m(ecg, fs, df, index)\u001b[0m\n\u001b[0;32m      1\u001b[0m {\n\u001b[0;32m      2\u001b[0m  \u001b[39m\"\u001b[39m\u001b[39mcells\u001b[39m\u001b[39m\"\u001b[39m: [\n\u001b[0;32m      3\u001b[0m   {\n\u001b[0;32m      4\u001b[0m    \u001b[39m\"\u001b[39m\u001b[39mcell_type\u001b[39m\u001b[39m\"\u001b[39m: \u001b[39m\"\u001b[39m\u001b[39mcode\u001b[39m\u001b[39m\"\u001b[39m,\n\u001b[0;32m      5\u001b[0m    \u001b[39m\"\u001b[39m\u001b[39mexecution_count\u001b[39m\u001b[39m\"\u001b[39m: \u001b[39m124\u001b[39m,\n\u001b[0;32m      6\u001b[0m    \u001b[39m\"\u001b[39m\u001b[39mmetadata\u001b[39m\u001b[39m\"\u001b[39m: {},\n\u001b[0;32m      7\u001b[0m    \u001b[39m\"\u001b[39m\u001b[39moutputs\u001b[39m\u001b[39m\"\u001b[39m: [],\n\u001b[0;32m      8\u001b[0m    \u001b[39m\"\u001b[39m\u001b[39msource\u001b[39m\u001b[39m\"\u001b[39m: [\n\u001b[0;32m      9\u001b[0m     \u001b[39m\"\u001b[39m\u001b[39mimport os\u001b[39m\u001b[39m\\n\u001b[39;00m\u001b[39m\"\u001b[39m,\n\u001b[0;32m     10\u001b[0m     \u001b[39m\"\u001b[39m\u001b[39mimport numpy as np\u001b[39m\u001b[39m\\n\u001b[39;00m\u001b[39m\"\u001b[39m,\n\u001b[0;32m     11\u001b[0m     \u001b[39m\"\u001b[39m\u001b[39mfrom scipy.signal import butter, iirnotch, lfilter\u001b[39m\u001b[39m\\n\u001b[39;00m\u001b[39m\"\u001b[39m,\n\u001b[0;32m     12\u001b[0m     \u001b[39m\"\u001b[39m\u001b[39mimport numpy as np\u001b[39m\u001b[39m\\n\u001b[39;00m\u001b[39m\"\u001b[39m,\n\u001b[0;32m     13\u001b[0m     \u001b[39m\"\u001b[39m\u001b[39mfrom scipy import signal\u001b[39m\u001b[39m\\n\u001b[39;00m\u001b[39m\"\u001b[39m,\n\u001b[0;32m     14\u001b[0m     \u001b[39m\"\u001b[39m\u001b[39mimport matplotlib.pyplot as plt\u001b[39m\u001b[39m\\n\u001b[39;00m\u001b[39m\"\u001b[39m,\n\u001b[0;32m     15\u001b[0m     \u001b[39m\"\u001b[39m\u001b[39mimport neurokit2 as nk\u001b[39m\u001b[39m\\n\u001b[39;00m\u001b[39m\"\u001b[39m,\n\u001b[0;32m     16\u001b[0m     \u001b[39m\"\u001b[39m\u001b[39mimport pandas as pd\u001b[39m\u001b[39m\\n\u001b[39;00m\u001b[39m\"\u001b[39m,\n\u001b[0;32m     17\u001b[0m     \u001b[39m\"\u001b[39m\u001b[39mfrom ecgdetectors import Detectors\u001b[39m\u001b[39m\\n\u001b[39;00m\u001b[39m\"\u001b[39m,\n\u001b[0;32m     18\u001b[0m     \u001b[39m\"\u001b[39m\u001b[39mimport pyhrv.frequency_domain as fd\u001b[39m\u001b[39m\\n\u001b[39;00m\u001b[39m\"\u001b[39m,\n\u001b[0;32m     19\u001b[0m     \u001b[39m\"\u001b[39m\u001b[39mimport pyhrv.time_domain as td\u001b[39m\u001b[39m\\n\u001b[39;00m\u001b[39m\"\u001b[39m,\n\u001b[0;32m     20\u001b[0m     \u001b[39m\"\u001b[39m\u001b[39mimport pyhrv\u001b[39m\u001b[39m\"\u001b[39m\n\u001b[0;32m     21\u001b[0m    ]\n\u001b[0;32m     22\u001b[0m   },\n\u001b[0;32m     23\u001b[0m   {\n\u001b[0;32m     24\u001b[0m    \u001b[39m\"\u001b[39m\u001b[39mcell_type\u001b[39m\u001b[39m\"\u001b[39m: \u001b[39m\"\u001b[39m\u001b[39mcode\u001b[39m\u001b[39m\"\u001b[39m,\n\u001b[0;32m     25\u001b[0m    \u001b[39m\"\u001b[39m\u001b[39mexecution_count\u001b[39m\u001b[39m\"\u001b[39m: \u001b[39m125\u001b[39m,\n\u001b[0;32m     26\u001b[0m    \u001b[39m\"\u001b[39m\u001b[39mmetadata\u001b[39m\u001b[39m\"\u001b[39m: {},\n\u001b[0;32m     27\u001b[0m    \u001b[39m\"\u001b[39m\u001b[39moutputs\u001b[39m\u001b[39m\"\u001b[39m: [],\n\u001b[0;32m     28\u001b[0m    \u001b[39m\"\u001b[39m\u001b[39msource\u001b[39m\u001b[39m\"\u001b[39m: [\n\u001b[0;32m     29\u001b[0m     \u001b[39m\"\u001b[39m\u001b[39m# filtering\u001b[39m\u001b[39m\\n\u001b[39;00m\u001b[39m\"\u001b[39m,\n\u001b[0;32m     30\u001b[0m     \u001b[39m\"\u001b[39m\u001b[39mdef filter_ecgsignal(ecg, fs):\u001b[39m\u001b[39m\\n\u001b[39;00m\u001b[39m\"\u001b[39m,\n\u001b[0;32m     31\u001b[0m     \u001b[39m\"\u001b[39m\u001b[39m    ecg_td = td.ecg(ecg, interactive= False, show = False, sampling_rate=fs)\u001b[39m\u001b[39m\\n\u001b[39;00m\u001b[39m\"\u001b[39m,\n\u001b[0;32m     32\u001b[0m     \u001b[39m\"\u001b[39m\u001b[39m    filtered_ecg = ecg_td[\u001b[39m\u001b[39m'\u001b[39m\u001b[39mfiltered\u001b[39m\u001b[39m'\u001b[39m\u001b[39m]\u001b[39m\u001b[39m\\n\u001b[39;00m\u001b[39m\"\u001b[39m,\n\u001b[0;32m     33\u001b[0m     \u001b[39m\"\u001b[39m\u001b[39m\\n\u001b[39;00m\u001b[39m\"\u001b[39m,\n\u001b[0;32m     34\u001b[0m     \u001b[39m\"\u001b[39m\u001b[39m    # t=np.arange(0,ecg.size*(1/fs),(1/fs))\u001b[39m\u001b[39m\\n\u001b[39;00m\u001b[39m\"\u001b[39m,\n\u001b[0;32m     35\u001b[0m     \u001b[39m\"\u001b[39m\u001b[39m    # t=t[:ecg.size]\u001b[39m\u001b[39m\\n\u001b[39;00m\u001b[39m\"\u001b[39m,\n\u001b[0;32m     36\u001b[0m     \u001b[39m\"\u001b[39m\u001b[39m\\n\u001b[39;00m\u001b[39m\"\u001b[39m,\n\u001b[0;32m     37\u001b[0m     \u001b[39m\"\u001b[39m\u001b[39m    # plt.figure(figsize=(12,4))\u001b[39m\u001b[39m\\n\u001b[39;00m\u001b[39m\"\u001b[39m,\n\u001b[0;32m     38\u001b[0m     \u001b[39m\"\u001b[39m\u001b[39m    # plt.plot(t,ecg,label=\u001b[39m\u001b[39m\\\"\u001b[39;00m\u001b[39mraw ECG\u001b[39m\u001b[39m\\\"\u001b[39;00m\u001b[39m)\u001b[39m\u001b[39m\\n\u001b[39;00m\u001b[39m\"\u001b[39m,\n\u001b[0;32m     39\u001b[0m     \u001b[39m\"\u001b[39m\u001b[39m    # plt.plot(t,filtered_ecg, label=\u001b[39m\u001b[39m\\\"\u001b[39;00m\u001b[39mfiltered ECG\u001b[39m\u001b[39m\\\"\u001b[39;00m\u001b[39m)\u001b[39m\u001b[39m\\n\u001b[39;00m\u001b[39m\"\u001b[39m,\n\u001b[0;32m     40\u001b[0m     \u001b[39m\"\u001b[39m\u001b[39m    # plt.xlabel(\u001b[39m\u001b[39m'\u001b[39m\u001b[39m$Time (s)$\u001b[39m\u001b[39m'\u001b[39m\u001b[39m) \u001b[39m\u001b[39m\\n\u001b[39;00m\u001b[39m\"\u001b[39m,\n\u001b[0;32m     41\u001b[0m     \u001b[39m\"\u001b[39m\u001b[39m    # plt.ylabel(\u001b[39m\u001b[39m'\u001b[39m\u001b[39m$ECG$\u001b[39m\u001b[39m'\u001b[39m\u001b[39m) \u001b[39m\u001b[39m\\n\u001b[39;00m\u001b[39m\"\u001b[39m,\n\u001b[0;32m     42\u001b[0m     \u001b[39m\"\u001b[39m\u001b[39m    # plt.legend(loc=\u001b[39m\u001b[39m'\u001b[39m\u001b[39mupper left\u001b[39m\u001b[39m'\u001b[39m\u001b[39m)\u001b[39m\u001b[39m\\n\u001b[39;00m\u001b[39m\"\u001b[39m,\n\u001b[0;32m     43\u001b[0m     \u001b[39m\"\u001b[39m\u001b[39m\\n\u001b[39;00m\u001b[39m\"\u001b[39m,\n\u001b[0;32m     44\u001b[0m     \u001b[39m\"\u001b[39m\u001b[39m    return filtered_ecg\u001b[39m\u001b[39m\"\u001b[39m\n\u001b[0;32m     45\u001b[0m    ]\n\u001b[0;32m     46\u001b[0m   },\n\u001b[0;32m     47\u001b[0m   {\n\u001b[0;32m     48\u001b[0m    \u001b[39m\"\u001b[39m\u001b[39mcell_type\u001b[39m\u001b[39m\"\u001b[39m: \u001b[39m\"\u001b[39m\u001b[39mcode\u001b[39m\u001b[39m\"\u001b[39m,\n\u001b[0;32m     49\u001b[0m    \u001b[39m\"\u001b[39m\u001b[39mexecution_count\u001b[39m\u001b[39m\"\u001b[39m: \u001b[39m126\u001b[39m,\n\u001b[0;32m     50\u001b[0m    \u001b[39m\"\u001b[39m\u001b[39mmetadata\u001b[39m\u001b[39m\"\u001b[39m: {},\n\u001b[0;32m     51\u001b[0m    \u001b[39m\"\u001b[39m\u001b[39moutputs\u001b[39m\u001b[39m\"\u001b[39m: [],\n\u001b[0;32m     52\u001b[0m    \u001b[39m\"\u001b[39m\u001b[39msource\u001b[39m\u001b[39m\"\u001b[39m: [\n\u001b[0;32m     53\u001b[0m     \u001b[39m\"\u001b[39m\u001b[39m# detect R-peaks\u001b[39m\u001b[39m\\n\u001b[39;00m\u001b[39m\"\u001b[39m,\n\u001b[0;32m     54\u001b[0m     \u001b[39m\"\u001b[39m\u001b[39mdef detect_rpeaks(fs, ecg):\u001b[39m\u001b[39m\\n\u001b[39;00m\u001b[39m\"\u001b[39m,\n\u001b[0;32m     55\u001b[0m     \u001b[39m\"\u001b[39m\u001b[39m    ecg_td = td.ecg(ecg, interactive= False, show = False, sampling_rate=fs)\u001b[39m\u001b[39m\\n\u001b[39;00m\u001b[39m\"\u001b[39m,\n\u001b[0;32m     56\u001b[0m     \u001b[39m\"\u001b[39m\u001b[39m    rpeaks = ecg_td[\u001b[39m\u001b[39m'\u001b[39m\u001b[39mrpeaks\u001b[39m\u001b[39m'\u001b[39m\u001b[39m]\u001b[39m\u001b[39m\\n\u001b[39;00m\u001b[39m\"\u001b[39m,\n\u001b[0;32m     57\u001b[0m     \u001b[39m\"\u001b[39m\u001b[39m\\n\u001b[39;00m\u001b[39m\"\u001b[39m,\n\u001b[0;32m     58\u001b[0m     \u001b[39m\"\u001b[39m\u001b[39m    # plt.figure(figsize=(12,4))\u001b[39m\u001b[39m\\n\u001b[39;00m\u001b[39m\"\u001b[39m,\n\u001b[0;32m     59\u001b[0m     \u001b[39m\"\u001b[39m\u001b[39m    # plt.plot(filtered_ecg,label=\u001b[39m\u001b[39m\\\"\u001b[39;00m\u001b[39mECG\u001b[39m\u001b[39m\\\"\u001b[39;00m\u001b[39m)\u001b[39m\u001b[39m\\n\u001b[39;00m\u001b[39m\"\u001b[39m,\n\u001b[0;32m     60\u001b[0m     \u001b[39m\"\u001b[39m\u001b[39m    # plt.plot(rpeaks,filtered_ecg[rpeaks], \u001b[39m\u001b[39m'\u001b[39m\u001b[39mro\u001b[39m\u001b[39m'\u001b[39m\u001b[39m, label=\u001b[39m\u001b[39m\\\"\u001b[39;00m\u001b[39mR-peaks\u001b[39m\u001b[39m\\\"\u001b[39;00m\u001b[39m)\u001b[39m\u001b[39m\\n\u001b[39;00m\u001b[39m\"\u001b[39m,\n\u001b[0;32m     61\u001b[0m     \u001b[39m\"\u001b[39m\u001b[39m    # plt.xlabel(\u001b[39m\u001b[39m'\u001b[39m\u001b[39m$Samples$\u001b[39m\u001b[39m'\u001b[39m\u001b[39m) \u001b[39m\u001b[39m\\n\u001b[39;00m\u001b[39m\"\u001b[39m,\n\u001b[0;32m     62\u001b[0m     \u001b[39m\"\u001b[39m\u001b[39m    # plt.ylabel(\u001b[39m\u001b[39m'\u001b[39m\u001b[39m$ECG$\u001b[39m\u001b[39m'\u001b[39m\u001b[39m) \u001b[39m\u001b[39m\\n\u001b[39;00m\u001b[39m\"\u001b[39m,\n\u001b[0;32m     63\u001b[0m     \u001b[39m\"\u001b[39m\u001b[39m    # plt.legend(loc=\u001b[39m\u001b[39m'\u001b[39m\u001b[39mupper left\u001b[39m\u001b[39m'\u001b[39m\u001b[39m)\u001b[39m\u001b[39m\\n\u001b[39;00m\u001b[39m\"\u001b[39m,\n\u001b[0;32m     64\u001b[0m     \u001b[39m\"\u001b[39m\u001b[39m    return rpeaks\u001b[39m\u001b[39m\"\u001b[39m\n\u001b[0;32m     65\u001b[0m    ]\n\u001b[0;32m     66\u001b[0m   },\n\u001b[0;32m     67\u001b[0m   {\n\u001b[0;32m     68\u001b[0m    \u001b[39m\"\u001b[39m\u001b[39mattachments\u001b[39m\u001b[39m\"\u001b[39m: {},\n\u001b[0;32m     69\u001b[0m    \u001b[39m\"\u001b[39m\u001b[39mcell_type\u001b[39m\u001b[39m\"\u001b[39m: \u001b[39m\"\u001b[39m\u001b[39mmarkdown\u001b[39m\u001b[39m\"\u001b[39m,\n\u001b[0;32m     70\u001b[0m    \u001b[39m\"\u001b[39m\u001b[39mmetadata\u001b[39m\u001b[39m\"\u001b[39m: {},\n\u001b[0;32m     71\u001b[0m    \u001b[39m\"\u001b[39m\u001b[39msource\u001b[39m\u001b[39m\"\u001b[39m: [\n\u001b[0;32m     72\u001b[0m     \u001b[39m\"\u001b[39m\u001b[39m# **Feature extraction**\u001b[39m\u001b[39m\"\u001b[39m\n\u001b[0;32m     73\u001b[0m    ]\n\u001b[0;32m     74\u001b[0m   },\n\u001b[0;32m     75\u001b[0m   {\n\u001b[0;32m     76\u001b[0m    \u001b[39m\"\u001b[39m\u001b[39mcell_type\u001b[39m\u001b[39m\"\u001b[39m: \u001b[39m\"\u001b[39m\u001b[39mcode\u001b[39m\u001b[39m\"\u001b[39m,\n\u001b[0;32m     77\u001b[0m    \u001b[39m\"\u001b[39m\u001b[39mexecution_count\u001b[39m\u001b[39m\"\u001b[39m: \u001b[39m1\u001b[39m,\n\u001b[0;32m     78\u001b[0m    \u001b[39m\"\u001b[39m\u001b[39mmetadata\u001b[39m\u001b[39m\"\u001b[39m: {},\n\u001b[0;32m     79\u001b[0m    \u001b[39m\"\u001b[39m\u001b[39moutputs\u001b[39m\u001b[39m\"\u001b[39m: [],\n\u001b[0;32m     80\u001b[0m    \u001b[39m\"\u001b[39m\u001b[39msource\u001b[39m\u001b[39m\"\u001b[39m: [\n\u001b[0;32m     81\u001b[0m     \u001b[39m\"\u001b[39m\u001b[39mfrom hrv import HRV   # to import the module\u001b[39m\u001b[39m\\n\u001b[39;00m\u001b[39m\"\u001b[39m,\n\u001b[0;32m     82\u001b[0m     \u001b[39m\"\u001b[39m\u001b[39m\\n\u001b[39;00m\u001b[39m\"\u001b[39m,\n\u001b[0;32m     83\u001b[0m     \u001b[39m\"\u001b[39m\u001b[39m# Feature extraction\u001b[39m\u001b[39m\\n\u001b[39;00m\u001b[39m\"\u001b[39m,\n\u001b[0;32m     84\u001b[0m     \u001b[39m\"\u001b[39m\u001b[39mdef get_features(r_peaks_pan, fs, df, index):\u001b[39m\u001b[39m\\n\u001b[39;00m\u001b[39m\"\u001b[39m,\n\u001b[0;32m     85\u001b[0m     \u001b[39m\"\u001b[39m\u001b[39m    features = []\u001b[39m\u001b[39m\\n\u001b[39;00m\u001b[39m\"\u001b[39m,\n\u001b[0;32m     86\u001b[0m     \u001b[39m\"\u001b[39m\u001b[39m\\n\u001b[39;00m\u001b[39m\"\u001b[39m,\n\u001b[0;32m     87\u001b[0m     \u001b[39m\"\u001b[39m\u001b[39m    # Time Domain Features\u001b[39m\u001b[39m\\n\u001b[39;00m\u001b[39m\"\u001b[39m,\n\u001b[0;32m     88\u001b[0m     \u001b[39m\"\u001b[39m\u001b[39m    hrv_class = HRV(fs)\u001b[39m\u001b[39m\\n\u001b[39;00m\u001b[39m\"\u001b[39m,\n\u001b[0;32m     89\u001b[0m     \u001b[39m\"\u001b[39m\u001b[39m    \u001b[39m\u001b[39m\\n\u001b[39;00m\u001b[39m\"\u001b[39m,\n\u001b[0;32m     90\u001b[0m     \u001b[39m\"\u001b[39m\u001b[39m    #Heart-rate feature extraction in BPM(HR)\u001b[39m\u001b[39m\\n\u001b[39;00m\u001b[39m\"\u001b[39m,\n\u001b[0;32m     91\u001b[0m     \u001b[39m\"\u001b[39m\u001b[39m\\n\u001b[39;00m\u001b[39m\"\u001b[39m,\n\u001b[0;32m     92\u001b[0m     \u001b[39m\"\u001b[39m\u001b[39m    HR = hrv_class.HR(r_peaks_pan)\u001b[39m\u001b[39m\\n\u001b[39;00m\u001b[39m\"\u001b[39m,\n\u001b[0;32m     93\u001b[0m     \u001b[39m\"\u001b[39m\u001b[39m    features.append(np.mean(HR))\u001b[39m\u001b[39m\\n\u001b[39;00m\u001b[39m\"\u001b[39m,\n\u001b[0;32m     94\u001b[0m     \u001b[39m\"\u001b[39m\u001b[39m    features.append(np.min(HR))\u001b[39m\u001b[39m\\n\u001b[39;00m\u001b[39m\"\u001b[39m,\n\u001b[0;32m     95\u001b[0m     \u001b[39m\"\u001b[39m\u001b[39m    features.append(np.max(HR))\u001b[39m\u001b[39m\\n\u001b[39;00m\u001b[39m\"\u001b[39m,\n\u001b[0;32m     96\u001b[0m     \u001b[39m\"\u001b[39m\u001b[39m    features.append(np.std(HR))\u001b[39m\u001b[39m\\n\u001b[39;00m\u001b[39m\"\u001b[39m,\n\u001b[0;32m     97\u001b[0m     \u001b[39m\"\u001b[39m\u001b[39m\\n\u001b[39;00m\u001b[39m\"\u001b[39m,\n\u001b[0;32m     98\u001b[0m     \u001b[39m\"\u001b[39m\u001b[39m    #Standard deviation of NN intervals(SDNN)\u001b[39m\u001b[39m\\n\u001b[39;00m\u001b[39m\"\u001b[39m,\n\u001b[0;32m     99\u001b[0m     \u001b[39m\"\u001b[39m\u001b[39m    features.append(hrv_class.SDNN(r_peaks_pan, normalise=True))\u001b[39m\u001b[39m\\n\u001b[39;00m\u001b[39m\"\u001b[39m,\n\u001b[0;32m    100\u001b[0m     \u001b[39m\"\u001b[39m\u001b[39m\\n\u001b[39;00m\u001b[39m\"\u001b[39m,\n\u001b[0;32m    101\u001b[0m     \u001b[39m\"\u001b[39m\u001b[39m    #Standard deviation of the average of NN intervals(SDNN)\u001b[39m\u001b[39m\\n\u001b[39;00m\u001b[39m\"\u001b[39m,\n\u001b[0;32m    102\u001b[0m     \u001b[39m\"\u001b[39m\u001b[39m    features.append(hrv_class.SDANN(r_peaks_pan, normalise=True))\u001b[39m\u001b[39m\\n\u001b[39;00m\u001b[39m\"\u001b[39m,\n\u001b[0;32m    103\u001b[0m     \u001b[39m\"\u001b[39m\u001b[39m\\n\u001b[39;00m\u001b[39m\"\u001b[39m,\n\u001b[0;32m    104\u001b[0m     \u001b[39m\"\u001b[39m\u001b[39m    #Root mean square of succesive differences(RMSSD)\u001b[39m\u001b[39m\\n\u001b[39;00m\u001b[39m\"\u001b[39m,\n\u001b[0;32m    105\u001b[0m     \u001b[39m\"\u001b[39m\u001b[39m    features.append(hrv_class.RMSSD(r_peaks_pan, normalise= True))\u001b[39m\u001b[39m\\n\u001b[39;00m\u001b[39m\"\u001b[39m,\n\u001b[0;32m    106\u001b[0m     \u001b[39m\"\u001b[39m\u001b[39m\\n\u001b[39;00m\u001b[39m\"\u001b[39m,\n\u001b[0;32m    107\u001b[0m     \u001b[39m\"\u001b[39m\u001b[39m    # Standard deviation of succesive differences(SDSD)\u001b[39m\u001b[39m\\n\u001b[39;00m\u001b[39m\"\u001b[39m,\n\u001b[0;32m    108\u001b[0m     \u001b[39m\"\u001b[39m\u001b[39m    features.append(hrv_class.SDSD(r_peaks_pan))\u001b[39m\u001b[39m\\n\u001b[39;00m\u001b[39m\"\u001b[39m,\n\u001b[0;32m    109\u001b[0m     \u001b[39m\"\u001b[39m\u001b[39m\\n\u001b[39;00m\u001b[39m\"\u001b[39m,\n\u001b[0;32m    110\u001b[0m     \u001b[39m\"\u001b[39m\u001b[39m    #The proportion of NN50 divided by total number of NNs(pNN50)\u001b[39m\u001b[39m\\n\u001b[39;00m\u001b[39m\"\u001b[39m,\n\u001b[0;32m    111\u001b[0m     \u001b[39m\"\u001b[39m\u001b[39m    features.append(hrv_class.pNN50(r_peaks_pan))\u001b[39m\u001b[39m\\n\u001b[39;00m\u001b[39m\"\u001b[39m,\n\u001b[0;32m    112\u001b[0m     \u001b[39m\"\u001b[39m\u001b[39m\\n\u001b[39;00m\u001b[39m\"\u001b[39m,\n\u001b[0;32m    113\u001b[0m     \u001b[39m\"\u001b[39m\u001b[39m    #The proportion of NN20 divided by total number of NNs(pNN20)\u001b[39m\u001b[39m\\n\u001b[39;00m\u001b[39m\"\u001b[39m,\n\u001b[0;32m    114\u001b[0m     \u001b[39m\"\u001b[39m\u001b[39m    features.append(hrv_class.pNN20(r_peaks_pan))\u001b[39m\u001b[39m\\n\u001b[39;00m\u001b[39m\"\u001b[39m,\n\u001b[0;32m    115\u001b[0m     \u001b[39m\"\u001b[39m\u001b[39m\\n\u001b[39;00m\u001b[39m\"\u001b[39m,\n\u001b[1;32m--> 116\u001b[0m     \u001b[39m\"\u001b[39m\u001b[39m    # Frequency domain features\u001b[39m\u001b[39m\\n\u001b[39;00m\u001b[39m\"\u001b[39m,\n\u001b[0;32m    117\u001b[0m     \u001b[39m\"\u001b[39m\u001b[39m    # get the frequency domain features of the ECG\u001b[39m\u001b[39m\\n\u001b[39;00m\u001b[39m\"\u001b[39m,\n\u001b[0;32m    118\u001b[0m     \u001b[39m\"\u001b[39m\u001b[39m    ecg_fft = fd.frequency_domain(rpeaks = r_peaks_pan, show = False)\u001b[39m\u001b[39m\\n\u001b[39;00m\u001b[39m\"\u001b[39m,\n\u001b[0;32m    119\u001b[0m     \u001b[39m\"\u001b[39m\u001b[39m\\n\u001b[39;00m\u001b[39m\"\u001b[39m,\n\u001b[0;32m    120\u001b[0m     \u001b[39m\"\u001b[39m\u001b[39m    plt.close(ecg_fft[\u001b[39m\u001b[39m\\\"\u001b[39;00m\u001b[39mar_plot\u001b[39m\u001b[39m\\\"\u001b[39;00m\u001b[39m])\u001b[39m\u001b[39m\\n\u001b[39;00m\u001b[39m\"\u001b[39m,\n\u001b[0;32m    121\u001b[0m     \u001b[39m\"\u001b[39m\u001b[39m    plt.close(ecg_fft[\u001b[39m\u001b[39m\\\"\u001b[39;00m\u001b[39mlomb_plot\u001b[39m\u001b[39m\\\"\u001b[39;00m\u001b[39m])\u001b[39m\u001b[39m\\n\u001b[39;00m\u001b[39m\"\u001b[39m,\n\u001b[0;32m    122\u001b[0m     \u001b[39m\"\u001b[39m\u001b[39m    plt.close(ecg_fft[\u001b[39m\u001b[39m\\\"\u001b[39;00m\u001b[39mfft_plot\u001b[39m\u001b[39m\\\"\u001b[39;00m\u001b[39m])\u001b[39m\u001b[39m\\n\u001b[39;00m\u001b[39m\"\u001b[39m,\n\u001b[0;32m    123\u001b[0m     \u001b[39m\"\u001b[39m\u001b[39m    \u001b[39m\u001b[39m\\n\u001b[39;00m\u001b[39m\"\u001b[39m,\n\u001b[0;32m    124\u001b[0m     \u001b[39m\"\u001b[39m\u001b[39m    features.extend(ecg_fft[\u001b[39m\u001b[39m'\u001b[39m\u001b[39mfft_abs\u001b[39m\u001b[39m'\u001b[39m\u001b[39m])\u001b[39m\u001b[39m\\n\u001b[39;00m\u001b[39m\"\u001b[39m,\n\u001b[0;32m    125\u001b[0m     \u001b[39m\"\u001b[39m\u001b[39m    features.append(ecg_fft[\u001b[39m\u001b[39m'\u001b[39m\u001b[39mfft_total\u001b[39m\u001b[39m'\u001b[39m\u001b[39m])\u001b[39m\u001b[39m\\n\u001b[39;00m\u001b[39m\"\u001b[39m,\n\u001b[0;32m    126\u001b[0m     \u001b[39m\"\u001b[39m\u001b[39m\\n\u001b[39;00m\u001b[39m\"\u001b[39m,\n\u001b[0;32m    127\u001b[0m     \u001b[39m\"\u001b[39m\u001b[39m    features.append(ecg_fft[\u001b[39m\u001b[39m'\u001b[39m\u001b[39mfft_ratio\u001b[39m\u001b[39m'\u001b[39m\u001b[39m])\u001b[39m\u001b[39m\\n\u001b[39;00m\u001b[39m\"\u001b[39m,\n\u001b[0;32m    128\u001b[0m     \u001b[39m\"\u001b[39m\u001b[39m    features.extend(ecg_fft[\u001b[39m\u001b[39m'\u001b[39m\u001b[39mfft_peak\u001b[39m\u001b[39m'\u001b[39m\u001b[39m])\u001b[39m\u001b[39m\\n\u001b[39;00m\u001b[39m\"\u001b[39m,\n\u001b[0;32m    129\u001b[0m     \u001b[39m\"\u001b[39m\u001b[39m    features.extend(ecg_fft[\u001b[39m\u001b[39m'\u001b[39m\u001b[39mfft_norm\u001b[39m\u001b[39m'\u001b[39m\u001b[39m])\u001b[39m\u001b[39m\\n\u001b[39;00m\u001b[39m\"\u001b[39m,\n\u001b[0;32m    130\u001b[0m     \u001b[39m\"\u001b[39m\u001b[39m\\n\u001b[39;00m\u001b[39m\"\u001b[39m,\n\u001b[0;32m    131\u001b[0m     \u001b[39m\"\u001b[39m\u001b[39m    # features.extend([ecg_fft[\u001b[39m\u001b[39m'\u001b[39m\u001b[39mfft_peak\u001b[39m\u001b[39m'\u001b[39m\u001b[39m][0], ecg_fft[\u001b[39m\u001b[39m'\u001b[39m\u001b[39mfft_peak\u001b[39m\u001b[39m'\u001b[39m\u001b[39m][1], ecg_fft[\u001b[39m\u001b[39m'\u001b[39m\u001b[39mfft_peak\u001b[39m\u001b[39m'\u001b[39m\u001b[39m][2], ecg_fft[\u001b[39m\u001b[39m'\u001b[39m\u001b[39mfft_norm\u001b[39m\u001b[39m'\u001b[39m\u001b[39m][0],\u001b[39m\u001b[39m\\n\u001b[39;00m\u001b[39m\"\u001b[39m,\n\u001b[0;32m    132\u001b[0m     \u001b[39m\"\u001b[39m\u001b[39m                    #  ecg_fft[\u001b[39m\u001b[39m'\u001b[39m\u001b[39mfft_norm\u001b[39m\u001b[39m'\u001b[39m\u001b[39m][1], ecg_fft[\u001b[39m\u001b[39m'\u001b[39m\u001b[39mfft_ratio\u001b[39m\u001b[39m'\u001b[39m\u001b[39m], ecg_fft[\u001b[39m\u001b[39m'\u001b[39m\u001b[39mfft_total\u001b[39m\u001b[39m'\u001b[39m\u001b[39m]])\u001b[39m\u001b[39m\\n\u001b[39;00m\u001b[39m\"\u001b[39m,\n\u001b[0;32m    133\u001b[0m     \u001b[39m\"\u001b[39m\u001b[39m    \u001b[39m\u001b[39m\\n\u001b[39;00m\u001b[39m\"\u001b[39m,\n\u001b[0;32m    134\u001b[0m     \u001b[39m\"\u001b[39m\u001b[39m    df.loc[index] = features\u001b[39m\u001b[39m\\n\u001b[39;00m\u001b[39m\"\u001b[39m,\n\u001b[0;32m    135\u001b[0m     \u001b[39m\"\u001b[39m\u001b[39m    return df\u001b[39m\u001b[39m\"\u001b[39m\n\u001b[0;32m    136\u001b[0m    ]\n\u001b[0;32m    137\u001b[0m   },\n\u001b[0;32m    138\u001b[0m   {\n\u001b[0;32m    139\u001b[0m    \u001b[39m\"\u001b[39m\u001b[39mcell_type\u001b[39m\u001b[39m\"\u001b[39m: \u001b[39m\"\u001b[39m\u001b[39mcode\u001b[39m\u001b[39m\"\u001b[39m,\n\u001b[0;32m    140\u001b[0m    \u001b[39m\"\u001b[39m\u001b[39mexecution_count\u001b[39m\u001b[39m\"\u001b[39m: \u001b[39m128\u001b[39m,\n\u001b[0;32m    141\u001b[0m    \u001b[39m\"\u001b[39m\u001b[39mmetadata\u001b[39m\u001b[39m\"\u001b[39m: {},\n\u001b[0;32m    142\u001b[0m    \u001b[39m\"\u001b[39m\u001b[39moutputs\u001b[39m\u001b[39m\"\u001b[39m: [],\n\u001b[0;32m    143\u001b[0m    \u001b[39m\"\u001b[39m\u001b[39msource\u001b[39m\u001b[39m\"\u001b[39m: [\n\u001b[0;32m    144\u001b[0m     \u001b[39m\"\u001b[39m\u001b[39m# get features from a signal and adds it to the dataframe\u001b[39m\u001b[39m\\n\u001b[39;00m\u001b[39m\"\u001b[39m,\n\u001b[0;32m    145\u001b[0m     \u001b[39m\"\u001b[39m\u001b[39mdef get_ecgfeatures(ecg, fs, df, index):\u001b[39m\u001b[39m\\n\u001b[39;00m\u001b[39m\"\u001b[39m,\n\u001b[0;32m    146\u001b[0m     \u001b[39m\"\u001b[39m\u001b[39m    ecg = td.ecg(ecg, interactive= False, show = False, sampling_rate=700)\u001b[39m\u001b[39m\\n\u001b[39;00m\u001b[39m\"\u001b[39m,\n\u001b[0;32m    147\u001b[0m     \u001b[39m\"\u001b[39m\u001b[39m    rpeaks = ecg[\u001b[39m\u001b[39m'\u001b[39m\u001b[39mrpeaks\u001b[39m\u001b[39m'\u001b[39m\u001b[39m]\u001b[39m\u001b[39m\\n\u001b[39;00m\u001b[39m\"\u001b[39m,\n\u001b[0;32m    148\u001b[0m     \u001b[39m\"\u001b[39m\u001b[39m    filtered_ecg = ecg[\u001b[39m\u001b[39m'\u001b[39m\u001b[39mfiltered\u001b[39m\u001b[39m'\u001b[39m\u001b[39m]\u001b[39m\u001b[39m\\n\u001b[39;00m\u001b[39m\"\u001b[39m,\n\u001b[0;32m    149\u001b[0m     \u001b[39m\"\u001b[39m\u001b[39m    # plt.figure(figsize=(12,4))\u001b[39m\u001b[39m\\n\u001b[39;00m\u001b[39m\"\u001b[39m,\n\u001b[0;32m    150\u001b[0m     \u001b[39m\"\u001b[39m\u001b[39m    # plt.plot(filtered_ecg)\u001b[39m\u001b[39m\\n\u001b[39;00m\u001b[39m\"\u001b[39m,\n\u001b[0;32m    151\u001b[0m     \u001b[39m\"\u001b[39m\u001b[39m    # plt.plot(rpeaks,filtered_ecg[rpeaks], \u001b[39m\u001b[39m'\u001b[39m\u001b[39mro\u001b[39m\u001b[39m'\u001b[39m\u001b[39m)\u001b[39m\u001b[39m\\n\u001b[39;00m\u001b[39m\"\u001b[39m,\n\u001b[0;32m    152\u001b[0m     \u001b[39m\"\u001b[39m\u001b[39m    df_features = get_features(rpeaks, fs, df, index)\u001b[39m\u001b[39m\\n\u001b[39;00m\u001b[39m\"\u001b[39m,\n\u001b[0;32m    153\u001b[0m     \u001b[39m\"\u001b[39m\u001b[39m    return df_features\u001b[39m\u001b[39m\"\u001b[39m\n\u001b[0;32m    154\u001b[0m    ]\n\u001b[0;32m    155\u001b[0m   }\n\u001b[0;32m    156\u001b[0m  ],\n\u001b[0;32m    157\u001b[0m  \u001b[39m\"\u001b[39m\u001b[39mmetadata\u001b[39m\u001b[39m\"\u001b[39m: {\n\u001b[0;32m    158\u001b[0m   \u001b[39m\"\u001b[39m\u001b[39mkernelspec\u001b[39m\u001b[39m\"\u001b[39m: {\n\u001b[0;32m    159\u001b[0m    \u001b[39m\"\u001b[39m\u001b[39mdisplay_name\u001b[39m\u001b[39m\"\u001b[39m: \u001b[39m\"\u001b[39m\u001b[39mPython 3\u001b[39m\u001b[39m\"\u001b[39m,\n\u001b[0;32m    160\u001b[0m    \u001b[39m\"\u001b[39m\u001b[39mlanguage\u001b[39m\u001b[39m\"\u001b[39m: \u001b[39m\"\u001b[39m\u001b[39mpython\u001b[39m\u001b[39m\"\u001b[39m,\n\u001b[0;32m    161\u001b[0m    \u001b[39m\"\u001b[39m\u001b[39mname\u001b[39m\u001b[39m\"\u001b[39m: \u001b[39m\"\u001b[39m\u001b[39mpython3\u001b[39m\u001b[39m\"\u001b[39m\n\u001b[0;32m    162\u001b[0m   },\n\u001b[0;32m    163\u001b[0m   \u001b[39m\"\u001b[39m\u001b[39mlanguage_info\u001b[39m\u001b[39m\"\u001b[39m: {\n\u001b[0;32m    164\u001b[0m    \u001b[39m\"\u001b[39m\u001b[39mcodemirror_mode\u001b[39m\u001b[39m\"\u001b[39m: {\n\u001b[0;32m    165\u001b[0m     \u001b[39m\"\u001b[39m\u001b[39mname\u001b[39m\u001b[39m\"\u001b[39m: \u001b[39m\"\u001b[39m\u001b[39mipython\u001b[39m\u001b[39m\"\u001b[39m,\n\u001b[0;32m    166\u001b[0m     \u001b[39m\"\u001b[39m\u001b[39mversion\u001b[39m\u001b[39m\"\u001b[39m: \u001b[39m3\u001b[39m\n\u001b[0;32m    167\u001b[0m    },\n\u001b[0;32m    168\u001b[0m    \u001b[39m\"\u001b[39m\u001b[39mfile_extension\u001b[39m\u001b[39m\"\u001b[39m: \u001b[39m\"\u001b[39m\u001b[39m.py\u001b[39m\u001b[39m\"\u001b[39m,\n\u001b[0;32m    169\u001b[0m    \u001b[39m\"\u001b[39m\u001b[39mmimetype\u001b[39m\u001b[39m\"\u001b[39m: \u001b[39m\"\u001b[39m\u001b[39mtext/x-python\u001b[39m\u001b[39m\"\u001b[39m,\n\u001b[0;32m    170\u001b[0m    \u001b[39m\"\u001b[39m\u001b[39mname\u001b[39m\u001b[39m\"\u001b[39m: \u001b[39m\"\u001b[39m\u001b[39mpython\u001b[39m\u001b[39m\"\u001b[39m,\n\u001b[0;32m    171\u001b[0m    \u001b[39m\"\u001b[39m\u001b[39mnbconvert_exporter\u001b[39m\u001b[39m\"\u001b[39m: \u001b[39m\"\u001b[39m\u001b[39mpython\u001b[39m\u001b[39m\"\u001b[39m,\n\u001b[0;32m    172\u001b[0m    \u001b[39m\"\u001b[39m\u001b[39mpygments_lexer\u001b[39m\u001b[39m\"\u001b[39m: \u001b[39m\"\u001b[39m\u001b[39mipython3\u001b[39m\u001b[39m\"\u001b[39m,\n\u001b[0;32m    173\u001b[0m    \u001b[39m\"\u001b[39m\u001b[39mversion\u001b[39m\u001b[39m\"\u001b[39m: \u001b[39m\"\u001b[39m\u001b[39m3.9.0\u001b[39m\u001b[39m\"\u001b[39m\n\u001b[0;32m    174\u001b[0m   },\n\u001b[0;32m    175\u001b[0m   \u001b[39m\"\u001b[39m\u001b[39morig_nbformat\u001b[39m\u001b[39m\"\u001b[39m: \u001b[39m4\u001b[39m\n\u001b[0;32m    176\u001b[0m  },\n\u001b[0;32m    177\u001b[0m  \u001b[39m\"\u001b[39m\u001b[39mnbformat\u001b[39m\u001b[39m\"\u001b[39m: \u001b[39m4\u001b[39m,\n\u001b[0;32m    178\u001b[0m  \u001b[39m\"\u001b[39m\u001b[39mnbformat_minor\u001b[39m\u001b[39m\"\u001b[39m: \u001b[39m2\u001b[39m\n\u001b[0;32m    179\u001b[0m }\n",
      "File \u001b[1;32mc:\\Users\\JackC\\Documents\\EPO4-C2\\ECG_features.ipynb:89\u001b[0m, in \u001b[0;36mget_features\u001b[1;34m(r_peaks_pan, fs, df, index)\u001b[0m\n\u001b[0;32m      1\u001b[0m {\n\u001b[0;32m      2\u001b[0m  \u001b[39m\"\u001b[39m\u001b[39mcells\u001b[39m\u001b[39m\"\u001b[39m: [\n\u001b[0;32m      3\u001b[0m   {\n\u001b[0;32m      4\u001b[0m    \u001b[39m\"\u001b[39m\u001b[39mcell_type\u001b[39m\u001b[39m\"\u001b[39m: \u001b[39m\"\u001b[39m\u001b[39mcode\u001b[39m\u001b[39m\"\u001b[39m,\n\u001b[0;32m      5\u001b[0m    \u001b[39m\"\u001b[39m\u001b[39mexecution_count\u001b[39m\u001b[39m\"\u001b[39m: \u001b[39m124\u001b[39m,\n\u001b[0;32m      6\u001b[0m    \u001b[39m\"\u001b[39m\u001b[39mmetadata\u001b[39m\u001b[39m\"\u001b[39m: {},\n\u001b[0;32m      7\u001b[0m    \u001b[39m\"\u001b[39m\u001b[39moutputs\u001b[39m\u001b[39m\"\u001b[39m: [],\n\u001b[0;32m      8\u001b[0m    \u001b[39m\"\u001b[39m\u001b[39msource\u001b[39m\u001b[39m\"\u001b[39m: [\n\u001b[0;32m      9\u001b[0m     \u001b[39m\"\u001b[39m\u001b[39mimport os\u001b[39m\u001b[39m\\n\u001b[39;00m\u001b[39m\"\u001b[39m,\n\u001b[0;32m     10\u001b[0m     \u001b[39m\"\u001b[39m\u001b[39mimport numpy as np\u001b[39m\u001b[39m\\n\u001b[39;00m\u001b[39m\"\u001b[39m,\n\u001b[0;32m     11\u001b[0m     \u001b[39m\"\u001b[39m\u001b[39mfrom scipy.signal import butter, iirnotch, lfilter\u001b[39m\u001b[39m\\n\u001b[39;00m\u001b[39m\"\u001b[39m,\n\u001b[0;32m     12\u001b[0m     \u001b[39m\"\u001b[39m\u001b[39mimport numpy as np\u001b[39m\u001b[39m\\n\u001b[39;00m\u001b[39m\"\u001b[39m,\n\u001b[0;32m     13\u001b[0m     \u001b[39m\"\u001b[39m\u001b[39mfrom scipy import signal\u001b[39m\u001b[39m\\n\u001b[39;00m\u001b[39m\"\u001b[39m,\n\u001b[0;32m     14\u001b[0m     \u001b[39m\"\u001b[39m\u001b[39mimport matplotlib.pyplot as plt\u001b[39m\u001b[39m\\n\u001b[39;00m\u001b[39m\"\u001b[39m,\n\u001b[0;32m     15\u001b[0m     \u001b[39m\"\u001b[39m\u001b[39mimport neurokit2 as nk\u001b[39m\u001b[39m\\n\u001b[39;00m\u001b[39m\"\u001b[39m,\n\u001b[0;32m     16\u001b[0m     \u001b[39m\"\u001b[39m\u001b[39mimport pandas as pd\u001b[39m\u001b[39m\\n\u001b[39;00m\u001b[39m\"\u001b[39m,\n\u001b[0;32m     17\u001b[0m     \u001b[39m\"\u001b[39m\u001b[39mfrom ecgdetectors import Detectors\u001b[39m\u001b[39m\\n\u001b[39;00m\u001b[39m\"\u001b[39m,\n\u001b[0;32m     18\u001b[0m     \u001b[39m\"\u001b[39m\u001b[39mimport pyhrv.frequency_domain as fd\u001b[39m\u001b[39m\\n\u001b[39;00m\u001b[39m\"\u001b[39m,\n\u001b[0;32m     19\u001b[0m     \u001b[39m\"\u001b[39m\u001b[39mimport pyhrv.time_domain as td\u001b[39m\u001b[39m\\n\u001b[39;00m\u001b[39m\"\u001b[39m,\n\u001b[0;32m     20\u001b[0m     \u001b[39m\"\u001b[39m\u001b[39mimport pyhrv\u001b[39m\u001b[39m\"\u001b[39m\n\u001b[0;32m     21\u001b[0m    ]\n\u001b[0;32m     22\u001b[0m   },\n\u001b[0;32m     23\u001b[0m   {\n\u001b[0;32m     24\u001b[0m    \u001b[39m\"\u001b[39m\u001b[39mcell_type\u001b[39m\u001b[39m\"\u001b[39m: \u001b[39m\"\u001b[39m\u001b[39mcode\u001b[39m\u001b[39m\"\u001b[39m,\n\u001b[0;32m     25\u001b[0m    \u001b[39m\"\u001b[39m\u001b[39mexecution_count\u001b[39m\u001b[39m\"\u001b[39m: \u001b[39m125\u001b[39m,\n\u001b[0;32m     26\u001b[0m    \u001b[39m\"\u001b[39m\u001b[39mmetadata\u001b[39m\u001b[39m\"\u001b[39m: {},\n\u001b[0;32m     27\u001b[0m    \u001b[39m\"\u001b[39m\u001b[39moutputs\u001b[39m\u001b[39m\"\u001b[39m: [],\n\u001b[0;32m     28\u001b[0m    \u001b[39m\"\u001b[39m\u001b[39msource\u001b[39m\u001b[39m\"\u001b[39m: [\n\u001b[0;32m     29\u001b[0m     \u001b[39m\"\u001b[39m\u001b[39m# filtering\u001b[39m\u001b[39m\\n\u001b[39;00m\u001b[39m\"\u001b[39m,\n\u001b[0;32m     30\u001b[0m     \u001b[39m\"\u001b[39m\u001b[39mdef filter_ecgsignal(ecg, fs):\u001b[39m\u001b[39m\\n\u001b[39;00m\u001b[39m\"\u001b[39m,\n\u001b[0;32m     31\u001b[0m     \u001b[39m\"\u001b[39m\u001b[39m    ecg_td = td.ecg(ecg, interactive= False, show = False, sampling_rate=fs)\u001b[39m\u001b[39m\\n\u001b[39;00m\u001b[39m\"\u001b[39m,\n\u001b[0;32m     32\u001b[0m     \u001b[39m\"\u001b[39m\u001b[39m    filtered_ecg = ecg_td[\u001b[39m\u001b[39m'\u001b[39m\u001b[39mfiltered\u001b[39m\u001b[39m'\u001b[39m\u001b[39m]\u001b[39m\u001b[39m\\n\u001b[39;00m\u001b[39m\"\u001b[39m,\n\u001b[0;32m     33\u001b[0m     \u001b[39m\"\u001b[39m\u001b[39m\\n\u001b[39;00m\u001b[39m\"\u001b[39m,\n\u001b[0;32m     34\u001b[0m     \u001b[39m\"\u001b[39m\u001b[39m    # t=np.arange(0,ecg.size*(1/fs),(1/fs))\u001b[39m\u001b[39m\\n\u001b[39;00m\u001b[39m\"\u001b[39m,\n\u001b[0;32m     35\u001b[0m     \u001b[39m\"\u001b[39m\u001b[39m    # t=t[:ecg.size]\u001b[39m\u001b[39m\\n\u001b[39;00m\u001b[39m\"\u001b[39m,\n\u001b[0;32m     36\u001b[0m     \u001b[39m\"\u001b[39m\u001b[39m\\n\u001b[39;00m\u001b[39m\"\u001b[39m,\n\u001b[0;32m     37\u001b[0m     \u001b[39m\"\u001b[39m\u001b[39m    # plt.figure(figsize=(12,4))\u001b[39m\u001b[39m\\n\u001b[39;00m\u001b[39m\"\u001b[39m,\n\u001b[0;32m     38\u001b[0m     \u001b[39m\"\u001b[39m\u001b[39m    # plt.plot(t,ecg,label=\u001b[39m\u001b[39m\\\"\u001b[39;00m\u001b[39mraw ECG\u001b[39m\u001b[39m\\\"\u001b[39;00m\u001b[39m)\u001b[39m\u001b[39m\\n\u001b[39;00m\u001b[39m\"\u001b[39m,\n\u001b[0;32m     39\u001b[0m     \u001b[39m\"\u001b[39m\u001b[39m    # plt.plot(t,filtered_ecg, label=\u001b[39m\u001b[39m\\\"\u001b[39;00m\u001b[39mfiltered ECG\u001b[39m\u001b[39m\\\"\u001b[39;00m\u001b[39m)\u001b[39m\u001b[39m\\n\u001b[39;00m\u001b[39m\"\u001b[39m,\n\u001b[0;32m     40\u001b[0m     \u001b[39m\"\u001b[39m\u001b[39m    # plt.xlabel(\u001b[39m\u001b[39m'\u001b[39m\u001b[39m$Time (s)$\u001b[39m\u001b[39m'\u001b[39m\u001b[39m) \u001b[39m\u001b[39m\\n\u001b[39;00m\u001b[39m\"\u001b[39m,\n\u001b[0;32m     41\u001b[0m     \u001b[39m\"\u001b[39m\u001b[39m    # plt.ylabel(\u001b[39m\u001b[39m'\u001b[39m\u001b[39m$ECG$\u001b[39m\u001b[39m'\u001b[39m\u001b[39m) \u001b[39m\u001b[39m\\n\u001b[39;00m\u001b[39m\"\u001b[39m,\n\u001b[0;32m     42\u001b[0m     \u001b[39m\"\u001b[39m\u001b[39m    # plt.legend(loc=\u001b[39m\u001b[39m'\u001b[39m\u001b[39mupper left\u001b[39m\u001b[39m'\u001b[39m\u001b[39m)\u001b[39m\u001b[39m\\n\u001b[39;00m\u001b[39m\"\u001b[39m,\n\u001b[0;32m     43\u001b[0m     \u001b[39m\"\u001b[39m\u001b[39m\\n\u001b[39;00m\u001b[39m\"\u001b[39m,\n\u001b[0;32m     44\u001b[0m     \u001b[39m\"\u001b[39m\u001b[39m    return filtered_ecg\u001b[39m\u001b[39m\"\u001b[39m\n\u001b[0;32m     45\u001b[0m    ]\n\u001b[0;32m     46\u001b[0m   },\n\u001b[0;32m     47\u001b[0m   {\n\u001b[0;32m     48\u001b[0m    \u001b[39m\"\u001b[39m\u001b[39mcell_type\u001b[39m\u001b[39m\"\u001b[39m: \u001b[39m\"\u001b[39m\u001b[39mcode\u001b[39m\u001b[39m\"\u001b[39m,\n\u001b[0;32m     49\u001b[0m    \u001b[39m\"\u001b[39m\u001b[39mexecution_count\u001b[39m\u001b[39m\"\u001b[39m: \u001b[39m126\u001b[39m,\n\u001b[0;32m     50\u001b[0m    \u001b[39m\"\u001b[39m\u001b[39mmetadata\u001b[39m\u001b[39m\"\u001b[39m: {},\n\u001b[0;32m     51\u001b[0m    \u001b[39m\"\u001b[39m\u001b[39moutputs\u001b[39m\u001b[39m\"\u001b[39m: [],\n\u001b[0;32m     52\u001b[0m    \u001b[39m\"\u001b[39m\u001b[39msource\u001b[39m\u001b[39m\"\u001b[39m: [\n\u001b[0;32m     53\u001b[0m     \u001b[39m\"\u001b[39m\u001b[39m# detect R-peaks\u001b[39m\u001b[39m\\n\u001b[39;00m\u001b[39m\"\u001b[39m,\n\u001b[0;32m     54\u001b[0m     \u001b[39m\"\u001b[39m\u001b[39mdef detect_rpeaks(fs, ecg):\u001b[39m\u001b[39m\\n\u001b[39;00m\u001b[39m\"\u001b[39m,\n\u001b[0;32m     55\u001b[0m     \u001b[39m\"\u001b[39m\u001b[39m    ecg_td = td.ecg(ecg, interactive= False, show = False, sampling_rate=fs)\u001b[39m\u001b[39m\\n\u001b[39;00m\u001b[39m\"\u001b[39m,\n\u001b[0;32m     56\u001b[0m     \u001b[39m\"\u001b[39m\u001b[39m    rpeaks = ecg_td[\u001b[39m\u001b[39m'\u001b[39m\u001b[39mrpeaks\u001b[39m\u001b[39m'\u001b[39m\u001b[39m]\u001b[39m\u001b[39m\\n\u001b[39;00m\u001b[39m\"\u001b[39m,\n\u001b[0;32m     57\u001b[0m     \u001b[39m\"\u001b[39m\u001b[39m\\n\u001b[39;00m\u001b[39m\"\u001b[39m,\n\u001b[0;32m     58\u001b[0m     \u001b[39m\"\u001b[39m\u001b[39m    # plt.figure(figsize=(12,4))\u001b[39m\u001b[39m\\n\u001b[39;00m\u001b[39m\"\u001b[39m,\n\u001b[0;32m     59\u001b[0m     \u001b[39m\"\u001b[39m\u001b[39m    # plt.plot(filtered_ecg,label=\u001b[39m\u001b[39m\\\"\u001b[39;00m\u001b[39mECG\u001b[39m\u001b[39m\\\"\u001b[39;00m\u001b[39m)\u001b[39m\u001b[39m\\n\u001b[39;00m\u001b[39m\"\u001b[39m,\n\u001b[0;32m     60\u001b[0m     \u001b[39m\"\u001b[39m\u001b[39m    # plt.plot(rpeaks,filtered_ecg[rpeaks], \u001b[39m\u001b[39m'\u001b[39m\u001b[39mro\u001b[39m\u001b[39m'\u001b[39m\u001b[39m, label=\u001b[39m\u001b[39m\\\"\u001b[39;00m\u001b[39mR-peaks\u001b[39m\u001b[39m\\\"\u001b[39;00m\u001b[39m)\u001b[39m\u001b[39m\\n\u001b[39;00m\u001b[39m\"\u001b[39m,\n\u001b[0;32m     61\u001b[0m     \u001b[39m\"\u001b[39m\u001b[39m    # plt.xlabel(\u001b[39m\u001b[39m'\u001b[39m\u001b[39m$Samples$\u001b[39m\u001b[39m'\u001b[39m\u001b[39m) \u001b[39m\u001b[39m\\n\u001b[39;00m\u001b[39m\"\u001b[39m,\n\u001b[0;32m     62\u001b[0m     \u001b[39m\"\u001b[39m\u001b[39m    # plt.ylabel(\u001b[39m\u001b[39m'\u001b[39m\u001b[39m$ECG$\u001b[39m\u001b[39m'\u001b[39m\u001b[39m) \u001b[39m\u001b[39m\\n\u001b[39;00m\u001b[39m\"\u001b[39m,\n\u001b[0;32m     63\u001b[0m     \u001b[39m\"\u001b[39m\u001b[39m    # plt.legend(loc=\u001b[39m\u001b[39m'\u001b[39m\u001b[39mupper left\u001b[39m\u001b[39m'\u001b[39m\u001b[39m)\u001b[39m\u001b[39m\\n\u001b[39;00m\u001b[39m\"\u001b[39m,\n\u001b[0;32m     64\u001b[0m     \u001b[39m\"\u001b[39m\u001b[39m    return rpeaks\u001b[39m\u001b[39m\"\u001b[39m\n\u001b[0;32m     65\u001b[0m    ]\n\u001b[0;32m     66\u001b[0m   },\n\u001b[0;32m     67\u001b[0m   {\n\u001b[0;32m     68\u001b[0m    \u001b[39m\"\u001b[39m\u001b[39mattachments\u001b[39m\u001b[39m\"\u001b[39m: {},\n\u001b[0;32m     69\u001b[0m    \u001b[39m\"\u001b[39m\u001b[39mcell_type\u001b[39m\u001b[39m\"\u001b[39m: \u001b[39m\"\u001b[39m\u001b[39mmarkdown\u001b[39m\u001b[39m\"\u001b[39m,\n\u001b[0;32m     70\u001b[0m    \u001b[39m\"\u001b[39m\u001b[39mmetadata\u001b[39m\u001b[39m\"\u001b[39m: {},\n\u001b[0;32m     71\u001b[0m    \u001b[39m\"\u001b[39m\u001b[39msource\u001b[39m\u001b[39m\"\u001b[39m: [\n\u001b[0;32m     72\u001b[0m     \u001b[39m\"\u001b[39m\u001b[39m# **Feature extraction**\u001b[39m\u001b[39m\"\u001b[39m\n\u001b[0;32m     73\u001b[0m    ]\n\u001b[0;32m     74\u001b[0m   },\n\u001b[0;32m     75\u001b[0m   {\n\u001b[0;32m     76\u001b[0m    \u001b[39m\"\u001b[39m\u001b[39mcell_type\u001b[39m\u001b[39m\"\u001b[39m: \u001b[39m\"\u001b[39m\u001b[39mcode\u001b[39m\u001b[39m\"\u001b[39m,\n\u001b[0;32m     77\u001b[0m    \u001b[39m\"\u001b[39m\u001b[39mexecution_count\u001b[39m\u001b[39m\"\u001b[39m: \u001b[39m1\u001b[39m,\n\u001b[0;32m     78\u001b[0m    \u001b[39m\"\u001b[39m\u001b[39mmetadata\u001b[39m\u001b[39m\"\u001b[39m: {},\n\u001b[0;32m     79\u001b[0m    \u001b[39m\"\u001b[39m\u001b[39moutputs\u001b[39m\u001b[39m\"\u001b[39m: [],\n\u001b[0;32m     80\u001b[0m    \u001b[39m\"\u001b[39m\u001b[39msource\u001b[39m\u001b[39m\"\u001b[39m: [\n\u001b[0;32m     81\u001b[0m     \u001b[39m\"\u001b[39m\u001b[39mfrom hrv import HRV   # to import the module\u001b[39m\u001b[39m\\n\u001b[39;00m\u001b[39m\"\u001b[39m,\n\u001b[0;32m     82\u001b[0m     \u001b[39m\"\u001b[39m\u001b[39m\\n\u001b[39;00m\u001b[39m\"\u001b[39m,\n\u001b[0;32m     83\u001b[0m     \u001b[39m\"\u001b[39m\u001b[39m# Feature extraction\u001b[39m\u001b[39m\\n\u001b[39;00m\u001b[39m\"\u001b[39m,\n\u001b[0;32m     84\u001b[0m     \u001b[39m\"\u001b[39m\u001b[39mdef get_features(r_peaks_pan, fs, df, index):\u001b[39m\u001b[39m\\n\u001b[39;00m\u001b[39m\"\u001b[39m,\n\u001b[0;32m     85\u001b[0m     \u001b[39m\"\u001b[39m\u001b[39m    features = []\u001b[39m\u001b[39m\\n\u001b[39;00m\u001b[39m\"\u001b[39m,\n\u001b[0;32m     86\u001b[0m     \u001b[39m\"\u001b[39m\u001b[39m\\n\u001b[39;00m\u001b[39m\"\u001b[39m,\n\u001b[0;32m     87\u001b[0m     \u001b[39m\"\u001b[39m\u001b[39m    # Time Domain Features\u001b[39m\u001b[39m\\n\u001b[39;00m\u001b[39m\"\u001b[39m,\n\u001b[0;32m     88\u001b[0m     \u001b[39m\"\u001b[39m\u001b[39m    hrv_class = HRV(fs)\u001b[39m\u001b[39m\\n\u001b[39;00m\u001b[39m\"\u001b[39m,\n\u001b[1;32m---> 89\u001b[0m     \u001b[39m\"\u001b[39m\u001b[39m    \u001b[39m\u001b[39m\\n\u001b[39;00m\u001b[39m\"\u001b[39m,\n\u001b[0;32m     90\u001b[0m     \u001b[39m\"\u001b[39m\u001b[39m    #Heart-rate feature extraction in BPM(HR)\u001b[39m\u001b[39m\\n\u001b[39;00m\u001b[39m\"\u001b[39m,\n\u001b[0;32m     91\u001b[0m     \u001b[39m\"\u001b[39m\u001b[39m\\n\u001b[39;00m\u001b[39m\"\u001b[39m,\n\u001b[0;32m     92\u001b[0m     \u001b[39m\"\u001b[39m\u001b[39m    HR = hrv_class.HR(r_peaks_pan)\u001b[39m\u001b[39m\\n\u001b[39;00m\u001b[39m\"\u001b[39m,\n\u001b[0;32m     93\u001b[0m     \u001b[39m\"\u001b[39m\u001b[39m    features.append(np.mean(HR))\u001b[39m\u001b[39m\\n\u001b[39;00m\u001b[39m\"\u001b[39m,\n\u001b[0;32m     94\u001b[0m     \u001b[39m\"\u001b[39m\u001b[39m    features.append(np.min(HR))\u001b[39m\u001b[39m\\n\u001b[39;00m\u001b[39m\"\u001b[39m,\n\u001b[0;32m     95\u001b[0m     \u001b[39m\"\u001b[39m\u001b[39m    features.append(np.max(HR))\u001b[39m\u001b[39m\\n\u001b[39;00m\u001b[39m\"\u001b[39m,\n\u001b[0;32m     96\u001b[0m     \u001b[39m\"\u001b[39m\u001b[39m    features.append(np.std(HR))\u001b[39m\u001b[39m\\n\u001b[39;00m\u001b[39m\"\u001b[39m,\n\u001b[0;32m     97\u001b[0m     \u001b[39m\"\u001b[39m\u001b[39m\\n\u001b[39;00m\u001b[39m\"\u001b[39m,\n\u001b[0;32m     98\u001b[0m     \u001b[39m\"\u001b[39m\u001b[39m    #Standard deviation of NN intervals(SDNN)\u001b[39m\u001b[39m\\n\u001b[39;00m\u001b[39m\"\u001b[39m,\n\u001b[0;32m     99\u001b[0m     \u001b[39m\"\u001b[39m\u001b[39m    features.append(hrv_class.SDNN(r_peaks_pan, normalise=True))\u001b[39m\u001b[39m\\n\u001b[39;00m\u001b[39m\"\u001b[39m,\n\u001b[0;32m    100\u001b[0m     \u001b[39m\"\u001b[39m\u001b[39m\\n\u001b[39;00m\u001b[39m\"\u001b[39m,\n\u001b[0;32m    101\u001b[0m     \u001b[39m\"\u001b[39m\u001b[39m    #Standard deviation of the average of NN intervals(SDNN)\u001b[39m\u001b[39m\\n\u001b[39;00m\u001b[39m\"\u001b[39m,\n\u001b[0;32m    102\u001b[0m     \u001b[39m\"\u001b[39m\u001b[39m    features.append(hrv_class.SDANN(r_peaks_pan, normalise=True))\u001b[39m\u001b[39m\\n\u001b[39;00m\u001b[39m\"\u001b[39m,\n\u001b[0;32m    103\u001b[0m     \u001b[39m\"\u001b[39m\u001b[39m\\n\u001b[39;00m\u001b[39m\"\u001b[39m,\n\u001b[0;32m    104\u001b[0m     \u001b[39m\"\u001b[39m\u001b[39m    #Root mean square of succesive differences(RMSSD)\u001b[39m\u001b[39m\\n\u001b[39;00m\u001b[39m\"\u001b[39m,\n\u001b[0;32m    105\u001b[0m     \u001b[39m\"\u001b[39m\u001b[39m    features.append(hrv_class.RMSSD(r_peaks_pan, normalise= True))\u001b[39m\u001b[39m\\n\u001b[39;00m\u001b[39m\"\u001b[39m,\n\u001b[0;32m    106\u001b[0m     \u001b[39m\"\u001b[39m\u001b[39m\\n\u001b[39;00m\u001b[39m\"\u001b[39m,\n\u001b[0;32m    107\u001b[0m     \u001b[39m\"\u001b[39m\u001b[39m    # Standard deviation of succesive differences(SDSD)\u001b[39m\u001b[39m\\n\u001b[39;00m\u001b[39m\"\u001b[39m,\n\u001b[0;32m    108\u001b[0m     \u001b[39m\"\u001b[39m\u001b[39m    features.append(hrv_class.SDSD(r_peaks_pan))\u001b[39m\u001b[39m\\n\u001b[39;00m\u001b[39m\"\u001b[39m,\n\u001b[0;32m    109\u001b[0m     \u001b[39m\"\u001b[39m\u001b[39m\\n\u001b[39;00m\u001b[39m\"\u001b[39m,\n\u001b[0;32m    110\u001b[0m     \u001b[39m\"\u001b[39m\u001b[39m    #The proportion of NN50 divided by total number of NNs(pNN50)\u001b[39m\u001b[39m\\n\u001b[39;00m\u001b[39m\"\u001b[39m,\n\u001b[0;32m    111\u001b[0m     \u001b[39m\"\u001b[39m\u001b[39m    features.append(hrv_class.pNN50(r_peaks_pan))\u001b[39m\u001b[39m\\n\u001b[39;00m\u001b[39m\"\u001b[39m,\n\u001b[0;32m    112\u001b[0m     \u001b[39m\"\u001b[39m\u001b[39m\\n\u001b[39;00m\u001b[39m\"\u001b[39m,\n\u001b[0;32m    113\u001b[0m     \u001b[39m\"\u001b[39m\u001b[39m    #The proportion of NN20 divided by total number of NNs(pNN20)\u001b[39m\u001b[39m\\n\u001b[39;00m\u001b[39m\"\u001b[39m,\n\u001b[0;32m    114\u001b[0m     \u001b[39m\"\u001b[39m\u001b[39m    features.append(hrv_class.pNN20(r_peaks_pan))\u001b[39m\u001b[39m\\n\u001b[39;00m\u001b[39m\"\u001b[39m,\n\u001b[0;32m    115\u001b[0m     \u001b[39m\"\u001b[39m\u001b[39m\\n\u001b[39;00m\u001b[39m\"\u001b[39m,\n\u001b[0;32m    116\u001b[0m     \u001b[39m\"\u001b[39m\u001b[39m    # Frequency domain features\u001b[39m\u001b[39m\\n\u001b[39;00m\u001b[39m\"\u001b[39m,\n\u001b[0;32m    117\u001b[0m     \u001b[39m\"\u001b[39m\u001b[39m    # get the frequency domain features of the ECG\u001b[39m\u001b[39m\\n\u001b[39;00m\u001b[39m\"\u001b[39m,\n\u001b[0;32m    118\u001b[0m     \u001b[39m\"\u001b[39m\u001b[39m    ecg_fft = fd.frequency_domain(rpeaks = r_peaks_pan, show = False)\u001b[39m\u001b[39m\\n\u001b[39;00m\u001b[39m\"\u001b[39m,\n\u001b[0;32m    119\u001b[0m     \u001b[39m\"\u001b[39m\u001b[39m\\n\u001b[39;00m\u001b[39m\"\u001b[39m,\n\u001b[0;32m    120\u001b[0m     \u001b[39m\"\u001b[39m\u001b[39m    plt.close(ecg_fft[\u001b[39m\u001b[39m\\\"\u001b[39;00m\u001b[39mar_plot\u001b[39m\u001b[39m\\\"\u001b[39;00m\u001b[39m])\u001b[39m\u001b[39m\\n\u001b[39;00m\u001b[39m\"\u001b[39m,\n\u001b[0;32m    121\u001b[0m     \u001b[39m\"\u001b[39m\u001b[39m    plt.close(ecg_fft[\u001b[39m\u001b[39m\\\"\u001b[39;00m\u001b[39mlomb_plot\u001b[39m\u001b[39m\\\"\u001b[39;00m\u001b[39m])\u001b[39m\u001b[39m\\n\u001b[39;00m\u001b[39m\"\u001b[39m,\n\u001b[0;32m    122\u001b[0m     \u001b[39m\"\u001b[39m\u001b[39m    plt.close(ecg_fft[\u001b[39m\u001b[39m\\\"\u001b[39;00m\u001b[39mfft_plot\u001b[39m\u001b[39m\\\"\u001b[39;00m\u001b[39m])\u001b[39m\u001b[39m\\n\u001b[39;00m\u001b[39m\"\u001b[39m,\n\u001b[0;32m    123\u001b[0m     \u001b[39m\"\u001b[39m\u001b[39m    \u001b[39m\u001b[39m\\n\u001b[39;00m\u001b[39m\"\u001b[39m,\n\u001b[0;32m    124\u001b[0m     \u001b[39m\"\u001b[39m\u001b[39m    features.extend(ecg_fft[\u001b[39m\u001b[39m'\u001b[39m\u001b[39mfft_abs\u001b[39m\u001b[39m'\u001b[39m\u001b[39m])\u001b[39m\u001b[39m\\n\u001b[39;00m\u001b[39m\"\u001b[39m,\n\u001b[0;32m    125\u001b[0m     \u001b[39m\"\u001b[39m\u001b[39m    features.append(ecg_fft[\u001b[39m\u001b[39m'\u001b[39m\u001b[39mfft_total\u001b[39m\u001b[39m'\u001b[39m\u001b[39m])\u001b[39m\u001b[39m\\n\u001b[39;00m\u001b[39m\"\u001b[39m,\n\u001b[0;32m    126\u001b[0m     \u001b[39m\"\u001b[39m\u001b[39m\\n\u001b[39;00m\u001b[39m\"\u001b[39m,\n\u001b[0;32m    127\u001b[0m     \u001b[39m\"\u001b[39m\u001b[39m    features.append(ecg_fft[\u001b[39m\u001b[39m'\u001b[39m\u001b[39mfft_ratio\u001b[39m\u001b[39m'\u001b[39m\u001b[39m])\u001b[39m\u001b[39m\\n\u001b[39;00m\u001b[39m\"\u001b[39m,\n\u001b[0;32m    128\u001b[0m     \u001b[39m\"\u001b[39m\u001b[39m    features.extend(ecg_fft[\u001b[39m\u001b[39m'\u001b[39m\u001b[39mfft_peak\u001b[39m\u001b[39m'\u001b[39m\u001b[39m])\u001b[39m\u001b[39m\\n\u001b[39;00m\u001b[39m\"\u001b[39m,\n\u001b[0;32m    129\u001b[0m     \u001b[39m\"\u001b[39m\u001b[39m    features.extend(ecg_fft[\u001b[39m\u001b[39m'\u001b[39m\u001b[39mfft_norm\u001b[39m\u001b[39m'\u001b[39m\u001b[39m])\u001b[39m\u001b[39m\\n\u001b[39;00m\u001b[39m\"\u001b[39m,\n\u001b[0;32m    130\u001b[0m     \u001b[39m\"\u001b[39m\u001b[39m\\n\u001b[39;00m\u001b[39m\"\u001b[39m,\n\u001b[0;32m    131\u001b[0m     \u001b[39m\"\u001b[39m\u001b[39m    # features.extend([ecg_fft[\u001b[39m\u001b[39m'\u001b[39m\u001b[39mfft_peak\u001b[39m\u001b[39m'\u001b[39m\u001b[39m][0], ecg_fft[\u001b[39m\u001b[39m'\u001b[39m\u001b[39mfft_peak\u001b[39m\u001b[39m'\u001b[39m\u001b[39m][1], ecg_fft[\u001b[39m\u001b[39m'\u001b[39m\u001b[39mfft_peak\u001b[39m\u001b[39m'\u001b[39m\u001b[39m][2], ecg_fft[\u001b[39m\u001b[39m'\u001b[39m\u001b[39mfft_norm\u001b[39m\u001b[39m'\u001b[39m\u001b[39m][0],\u001b[39m\u001b[39m\\n\u001b[39;00m\u001b[39m\"\u001b[39m,\n\u001b[0;32m    132\u001b[0m     \u001b[39m\"\u001b[39m\u001b[39m                    #  ecg_fft[\u001b[39m\u001b[39m'\u001b[39m\u001b[39mfft_norm\u001b[39m\u001b[39m'\u001b[39m\u001b[39m][1], ecg_fft[\u001b[39m\u001b[39m'\u001b[39m\u001b[39mfft_ratio\u001b[39m\u001b[39m'\u001b[39m\u001b[39m], ecg_fft[\u001b[39m\u001b[39m'\u001b[39m\u001b[39mfft_total\u001b[39m\u001b[39m'\u001b[39m\u001b[39m]])\u001b[39m\u001b[39m\\n\u001b[39;00m\u001b[39m\"\u001b[39m,\n\u001b[0;32m    133\u001b[0m     \u001b[39m\"\u001b[39m\u001b[39m    \u001b[39m\u001b[39m\\n\u001b[39;00m\u001b[39m\"\u001b[39m,\n\u001b[0;32m    134\u001b[0m     \u001b[39m\"\u001b[39m\u001b[39m    df.loc[index] = features\u001b[39m\u001b[39m\\n\u001b[39;00m\u001b[39m\"\u001b[39m,\n\u001b[0;32m    135\u001b[0m     \u001b[39m\"\u001b[39m\u001b[39m    return df\u001b[39m\u001b[39m\"\u001b[39m\n\u001b[0;32m    136\u001b[0m    ]\n\u001b[0;32m    137\u001b[0m   },\n\u001b[0;32m    138\u001b[0m   {\n\u001b[0;32m    139\u001b[0m    \u001b[39m\"\u001b[39m\u001b[39mcell_type\u001b[39m\u001b[39m\"\u001b[39m: \u001b[39m\"\u001b[39m\u001b[39mcode\u001b[39m\u001b[39m\"\u001b[39m,\n\u001b[0;32m    140\u001b[0m    \u001b[39m\"\u001b[39m\u001b[39mexecution_count\u001b[39m\u001b[39m\"\u001b[39m: \u001b[39m128\u001b[39m,\n\u001b[0;32m    141\u001b[0m    \u001b[39m\"\u001b[39m\u001b[39mmetadata\u001b[39m\u001b[39m\"\u001b[39m: {},\n\u001b[0;32m    142\u001b[0m    \u001b[39m\"\u001b[39m\u001b[39moutputs\u001b[39m\u001b[39m\"\u001b[39m: [],\n\u001b[0;32m    143\u001b[0m    \u001b[39m\"\u001b[39m\u001b[39msource\u001b[39m\u001b[39m\"\u001b[39m: [\n\u001b[0;32m    144\u001b[0m     \u001b[39m\"\u001b[39m\u001b[39m# get features from a signal and adds it to the dataframe\u001b[39m\u001b[39m\\n\u001b[39;00m\u001b[39m\"\u001b[39m,\n\u001b[0;32m    145\u001b[0m     \u001b[39m\"\u001b[39m\u001b[39mdef get_ecgfeatures(ecg, fs, df, index):\u001b[39m\u001b[39m\\n\u001b[39;00m\u001b[39m\"\u001b[39m,\n\u001b[0;32m    146\u001b[0m     \u001b[39m\"\u001b[39m\u001b[39m    ecg = td.ecg(ecg, interactive= False, show = False, sampling_rate=700)\u001b[39m\u001b[39m\\n\u001b[39;00m\u001b[39m\"\u001b[39m,\n\u001b[0;32m    147\u001b[0m     \u001b[39m\"\u001b[39m\u001b[39m    rpeaks = ecg[\u001b[39m\u001b[39m'\u001b[39m\u001b[39mrpeaks\u001b[39m\u001b[39m'\u001b[39m\u001b[39m]\u001b[39m\u001b[39m\\n\u001b[39;00m\u001b[39m\"\u001b[39m,\n\u001b[0;32m    148\u001b[0m     \u001b[39m\"\u001b[39m\u001b[39m    filtered_ecg = ecg[\u001b[39m\u001b[39m'\u001b[39m\u001b[39mfiltered\u001b[39m\u001b[39m'\u001b[39m\u001b[39m]\u001b[39m\u001b[39m\\n\u001b[39;00m\u001b[39m\"\u001b[39m,\n\u001b[0;32m    149\u001b[0m     \u001b[39m\"\u001b[39m\u001b[39m    # plt.figure(figsize=(12,4))\u001b[39m\u001b[39m\\n\u001b[39;00m\u001b[39m\"\u001b[39m,\n\u001b[0;32m    150\u001b[0m     \u001b[39m\"\u001b[39m\u001b[39m    # plt.plot(filtered_ecg)\u001b[39m\u001b[39m\\n\u001b[39;00m\u001b[39m\"\u001b[39m,\n\u001b[0;32m    151\u001b[0m     \u001b[39m\"\u001b[39m\u001b[39m    # plt.plot(rpeaks,filtered_ecg[rpeaks], \u001b[39m\u001b[39m'\u001b[39m\u001b[39mro\u001b[39m\u001b[39m'\u001b[39m\u001b[39m)\u001b[39m\u001b[39m\\n\u001b[39;00m\u001b[39m\"\u001b[39m,\n\u001b[0;32m    152\u001b[0m     \u001b[39m\"\u001b[39m\u001b[39m    df_features = get_features(rpeaks, fs, df, index)\u001b[39m\u001b[39m\\n\u001b[39;00m\u001b[39m\"\u001b[39m,\n\u001b[0;32m    153\u001b[0m     \u001b[39m\"\u001b[39m\u001b[39m    return df_features\u001b[39m\u001b[39m\"\u001b[39m\n\u001b[0;32m    154\u001b[0m    ]\n\u001b[0;32m    155\u001b[0m   }\n\u001b[0;32m    156\u001b[0m  ],\n\u001b[0;32m    157\u001b[0m  \u001b[39m\"\u001b[39m\u001b[39mmetadata\u001b[39m\u001b[39m\"\u001b[39m: {\n\u001b[0;32m    158\u001b[0m   \u001b[39m\"\u001b[39m\u001b[39mkernelspec\u001b[39m\u001b[39m\"\u001b[39m: {\n\u001b[0;32m    159\u001b[0m    \u001b[39m\"\u001b[39m\u001b[39mdisplay_name\u001b[39m\u001b[39m\"\u001b[39m: \u001b[39m\"\u001b[39m\u001b[39mPython 3\u001b[39m\u001b[39m\"\u001b[39m,\n\u001b[0;32m    160\u001b[0m    \u001b[39m\"\u001b[39m\u001b[39mlanguage\u001b[39m\u001b[39m\"\u001b[39m: \u001b[39m\"\u001b[39m\u001b[39mpython\u001b[39m\u001b[39m\"\u001b[39m,\n\u001b[0;32m    161\u001b[0m    \u001b[39m\"\u001b[39m\u001b[39mname\u001b[39m\u001b[39m\"\u001b[39m: \u001b[39m\"\u001b[39m\u001b[39mpython3\u001b[39m\u001b[39m\"\u001b[39m\n\u001b[0;32m    162\u001b[0m   },\n\u001b[0;32m    163\u001b[0m   \u001b[39m\"\u001b[39m\u001b[39mlanguage_info\u001b[39m\u001b[39m\"\u001b[39m: {\n\u001b[0;32m    164\u001b[0m    \u001b[39m\"\u001b[39m\u001b[39mcodemirror_mode\u001b[39m\u001b[39m\"\u001b[39m: {\n\u001b[0;32m    165\u001b[0m     \u001b[39m\"\u001b[39m\u001b[39mname\u001b[39m\u001b[39m\"\u001b[39m: \u001b[39m\"\u001b[39m\u001b[39mipython\u001b[39m\u001b[39m\"\u001b[39m,\n\u001b[0;32m    166\u001b[0m     \u001b[39m\"\u001b[39m\u001b[39mversion\u001b[39m\u001b[39m\"\u001b[39m: \u001b[39m3\u001b[39m\n\u001b[0;32m    167\u001b[0m    },\n\u001b[0;32m    168\u001b[0m    \u001b[39m\"\u001b[39m\u001b[39mfile_extension\u001b[39m\u001b[39m\"\u001b[39m: \u001b[39m\"\u001b[39m\u001b[39m.py\u001b[39m\u001b[39m\"\u001b[39m,\n\u001b[0;32m    169\u001b[0m    \u001b[39m\"\u001b[39m\u001b[39mmimetype\u001b[39m\u001b[39m\"\u001b[39m: \u001b[39m\"\u001b[39m\u001b[39mtext/x-python\u001b[39m\u001b[39m\"\u001b[39m,\n\u001b[0;32m    170\u001b[0m    \u001b[39m\"\u001b[39m\u001b[39mname\u001b[39m\u001b[39m\"\u001b[39m: \u001b[39m\"\u001b[39m\u001b[39mpython\u001b[39m\u001b[39m\"\u001b[39m,\n\u001b[0;32m    171\u001b[0m    \u001b[39m\"\u001b[39m\u001b[39mnbconvert_exporter\u001b[39m\u001b[39m\"\u001b[39m: \u001b[39m\"\u001b[39m\u001b[39mpython\u001b[39m\u001b[39m\"\u001b[39m,\n\u001b[0;32m    172\u001b[0m    \u001b[39m\"\u001b[39m\u001b[39mpygments_lexer\u001b[39m\u001b[39m\"\u001b[39m: \u001b[39m\"\u001b[39m\u001b[39mipython3\u001b[39m\u001b[39m\"\u001b[39m,\n\u001b[0;32m    173\u001b[0m    \u001b[39m\"\u001b[39m\u001b[39mversion\u001b[39m\u001b[39m\"\u001b[39m: \u001b[39m\"\u001b[39m\u001b[39m3.9.0\u001b[39m\u001b[39m\"\u001b[39m\n\u001b[0;32m    174\u001b[0m   },\n\u001b[0;32m    175\u001b[0m   \u001b[39m\"\u001b[39m\u001b[39morig_nbformat\u001b[39m\u001b[39m\"\u001b[39m: \u001b[39m4\u001b[39m\n\u001b[0;32m    176\u001b[0m  },\n\u001b[0;32m    177\u001b[0m  \u001b[39m\"\u001b[39m\u001b[39mnbformat\u001b[39m\u001b[39m\"\u001b[39m: \u001b[39m4\u001b[39m,\n\u001b[0;32m    178\u001b[0m  \u001b[39m\"\u001b[39m\u001b[39mnbformat_minor\u001b[39m\u001b[39m\"\u001b[39m: \u001b[39m2\u001b[39m\n\u001b[0;32m    179\u001b[0m }\n",
      "File \u001b[1;32m~\\AppData\\Local\\Packages\\PythonSoftwareFoundation.Python.3.9_qbz5n2kfra8p0\\LocalCache\\local-packages\\Python39\\site-packages\\pyhrv\\frequency_domain.py:1819\u001b[0m, in \u001b[0;36mfrequency_domain\u001b[1;34m(nni, rpeaks, signal, sampling_rate, fbands, show, show_param, legend, kwargs_welch, kwargs_lomb, kwargs_ar)\u001b[0m\n\u001b[0;32m   1815\u001b[0m \twelch_results \u001b[39m=\u001b[39m welch_psd(nn, fbands\u001b[39m=\u001b[39mfbands, detrend\u001b[39m=\u001b[39mdetrend, show\u001b[39m=\u001b[39m\u001b[39mFalse\u001b[39;00m, show_param\u001b[39m=\u001b[39mshow_param,\n\u001b[0;32m   1816\u001b[0m \t\t\t\t\t\t\t  legend\u001b[39m=\u001b[39mlegend, nfft\u001b[39m=\u001b[39mnfft, window\u001b[39m=\u001b[39mwindow)\n\u001b[0;32m   1817\u001b[0m \u001b[39melse\u001b[39;00m:\n\u001b[0;32m   1818\u001b[0m \t\u001b[39m# Compute Welch's PSD with default values\u001b[39;00m\n\u001b[1;32m-> 1819\u001b[0m \twelch_results \u001b[39m=\u001b[39m welch_psd(nn, show\u001b[39m=\u001b[39;49m\u001b[39mFalse\u001b[39;49;00m, fbands\u001b[39m=\u001b[39;49mfbands, legend\u001b[39m=\u001b[39;49mlegend, show_param\u001b[39m=\u001b[39;49mshow_param)\n\u001b[0;32m   1821\u001b[0m \u001b[39m# Check for kwargs for the 'lomb_psd' function and compute the PSD\u001b[39;00m\n\u001b[0;32m   1822\u001b[0m \u001b[39mif\u001b[39;00m kwargs_lomb \u001b[39mis\u001b[39;00m \u001b[39mnot\u001b[39;00m \u001b[39mNone\u001b[39;00m:\n",
      "File \u001b[1;32m~\\AppData\\Local\\Packages\\PythonSoftwareFoundation.Python.3.9_qbz5n2kfra8p0\\LocalCache\\local-packages\\Python39\\site-packages\\pyhrv\\frequency_domain.py:166\u001b[0m, in \u001b[0;36mwelch_psd\u001b[1;34m(nni, rpeaks, fbands, nfft, detrend, window, show, show_param, legend, figsize, mode)\u001b[0m\n\u001b[0;32m    164\u001b[0m t \u001b[39m=\u001b[39m np\u001b[39m.\u001b[39mcumsum(nn)\n\u001b[0;32m    165\u001b[0m t \u001b[39m-\u001b[39m\u001b[39m=\u001b[39m t[\u001b[39m0\u001b[39m]\n\u001b[1;32m--> 166\u001b[0m f_interpol \u001b[39m=\u001b[39m sp\u001b[39m.\u001b[39;49minterpolate\u001b[39m.\u001b[39;49minterp1d(t, nn, \u001b[39m'\u001b[39;49m\u001b[39mcubic\u001b[39;49m\u001b[39m'\u001b[39;49m)\n\u001b[0;32m    167\u001b[0m t_interpol \u001b[39m=\u001b[39m np\u001b[39m.\u001b[39marange(t[\u001b[39m0\u001b[39m], t[\u001b[39m-\u001b[39m\u001b[39m1\u001b[39m], \u001b[39m1000.\u001b[39m\u001b[39m/\u001b[39mfs)\n\u001b[0;32m    168\u001b[0m nn_interpol \u001b[39m=\u001b[39m f_interpol(t_interpol)\n",
      "File \u001b[1;32m~\\AppData\\Local\\Packages\\PythonSoftwareFoundation.Python.3.9_qbz5n2kfra8p0\\LocalCache\\local-packages\\Python39\\site-packages\\scipy\\interpolate\\_interpolate.py:571\u001b[0m, in \u001b[0;36minterp1d.__init__\u001b[1;34m(***failed resolving arguments***)\u001b[0m\n\u001b[0;32m    568\u001b[0m         yy \u001b[39m=\u001b[39m np\u001b[39m.\u001b[39mones_like(\u001b[39mself\u001b[39m\u001b[39m.\u001b[39m_y)\n\u001b[0;32m    569\u001b[0m         rewrite_nan \u001b[39m=\u001b[39m \u001b[39mTrue\u001b[39;00m\n\u001b[1;32m--> 571\u001b[0m \u001b[39mself\u001b[39m\u001b[39m.\u001b[39m_spline \u001b[39m=\u001b[39m make_interp_spline(xx, yy, k\u001b[39m=\u001b[39;49morder,\n\u001b[0;32m    572\u001b[0m                                   check_finite\u001b[39m=\u001b[39;49m\u001b[39mFalse\u001b[39;49;00m)\n\u001b[0;32m    573\u001b[0m \u001b[39mif\u001b[39;00m rewrite_nan:\n\u001b[0;32m    574\u001b[0m     \u001b[39mself\u001b[39m\u001b[39m.\u001b[39m_call \u001b[39m=\u001b[39m \u001b[39mself\u001b[39m\u001b[39m.\u001b[39m\u001b[39m__class__\u001b[39m\u001b[39m.\u001b[39m_call_nan_spline\n",
      "File \u001b[1;32m~\\AppData\\Local\\Packages\\PythonSoftwareFoundation.Python.3.9_qbz5n2kfra8p0\\LocalCache\\local-packages\\Python39\\site-packages\\scipy\\interpolate\\_bsplines.py:1327\u001b[0m, in \u001b[0;36mmake_interp_spline\u001b[1;34m(x, y, k, t, bc_type, axis, check_finite)\u001b[0m\n\u001b[0;32m   1324\u001b[0m nt \u001b[39m=\u001b[39m t\u001b[39m.\u001b[39msize \u001b[39m-\u001b[39m k \u001b[39m-\u001b[39m \u001b[39m1\u001b[39m\n\u001b[0;32m   1326\u001b[0m \u001b[39mif\u001b[39;00m nt \u001b[39m-\u001b[39m n \u001b[39m!=\u001b[39m nleft \u001b[39m+\u001b[39m nright:\n\u001b[1;32m-> 1327\u001b[0m     \u001b[39mraise\u001b[39;00m \u001b[39mValueError\u001b[39;00m(\u001b[39m\"\u001b[39m\u001b[39mThe number of derivatives at boundaries does not \u001b[39m\u001b[39m\"\u001b[39m\n\u001b[0;32m   1328\u001b[0m                      \u001b[39m\"\u001b[39m\u001b[39mmatch: expected \u001b[39m\u001b[39m%s\u001b[39;00m\u001b[39m, got \u001b[39m\u001b[39m%s\u001b[39;00m\u001b[39m+\u001b[39m\u001b[39m%s\u001b[39;00m\u001b[39m\"\u001b[39m \u001b[39m%\u001b[39m (nt\u001b[39m-\u001b[39mn, nleft, nright))\n\u001b[0;32m   1330\u001b[0m \u001b[39m# set up the LHS: the collocation matrix + derivatives at boundaries\u001b[39;00m\n\u001b[0;32m   1331\u001b[0m kl \u001b[39m=\u001b[39m ku \u001b[39m=\u001b[39m k\n",
      "\u001b[1;31mValueError\u001b[0m: The number of derivatives at boundaries does not match: expected 1, got 0+0"
     ]
    }
   ],
   "source": [
    "\n",
    "# print(i * (duration*fs), (i+1)*(duration*fs))\n",
    "# ecg = ecg_base[i * (duration*fs): (i+1)*(duration*fs)]\n",
    "# eda = eda_base[i * (duration*fs): (i+1)*(duration*fs)]\n",
    "\n",
    "# Set up empty dataframes for the features\n",
    "ecgfeaturestest = pd.DataFrame(None, columns= ['HR_mean', 'HR_min', 'HR_max', 'HR_std', 'SDNN', 'SDANN', 'RMSSD', 'SDSD','pNN50', 'pNN20', \n",
    "                                    'abs_power_VLF', 'abs_power_LF', 'abs_power_HF', 'tot_power', 'LF/HF', \n",
    "                                    'peak_vlf', 'peak_lf', 'peak_hf', 'norm_power_LF', 'norm_power_HF'])\n",
    "edafeaturestest = None\n",
    "\n",
    "# Reading from csv\n",
    "data = pd.read_csv('First_Measurements.csv', index_col=0)\n",
    "ecg = data['ECG Data']\n",
    "eda = data['GSR Data']\n",
    "fs =100\n",
    "duration = 30\n",
    "print(len(eda))\n",
    "\n",
    "index = '1'\n",
    "tonic, phasic, start, end = get_edaindex(eda, fs)\n",
    "edafeaturestest = get_edafeatures(index, edafeaturestest, phasic, tonic, fs)\n",
    "ecgfeaturestest = get_ecgfeatures(ecg, fs, ecgfeaturestest, index)\n",
    "\n",
    "total_featurestest = pd.merge(ecgfeaturestest, edafeaturestest, left_index=True, right_index=True)"
   ]
  },
  {
   "cell_type": "code",
   "execution_count": null,
   "metadata": {},
   "outputs": [],
   "source": [
    "total_featurestest = pd.merge(ecgfeaturestest, edafeaturestest, left_index=True, right_index=True)\n",
    "\n",
    "features = total_featurestest\n",
    "\n",
    "scaler = StandardScaler().fit(features)\n",
    "X_train = scaler.transform(features)\n",
    "\n",
    "pca = PCA(n_components=25)\n",
    "pca.fit(X_train)\n",
    "X_train_pca = pca.transform(X_train)\n",
    "x_train = X_train_pca[:,0:3]\n",
    "\n",
    "print(svm_model.predict())\n",
    "print(logistic_model.predict())\n",
    "print(randomf_model.predict())"
   ]
  }
 ],
 "metadata": {
  "kernelspec": {
   "display_name": "Python 3",
   "language": "python",
   "name": "python3"
  },
  "language_info": {
   "codemirror_mode": {
    "name": "ipython",
    "version": 3
   },
   "file_extension": ".py",
   "mimetype": "text/x-python",
   "name": "python",
   "nbconvert_exporter": "python",
   "pygments_lexer": "ipython3",
   "version": "3.9.13"
  },
  "orig_nbformat": 4
 },
 "nbformat": 4,
 "nbformat_minor": 2
}
