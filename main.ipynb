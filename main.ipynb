{
 "cells": [
  {
   "cell_type": "code",
   "execution_count": 5,
   "metadata": {},
   "outputs": [],
   "source": [
    "import ipynb\n",
    "import numpy as np\n",
    "import pandas as pd\n",
    "import matplotlib.pyplot as plt\n",
    "import os\n",
    "import pickle\n",
    "from scipy import signal\n",
    "# import neurokit2 as nk\n",
    "import random\n",
    "# %matplotlib inline \n",
    "import pyhrv\n",
    "import ipynb\n",
    "\n",
    "from ipynb.fs.full.ECG_features import get_ecgfeatures\n",
    "from ipynb.fs.full.EDA import get_edaindex, get_edafeatures"
   ]
  },
  {
   "cell_type": "code",
   "execution_count": 6,
   "metadata": {},
   "outputs": [],
   "source": [
    "class read_data_of_one_subject:\n",
    "            \"\"\"Read data from WESAD dataset\"\"\"\n",
    "            def __init__(self, path, subject):\n",
    "                self.keys = ['label', 'subject', 'signal']\n",
    "                self.signal_keys = ['wrist', 'chest']\n",
    "                self.chest_sensor_keys = ['ACC', 'ECG', 'EDA', 'EMG', 'Resp', 'Temp']\n",
    "                self.wrist_sensor_keys = ['ACC', 'BVP', 'EDA', 'TEMP']\n",
    "                #os.chdir(path)\n",
    "                #os.chdir(subject)\n",
    "                with open(path + subject +'/'+subject + '.pkl', 'rb') as file:\n",
    "                    data = pickle.load(file, encoding='latin1')\n",
    "                self.data = data\n",
    "\n",
    "            def get_labels(self):\n",
    "                return self.data[self.keys[0]]\n",
    "\n",
    "            def get_wrist_data(self):\n",
    "                \"\"\"\"\"\"\n",
    "                #label = self.data[self.keys[0]]\n",
    "                assert subject == self.data[self.keys[1]]\n",
    "                signal = self.data[self.keys[2]]\n",
    "                wrist_data = signal[self.signal_keys[0]]\n",
    "                #wrist_ACC = wrist_data[self.wrist_sensor_keys[0]]\n",
    "                #wrist_ECG = wrist_data[self.wrist_sensor_keys[1]]\n",
    "                return wrist_data\n",
    "\n",
    "            def get_chest_data(self):\n",
    "                \"\"\"\"\"\"\n",
    "                signal = self.data[self.keys[2]]\n",
    "                chest_data = signal[self.signal_keys[1]]\n",
    "                return chest_data"
   ]
  },
  {
   "cell_type": "code",
   "execution_count": 74,
   "metadata": {},
   "outputs": [
    {
     "name": "stdout",
     "output_type": "stream",
     "text": [
      "S2\n",
      "S3\n",
      "S4\n",
      "S5\n",
      "S6\n",
      "S7\n",
      "S8\n",
      "S9\n",
      "S10\n",
      "S11\n",
      "S12\n",
      "S13\n",
      "S14\n",
      "S15\n",
      "S16\n",
      "S17\n"
     ]
    }
   ],
   "source": [
    "# Set up empty dataframes for the features\n",
    "ecgfeatures = pd.DataFrame(None, columns= ['HR_mean', 'HR_min', 'HR_max', 'HR_std', 'SDNN', 'SDANN', 'RMSSD', 'SDSD','pNN50', 'pNN20', \n",
    "                                    'abs_power_VLF', 'abs_power_LF', 'abs_power_HF', 'tot_power', 'LF/HF', \n",
    "                                    'peak_vlf', 'peak_lf', 'peak_hf', 'norm_power_LF', 'norm_power_HF'])\n",
    "edafeatures = None\n",
    "\n",
    "fs = 700\n",
    "y = []\n",
    "data_set_path= \"C:/Users/JackC/Documents/EPO4/WESAD/WESAD/\" # Folder path\n",
    "#data_set_path= \"C:/Users/riche/Downloads/WESAD/WESAD/\" # Folder path\n",
    "\n",
    "for i in range(16): # 15 subject\n",
    "    subject = 'S'+str(i+2) # Cycle through S2 to S17\n",
    "    print(subject)\n",
    "    if subject != 'S12': # Skip S12, because it does not exist\n",
    "        # Object instantiation\n",
    "        obj_data = {}\n",
    "\n",
    "        # Accessing class attributes and method through objects\n",
    "        obj_data[subject] = read_data_of_one_subject(data_set_path, subject)\n",
    "\n",
    "        chest_data_dict = obj_data[subject].get_chest_data()\n",
    "        chest_dict_length = {key: len(value) for key, value in chest_data_dict.items()}\n",
    "\n",
    "        # Get labels\n",
    "        labels = obj_data[subject].get_labels()\n",
    "\n",
    "        for label in range(1,5): # for every state of stress\n",
    "            \n",
    "            baseline = np.asarray([idx for idx,val in enumerate(labels) if val == label])\n",
    "\n",
    "            eda_base=chest_data_dict['EDA'][baseline,0] # Select the EDA data\n",
    "            ecg_base=chest_data_dict['ECG'][baseline,0] # Select the ECG data\n",
    "            resp_base=chest_data_dict['Resp'][baseline,0] # Select the respiration data\n",
    "\n",
    "            tonic, phasic, start, end = get_edaindex(eda_base, fs)\n",
    "\n",
    "            #Matching the index of the phasic to the other signals\n",
    "            ecg = ecg_base[start: end]\n",
    "            resp = resp_base[start: end]\n",
    "            tonic = tonic[start: end]\n",
    "\n",
    "            # Multiple (5) samples per signal\n",
    "            # for j in range(5):\n",
    "\n",
    "            #     # adding the labels to y\n",
    "            #     if label==3 or label==4:\n",
    "            #         y.append(1)\n",
    "            #     else:\n",
    "            #         y.append(label)\n",
    "\n",
    "            #     # choosing a random begin point\n",
    "            #     begin = random.randint(0, min(len(ecg),len(tonic),len(phasic))- 35000)\n",
    "\n",
    "            #     # looking at a smaller section of the signal\n",
    "            #     sample_ecg = ecg[begin: begin + 25 * fs]\n",
    "            #     sample_tonic = tonic[begin: begin + 25 * fs]\n",
    "            #     sample_phasic = phasic[begin: begin + 25 * fs]\n",
    "\n",
    "            #     # getting the eda and ecg features\n",
    "            #     index = subject + str(label) + str(j)\n",
    "            #     edafeatures = get_edafeatures(index, edafeatures, phasic, tonic, fs)\n",
    "            #     ecgfeatures = get_ecgfeatures(ecg, fs, ecgfeatures, index)\n",
    "\n",
    "            # One sample per signal\n",
    "\n",
    "            if label==3 or label==4:\n",
    "                    y.append(1)\n",
    "            else:\n",
    "                y.append(label)\n",
    "\n",
    "            index = subject + str(label) \n",
    "            edafeatures = get_edafeatures(index, edafeatures, phasic, tonic, fs)\n",
    "            ecgfeatures = get_ecgfeatures(ecg, fs, ecgfeatures, index)\n",
    "\n",
    "\n",
    "            # Plot a signal\n",
    "\n",
    "            # t=np.arange(0,eda_base.size*(1/fs),(1/fs))\n",
    "            # t=t[:eda_base.size]\n",
    "            \n",
    "            # plt.figure(figsize=(12,4))\n",
    "            # plt.plot(t, eda_base)\n",
    "            # plt.xlabel('$Time (s)$') \n",
    "            # plt.ylabel('$signal$')\n"
   ]
  },
  {
   "cell_type": "code",
   "execution_count": 135,
   "metadata": {},
   "outputs": [],
   "source": [
    "# saving the feature data in csv files\n",
    "edafeatures.to_csv(\"EDA_features.csv\")\n",
    "ecgfeatures.to_csv(\"ECG_features.csv\")\n",
    "\n",
    "features = pd.merge(ecgfeatures, edafeatures, left_index=True, right_index=True)\n",
    "features.to_csv(\"out_features.csv\")"
   ]
  },
  {
   "cell_type": "code",
   "execution_count": 9,
   "metadata": {},
   "outputs": [],
   "source": [
    "# reading from csv file if necessary\n",
    "# features = pd.read_csv('out_features.csv', index_col=0)"
   ]
  },
  {
   "cell_type": "code",
   "execution_count": 10,
   "metadata": {},
   "outputs": [],
   "source": [
    "from sklearn.preprocessing import StandardScaler\n",
    "from sklearn.decomposition import PCA\n",
    "from sklearn.linear_model import LogisticRegression\n",
    "from sklearn.model_selection import train_test_split\n",
    "from sklearn import svm"
   ]
  },
  {
   "cell_type": "code",
   "execution_count": 133,
   "metadata": {},
   "outputs": [],
   "source": [
    "total_features = pd.merge(ecgfeatures, edafeatures, left_index=True, right_index=True)\n",
    "y_feat = y"
   ]
  },
  {
   "attachments": {},
   "cell_type": "markdown",
   "metadata": {},
   "source": [
    "# Performing PCA"
   ]
  },
  {
   "cell_type": "code",
   "execution_count": 139,
   "metadata": {},
   "outputs": [
    {
     "ename": "ValueError",
     "evalue": "'c' argument has 40 elements, which is inconsistent with 'x' and 'y' with size 60.",
     "output_type": "error",
     "traceback": [
      "\u001b[1;31m---------------------------------------------------------------------------\u001b[0m",
      "\u001b[1;31mValueError\u001b[0m                                Traceback (most recent call last)",
      "File \u001b[1;32m~\\AppData\\Local\\Packages\\PythonSoftwareFoundation.Python.3.9_qbz5n2kfra8p0\\LocalCache\\local-packages\\Python39\\site-packages\\matplotlib\\axes\\_axes.py:4221\u001b[0m, in \u001b[0;36mAxes._parse_scatter_color_args\u001b[1;34m(c, edgecolors, kwargs, xsize, get_next_color_func)\u001b[0m\n\u001b[0;32m   4220\u001b[0m \u001b[39mtry\u001b[39;00m:  \u001b[39m# Is 'c' acceptable as PathCollection facecolors?\u001b[39;00m\n\u001b[1;32m-> 4221\u001b[0m     colors \u001b[39m=\u001b[39m mcolors\u001b[39m.\u001b[39;49mto_rgba_array(c)\n\u001b[0;32m   4222\u001b[0m \u001b[39mexcept\u001b[39;00m (\u001b[39mTypeError\u001b[39;00m, \u001b[39mValueError\u001b[39;00m) \u001b[39mas\u001b[39;00m err:\n",
      "File \u001b[1;32m~\\AppData\\Local\\Packages\\PythonSoftwareFoundation.Python.3.9_qbz5n2kfra8p0\\LocalCache\\local-packages\\Python39\\site-packages\\matplotlib\\colors.py:377\u001b[0m, in \u001b[0;36mto_rgba_array\u001b[1;34m(c, alpha)\u001b[0m\n\u001b[0;32m    376\u001b[0m \u001b[39melse\u001b[39;00m:\n\u001b[1;32m--> 377\u001b[0m     rgba \u001b[39m=\u001b[39m np\u001b[39m.\u001b[39marray([to_rgba(cc) \u001b[39mfor\u001b[39;00m cc \u001b[39min\u001b[39;00m c])\n\u001b[0;32m    379\u001b[0m \u001b[39mif\u001b[39;00m alpha \u001b[39mis\u001b[39;00m \u001b[39mnot\u001b[39;00m \u001b[39mNone\u001b[39;00m:\n",
      "File \u001b[1;32m~\\AppData\\Local\\Packages\\PythonSoftwareFoundation.Python.3.9_qbz5n2kfra8p0\\LocalCache\\local-packages\\Python39\\site-packages\\matplotlib\\colors.py:377\u001b[0m, in \u001b[0;36m<listcomp>\u001b[1;34m(.0)\u001b[0m\n\u001b[0;32m    376\u001b[0m \u001b[39melse\u001b[39;00m:\n\u001b[1;32m--> 377\u001b[0m     rgba \u001b[39m=\u001b[39m np\u001b[39m.\u001b[39marray([to_rgba(cc) \u001b[39mfor\u001b[39;00m cc \u001b[39min\u001b[39;00m c])\n\u001b[0;32m    379\u001b[0m \u001b[39mif\u001b[39;00m alpha \u001b[39mis\u001b[39;00m \u001b[39mnot\u001b[39;00m \u001b[39mNone\u001b[39;00m:\n",
      "File \u001b[1;32m~\\AppData\\Local\\Packages\\PythonSoftwareFoundation.Python.3.9_qbz5n2kfra8p0\\LocalCache\\local-packages\\Python39\\site-packages\\matplotlib\\colors.py:187\u001b[0m, in \u001b[0;36mto_rgba\u001b[1;34m(c, alpha)\u001b[0m\n\u001b[0;32m    186\u001b[0m \u001b[39mif\u001b[39;00m rgba \u001b[39mis\u001b[39;00m \u001b[39mNone\u001b[39;00m:  \u001b[39m# Suppress exception chaining of cache lookup failure.\u001b[39;00m\n\u001b[1;32m--> 187\u001b[0m     rgba \u001b[39m=\u001b[39m _to_rgba_no_colorcycle(c, alpha)\n\u001b[0;32m    188\u001b[0m     \u001b[39mtry\u001b[39;00m:\n",
      "File \u001b[1;32m~\\AppData\\Local\\Packages\\PythonSoftwareFoundation.Python.3.9_qbz5n2kfra8p0\\LocalCache\\local-packages\\Python39\\site-packages\\matplotlib\\colors.py:269\u001b[0m, in \u001b[0;36m_to_rgba_no_colorcycle\u001b[1;34m(c, alpha)\u001b[0m\n\u001b[0;32m    268\u001b[0m \u001b[39mif\u001b[39;00m \u001b[39mnot\u001b[39;00m np\u001b[39m.\u001b[39miterable(c):\n\u001b[1;32m--> 269\u001b[0m     \u001b[39mraise\u001b[39;00m \u001b[39mValueError\u001b[39;00m(\u001b[39mf\u001b[39m\u001b[39m\"\u001b[39m\u001b[39mInvalid RGBA argument: \u001b[39m\u001b[39m{\u001b[39;00morig_c\u001b[39m!r}\u001b[39;00m\u001b[39m\"\u001b[39m)\n\u001b[0;32m    270\u001b[0m \u001b[39mif\u001b[39;00m \u001b[39mlen\u001b[39m(c) \u001b[39mnot\u001b[39;00m \u001b[39min\u001b[39;00m [\u001b[39m3\u001b[39m, \u001b[39m4\u001b[39m]:\n",
      "\u001b[1;31mValueError\u001b[0m: Invalid RGBA argument: 1.0",
      "\nThe above exception was the direct cause of the following exception:\n",
      "\u001b[1;31mValueError\u001b[0m                                Traceback (most recent call last)",
      "Cell \u001b[1;32mIn[139], line 10\u001b[0m\n\u001b[0;32m      7\u001b[0m x_train \u001b[39m=\u001b[39m X_train_pca[:,\u001b[39m0\u001b[39m:\u001b[39m3\u001b[39m] \u001b[39m# Three best features\u001b[39;00m\n\u001b[0;32m      9\u001b[0m plt\u001b[39m.\u001b[39mfigure(figsize\u001b[39m=\u001b[39m(\u001b[39m8\u001b[39m,\u001b[39m6\u001b[39m))\n\u001b[1;32m---> 10\u001b[0m plt\u001b[39m.\u001b[39;49mscatter(X_train_pca[:,\u001b[39m0\u001b[39;49m], X_train_pca[:,\u001b[39m1\u001b[39;49m], c\u001b[39m=\u001b[39;49my)\n",
      "File \u001b[1;32m~\\AppData\\Local\\Packages\\PythonSoftwareFoundation.Python.3.9_qbz5n2kfra8p0\\LocalCache\\local-packages\\Python39\\site-packages\\matplotlib\\pyplot.py:2807\u001b[0m, in \u001b[0;36mscatter\u001b[1;34m(x, y, s, c, marker, cmap, norm, vmin, vmax, alpha, linewidths, edgecolors, plotnonfinite, data, **kwargs)\u001b[0m\n\u001b[0;32m   2802\u001b[0m \u001b[39m@_copy_docstring_and_deprecators\u001b[39m(Axes\u001b[39m.\u001b[39mscatter)\n\u001b[0;32m   2803\u001b[0m \u001b[39mdef\u001b[39;00m \u001b[39mscatter\u001b[39m(\n\u001b[0;32m   2804\u001b[0m         x, y, s\u001b[39m=\u001b[39m\u001b[39mNone\u001b[39;00m, c\u001b[39m=\u001b[39m\u001b[39mNone\u001b[39;00m, marker\u001b[39m=\u001b[39m\u001b[39mNone\u001b[39;00m, cmap\u001b[39m=\u001b[39m\u001b[39mNone\u001b[39;00m, norm\u001b[39m=\u001b[39m\u001b[39mNone\u001b[39;00m,\n\u001b[0;32m   2805\u001b[0m         vmin\u001b[39m=\u001b[39m\u001b[39mNone\u001b[39;00m, vmax\u001b[39m=\u001b[39m\u001b[39mNone\u001b[39;00m, alpha\u001b[39m=\u001b[39m\u001b[39mNone\u001b[39;00m, linewidths\u001b[39m=\u001b[39m\u001b[39mNone\u001b[39;00m, \u001b[39m*\u001b[39m,\n\u001b[0;32m   2806\u001b[0m         edgecolors\u001b[39m=\u001b[39m\u001b[39mNone\u001b[39;00m, plotnonfinite\u001b[39m=\u001b[39m\u001b[39mFalse\u001b[39;00m, data\u001b[39m=\u001b[39m\u001b[39mNone\u001b[39;00m, \u001b[39m*\u001b[39m\u001b[39m*\u001b[39mkwargs):\n\u001b[1;32m-> 2807\u001b[0m     __ret \u001b[39m=\u001b[39m gca()\u001b[39m.\u001b[39mscatter(\n\u001b[0;32m   2808\u001b[0m         x, y, s\u001b[39m=\u001b[39ms, c\u001b[39m=\u001b[39mc, marker\u001b[39m=\u001b[39mmarker, cmap\u001b[39m=\u001b[39mcmap, norm\u001b[39m=\u001b[39mnorm,\n\u001b[0;32m   2809\u001b[0m         vmin\u001b[39m=\u001b[39mvmin, vmax\u001b[39m=\u001b[39mvmax, alpha\u001b[39m=\u001b[39malpha, linewidths\u001b[39m=\u001b[39mlinewidths,\n\u001b[0;32m   2810\u001b[0m         edgecolors\u001b[39m=\u001b[39medgecolors, plotnonfinite\u001b[39m=\u001b[39mplotnonfinite,\n\u001b[0;32m   2811\u001b[0m         \u001b[39m*\u001b[39m\u001b[39m*\u001b[39m({\u001b[39m\"\u001b[39m\u001b[39mdata\u001b[39m\u001b[39m\"\u001b[39m: data} \u001b[39mif\u001b[39;00m data \u001b[39mis\u001b[39;00m \u001b[39mnot\u001b[39;00m \u001b[39mNone\u001b[39;00m \u001b[39melse\u001b[39;00m {}), \u001b[39m*\u001b[39m\u001b[39m*\u001b[39mkwargs)\n\u001b[0;32m   2812\u001b[0m     sci(__ret)\n\u001b[0;32m   2813\u001b[0m     \u001b[39mreturn\u001b[39;00m __ret\n",
      "File \u001b[1;32m~\\AppData\\Local\\Packages\\PythonSoftwareFoundation.Python.3.9_qbz5n2kfra8p0\\LocalCache\\local-packages\\Python39\\site-packages\\matplotlib\\__init__.py:1412\u001b[0m, in \u001b[0;36m_preprocess_data.<locals>.inner\u001b[1;34m(ax, data, *args, **kwargs)\u001b[0m\n\u001b[0;32m   1409\u001b[0m \u001b[39m@functools\u001b[39m\u001b[39m.\u001b[39mwraps(func)\n\u001b[0;32m   1410\u001b[0m \u001b[39mdef\u001b[39;00m \u001b[39minner\u001b[39m(ax, \u001b[39m*\u001b[39margs, data\u001b[39m=\u001b[39m\u001b[39mNone\u001b[39;00m, \u001b[39m*\u001b[39m\u001b[39m*\u001b[39mkwargs):\n\u001b[0;32m   1411\u001b[0m     \u001b[39mif\u001b[39;00m data \u001b[39mis\u001b[39;00m \u001b[39mNone\u001b[39;00m:\n\u001b[1;32m-> 1412\u001b[0m         \u001b[39mreturn\u001b[39;00m func(ax, \u001b[39m*\u001b[39m\u001b[39mmap\u001b[39m(sanitize_sequence, args), \u001b[39m*\u001b[39m\u001b[39m*\u001b[39mkwargs)\n\u001b[0;32m   1414\u001b[0m     bound \u001b[39m=\u001b[39m new_sig\u001b[39m.\u001b[39mbind(ax, \u001b[39m*\u001b[39margs, \u001b[39m*\u001b[39m\u001b[39m*\u001b[39mkwargs)\n\u001b[0;32m   1415\u001b[0m     auto_label \u001b[39m=\u001b[39m (bound\u001b[39m.\u001b[39marguments\u001b[39m.\u001b[39mget(label_namer)\n\u001b[0;32m   1416\u001b[0m                   \u001b[39mor\u001b[39;00m bound\u001b[39m.\u001b[39mkwargs\u001b[39m.\u001b[39mget(label_namer))\n",
      "File \u001b[1;32m~\\AppData\\Local\\Packages\\PythonSoftwareFoundation.Python.3.9_qbz5n2kfra8p0\\LocalCache\\local-packages\\Python39\\site-packages\\matplotlib\\axes\\_axes.py:4387\u001b[0m, in \u001b[0;36mAxes.scatter\u001b[1;34m(self, x, y, s, c, marker, cmap, norm, vmin, vmax, alpha, linewidths, edgecolors, plotnonfinite, **kwargs)\u001b[0m\n\u001b[0;32m   4384\u001b[0m \u001b[39mif\u001b[39;00m edgecolors \u001b[39mis\u001b[39;00m \u001b[39mNone\u001b[39;00m:\n\u001b[0;32m   4385\u001b[0m     orig_edgecolor \u001b[39m=\u001b[39m kwargs\u001b[39m.\u001b[39mget(\u001b[39m'\u001b[39m\u001b[39medgecolor\u001b[39m\u001b[39m'\u001b[39m, \u001b[39mNone\u001b[39;00m)\n\u001b[0;32m   4386\u001b[0m c, colors, edgecolors \u001b[39m=\u001b[39m \\\n\u001b[1;32m-> 4387\u001b[0m     \u001b[39mself\u001b[39;49m\u001b[39m.\u001b[39;49m_parse_scatter_color_args(\n\u001b[0;32m   4388\u001b[0m         c, edgecolors, kwargs, x\u001b[39m.\u001b[39;49msize,\n\u001b[0;32m   4389\u001b[0m         get_next_color_func\u001b[39m=\u001b[39;49m\u001b[39mself\u001b[39;49m\u001b[39m.\u001b[39;49m_get_patches_for_fill\u001b[39m.\u001b[39;49mget_next_color)\n\u001b[0;32m   4391\u001b[0m \u001b[39mif\u001b[39;00m plotnonfinite \u001b[39mand\u001b[39;00m colors \u001b[39mis\u001b[39;00m \u001b[39mNone\u001b[39;00m:\n\u001b[0;32m   4392\u001b[0m     c \u001b[39m=\u001b[39m np\u001b[39m.\u001b[39mma\u001b[39m.\u001b[39mmasked_invalid(c)\n",
      "File \u001b[1;32m~\\AppData\\Local\\Packages\\PythonSoftwareFoundation.Python.3.9_qbz5n2kfra8p0\\LocalCache\\local-packages\\Python39\\site-packages\\matplotlib\\axes\\_axes.py:4227\u001b[0m, in \u001b[0;36mAxes._parse_scatter_color_args\u001b[1;34m(c, edgecolors, kwargs, xsize, get_next_color_func)\u001b[0m\n\u001b[0;32m   4225\u001b[0m \u001b[39melse\u001b[39;00m:\n\u001b[0;32m   4226\u001b[0m     \u001b[39mif\u001b[39;00m \u001b[39mnot\u001b[39;00m valid_shape:\n\u001b[1;32m-> 4227\u001b[0m         \u001b[39mraise\u001b[39;00m invalid_shape_exception(c\u001b[39m.\u001b[39msize, xsize) \u001b[39mfrom\u001b[39;00m \u001b[39merr\u001b[39;00m\n\u001b[0;32m   4228\u001b[0m     \u001b[39m# Both the mapping *and* the RGBA conversion failed: pretty\u001b[39;00m\n\u001b[0;32m   4229\u001b[0m     \u001b[39m# severe failure => one may appreciate a verbose feedback.\u001b[39;00m\n\u001b[0;32m   4230\u001b[0m     \u001b[39mraise\u001b[39;00m \u001b[39mValueError\u001b[39;00m(\n\u001b[0;32m   4231\u001b[0m         \u001b[39mf\u001b[39m\u001b[39m\"\u001b[39m\u001b[39m'\u001b[39m\u001b[39mc\u001b[39m\u001b[39m'\u001b[39m\u001b[39m argument must be a color, a sequence of colors, \u001b[39m\u001b[39m\"\u001b[39m\n\u001b[0;32m   4232\u001b[0m         \u001b[39mf\u001b[39m\u001b[39m\"\u001b[39m\u001b[39mor a sequence of numbers, not \u001b[39m\u001b[39m{\u001b[39;00mc\u001b[39m}\u001b[39;00m\u001b[39m\"\u001b[39m) \u001b[39mfrom\u001b[39;00m \u001b[39merr\u001b[39;00m\n",
      "\u001b[1;31mValueError\u001b[0m: 'c' argument has 40 elements, which is inconsistent with 'x' and 'y' with size 60."
     ]
    },
    {
     "data": {
      "image/png": "[encoded data removed]",
      "text/plain": [
       "<Figure size 800x600 with 1 Axes>"
      ]
     },
     "metadata": {},
     "output_type": "display_data"
    }
   ],
   "source": [
    "scaler = StandardScaler().fit(features)\n",
    "X_train = scaler.transform(features)\n",
    "\n",
    "pca = PCA(n_components=25)\n",
    "pca.fit(X_train)\n",
    "X_train_pca = pca.transform(X_train)\n",
    "x_train = X_train_pca[:,0:3] # Three best features\n",
    "\n",
    "plt.figure(figsize=(8,6))\n",
    "plt.scatter(X_train_pca[:,0], X_train_pca[:,1], c=y)"
   ]
  },
  {
   "cell_type": "code",
   "execution_count": 13,
   "metadata": {},
   "outputs": [
    {
     "data": {
      "text/plain": [
       "<matplotlib.legend.Legend at 0x229d49b07c0>"
      ]
     },
     "execution_count": 13,
     "metadata": {},
     "output_type": "execute_result"
    },
    {
     "data": {
      "image/png": "[encoded data removed]",
      "text/plain": [
       "<Figure size 640x480 with 1 Axes>"
      ]
     },
     "metadata": {},
     "output_type": "display_data"
    }
   ],
   "source": [
    "# perform pca on features\n",
    "plt.bar(range(0,25), pca.explained_variance_ratio_, label=\"individual var\");\n",
    "plt.step(range(0,25), np.cumsum(pca.explained_variance_ratio_),'r', label=\"cumulative var\");\n",
    "plt.xlabel('Principal component index'); plt.ylabel('explained variance ratio %');\n",
    "plt.legend()"
   ]
  },
  {
   "cell_type": "code",
   "execution_count": 14,
   "metadata": {},
   "outputs": [],
   "source": [
    "# Splitting the data in train and test data\n",
    "X_train, X_test, y_train, y_test = train_test_split(x_train, y, test_size=0.2, random_state=5)\n",
    "# X_train, X_test, y_train, y_test = features[0:57], features[57:], y[0:57], y[57:]\n",
    "# X_train, X_test, y_train, y_test = features[0:336], features[336:], y[0:336], y[336:]\n",
    "\n",
    "# Scaling the data\n",
    "\n",
    "scaler = StandardScaler().fit(X_train)\n",
    "X_train = scaler.transform(X_train)\n",
    "X_test = scaler.transform(X_test)"
   ]
  },
  {
   "attachments": {},
   "cell_type": "markdown",
   "metadata": {},
   "source": [
    "# Logistic regression"
   ]
  },
  {
   "cell_type": "code",
   "execution_count": 15,
   "metadata": {},
   "outputs": [],
   "source": [
    "logistic_model = LogisticRegression()\n",
    "logistic_model.fit(X_train, y_train)\n",
    "Y_test_pred = logistic_model.predict(X_test)\n",
    "log_score = logistic_model.score(X_test,y_test)"
   ]
  },
  {
   "attachments": {},
   "cell_type": "markdown",
   "metadata": {},
   "source": [
    "# SVM"
   ]
  },
  {
   "cell_type": "code",
   "execution_count": 16,
   "metadata": {},
   "outputs": [],
   "source": [
    "from sklearn import datasets, svm\n",
    "svm_model = svm.SVC()\n",
    "svm_model.fit(X_train, y_train)\n",
    "Y_test_pred = svm_model.predict(X_test)\n",
    "svm_score = svm_model.score(X_test,y_test)"
   ]
  },
  {
   "attachments": {},
   "cell_type": "markdown",
   "metadata": {},
   "source": [
    "# Neural Networks"
   ]
  },
  {
   "cell_type": "code",
   "execution_count": 17,
   "metadata": {},
   "outputs": [
    {
     "name": "stdout",
     "output_type": "stream",
     "text": [
      "[0.9166666865348816, 0.8333333134651184, 0.8333333134651184, 0.8333333134651184, 0.9166666865348816]\n",
      "Average Validation Accuracy: 0.8666666626930237\n"
     ]
    }
   ],
   "source": [
    "from sklearn.model_selection import train_test_split\n",
    "from sklearn.preprocessing import StandardScaler\n",
    "from sklearn.decomposition import PCA\n",
    "from tensorflow.keras.utils import to_categorical\n",
    "from tensorflow.keras.models import Sequential\n",
    "from tensorflow.keras.layers import Dense, Dropout\n",
    "from tensorflow.keras.optimizers import Adam\n",
    "\n",
    "val_accuracies = []\n",
    "for i in range(5): # run 5 times with 5 random states to determine model accuracy\n",
    "    # Splitting the data in train and test data\n",
    "    X_train, X_test, y_train, y_test = train_test_split(x_train, y, test_size=0.2, random_state= i + 1)\n",
    "\n",
    "    # Scaling the data\n",
    "    scaler = StandardScaler().fit(X_train)\n",
    "    X_train = scaler.transform(X_train)\n",
    "    X_test = scaler.transform(X_test)\n",
    "    ## Convert labels to categorical\n",
    "    y_train_cat = to_categorical(y_train)\n",
    "    y_test_cat = to_categorical(y_test)\n",
    "\n",
    "    # Define the feedforward neural network\n",
    "    neural_model = Sequential()\n",
    "    neural_model.add(Dense(64, activation='relu', input_shape=(3,)))\n",
    "    neural_model.add(Dense(64, activation='relu'))\n",
    "    neural_model.add(Dense(64, activation='relu'))\n",
    "    neural_model.add(Dense(64, activation = 'relu'))\n",
    "    neural_model.add(Dropout(0.5))\n",
    "    neural_model.add(Dense(3, activation='softmax'))\n",
    "\n",
    "    # Compile the model\n",
    "    optimizer = Adam(learning_rate=0.001)\n",
    "    neural_model.compile(loss='categorical_crossentropy',\n",
    "                  optimizer=optimizer,\n",
    "                  metrics=['accuracy'])\n",
    "\n",
    "    # Train the model\n",
    "    # history = model.fit(X_train_pca, y_train, validation_data=(X_test_pca, y_test), epochs=45, batch_size=100, verbose=2)\n",
    "    history = neural_model.fit(X_train, y_train_cat, validation_data=(X_test, y_test_cat), epochs=45, batch_size=100, verbose=0)\n",
    "    val_accuracy = history.history['val_accuracy'][-1]\n",
    "    val_accuracies.append(val_accuracy) # accuracy score\n",
    "\n",
    "print(val_accuracies)\n",
    "avg_val_accuracy = sum(val_accuracies) / len(val_accuracies) # average of accurracy scores\n",
    "print(\"Average Validation Accuracy:\", avg_val_accuracy)"
   ]
  },
  {
   "cell_type": "code",
   "execution_count": 18,
   "metadata": {},
   "outputs": [
    {
     "data": {
      "text/plain": [
       "<matplotlib.legend.Legend at 0x229e5a86700>"
      ]
     },
     "execution_count": 18,
     "metadata": {},
     "output_type": "execute_result"
    },
    {
     "data": {
      "image/png": "[encoded data removed]",
      "text/plain": [
       "<Figure size 640x480 with 1 Axes>"
      ]
     },
     "metadata": {},
     "output_type": "display_data"
    }
   ],
   "source": [
    "plt.plot(history.history['accuracy'])\n",
    "plt.plot(history.history['val_accuracy'])\n",
    "plt.legend(['accuracy', 'val_accuracy'])"
   ]
  },
  {
   "attachments": {},
   "cell_type": "markdown",
   "metadata": {},
   "source": [
    "# Random forest method"
   ]
  },
  {
   "cell_type": "code",
   "execution_count": 19,
   "metadata": {},
   "outputs": [
    {
     "name": "stdout",
     "output_type": "stream",
     "text": [
      "[2, 1, 0]\n"
     ]
    }
   ],
   "source": [
    "#from sklearn.datasets import make_classification\n",
    "from sklearn.ensemble import RandomForestClassifier\n",
    "\n",
    "# define the model\n",
    "randomf_model = RandomForestClassifier()\n",
    "\n",
    "# fit/train the model on all features\n",
    "randomf_model.fit(X_train, y_train)\n",
    "Y_test_pred = randomf_model.predict(X_test)\n",
    "\n",
    "#score\n",
    "rf_score=randomf_model.score(X_test, y_test)\n",
    "\n",
    "# get feature importance\n",
    "importance = randomf_model.feature_importances_\n",
    "\n",
    "#creat a dictionary with key=indices, and values=importance\n",
    "important_features_dict = {}\n",
    "for idx, val in enumerate(importance):\n",
    "    important_features_dict[idx] = val\n",
    "# sorting \n",
    "important_features_list = sorted(important_features_dict,\n",
    "                                 key=important_features_dict.get,\n",
    "                                 reverse=True)\n",
    "# print indices of top 5 features\n",
    "print(important_features_list[:5])\n",
    "#plt.plot(importance)"
   ]
  },
  {
   "attachments": {},
   "cell_type": "markdown",
   "metadata": {},
   "source": [
    "# Scores"
   ]
  },
  {
   "cell_type": "code",
   "execution_count": 20,
   "metadata": {},
   "outputs": [],
   "source": [
    "y_test_cat = to_categorical(y_test)\n",
    "y_test1 = y_test_cat.astype('int64')\n",
    "testYarg = np.argmax(y_test1, axis = 1)"
   ]
  },
  {
   "cell_type": "code",
   "execution_count": 21,
   "metadata": {},
   "outputs": [],
   "source": [
    "def model_predict_neural(X_test, y_test1, model):\n",
    "    predictions = model.predict(X_test)\n",
    "    predictions = np.argmax(predictions, axis = 1)\n",
    "    y_test1 = y_test1.astype('int64')\n",
    "    testYarg = np.argmax(y_test1, axis = 1)\n",
    "    miss_class = np.where(predictions != testYarg)\n",
    "    miss_class = miss_class[0]\n",
    "    print(\"Neural network\")\n",
    "    print(\"Predicted:\",predictions)\n",
    "    print(\"Correct:  \",testYarg)\n",
    "    print(\"Index missclassified:\", miss_class)\n",
    "    print(\"Score:\", val_accuracy, \"\\n\")\n",
    "    return predictions, miss_class, testYarg"
   ]
  },
  {
   "cell_type": "code",
   "execution_count": 22,
   "metadata": {},
   "outputs": [],
   "source": [
    "def model_predict(X_test, y_test1, model):\n",
    "    predictions = model.predict(X_test)\n",
    "    #y_test1 = y_test1.astype('int64')\n",
    "    #testYarg = np.argmax(y_test1, axis = 1)\n",
    "    miss_class = np.where(predictions != y_test1)\n",
    "    miss_class = miss_class[0]\n",
    "    score=model.score(X_test, y_test1)\n",
    "    print(model)\n",
    "    print(\"Predicted:\",predictions)\n",
    "    print(\"Correct:  \",testYarg)\n",
    "    print(\"Index missclassified:\", miss_class)\n",
    "    print(\"Score:\", score, \"\\n\")\n",
    "    return predictions, miss_class, testYarg"
   ]
  },
  {
   "cell_type": "code",
   "execution_count": 23,
   "metadata": {},
   "outputs": [
    {
     "name": "stdout",
     "output_type": "stream",
     "text": [
      "1/1 [==============================] - 0s 234ms/step\n",
      "Neural network\n",
      "Predicted: [1 1 1 1 1 2 1 1 1 1 2 1]\n",
      "Correct:   [1 1 1 1 1 1 1 1 1 1 2 1]\n",
      "Index missclassified: [5]\n",
      "Score: 0.9166666865348816 \n",
      "\n",
      "LogisticRegression()\n",
      "Predicted: [1 1 1 1 1 2 1 1 1 1 2 1]\n",
      "Correct:   [1 1 1 1 1 1 1 1 1 1 2 1]\n",
      "Index missclassified: [5]\n",
      "Score: 0.9166666666666666 \n",
      "\n",
      "SVC()\n",
      "Predicted: [1 1 1 1 1 1 1 1 1 1 2 1]\n",
      "Correct:   [1 1 1 1 1 1 1 1 1 1 2 1]\n",
      "Index missclassified: []\n",
      "Score: 1.0 \n",
      "\n",
      "RandomForestClassifier()\n",
      "Predicted: [1 1 1 1 1 1 1 1 1 1 2 1]\n",
      "Correct:   [1 1 1 1 1 1 1 1 1 1 2 1]\n",
      "Index missclassified: []\n",
      "Score: 1.0 \n",
      "\n"
     ]
    }
   ],
   "source": [
    "model_predict_neural(X_test, y_test_cat, neural_model)\n",
    "model_predict(X_test, y_test, logistic_model)\n",
    "model_predict(X_test, y_test, svm_model)\n",
    "predictions = model_predict(X_test, y_test, randomf_model)"
   ]
  },
  {
   "attachments": {},
   "cell_type": "markdown",
   "metadata": {},
   "source": [
    "# Cross-validation score of different models"
   ]
  },
  {
   "cell_type": "code",
   "execution_count": 24,
   "metadata": {},
   "outputs": [],
   "source": [
    "from numpy import mean\n",
    "from numpy import std\n",
    "from sklearn.datasets import make_classification\n",
    "from sklearn.model_selection import KFold\n",
    "from sklearn.model_selection import cross_val_score\n",
    "from sklearn.linear_model import LogisticRegression\n",
    "\n",
    "def cross_validation(X, y, model):\n",
    "    cv = KFold(n_splits= 5, random_state=1, shuffle=True)\n",
    "    scores = cross_val_score(model, X,y, scoring='accuracy', cv=cv, n_jobs=-1)\n",
    "    print('Accuracy: %.3f (%.3f)' % (mean(scores), std(scores)))\n",
    "    return scores"
   ]
  },
  {
   "cell_type": "code",
   "execution_count": 25,
   "metadata": {},
   "outputs": [
    {
     "name": "stdout",
     "output_type": "stream",
     "text": [
      "Logistic regression\n",
      "Accuracy: 0.433 (0.162)\n",
      "[0.33333333 0.58333333 0.33333333 0.25       0.66666667] \n",
      "\n",
      "SVM\n",
      "Accuracy: 0.750 (0.091)\n",
      "[0.75       0.83333333 0.83333333 0.75       0.58333333] \n",
      "\n",
      "Randomforest\n",
      "Accuracy: 0.900 (0.033)\n",
      "[0.91666667 0.91666667 0.91666667 0.83333333 0.91666667] \n",
      "\n",
      "Neural Network\n",
      "Accuracy: 0.8666666626930237\n",
      "[0.9166666865348816, 0.8333333134651184, 0.8333333134651184, 0.8333333134651184, 0.9166666865348816]\n",
      "ACC std: 0.041 \n",
      "\n"
     ]
    }
   ],
   "source": [
    "print(\"Logistic regression\")\n",
    "cv_logistic = cross_validation(features, y, logistic_model)\n",
    "print(cv_logistic,\"\\n\\nSVM\")\n",
    "cv_svm = cross_validation(features, y, svm_model)\n",
    "print(cv_svm, \"\\n\\nRandomforest\")\n",
    "cv_randomf = cross_validation(features, y, randomf_model)\n",
    "print(cv_randomf, \"\\n\\nNeural Network\")\n",
    "print(\"Accuracy:\", avg_val_accuracy)\n",
    "print(val_accuracies)\n",
    "print ('ACC std:', '{0:0.3f}'.format(np.std(val_accuracies)), \"\\n\")"
   ]
  },
  {
   "attachments": {},
   "cell_type": "markdown",
   "metadata": {},
   "source": [
    "Subject Based"
   ]
  },
  {
   "cell_type": "code",
   "execution_count": 76,
   "metadata": {},
   "outputs": [],
   "source": [
    "features = total_features"
   ]
  },
  {
   "cell_type": "code",
   "execution_count": 89,
   "metadata": {},
   "outputs": [],
   "source": [
    "feat_list = []\n",
    "for a in range(15):\n",
    "    df = features[a*4:(a+1)*4]\n",
    "    feat_list.append(df)"
   ]
  },
  {
   "cell_type": "code",
   "execution_count": 98,
   "metadata": {},
   "outputs": [
    {
     "data": {
      "text/plain": [
       "15"
      ]
     },
     "execution_count": 98,
     "metadata": {},
     "output_type": "execute_result"
    }
   ],
   "source": [
    "y_sb1 = []\n",
    "for i in range(1):\n",
    "    y_sb1.extend([1,1,1,1,1,1,1,1,1,1])\n",
    "    y_sb1.extend([2,2,2,2,2,2,2,2,2,2])\n",
    "    y_sb1.extend([1,1,1,1,1,1,1,1,1,1])\n",
    "    y_sb1.extend([1,1,1,1,1,1,1,1,1,1])\n",
    "len(feat_list)\n",
    "y_sb2 = []\n",
    "for i in range(1):\n",
    "    y_sb2.extend([1,2,1,1])\n",
    "len(feat_list)"
   ]
  },
  {
   "cell_type": "code",
   "execution_count": 99,
   "metadata": {},
   "outputs": [],
   "source": [
    "nnmean = []\n",
    "nnstd = []\n",
    "acc_d = {}\n",
    "acc_d['LogisticRegression()'] = []\n",
    "acc_d['SVC()'] = []\n",
    "acc_d['RandomForestClassifier()'] = []\n",
    "std_d = {}\n",
    "std_d['LogisticRegression()'] = []\n",
    "std_d['SVC()'] = []\n",
    "std_d['RandomForestClassifier()'] = []"
   ]
  },
  {
   "cell_type": "code",
   "execution_count": 105,
   "metadata": {},
   "outputs": [
    {
     "name": "stdout",
     "output_type": "stream",
     "text": [
      "4\n"
     ]
    },
    {
     "ename": "ValueError",
     "evalue": "n_components=15 must be between 0 and min(n_samples, n_features)=4 with svd_solver='full'",
     "output_type": "error",
     "traceback": [
      "\u001b[1;31m---------------------------------------------------------------------------\u001b[0m",
      "\u001b[1;31mValueError\u001b[0m                                Traceback (most recent call last)",
      "Cell \u001b[1;32mIn[105], line 7\u001b[0m\n\u001b[0;32m      4\u001b[0m X_train \u001b[39m=\u001b[39m scaler\u001b[39m.\u001b[39mtransform(features)\n\u001b[0;32m      6\u001b[0m pca \u001b[39m=\u001b[39m PCA(n_components\u001b[39m=\u001b[39m\u001b[39m15\u001b[39m)\n\u001b[1;32m----> 7\u001b[0m pca\u001b[39m.\u001b[39;49mfit(X_train)\n\u001b[0;32m      8\u001b[0m X_train_pca \u001b[39m=\u001b[39m pca\u001b[39m.\u001b[39mtransform(X_train)\n\u001b[0;32m      9\u001b[0m x_train \u001b[39m=\u001b[39m X_train_pca[:,\u001b[39m0\u001b[39m:\u001b[39m3\u001b[39m] \u001b[39m# Three best features\u001b[39;00m\n",
      "File \u001b[1;32m~\\AppData\\Local\\Packages\\PythonSoftwareFoundation.Python.3.9_qbz5n2kfra8p0\\LocalCache\\local-packages\\Python39\\site-packages\\sklearn\\decomposition\\_pca.py:435\u001b[0m, in \u001b[0;36mPCA.fit\u001b[1;34m(self, X, y)\u001b[0m\n\u001b[0;32m    417\u001b[0m \u001b[39m\u001b[39m\u001b[39m\"\"\"Fit the model with X.\u001b[39;00m\n\u001b[0;32m    418\u001b[0m \n\u001b[0;32m    419\u001b[0m \u001b[39mParameters\u001b[39;00m\n\u001b[1;32m   (...)\u001b[0m\n\u001b[0;32m    431\u001b[0m \u001b[39m    Returns the instance itself.\u001b[39;00m\n\u001b[0;32m    432\u001b[0m \u001b[39m\"\"\"\u001b[39;00m\n\u001b[0;32m    433\u001b[0m \u001b[39mself\u001b[39m\u001b[39m.\u001b[39m_validate_params()\n\u001b[1;32m--> 435\u001b[0m \u001b[39mself\u001b[39;49m\u001b[39m.\u001b[39;49m_fit(X)\n\u001b[0;32m    436\u001b[0m \u001b[39mreturn\u001b[39;00m \u001b[39mself\u001b[39m\n",
      "File \u001b[1;32m~\\AppData\\Local\\Packages\\PythonSoftwareFoundation.Python.3.9_qbz5n2kfra8p0\\LocalCache\\local-packages\\Python39\\site-packages\\sklearn\\decomposition\\_pca.py:512\u001b[0m, in \u001b[0;36mPCA._fit\u001b[1;34m(self, X)\u001b[0m\n\u001b[0;32m    510\u001b[0m \u001b[39m# Call different fits for either full or truncated SVD\u001b[39;00m\n\u001b[0;32m    511\u001b[0m \u001b[39mif\u001b[39;00m \u001b[39mself\u001b[39m\u001b[39m.\u001b[39m_fit_svd_solver \u001b[39m==\u001b[39m \u001b[39m\"\u001b[39m\u001b[39mfull\u001b[39m\u001b[39m\"\u001b[39m:\n\u001b[1;32m--> 512\u001b[0m     \u001b[39mreturn\u001b[39;00m \u001b[39mself\u001b[39;49m\u001b[39m.\u001b[39;49m_fit_full(X, n_components)\n\u001b[0;32m    513\u001b[0m \u001b[39melif\u001b[39;00m \u001b[39mself\u001b[39m\u001b[39m.\u001b[39m_fit_svd_solver \u001b[39min\u001b[39;00m [\u001b[39m\"\u001b[39m\u001b[39marpack\u001b[39m\u001b[39m\"\u001b[39m, \u001b[39m\"\u001b[39m\u001b[39mrandomized\u001b[39m\u001b[39m\"\u001b[39m]:\n\u001b[0;32m    514\u001b[0m     \u001b[39mreturn\u001b[39;00m \u001b[39mself\u001b[39m\u001b[39m.\u001b[39m_fit_truncated(X, n_components, \u001b[39mself\u001b[39m\u001b[39m.\u001b[39m_fit_svd_solver)\n",
      "File \u001b[1;32m~\\AppData\\Local\\Packages\\PythonSoftwareFoundation.Python.3.9_qbz5n2kfra8p0\\LocalCache\\local-packages\\Python39\\site-packages\\sklearn\\decomposition\\_pca.py:526\u001b[0m, in \u001b[0;36mPCA._fit_full\u001b[1;34m(self, X, n_components)\u001b[0m\n\u001b[0;32m    522\u001b[0m         \u001b[39mraise\u001b[39;00m \u001b[39mValueError\u001b[39;00m(\n\u001b[0;32m    523\u001b[0m             \u001b[39m\"\u001b[39m\u001b[39mn_components=\u001b[39m\u001b[39m'\u001b[39m\u001b[39mmle\u001b[39m\u001b[39m'\u001b[39m\u001b[39m is only supported if n_samples >= n_features\u001b[39m\u001b[39m\"\u001b[39m\n\u001b[0;32m    524\u001b[0m         )\n\u001b[0;32m    525\u001b[0m \u001b[39melif\u001b[39;00m \u001b[39mnot\u001b[39;00m \u001b[39m0\u001b[39m \u001b[39m<\u001b[39m\u001b[39m=\u001b[39m n_components \u001b[39m<\u001b[39m\u001b[39m=\u001b[39m \u001b[39mmin\u001b[39m(n_samples, n_features):\n\u001b[1;32m--> 526\u001b[0m     \u001b[39mraise\u001b[39;00m \u001b[39mValueError\u001b[39;00m(\n\u001b[0;32m    527\u001b[0m         \u001b[39m\"\u001b[39m\u001b[39mn_components=\u001b[39m\u001b[39m%r\u001b[39;00m\u001b[39m must be between 0 and \u001b[39m\u001b[39m\"\u001b[39m\n\u001b[0;32m    528\u001b[0m         \u001b[39m\"\u001b[39m\u001b[39mmin(n_samples, n_features)=\u001b[39m\u001b[39m%r\u001b[39;00m\u001b[39m with \u001b[39m\u001b[39m\"\u001b[39m\n\u001b[0;32m    529\u001b[0m         \u001b[39m\"\u001b[39m\u001b[39msvd_solver=\u001b[39m\u001b[39m'\u001b[39m\u001b[39mfull\u001b[39m\u001b[39m'\u001b[39m\u001b[39m\"\u001b[39m \u001b[39m%\u001b[39m (n_components, \u001b[39mmin\u001b[39m(n_samples, n_features))\n\u001b[0;32m    530\u001b[0m     )\n\u001b[0;32m    532\u001b[0m \u001b[39m# Center data\u001b[39;00m\n\u001b[0;32m    533\u001b[0m \u001b[39mself\u001b[39m\u001b[39m.\u001b[39mmean_ \u001b[39m=\u001b[39m np\u001b[39m.\u001b[39mmean(X, axis\u001b[39m=\u001b[39m\u001b[39m0\u001b[39m)\n",
      "\u001b[1;31mValueError\u001b[0m: n_components=15 must be between 0 and min(n_samples, n_features)=4 with svd_solver='full'"
     ]
    }
   ],
   "source": [
    "for features in feat_list:\n",
    "    print(len(features))\n",
    "    scaler = StandardScaler().fit(features)\n",
    "    X_train = scaler.transform(features)\n",
    "\n",
    "    pca = PCA(n_components=15)\n",
    "    pca.fit(X_train)\n",
    "    X_train_pca = pca.transform(X_train)\n",
    "    x_train = X_train_pca[:,0:3] # Three best features\n",
    "\n",
    "    # plt.figure(figsize=(8,6))\n",
    "    # plt.scatter(X_train_pca[:,0], X_train_pca[:,1], c=y)\n",
    "    # # perform pca on features\n",
    "    # plt.bar(range(0,15), pca.explained_variance_ratio_, label=\"individual var\");\n",
    "    # plt.step(range(0,15), np.cumsum(pca.explained_variance_ratio_),'r', label=\"cumulative var\");\n",
    "    # plt.xlabel('Principal component index'); plt.ylabel('explained variance ratio %');\n",
    "    # plt.legend()\n",
    "# Splitting the data in train and test data\n",
    "    print(x_train, y)\n",
    "    X_train, X_test, y_train, y_test = train_test_split(x_train, y, test_size=0.2, random_state=5)\n",
    "# X_train, X_test, y_train, y_test = features[0:53], features[53:], y[0:53], y[53:]\n",
    "# X_train, X_test, y_train, y_test = features[0:262], features[262:], y[0:262], y[262:]\n",
    "# Scaling the data\n",
    "\n",
    "    scaler = StandardScaler().fit(X_train)\n",
    "    X_train = scaler.transform(X_train)\n",
    "    X_test = scaler.transform(X_test)\n",
    "    logistic_model = LogisticRegression()\n",
    "    logistic_model.fit(X_train, y_train)\n",
    "    Y_test_pred = logistic_model.predict(X_test)\n",
    "    log_score = logistic_model.score(X_test,y_test)\n",
    "    from sklearn import datasets, svm\n",
    "    svm_model = svm.SVC()\n",
    "    svm_model.fit(X_train, y_train)\n",
    "    Y_test_pred = svm_model.predict(X_test)\n",
    "    svm_score = svm_model.score(X_test,y_test)\n",
    "    from sklearn.model_selection import train_test_split\n",
    "    from sklearn.preprocessing import StandardScaler\n",
    "    from sklearn.decomposition import PCA\n",
    "    from tensorflow.keras.utils import to_categorical\n",
    "    from tensorflow.keras.models import Sequential\n",
    "    from tensorflow.keras.layers import Dense, Dropout\n",
    "    from tensorflow.keras.optimizers import Adam\n",
    "\n",
    "    val_accuracies = []\n",
    "    for i in range(5): # run 5 times with 5 random states to determine model accuracy\n",
    "        # Splitting the data in train and test data\n",
    "        X_trainn, X_testn, y_trainn, y_testn = train_test_split(x_train, y, test_size=0.2, random_state= i + 1)\n",
    "        # X_train, X_test, y_train, y_test = features[0:262], features[262:], y[0:262], y[262:]\n",
    "        # X_trainn, X_testn, y_trainn, y_testn = features[0:53], features[53:], y[0:53], y[53:]\n",
    "\n",
    "        # Scaling the data\n",
    "        scaler = StandardScaler().fit(X_trainn)\n",
    "        X_trainn = scaler.transform(X_trainn)\n",
    "        X_testn = scaler.transform(X_testn)\n",
    "        ## Convert labels to categorical\n",
    "        y_train_cat = to_categorical(y_trainn,3)\n",
    "        y_test_cat = to_categorical(y_testn,3)\n",
    "\n",
    "        # Define the feedforward neural network\n",
    "        neural_model = Sequential()\n",
    "        neural_model.add(Dense(64, activation='relu', input_shape=(3,)))\n",
    "        neural_model.add(Dense(64, activation='relu'))\n",
    "        neural_model.add(Dense(64, activation='relu'))\n",
    "        neural_model.add(Dense(64, activation = 'relu'))\n",
    "        neural_model.add(Dropout(0.5))\n",
    "        neural_model.add(Dense(3, activation='softmax'))\n",
    "\n",
    "        # Compile the model\n",
    "        optimizer = Adam(learning_rate=0.001)\n",
    "        neural_model.compile(loss='categorical_crossentropy',\n",
    "                    optimizer=optimizer,\n",
    "                    metrics=['accuracy'])\n",
    "\n",
    "        # Train the model\n",
    "\n",
    "        # history = model.fit(X_train_pca, y_train, validation_data=(X_test_pca, y_test), epochs=45, batch_size=100, verbose=2)\n",
    "        history = neural_model.fit(X_trainn, y_train_cat, validation_data=(X_testn, y_test_cat), epochs=45, batch_size=100, verbose=0)\n",
    "        val_accuracy = history.history['val_accuracy'][-1]\n",
    "        val_accuracies.append(val_accuracy) # accuracy score\n",
    "\n",
    "    # print(val_accuracies)\n",
    "    avg_val_accuracy = sum(val_accuracies) / len(val_accuracies) # average of accurracy scores\n",
    "    # print(\"Average Validation Accuracy:\", avg_val_accuracy)\n",
    "    # plt.plot(history.history['accuracy'])\n",
    "    # plt.plot(history.history['val_accuracy'])\n",
    "    # plt.legend(['accuracy', 'val_accuracy'])\n",
    "    #from sklearn.datasets import make_classification\n",
    "    from sklearn.ensemble import RandomForestClassifier\n",
    "\n",
    "    # define the model\n",
    "    randomf_model = RandomForestClassifier()\n",
    "\n",
    "    # fit/train the model on all features\n",
    "    randomf_model.fit(X_train, y_train)\n",
    "    Y_test_pred = randomf_model.predict(X_test)\n",
    "\n",
    "    #score\n",
    "    rf_score=randomf_model.score(X_test, y_test)\n",
    "\n",
    "    # get feature importance\n",
    "    importance = randomf_model.feature_importances_\n",
    "\n",
    "    #creat a dictionary with key=indices, and values=importance\n",
    "    important_features_dict = {}\n",
    "    for idx, val in enumerate(importance):\n",
    "        important_features_dict[idx] = val\n",
    "    # sorting \n",
    "    important_features_list = sorted(important_features_dict,\n",
    "                                    key=important_features_dict.get,\n",
    "                                    reverse=True)\n",
    "    # print indices of top 5 features\n",
    "    print(important_features_list[:5])\n",
    "    #plt.plot(importance)\n",
    "    y_test_cat = to_categorical(y_test)\n",
    "    y_test1 = y_test_cat.astype('int64')\n",
    "    testYarg = np.argmax(y_test1, axis = 1)\n",
    "    def model_predict_neural(X_test, y_test1, model):\n",
    "        predictions = model.predict(X_test)\n",
    "        predictions = np.argmax(predictions, axis = 1)\n",
    "        y_test1 = y_test1.astype('int64')\n",
    "        testYarg = np.argmax(y_test1, axis = 1)\n",
    "        miss_class = np.where(predictions != testYarg)\n",
    "        miss_class = miss_class[0]\n",
    "        # print(\"Neural network\")\n",
    "        # print(\"Predicted:\",predictions)\n",
    "        # print(\"Correct:  \",testYarg)\n",
    "        # print(\"Index missclassified:\", miss_class)\n",
    "        # print(\"Score:\", val_accuracy, \"\\n\")\n",
    "        return predictions, miss_class, testYarg\n",
    "    def model_predict(X_test, y_test1, model):\n",
    "        predictions = model.predict(X_test)\n",
    "        #y_test1 = y_test1.astype('int64')\n",
    "        #testYarg = np.argmax(y_test1, axis = 1)\n",
    "        miss_class = np.where(predictions != y_test1)\n",
    "        miss_class = miss_class[0]\n",
    "        score=model.score(X_test, y_test1)\n",
    "        # print(model)\n",
    "        # print(\"Predicted:\",predictions)\n",
    "        # print(\"Correct:  \",testYarg)\n",
    "        # print(\"Index missclassified:\", miss_class)\n",
    "        # print(\"Score:\", score, \"\\n\")\n",
    "        return predictions, miss_class, testYarg\n",
    "    # model_predict_neural(X_test, y_test_cat, neural_model)\n",
    "    # model_predict(X_test, y_test, logistic_model)\n",
    "    # model_predict(X_test, y_test, svm_model)\n",
    "    # predictions = model_predict(X_test, y_test, randomf_model)\n",
    "    from numpy import mean\n",
    "    from numpy import std\n",
    "    from sklearn.datasets import make_classification\n",
    "    from sklearn.model_selection import KFold\n",
    "    from sklearn.model_selection import cross_val_score\n",
    "    from sklearn.linear_model import LogisticRegression\n",
    "\n",
    "    def cross_validation(X, y, model, acc_d, std_d):\n",
    "        cv = KFold(n_splits= 5, random_state=1, shuffle=True)\n",
    "        scores = cross_val_score(model, X,y, scoring='accuracy', cv=cv, n_jobs=-1)\n",
    "        # print('Accuracy: %.3f (%.3f)' % (mean(scores), std(scores)))\n",
    "        # print(str(model))\n",
    "        acc_d[str(model)].append(mean(scores))\n",
    "        std_d[str(model)].append(std(scores))\n",
    "        return scores\n",
    "    print(\"Logistic regression\")\n",
    "    cv_logistic = cross_validation(features, y, logistic_model, acc_d, std_d)\n",
    "\n",
    "    print(cv_logistic,\"\\n\\nSVM\")\n",
    "    cv_svm = cross_validation(features, y, svm_model, acc_d, std_d)\n",
    "    print(cv_svm, \"\\n\\nRandomforest\")\n",
    "    cv_randomf = cross_validation(features, y, randomf_model, acc_d, std_d)\n",
    "    print(cv_randomf, \"\\n\\nNeural Network\")\n",
    "    # print(\"Accuracy:\", avg_val_accuracy)\n",
    "    # print(val_accuracies)\n",
    "    # print ('ACC std:', '{0:0.3f}'.format(np.std(val_accuracies)), \"\\n\")\n",
    "    nnmean.append(avg_val_accuracy)\n",
    "    nnstd.append(np.std(val_accuracies))"
   ]
  },
  {
   "cell_type": "code",
   "execution_count": null,
   "metadata": {},
   "outputs": [],
   "source": [
    "print(mean(acc_d['LogisticRegression()']))\n",
    "print(mean(std_d['LogisticRegression()'] ))\n",
    "print(mean(acc_d['SVC()']))\n",
    "print(mean(std_d['SVC()']))\n",
    "print(mean(acc_d['RandomForestClassifier()']))\n",
    "print(mean(std_d['RandomForestClassifier()']))\n",
    "print(mean(nnmean))\n",
    "print(mean(nnstd))"
   ]
  },
  {
   "attachments": {},
   "cell_type": "markdown",
   "metadata": {},
   "source": [
    "# Hybrid approach"
   ]
  },
  {
   "cell_type": "code",
   "execution_count": 179,
   "metadata": {},
   "outputs": [],
   "source": [
    "features = total_features\n",
    "feat_list = []\n",
    "for a in range(15):\n",
    "    df = features[a*4:(a+1)*4]\n",
    "    feat_list.append(df)"
   ]
  },
  {
   "cell_type": "code",
   "execution_count": 192,
   "metadata": {},
   "outputs": [
    {
     "data": {
      "text/plain": [
       "15"
      ]
     },
     "execution_count": 192,
     "metadata": {},
     "output_type": "execute_result"
    }
   ],
   "source": [
    "y_hy1 = []\n",
    "for i in range(1):\n",
    "    y_hy1.extend([1,1,1,1,1,1,1,1,1,1])\n",
    "    y_hy1.extend([2,2,2,2,2,2,2,2,2,2])\n",
    "    y_hy1.extend([1,1,1,1,1,1,1,1,1,1])\n",
    "    y_hy1.extend([1,1,1,1,1,1,1,1,1,1])\n",
    "len(feat_list)\n",
    "y_hy2 = []\n",
    "for i in range(1):\n",
    "    y_hy2.extend([1,2,1,1])\n",
    "len(feat_list)"
   ]
  },
  {
   "cell_type": "code",
   "execution_count": 186,
   "metadata": {},
   "outputs": [],
   "source": [
    "nnmean = []\n",
    "nnstd = []\n",
    "acc_d = {}\n",
    "acc_d['LogisticRegression()'] = []\n",
    "acc_d['SVC()'] = []\n",
    "acc_d['RandomForestClassifier()'] = []\n",
    "std_d = {}\n",
    "std_d['LogisticRegression()'] = []\n",
    "std_d['SVC()'] = []\n",
    "std_d['RandomForestClassifier()'] = []"
   ]
  },
  {
   "cell_type": "code",
   "execution_count": 194,
   "metadata": {},
   "outputs": [
    {
     "data": {
      "text/plain": [
       "<matplotlib.collections.PathCollection at 0x229c12f0c70>"
      ]
     },
     "execution_count": 194,
     "metadata": {},
     "output_type": "execute_result"
    },
    {
     "data": {
      "image/png": "[encoded data removed]",
      "text/plain": [
       "<Figure size 800x600 with 1 Axes>"
      ]
     },
     "metadata": {},
     "output_type": "display_data"
    }
   ],
   "source": [
    "x_hybrid = np.empty((0,3))\n",
    "x_hybrid_pca1 = x_hybrid_pca2 = y_hy2l = np.empty((0))\n",
    "\n",
    "for features in feat_list:\n",
    "    scaler_hy = StandardScaler().fit(features)\n",
    "    X_train_hy = scaler_hy.transform(features)\n",
    "\n",
    "    pca = PCA(n_components=4)\n",
    "    pca.fit(X_train_hy)\n",
    "    X_train_pcahy = pca.transform(X_train_hy)\n",
    "    x_train_hy = X_train_pcahy[:,0:3] # Three best features\n",
    "    x_hybrid = np.concatenate((x_hybrid, x_train_hy))\n",
    "    x_hybrid_pca1 = np.concatenate((x_hybrid_pca1, X_train_pcahy[:,0]))\n",
    "    x_hybrid_pca2 = np.concatenate((x_hybrid_pca2, X_train_pcahy[:,1]))\n",
    "    y_hy2l = np.concatenate((y_hy2l, y_hy2))\n",
    "\n",
    "plt.figure(figsize=(8,6))\n",
    "plt.scatter(x_hybrid_pca1, x_hybrid_pca2, c=y_hy2l)"
   ]
  },
  {
   "cell_type": "code",
   "execution_count": 213,
   "metadata": {},
   "outputs": [],
   "source": [
    "# Splitting the data in train and test data\n",
    "X_train_hy, X_test_hy, y_train_hy, y_test_hy = train_test_split(x_hybrid, y_hy2l, test_size=0.2, random_state=5)\n",
    "# X_train, X_test, y_train, y_test = features[0:53], features[53:], y[0:53], y[53:]\n",
    "# X_train, X_test, y_train, y_test = features[0:262], features[262:], y[0:262], y[262:]\n",
    "# Scaling the data\n",
    "\n",
    "scaler_hy = StandardScaler().fit(X_train_hy)\n",
    "X_train_hyy = scaler_hy.transform(X_train_hy)\n",
    "X_test_hy = scaler_hy.transform(X_test_hy)\n",
    "\n",
    "logistic_model_hy = LogisticRegression()\n",
    "logistic_model_hy.fit(X_train_hy, y_train_hy)\n",
    "Y_test_pred_hy = logistic_model.predict(X_test_hy)\n",
    "log_score_hy = logistic_model.score(X_test_hy,y_test_hy)\n",
    "\n",
    "svm_model_hy = svm.SVC()\n",
    "svm_model_hy.fit(X_train_hy, y_train_hy)\n",
    "Y_test_pred_hy = svm_model_hy.predict(X_test_hy)\n",
    "svm_score_hy = svm_model_hy.score(X_test_hy,y_test_hy)\n",
    "\n",
    "\n",
    "from sklearn.model_selection import train_test_split\n",
    "from sklearn.preprocessing import StandardScaler\n",
    "from sklearn.decomposition import PCA\n",
    "from tensorflow.keras.utils import to_categorical\n",
    "from tensorflow.keras.models import Sequential\n",
    "from tensorflow.keras.layers import Dense, Dropout\n",
    "from tensorflow.keras.optimizers import Adam\n",
    "val_accuracies_hy = []\n",
    "for i in range(5): # run 5 times with 5 random states to determine model accuracy\n",
    "    # Splitting the data in train and test data\n",
    "    X_trainn_hy, X_testn_hy, y_trainn_hy, y_testn_hy = train_test_split(x_hybrid, y_hy2l, test_size=0.2, random_state= i + 1)\n",
    "    # Scaling the data\n",
    "    scaler_hy = StandardScaler().fit(X_trainn_hy)\n",
    "    X_trainn_hy = scaler.transform(X_trainn_hy)\n",
    "    X_testn_hy = scaler.transform(X_testn_hy)\n",
    "    ## Convert labels to categorical\n",
    "    y_train_cat_hy = to_categorical(y_trainn_hy,3)\n",
    "    y_test_cat_hy = to_categorical(y_testn_hy,3)\n",
    "    # Define the feedforward neural network\n",
    "    neural_model_hy = Sequential()\n",
    "    neural_model_hy.add(Dense(128, activation='relu', input_shape=(3,)))\n",
    "    neural_model_hy.add(Dense(128, activation='relu'))\n",
    "    neural_model_hy.add(Dense(128, activation='relu'))\n",
    "    neural_model_hy.add(Dense(128, activation = 'relu'))\n",
    "    neural_model_hy.add(Dropout(0.5))\n",
    "    neural_model_hy.add(Dense(3, activation='softmax'))\n",
    "    # Compile the model\n",
    "    optimizer = Adam(learning_rate=0.001)\n",
    "    neural_model_hy.compile(loss='categorical_crossentropy',\n",
    "                optimizer=optimizer,\n",
    "                metrics=['accuracy'])\n",
    "    # Train the model\n",
    "    # history = model.fit(X_train_pca, y_train, validation_data=(X_test_pca, y_test), epochs=45, batch_size=100, verbose=2)\n",
    "    history_hy = neural_model_hy.fit(X_trainn_hy, y_train_cat_hy, validation_data=(X_testn_hy, y_test_cat_hy), epochs=45, batch_size=100, verbose=0)\n",
    "    val_accuracy_hy = history_hy.history['val_accuracy'][-1]\n",
    "    val_accuracies_hy.append(val_accuracy_hy) # accuracy score\n",
    "# print(val_accuracies)\n",
    "avg_val_accuracy_hy = sum(val_accuracies_hy) / len(val_accuracies_hy) # average of accurracy scores\n",
    "# print(\"Average Validation Accuracy:\", avg_val_accuracy)\n",
    "# plt.plot(history.history['accuracy'])\n",
    "# plt.plot(history.history['val_accuracy'])\n",
    "# plt.legend(['accuracy', 'val_accuracy'])\n",
    "#from sklearn.datasets import make_classification\n",
    "\n",
    "from sklearn.ensemble import RandomForestClassifier\n",
    "# define the model\n",
    "randomf_model_hy = RandomForestClassifier()\n",
    "# fit/train the model on all features\n",
    "randomf_model_hy.fit(X_train_hy, y_train_hy)\n",
    "Y_test_pred_hy = randomf_model.predict(X_test_hy)\n",
    "#score\n",
    "rf_score_hy = randomf_model_hy.score(X_test_hy, y_test_hy)\n"
   ]
  },
  {
   "cell_type": "code",
   "execution_count": 214,
   "metadata": {},
   "outputs": [
    {
     "name": "stdout",
     "output_type": "stream",
     "text": [
      "Logistic regression\n",
      "[0.83333333 0.83333333 0.83333333 0.83333333 0.91666667] \n",
      "\n",
      "SVM\n",
      "[0.83333333 0.91666667 0.83333333 0.83333333 0.91666667] \n",
      "\n",
      "Randomforest\n",
      "[0.91666667 0.83333333 0.75       0.91666667 0.75      ] \n",
      "\n",
      "Neural Network\n",
      "[0.8333333134651184, 0.8333333134651184, 0.8333333134651184, 0.9166666865348816, 0.75]\n"
     ]
    }
   ],
   "source": [
    "y_test_cat_hy = to_categorical(y_test_hy)\n",
    "y_test1_hy = y_test_cat_hy.astype('int64')\n",
    "testYarg = np.argmax(y_test1, axis = 1)\n",
    "def model_predict_neural(X_test, y_test1, model):\n",
    "    predictions = model.predict(X_test)\n",
    "    predictions = np.argmax(predictions, axis = 1)\n",
    "    y_test1 = y_test1.astype('int64')\n",
    "    testYarg = np.argmax(y_test1, axis = 1)\n",
    "    miss_class = np.where(predictions != testYarg)\n",
    "    miss_class = miss_class[0]\n",
    "    # print(\"Neural network\")\n",
    "    # print(\"Predicted:\",predictions)\n",
    "    # print(\"Correct:  \",testYarg)\n",
    "    # print(\"Index missclassified:\", miss_class)\n",
    "    # print(\"Score:\", val_accuracy, \"\\n\")\n",
    "    return predictions, miss_class, testYarg\n",
    "def model_predict(X_test, y_test1, model):\n",
    "    predictions = model.predict(X_test)\n",
    "    #y_test1 = y_test1.astype('int64')\n",
    "    #testYarg = np.argmax(y_test1, axis = 1)\n",
    "    miss_class = np.where(predictions != y_test1)\n",
    "    miss_class = miss_class[0]\n",
    "    score=model.score(X_test, y_test1)\n",
    "    # print(model)\n",
    "    # print(\"Predicted:\",predictions)\n",
    "    # print(\"Correct:  \",testYarg)\n",
    "    # print(\"Index missclassified:\", miss_class)\n",
    "    # print(\"Score:\", score, \"\\n\")\n",
    "    return predictions, miss_class, testYarg\n",
    "# model_predict_neural(X_test, y_test_cat, neural_model)\n",
    "# model_predict(X_test, y_test, logistic_model)\n",
    "# model_predict(X_test, y_test, svm_model)\n",
    "# predictions = model_predict(X_test, y_test, randomf_model)\n",
    "\n",
    "from numpy import mean\n",
    "from numpy import std\n",
    "from sklearn.datasets import make_classification\n",
    "from sklearn.model_selection import KFold\n",
    "from sklearn.model_selection import cross_val_score\n",
    "from sklearn.linear_model import LogisticRegression\n",
    "def cross_validation(X, y, model, acc_d, std_d):\n",
    "    cv = KFold(n_splits= 5, random_state=1, shuffle=True)\n",
    "    scores = cross_val_score(model, X,y, scoring='accuracy', cv=cv, n_jobs=-1)\n",
    "    # print('Accuracy: %.3f (%.3f)' % (mean(scores), std(scores)))\n",
    "    # print(str(model))\n",
    "    acc_d[str(model)].append(mean(scores))\n",
    "    std_d[str(model)].append(std(scores))\n",
    "    return scores\n",
    "print(\"Logistic regression\")\n",
    "cv_logistic = cross_validation(x_hybrid, y_hy2l, logistic_model_hy, acc_d, std_d)\n",
    "print(cv_logistic,\"\\n\\nSVM\")\n",
    "cv_svm = cross_validation(x_hybrid, y_hy2l, svm_model_hy, acc_d, std_d)\n",
    "print(cv_svm, \"\\n\\nRandomforest\")\n",
    "cv_randomf = cross_validation(x_hybrid, y_hy2l, randomf_model_hy, acc_d, std_d)\n",
    "print(cv_randomf, \"\\n\\nNeural Network\")\n",
    "# print(\"Accuracy:\", avg_val_accuracy)\n",
    "print(val_accuracies)\n",
    "#print ('ACC std:', '{0:0.3f}'.format(np.std(val_accuracies)), \"\\n\")\n",
    "#nnmean.append(avg_val_accuracy)\n",
    "#nnstd.append(np.std(val_accuracies))"
   ]
  },
  {
   "cell_type": "code",
   "execution_count": null,
   "metadata": {},
   "outputs": [],
   "source": []
  }
 ],
 "metadata": {
  "kernelspec": {
   "display_name": "Python 3",
   "language": "python",
   "name": "python3"
  },
  "language_info": {
   "codemirror_mode": {
    "name": "ipython",
    "version": 3
   },
   "file_extension": ".py",
   "mimetype": "text/x-python",
   "name": "python",
   "nbconvert_exporter": "python",
   "pygments_lexer": "ipython3",
   "version": "3.9.13"
  },
  "orig_nbformat": 4
 },
 "nbformat": 4,
 "nbformat_minor": 2
}
