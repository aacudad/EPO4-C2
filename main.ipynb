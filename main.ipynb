{
 "cells": [
  {
   "cell_type": "code",
   "execution_count": 36,
   "metadata": {},
   "outputs": [],
   "source": [
    "import ipynb\n",
    "import numpy as np\n",
    "import pandas as pd\n",
    "import matplotlib.pyplot as plt\n",
    "\n",
    "# from ipynb.fs.full.csv_functions import write_to_csv, read_from_csv\n",
    "from ipynb.fs.full.get_samples import get_data, read_data_of_one_subject, print_length_signal, plot_labels, get_samples_signal, get_samples\n",
    "from ipynb.fs.full.ECG_features import get_ecgfeatures"
   ]
  },
  {
   "cell_type": "code",
   "execution_count": 37,
   "metadata": {},
   "outputs": [],
   "source": [
    "def  plot_signal(signal, fs):\n",
    "    t=np.arange(0,signal.size*(1/fs),(1/fs))\n",
    "    t=t[:signal.size]\n",
    "    \n",
    "    plt.figure(figsize=(12,4))\n",
    "    plt.plot(t,signal)\n",
    "    plt.xlabel('$Time (s)$') \n",
    "    plt.ylabel('$signal$')"
   ]
  },
  {
   "cell_type": "code",
   "execution_count": 38,
   "metadata": {},
   "outputs": [],
   "source": [
    "def main():\n",
    "    df_ecgfeatures = pd.DataFrame(None, columns= ['feat_nn20', 'feat_nn50', 'feat_rmssd', 'feat_nnhr', \n",
    "                                     'feat_sdsd', 'feat_pnn50', 'feat_pnn20', 'peak vlf', 'peak lf','peak hf', 'norm power lf', \n",
    "                                     'norm power hf', 'power ratio', 'total power'])\n",
    "    fs = 700\n",
    "    y = []\n",
    "    for i in range(2,19):\n",
    "        if i != 12:\n",
    "            subject = 'S' + str(i)\n",
    "            print(subject)\n",
    "            for label in range(1,5):\n",
    "                print(label)\n",
    "                if label==3 or label==4:\n",
    "                    y.append(1)\n",
    "                else:\n",
    "                    y.append(label)\n",
    "                data = get_data(subject)\n",
    "                labels = data.get_labels()\n",
    "                ecg_base, resp_base, eda_base = get_samples_signal(data, labels, label, fs)\n",
    "                df_ecgfeatures = get_ecgfeatures(ecg_base, fs, subject, label, df_ecgfeatures)\n",
    "    return df_ecgfeatures, y"
   ]
  },
  {
   "cell_type": "code",
   "execution_count": 39,
   "metadata": {},
   "outputs": [],
   "source": [
    "# write_to_csv(df_ecgfeatures, 'out_features.csv')"
   ]
  },
  {
   "cell_type": "code",
   "execution_count": 40,
   "metadata": {},
   "outputs": [],
   "source": [
    "# features = pd.concat([df_ecgfeatures, df_edafeatures], ignore_index=True)"
   ]
  }
 ],
 "metadata": {
  "kernelspec": {
   "display_name": "Python 3",
   "language": "python",
   "name": "python3"
  },
  "language_info": {
   "codemirror_mode": {
    "name": "ipython",
    "version": 3
   },
   "file_extension": ".py",
   "mimetype": "text/x-python",
   "name": "python",
   "nbconvert_exporter": "python",
   "pygments_lexer": "ipython3",
   "version": "3.9.0"
  },
  "orig_nbformat": 4
 },
 "nbformat": 4,
 "nbformat_minor": 2
}
